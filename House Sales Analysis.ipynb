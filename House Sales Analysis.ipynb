{
 "cells": [
  {
   "cell_type": "markdown",
   "id": "0efba95f",
   "metadata": {},
   "source": [
    "# Regression Problem: House Sales in King County, USA\n",
    "\n",
    "King County is located in the U.S. state of Washington and is one of the most populous counties in the country. It encompasses a diverse range of landscapes, including urban areas, suburban neighborhoods, rural communities, and vast natural reserves. At its core is the city of Seattle, one of the major economic and cultural hubs of the Pacific Northwest.\n",
    "\n",
    "The dataset contains house sale prices for King County. It includes homes sold between May 2014 and May 2015. Our task is to predict the price of house given it's attibutes.\n",
    "\n",
    "### Data column defination - \n",
    "\n",
    "**id** - Unique ID for each home sold<br>\n",
    "**date** - Date of the home sale<br>\n",
    "**price** - Price of each home sold (scale = 1e5. For eg - 1.2 means $120000)<br>\n",
    "**bedrooms** - Number of bedrooms<br>\n",
    "**bathrooms** - Number of bathrooms, where .5 accounts for a room with a toilet but no shower<br>\n",
    "**sqft_living** - Square footage of the apartments interior living space<br>\n",
    "**sqft_lot** - Square footage of the land space<br>\n",
    "**floors** - Number of floors<br>\n",
    "**waterfront** - A dummy variable for whether the apartment was overlooking the waterfront or not<br>\n",
    "**view** - An index from 0 to 4 of how good the view of the property was<br>\n",
    "**condition** - An index from 1 to 5 on the condition of the apartment<br>\n",
    "**grade** - An index from 1 to 13, where 1-3 falls short of building construction and design, 7 has an average level of construction and design, and 11-13 have a high quality level of construction and design<br>\n",
    "**sqft_above** - The square footage of the interior housing space that is above ground level<br>\n",
    "**sqft_basement** - The square footage of the interior housing space that is below ground level<br>\n",
    "**yr_built** - The year the house was initially built<br>\n",
    "**yr_renovated** - The year of the house’s last renovation<br>\n",
    "**zipcode** - What zipcode area the house is in<br>\n",
    "**lat** - Lattitude<br>\n",
    "**long** - Longitude<br>\n",
    "**sqft_living15** - The square footage of interior housing living space for the nearest 15 neighbors<br>\n",
    "**sqft_lot15** - The square footage of the land lots of the nearest 15 neighbors<br>"
   ]
  },
  {
   "cell_type": "code",
   "execution_count": 1,
   "id": "1c05e038-13b3-4cf7-81b0-8635feae9186",
   "metadata": {},
   "outputs": [],
   "source": [
    "import matplotlib.pyplot as plt\n",
    "import seaborn as sns\n",
    "import pandas as pd\n",
    "import numpy as np\n",
    "from sklearn.impute import SimpleImputer\n",
    "from sklearn.preprocessing import StandardScaler, OneHotEncoder\n",
    "from sklearn.compose import ColumnTransformer\n",
    "from sklearn.pipeline import Pipeline\n",
    "from sklearn.model_selection import cross_val_score, train_test_split\n",
    "from sklearn.linear_model import LinearRegression, Ridge, Lasso\n",
    "from sklearn.metrics import make_scorer, mean_squared_error\n",
    "from sklearn.ensemble import RandomForestRegressor\n",
    "import numpy as np\n",
    "import warnings as ws\n",
    "ws.filterwarnings(\"ignore\")"
   ]
  },
  {
   "cell_type": "markdown",
   "id": "719606f2",
   "metadata": {},
   "source": [
    "## Load Dataset"
   ]
  },
  {
   "cell_type": "code",
   "execution_count": 2,
   "id": "386f9bb1",
   "metadata": {},
   "outputs": [],
   "source": [
    "train_df = pd.read_csv('dataset/train.csv')\n",
    "test_df = pd.read_csv('dataset/test.csv')"
   ]
  },
  {
   "cell_type": "markdown",
   "id": "a829c142",
   "metadata": {},
   "source": [
    "# Questions\n",
    "**Instructions:**\n",
    "1.  Answer all questions.\n",
    "2.  Justify your answers with appropriate reasoning, code, or calculations.\n",
    "3.  Ensure your code is well-commented to explain your logic.\n",
    "4.  Total Marks: 100"
   ]
  },
  {
   "cell_type": "markdown",
   "id": "f5ee3ca6",
   "metadata": {},
   "source": [
    "## Question 1: Data Analysis (10 points)\n",
    "\n",
    "Explore the data to find any relationship between the target variable and the input variables. \n",
    "\n",
    "Start with providing some descriptive statistics of the data with visualizations. \n",
    "\n",
    "Are there any missing values? Are there any outliers? What is the relationship between the input variables and the target variable. Show some statistical plots to get some insights about the relationship between data attributes and the data attibutes with the label. "
   ]
  },
  {
   "cell_type": "code",
   "execution_count": 3,
   "id": "82d4df57",
   "metadata": {},
   "outputs": [
    {
     "data": {
      "text/html": [
       "<div>\n",
       "<style scoped>\n",
       "    .dataframe tbody tr th:only-of-type {\n",
       "        vertical-align: middle;\n",
       "    }\n",
       "\n",
       "    .dataframe tbody tr th {\n",
       "        vertical-align: top;\n",
       "    }\n",
       "\n",
       "    .dataframe thead th {\n",
       "        text-align: right;\n",
       "    }\n",
       "</style>\n",
       "<table border=\"1\" class=\"dataframe\">\n",
       "  <thead>\n",
       "    <tr style=\"text-align: right;\">\n",
       "      <th></th>\n",
       "      <th>id</th>\n",
       "      <th>bedrooms</th>\n",
       "      <th>bathrooms</th>\n",
       "      <th>sqft_living</th>\n",
       "      <th>sqft_lot</th>\n",
       "      <th>floors</th>\n",
       "      <th>waterfront</th>\n",
       "      <th>view</th>\n",
       "      <th>condition</th>\n",
       "      <th>grade</th>\n",
       "      <th>sqft_above</th>\n",
       "      <th>sqft_basement</th>\n",
       "      <th>yr_built</th>\n",
       "      <th>yr_renovated</th>\n",
       "      <th>zipcode</th>\n",
       "      <th>lat</th>\n",
       "      <th>long</th>\n",
       "      <th>sqft_living15</th>\n",
       "      <th>sqft_lot15</th>\n",
       "      <th>price</th>\n",
       "    </tr>\n",
       "  </thead>\n",
       "  <tbody>\n",
       "    <tr>\n",
       "      <th>count</th>\n",
       "      <td>1.945100e+04</td>\n",
       "      <td>19451.000000</td>\n",
       "      <td>19451.000000</td>\n",
       "      <td>18857.000000</td>\n",
       "      <td>1.945100e+04</td>\n",
       "      <td>19451.000000</td>\n",
       "      <td>19451.000000</td>\n",
       "      <td>18478.000000</td>\n",
       "      <td>19451.000000</td>\n",
       "      <td>18078.000000</td>\n",
       "      <td>19451.000000</td>\n",
       "      <td>19451.000000</td>\n",
       "      <td>19451.000000</td>\n",
       "      <td>19451.000000</td>\n",
       "      <td>19451.000000</td>\n",
       "      <td>19451.000000</td>\n",
       "      <td>19451.000000</td>\n",
       "      <td>19451.000000</td>\n",
       "      <td>19451.000000</td>\n",
       "      <td>19451.000000</td>\n",
       "    </tr>\n",
       "    <tr>\n",
       "      <th>mean</th>\n",
       "      <td>4.579305e+09</td>\n",
       "      <td>3.374891</td>\n",
       "      <td>2.117115</td>\n",
       "      <td>2083.822824</td>\n",
       "      <td>1.526233e+04</td>\n",
       "      <td>1.496607</td>\n",
       "      <td>0.007609</td>\n",
       "      <td>0.233792</td>\n",
       "      <td>3.408308</td>\n",
       "      <td>7.656710</td>\n",
       "      <td>1791.785050</td>\n",
       "      <td>291.871112</td>\n",
       "      <td>1971.067297</td>\n",
       "      <td>85.569482</td>\n",
       "      <td>98077.921289</td>\n",
       "      <td>47.559796</td>\n",
       "      <td>-122.214411</td>\n",
       "      <td>1987.574726</td>\n",
       "      <td>12847.165544</td>\n",
       "      <td>5.404026</td>\n",
       "    </tr>\n",
       "    <tr>\n",
       "      <th>std</th>\n",
       "      <td>2.876637e+09</td>\n",
       "      <td>0.931878</td>\n",
       "      <td>0.770603</td>\n",
       "      <td>921.655939</td>\n",
       "      <td>4.246746e+04</td>\n",
       "      <td>0.540055</td>\n",
       "      <td>0.086899</td>\n",
       "      <td>0.764109</td>\n",
       "      <td>0.650853</td>\n",
       "      <td>1.174811</td>\n",
       "      <td>831.295886</td>\n",
       "      <td>442.540100</td>\n",
       "      <td>29.355603</td>\n",
       "      <td>404.311212</td>\n",
       "      <td>53.541892</td>\n",
       "      <td>0.138688</td>\n",
       "      <td>0.140509</td>\n",
       "      <td>686.225019</td>\n",
       "      <td>27492.540347</td>\n",
       "      <td>3.686557</td>\n",
       "    </tr>\n",
       "    <tr>\n",
       "      <th>min</th>\n",
       "      <td>1.000102e+06</td>\n",
       "      <td>0.000000</td>\n",
       "      <td>0.000000</td>\n",
       "      <td>290.000000</td>\n",
       "      <td>5.200000e+02</td>\n",
       "      <td>1.000000</td>\n",
       "      <td>0.000000</td>\n",
       "      <td>0.000000</td>\n",
       "      <td>1.000000</td>\n",
       "      <td>1.000000</td>\n",
       "      <td>290.000000</td>\n",
       "      <td>0.000000</td>\n",
       "      <td>1900.000000</td>\n",
       "      <td>0.000000</td>\n",
       "      <td>98001.000000</td>\n",
       "      <td>47.159300</td>\n",
       "      <td>-122.519000</td>\n",
       "      <td>399.000000</td>\n",
       "      <td>651.000000</td>\n",
       "      <td>0.750000</td>\n",
       "    </tr>\n",
       "    <tr>\n",
       "      <th>25%</th>\n",
       "      <td>2.124084e+09</td>\n",
       "      <td>3.000000</td>\n",
       "      <td>1.750000</td>\n",
       "      <td>1430.000000</td>\n",
       "      <td>5.043000e+03</td>\n",
       "      <td>1.000000</td>\n",
       "      <td>0.000000</td>\n",
       "      <td>0.000000</td>\n",
       "      <td>3.000000</td>\n",
       "      <td>7.000000</td>\n",
       "      <td>1200.000000</td>\n",
       "      <td>0.000000</td>\n",
       "      <td>1952.000000</td>\n",
       "      <td>0.000000</td>\n",
       "      <td>98033.000000</td>\n",
       "      <td>47.469500</td>\n",
       "      <td>-122.329000</td>\n",
       "      <td>1490.000000</td>\n",
       "      <td>5100.000000</td>\n",
       "      <td>3.210000</td>\n",
       "    </tr>\n",
       "    <tr>\n",
       "      <th>50%</th>\n",
       "      <td>3.904921e+09</td>\n",
       "      <td>3.000000</td>\n",
       "      <td>2.250000</td>\n",
       "      <td>1920.000000</td>\n",
       "      <td>7.620000e+03</td>\n",
       "      <td>1.500000</td>\n",
       "      <td>0.000000</td>\n",
       "      <td>0.000000</td>\n",
       "      <td>3.000000</td>\n",
       "      <td>7.000000</td>\n",
       "      <td>1560.000000</td>\n",
       "      <td>0.000000</td>\n",
       "      <td>1975.000000</td>\n",
       "      <td>0.000000</td>\n",
       "      <td>98065.000000</td>\n",
       "      <td>47.571900</td>\n",
       "      <td>-122.231000</td>\n",
       "      <td>1840.000000</td>\n",
       "      <td>7620.000000</td>\n",
       "      <td>4.500000</td>\n",
       "    </tr>\n",
       "    <tr>\n",
       "      <th>75%</th>\n",
       "      <td>7.304801e+09</td>\n",
       "      <td>4.000000</td>\n",
       "      <td>2.500000</td>\n",
       "      <td>2550.000000</td>\n",
       "      <td>1.071800e+04</td>\n",
       "      <td>2.000000</td>\n",
       "      <td>0.000000</td>\n",
       "      <td>0.000000</td>\n",
       "      <td>4.000000</td>\n",
       "      <td>8.000000</td>\n",
       "      <td>2220.000000</td>\n",
       "      <td>560.000000</td>\n",
       "      <td>1997.000000</td>\n",
       "      <td>0.000000</td>\n",
       "      <td>98118.000000</td>\n",
       "      <td>47.677700</td>\n",
       "      <td>-122.126000</td>\n",
       "      <td>2360.000000</td>\n",
       "      <td>10087.000000</td>\n",
       "      <td>6.450000</td>\n",
       "    </tr>\n",
       "    <tr>\n",
       "      <th>max</th>\n",
       "      <td>9.900000e+09</td>\n",
       "      <td>33.000000</td>\n",
       "      <td>8.000000</td>\n",
       "      <td>13540.000000</td>\n",
       "      <td>1.651359e+06</td>\n",
       "      <td>3.500000</td>\n",
       "      <td>1.000000</td>\n",
       "      <td>4.000000</td>\n",
       "      <td>5.000000</td>\n",
       "      <td>13.000000</td>\n",
       "      <td>9410.000000</td>\n",
       "      <td>4820.000000</td>\n",
       "      <td>2015.000000</td>\n",
       "      <td>2015.000000</td>\n",
       "      <td>98199.000000</td>\n",
       "      <td>47.777600</td>\n",
       "      <td>-121.315000</td>\n",
       "      <td>6210.000000</td>\n",
       "      <td>871200.000000</td>\n",
       "      <td>77.000000</td>\n",
       "    </tr>\n",
       "  </tbody>\n",
       "</table>\n",
       "</div>"
      ],
      "text/plain": [
       "                 id      bedrooms     bathrooms   sqft_living      sqft_lot  \\\n",
       "count  1.945100e+04  19451.000000  19451.000000  18857.000000  1.945100e+04   \n",
       "mean   4.579305e+09      3.374891      2.117115   2083.822824  1.526233e+04   \n",
       "std    2.876637e+09      0.931878      0.770603    921.655939  4.246746e+04   \n",
       "min    1.000102e+06      0.000000      0.000000    290.000000  5.200000e+02   \n",
       "25%    2.124084e+09      3.000000      1.750000   1430.000000  5.043000e+03   \n",
       "50%    3.904921e+09      3.000000      2.250000   1920.000000  7.620000e+03   \n",
       "75%    7.304801e+09      4.000000      2.500000   2550.000000  1.071800e+04   \n",
       "max    9.900000e+09     33.000000      8.000000  13540.000000  1.651359e+06   \n",
       "\n",
       "             floors    waterfront          view     condition         grade  \\\n",
       "count  19451.000000  19451.000000  18478.000000  19451.000000  18078.000000   \n",
       "mean       1.496607      0.007609      0.233792      3.408308      7.656710   \n",
       "std        0.540055      0.086899      0.764109      0.650853      1.174811   \n",
       "min        1.000000      0.000000      0.000000      1.000000      1.000000   \n",
       "25%        1.000000      0.000000      0.000000      3.000000      7.000000   \n",
       "50%        1.500000      0.000000      0.000000      3.000000      7.000000   \n",
       "75%        2.000000      0.000000      0.000000      4.000000      8.000000   \n",
       "max        3.500000      1.000000      4.000000      5.000000     13.000000   \n",
       "\n",
       "         sqft_above  sqft_basement      yr_built  yr_renovated       zipcode  \\\n",
       "count  19451.000000   19451.000000  19451.000000  19451.000000  19451.000000   \n",
       "mean    1791.785050     291.871112   1971.067297     85.569482  98077.921289   \n",
       "std      831.295886     442.540100     29.355603    404.311212     53.541892   \n",
       "min      290.000000       0.000000   1900.000000      0.000000  98001.000000   \n",
       "25%     1200.000000       0.000000   1952.000000      0.000000  98033.000000   \n",
       "50%     1560.000000       0.000000   1975.000000      0.000000  98065.000000   \n",
       "75%     2220.000000     560.000000   1997.000000      0.000000  98118.000000   \n",
       "max     9410.000000    4820.000000   2015.000000   2015.000000  98199.000000   \n",
       "\n",
       "                lat          long  sqft_living15     sqft_lot15         price  \n",
       "count  19451.000000  19451.000000   19451.000000   19451.000000  19451.000000  \n",
       "mean      47.559796   -122.214411    1987.574726   12847.165544      5.404026  \n",
       "std        0.138688      0.140509     686.225019   27492.540347      3.686557  \n",
       "min       47.159300   -122.519000     399.000000     651.000000      0.750000  \n",
       "25%       47.469500   -122.329000    1490.000000    5100.000000      3.210000  \n",
       "50%       47.571900   -122.231000    1840.000000    7620.000000      4.500000  \n",
       "75%       47.677700   -122.126000    2360.000000   10087.000000      6.450000  \n",
       "max       47.777600   -121.315000    6210.000000  871200.000000     77.000000  "
      ]
     },
     "execution_count": 3,
     "metadata": {},
     "output_type": "execute_result"
    }
   ],
   "source": [
    "# Provide descriptive statistics of the data\n",
    "descriptive_stats = train_df.describe()\n",
    "\n",
    "# Descriptive statistics and missing values\n",
    "descriptive_stats"
   ]
  },
  {
   "cell_type": "markdown",
   "id": "7eea4cfe-0e4c-4180-b787-445a7e25e0f7",
   "metadata": {},
   "source": [
    "The **descriptive statistics** provide an overview of the data, highlighting several key points:\n",
    "\n",
    "- **Count**: There are 19,451 entries in the dataset, with varying counts for some columns due to missing values.\n",
    "- **Mean and Standard Deviation**: The data has wide-ranging values, for instance, the average living space (sqft_living) is approximately 2,084 square feet with a standard deviation of 921.66, indicating a varied dataset.\n",
    "- **Min and Max**: The dataset includes a broad spectrum of houses, from those with no bedrooms or bathrooms to properties with up to 33 bedrooms and 8 bathrooms. Living space ranges from 290 to 13,540 square feet, and lot sizes extend up to over 1.65 million square feet.\n",
    "- **Quartiles**: The 25th, 50th (median), and 75th percentiles give insights into the distribution of data, such as most houses having 3 to 4 bedrooms and 1.75 to 2.5 bathrooms, indicating that typical properties in the dataset are family homes."
   ]
  },
  {
   "cell_type": "code",
   "execution_count": 4,
   "id": "45f262b8-2e0a-4dd9-a86c-7ac04f554618",
   "metadata": {},
   "outputs": [
    {
     "data": {
      "text/plain": [
       "id                  0\n",
       "date              758\n",
       "bedrooms            0\n",
       "bathrooms           0\n",
       "sqft_living       594\n",
       "sqft_lot            0\n",
       "floors              0\n",
       "waterfront          0\n",
       "view              973\n",
       "condition           0\n",
       "grade            1373\n",
       "sqft_above          0\n",
       "sqft_basement       0\n",
       "yr_built            0\n",
       "yr_renovated        0\n",
       "zipcode             0\n",
       "lat                 0\n",
       "long                0\n",
       "sqft_living15       0\n",
       "sqft_lot15          0\n",
       "price               0\n",
       "dtype: int64"
      ]
     },
     "execution_count": 4,
     "metadata": {},
     "output_type": "execute_result"
    }
   ],
   "source": [
    "# Check for missing values\n",
    "missing_values = train_df.isnull().sum()\n",
    "\n",
    "missing_values"
   ]
  },
  {
   "cell_type": "markdown",
   "id": "6a28ad62-d188-4393-a971-01f0f4cb3292",
   "metadata": {},
   "source": [
    "Regarding **missing values**, the dataset has several columns with missing data:\n",
    "- **sqft_living**: 594 missing values\n",
    "- **view**: 973 missing values\n",
    "- **grade**: 1,373 missing values\n",
    "- **date**: 758 missing values"
   ]
  },
  {
   "cell_type": "code",
   "execution_count": 5,
   "id": "5d96c23e-276d-43eb-84c4-d7509e8da2e8",
   "metadata": {},
   "outputs": [
    {
     "data": {
      "image/png": "[encoded data removed]",
      "text/plain": [
       "<Figure size 1600x1200 with 4 Axes>"
      ]
     },
     "metadata": {},
     "output_type": "display_data"
    }
   ],
   "source": [
    "# Set the aesthetic style of the plots\n",
    "sns.set_style(\"whitegrid\")\n",
    "\n",
    "# Create a figure and a set of subplots\n",
    "fig, axs = plt.subplots(2, 2, figsize=(16, 12))\n",
    "\n",
    "# Price Distribution\n",
    "sns.histplot(train_df['price'], kde=True, ax=axs[0, 0])\n",
    "axs[0, 0].set_title('Price Distribution')\n",
    "axs[0, 0].set_xlabel('Price (scaled)')\n",
    "axs[0, 0].set_ylabel('Frequency')\n",
    "\n",
    "# Living Space vs. Price\n",
    "sns.scatterplot(x='sqft_living', y='price', data=train_df, ax=axs[0, 1])\n",
    "axs[0, 1].set_title('Living Space vs. Price')\n",
    "axs[0, 1].set_xlabel('Living Space (sqft)')\n",
    "axs[0, 1].set_ylabel('Price (scaled)')\n",
    "\n",
    "# Bedrooms vs. Price\n",
    "sns.boxplot(x='bedrooms', y='price', data=train_df, ax=axs[1, 0])\n",
    "axs[1, 0].set_title('Bedrooms vs. Price')\n",
    "axs[1, 0].set_xlabel('Number of Bedrooms')\n",
    "axs[1, 0].set_ylabel('Price (scaled)')\n",
    "\n",
    "# Grade vs. Price\n",
    "sns.boxplot(x='grade', y='price', data=train_df, ax=axs[1, 1])\n",
    "axs[1, 1].set_title('Grade vs. Price')\n",
    "axs[1, 1].set_xlabel('Grade')\n",
    "axs[1, 1].set_ylabel('Price (scaled)')\n",
    "\n",
    "plt.tight_layout()"
   ]
  },
  {
   "cell_type": "markdown",
   "id": "1bef76e0-ae4b-4d87-b7f5-0f4525c33e35",
   "metadata": {},
   "source": [
    "The visualizations provide valuable insights into the relationship between various features and the price, as well as the distribution of the data:\n",
    "\n",
    "- **Price Distribution**: The price distribution is right-skewed, indicating that while most homes are in the lower to mid-price range, there are a significant number of high-value outliers.\n",
    "- **Living Space vs. Price**: There's a positive correlation between living space (sqft_living) and price. Larger homes tend to be more expensive, but there are outliers, especially at the higher end of the living space spectrum.\n",
    "- **Bedrooms vs. Price**: The price tends to increase with the number of bedrooms, up to a point. Homes with a very high number of bedrooms (e.g., more than 9) show a wide range of prices, suggesting that the number of bedrooms alone does not determine price. There are outliers, particularly with homes that have an unusually high number of bedrooms for their price range.\n",
    "- **Grade vs. Price**: There's a strong positive correlation between the grade of a house and its price. Higher grade homes, which indicate better construction and design quality, command higher prices. The relationship appears to be almost exponential, with premium grades (11-13) showing a significant increase in price variability and overall higher prices."
   ]
  },
  {
   "cell_type": "markdown",
   "id": "0110776e",
   "metadata": {},
   "source": [
    "## Question 2: Data pre-processing & Feature Engineering (20 points)\n",
    "\n",
    "After getting some insights about the relationships through the EDA process, now move on to clean and preprocess the data. \n",
    "\n",
    "How are you going to deal with the missing values? How are you going to deal with the numerical and categorical columns? Are all the attributes relevant? Does any feature need to be reengineered?"
   ]
  },
  {
   "cell_type": "code",
   "execution_count": 6,
   "id": "6dabc33e-d470-401b-94db-3828df7fda07",
   "metadata": {},
   "outputs": [],
   "source": [
    "# Drop irrelevant features\n",
    "train_df_cleaned = train_df.drop(['id'], axis=1)"
   ]
  },
  {
   "cell_type": "code",
   "execution_count": 7,
   "id": "aa2f8ac8-03a4-4930-bc72-d51a58ce8771",
   "metadata": {},
   "outputs": [],
   "source": [
    "# Handling missing values\n",
    "# For numerical columns, we'll impute missing values with the median\n",
    "# For the 'view' and 'grade' columns, also use median imputation as they are ordinal but have missing values\n",
    "num_imputer = SimpleImputer(strategy='median')\n",
    "train_df_cleaned['sqft_living'] = num_imputer.fit_transform(train_df_cleaned[['sqft_living']])\n",
    "train_df_cleaned['view'] = num_imputer.fit_transform(train_df_cleaned[['view']])\n",
    "train_df_cleaned['grade'] = num_imputer.fit_transform(train_df_cleaned[['grade']])\n",
    "\n",
    "# Since 'date' might be important for temporal trends, extract year and month and then drop the original date column\n",
    "train_df_cleaned['sale_year'] = pd.to_datetime(train_df_cleaned['date'], errors='coerce').dt.year\n",
    "train_df_cleaned['sale_month'] = pd.to_datetime(train_df_cleaned['date'], errors='coerce').dt.month\n",
    "train_df_cleaned.drop(['date'], axis=1, inplace=True)"
   ]
  },
  {
   "cell_type": "code",
   "execution_count": 8,
   "id": "02dfa87f-b50d-4053-9813-f63480cc86f7",
   "metadata": {},
   "outputs": [
    {
     "data": {
      "text/plain": [
       "(bedrooms                    0\n",
       " bathrooms                   0\n",
       " sqft_living                 0\n",
       " sqft_lot                    0\n",
       " floors                      0\n",
       " waterfront                  0\n",
       " view                        0\n",
       " condition                   0\n",
       " grade                       0\n",
       " sqft_above                  0\n",
       " sqft_basement               0\n",
       " zipcode                     0\n",
       " lat                         0\n",
       " long                        0\n",
       " sqft_living15               0\n",
       " sqft_lot15                  0\n",
       " price                       0\n",
       " sale_year                 758\n",
       " sale_month                758\n",
       " house_age                   0\n",
       " years_since_renovation      0\n",
       " dtype: int64,\n",
       "    bedrooms  bathrooms  sqft_living  sqft_lot  floors  waterfront  view  \\\n",
       " 0         3       1.00       1220.0      4800     1.0           0   0.0   \n",
       " 1         4       2.50       3170.0     94855     1.0           0   0.0   \n",
       " 2         5       3.00       2710.0      4200     2.0           0   0.0   \n",
       " 3         4       2.25       2850.0      7453     2.0           0   0.0   \n",
       " 4         3       2.50       2370.0      9000     1.0           0   3.0   \n",
       " \n",
       "    condition  grade  sqft_above  ...  zipcode      lat     long  \\\n",
       " 0          3    6.0        1220  ...    98122  47.6101 -122.307   \n",
       " 1          4    9.0        1910  ...    98072  47.7648 -122.112   \n",
       " 2          3    7.0        1890  ...    98115  47.6754 -122.307   \n",
       " 3          3    9.0        2850  ...    98072  47.7439 -122.174   \n",
       " 4          4    8.0        1570  ...    98146  47.4922 -122.365   \n",
       " \n",
       "    sqft_living15  sqft_lot15  price  sale_year  sale_month  house_age  \\\n",
       " 0           1200        4800   3.85     2014.0         5.0        123   \n",
       " 1           2590       65340   7.99     2015.0         3.0         46   \n",
       " 2           2150        4200   9.25     2014.0         8.0        105   \n",
       " 3           2700        8468   5.40     2014.0        10.0         33   \n",
       " 4           2120        9500   5.45     2015.0         1.0         72   \n",
       " \n",
       "    years_since_renovation  \n",
       " 0                       0  \n",
       " 1                       0  \n",
       " 2                      10  \n",
       " 3                       0  \n",
       " 4                       0  \n",
       " \n",
       " [5 rows x 21 columns])"
      ]
     },
     "execution_count": 8,
     "metadata": {},
     "output_type": "execute_result"
    }
   ],
   "source": [
    "# Feature Engineering\n",
    "# Calculate the age of the house and the years since the last renovation\n",
    "current_year = pd.to_datetime('today').year\n",
    "train_df_cleaned['house_age'] = current_year - train_df_cleaned['yr_built']\n",
    "train_df_cleaned['years_since_renovation'] = np.where(train_df_cleaned['yr_renovated'] == 0, 0,\n",
    "                                                      current_year - train_df_cleaned['yr_renovated'])\n",
    "# Drop original year columns\n",
    "train_df_cleaned.drop(['yr_built', 'yr_renovated'], axis=1, inplace=True)\n",
    "\n",
    "# Confirm changes and check for remaining missing values\n",
    "train_df_cleaned.isnull().sum(), train_df_cleaned.head()"
   ]
  },
  {
   "cell_type": "markdown",
   "id": "ceba5258-1a5a-44c0-a6bb-c238f0e5549e",
   "metadata": {},
   "source": [
    "**Summary** of the steps taken:\n",
    "\n",
    "1. **Dropped irrelevant feature**: The `id` column was removed as it's not relevant for predicting house prices.\n",
    "2. **Handled missing values**: Missing values in `sqft_living`, `view`, and `grade` were imputed with the median of their respective columns. This approach preserves the distribution of the data while dealing with missing values effectively.\n",
    "3. **Feature engineering**:\n",
    "   - Extracted `sale_year` and `sale_month` from the `date` column to capture potential seasonal trends in house prices and then dropped the original `date` column.\n",
    "   - Calculated `house_age` as the difference between the current year and `yr_built`, and `years_since_renovation` as the difference between the current year and `yr_renovated`, replacing the original year features with these more informative metrics.\n",
    "\n",
    "The dataset still has missing values in `sale_year` and `sale_month`, likely due to errors in the `date` column or entries without a sale date."
   ]
  },
  {
   "cell_type": "code",
   "execution_count": 9,
   "id": "2c19296e-fd3e-4782-aa17-a15a146f527a",
   "metadata": {},
   "outputs": [],
   "source": [
    "# Impute missing values for 'sale_year' and 'sale_month' with their respective modes (most common value)\n",
    "mode_imputer = SimpleImputer(strategy='most_frequent')\n",
    "train_df_cleaned['sale_year'] = mode_imputer.fit_transform(train_df_cleaned[['sale_year']])\n",
    "train_df_cleaned['sale_month'] = mode_imputer.fit_transform(train_df_cleaned[['sale_month']])"
   ]
  },
  {
   "cell_type": "code",
   "execution_count": 10,
   "id": "a3179187-3b87-4a03-9480-89ef8642f062",
   "metadata": {},
   "outputs": [],
   "source": [
    "# Prepare for scaling and encoding\n",
    "# Identify numerical and categorical columns\n",
    "numerical_cols = train_df_cleaned.select_dtypes(include=['float64', 'int64']).columns.tolist()\n",
    "categorical_cols = ['zipcode']  # Treating zipcode as categorical for encoding\n",
    "\n",
    "# Remove target variable from numerical columns list\n",
    "numerical_cols.remove('price')"
   ]
  },
  {
   "cell_type": "code",
   "execution_count": 11,
   "id": "d2b95ede-e7bf-4267-a95a-6dea404fab79",
   "metadata": {},
   "outputs": [],
   "source": [
    "# Scaling numerical features\n",
    "scaler = StandardScaler()\n",
    "train_df_cleaned[numerical_cols] = scaler.fit_transform(train_df_cleaned[numerical_cols])"
   ]
  },
  {
   "cell_type": "code",
   "execution_count": 12,
   "id": "be98687f-ee7c-489e-815d-49cabb09af99",
   "metadata": {},
   "outputs": [],
   "source": [
    "# Encoding categorical features - Using OneHotEncoder for 'zipcode'\n",
    "# Given the high cardinality, this approach may result in a large number of columns\n",
    "encoder = OneHotEncoder(sparse=False, handle_unknown='ignore')\n",
    "encoded_zipcode = encoder.fit_transform(train_df_cleaned[categorical_cols])\n",
    "# Create a DataFrame with encoded zipcode features\n",
    "encoded_zipcode_df = pd.DataFrame(encoded_zipcode, columns=[f\"zipcode_{i}\" for i in range(encoded_zipcode.shape[1])], index=train_df_cleaned.index)"
   ]
  },
  {
   "cell_type": "code",
   "execution_count": 13,
   "id": "7795bf31-26f0-4737-a335-b1384a971288",
   "metadata": {},
   "outputs": [],
   "source": [
    "# Drop the original 'zipcode' column and concatenate the encoded zipcode DataFrame\n",
    "train_df_cleaned.drop(['zipcode'], axis=1, inplace=True)\n",
    "train_df_processed = pd.concat([train_df_cleaned, encoded_zipcode_df], axis=1)"
   ]
  },
  {
   "cell_type": "code",
   "execution_count": 14,
   "id": "c7a26e59-1782-43d8-a29c-00d9946f45f5",
   "metadata": {},
   "outputs": [
    {
     "data": {
      "text/html": [
       "<div>\n",
       "<style scoped>\n",
       "    .dataframe tbody tr th:only-of-type {\n",
       "        vertical-align: middle;\n",
       "    }\n",
       "\n",
       "    .dataframe tbody tr th {\n",
       "        vertical-align: top;\n",
       "    }\n",
       "\n",
       "    .dataframe thead th {\n",
       "        text-align: right;\n",
       "    }\n",
       "</style>\n",
       "<table border=\"1\" class=\"dataframe\">\n",
       "  <thead>\n",
       "    <tr style=\"text-align: right;\">\n",
       "      <th></th>\n",
       "      <th>bedrooms</th>\n",
       "      <th>bathrooms</th>\n",
       "      <th>sqft_living</th>\n",
       "      <th>sqft_lot</th>\n",
       "      <th>floors</th>\n",
       "      <th>waterfront</th>\n",
       "      <th>view</th>\n",
       "      <th>condition</th>\n",
       "      <th>grade</th>\n",
       "      <th>sqft_above</th>\n",
       "      <th>...</th>\n",
       "      <th>zipcode_60</th>\n",
       "      <th>zipcode_61</th>\n",
       "      <th>zipcode_62</th>\n",
       "      <th>zipcode_63</th>\n",
       "      <th>zipcode_64</th>\n",
       "      <th>zipcode_65</th>\n",
       "      <th>zipcode_66</th>\n",
       "      <th>zipcode_67</th>\n",
       "      <th>zipcode_68</th>\n",
       "      <th>zipcode_69</th>\n",
       "    </tr>\n",
       "  </thead>\n",
       "  <tbody>\n",
       "    <tr>\n",
       "      <th>0</th>\n",
       "      <td>-0.402307</td>\n",
       "      <td>-1.449701</td>\n",
       "      <td>-0.945954</td>\n",
       "      <td>-0.246367</td>\n",
       "      <td>-0.919572</td>\n",
       "      <td>-0.087563</td>\n",
       "      <td>-0.297528</td>\n",
       "      <td>-0.627359</td>\n",
       "      <td>-1.406447</td>\n",
       "      <td>-0.687841</td>\n",
       "      <td>...</td>\n",
       "      <td>0.0</td>\n",
       "      <td>0.0</td>\n",
       "      <td>0.0</td>\n",
       "      <td>0.0</td>\n",
       "      <td>0.0</td>\n",
       "      <td>0.0</td>\n",
       "      <td>0.0</td>\n",
       "      <td>0.0</td>\n",
       "      <td>0.0</td>\n",
       "      <td>0.0</td>\n",
       "    </tr>\n",
       "    <tr>\n",
       "      <th>1</th>\n",
       "      <td>0.670823</td>\n",
       "      <td>0.496877</td>\n",
       "      <td>1.201889</td>\n",
       "      <td>1.874252</td>\n",
       "      <td>-0.919572</td>\n",
       "      <td>-0.087563</td>\n",
       "      <td>-0.297528</td>\n",
       "      <td>0.909125</td>\n",
       "      <td>1.213685</td>\n",
       "      <td>0.142209</td>\n",
       "      <td>...</td>\n",
       "      <td>0.0</td>\n",
       "      <td>0.0</td>\n",
       "      <td>0.0</td>\n",
       "      <td>0.0</td>\n",
       "      <td>0.0</td>\n",
       "      <td>0.0</td>\n",
       "      <td>0.0</td>\n",
       "      <td>0.0</td>\n",
       "      <td>0.0</td>\n",
       "      <td>0.0</td>\n",
       "    </tr>\n",
       "    <tr>\n",
       "      <th>2</th>\n",
       "      <td>1.743953</td>\n",
       "      <td>1.145737</td>\n",
       "      <td>0.695218</td>\n",
       "      <td>-0.260496</td>\n",
       "      <td>0.932138</td>\n",
       "      <td>-0.087563</td>\n",
       "      <td>-0.297528</td>\n",
       "      <td>-0.627359</td>\n",
       "      <td>-0.533070</td>\n",
       "      <td>0.118150</td>\n",
       "      <td>...</td>\n",
       "      <td>0.0</td>\n",
       "      <td>0.0</td>\n",
       "      <td>0.0</td>\n",
       "      <td>0.0</td>\n",
       "      <td>0.0</td>\n",
       "      <td>0.0</td>\n",
       "      <td>0.0</td>\n",
       "      <td>0.0</td>\n",
       "      <td>0.0</td>\n",
       "      <td>0.0</td>\n",
       "    </tr>\n",
       "    <tr>\n",
       "      <th>3</th>\n",
       "      <td>0.670823</td>\n",
       "      <td>0.172448</td>\n",
       "      <td>0.849422</td>\n",
       "      <td>-0.183894</td>\n",
       "      <td>0.932138</td>\n",
       "      <td>-0.087563</td>\n",
       "      <td>-0.297528</td>\n",
       "      <td>-0.627359</td>\n",
       "      <td>1.213685</td>\n",
       "      <td>1.273003</td>\n",
       "      <td>...</td>\n",
       "      <td>0.0</td>\n",
       "      <td>0.0</td>\n",
       "      <td>0.0</td>\n",
       "      <td>0.0</td>\n",
       "      <td>0.0</td>\n",
       "      <td>0.0</td>\n",
       "      <td>0.0</td>\n",
       "      <td>0.0</td>\n",
       "      <td>0.0</td>\n",
       "      <td>0.0</td>\n",
       "    </tr>\n",
       "    <tr>\n",
       "      <th>4</th>\n",
       "      <td>-0.402307</td>\n",
       "      <td>0.496877</td>\n",
       "      <td>0.320723</td>\n",
       "      <td>-0.147466</td>\n",
       "      <td>-0.919572</td>\n",
       "      <td>-0.087563</td>\n",
       "      <td>3.721368</td>\n",
       "      <td>0.909125</td>\n",
       "      <td>0.340308</td>\n",
       "      <td>-0.266801</td>\n",
       "      <td>...</td>\n",
       "      <td>1.0</td>\n",
       "      <td>0.0</td>\n",
       "      <td>0.0</td>\n",
       "      <td>0.0</td>\n",
       "      <td>0.0</td>\n",
       "      <td>0.0</td>\n",
       "      <td>0.0</td>\n",
       "      <td>0.0</td>\n",
       "      <td>0.0</td>\n",
       "      <td>0.0</td>\n",
       "    </tr>\n",
       "  </tbody>\n",
       "</table>\n",
       "<p>5 rows × 90 columns</p>\n",
       "</div>"
      ],
      "text/plain": [
       "   bedrooms  bathrooms  sqft_living  sqft_lot    floors  waterfront      view  \\\n",
       "0 -0.402307  -1.449701    -0.945954 -0.246367 -0.919572   -0.087563 -0.297528   \n",
       "1  0.670823   0.496877     1.201889  1.874252 -0.919572   -0.087563 -0.297528   \n",
       "2  1.743953   1.145737     0.695218 -0.260496  0.932138   -0.087563 -0.297528   \n",
       "3  0.670823   0.172448     0.849422 -0.183894  0.932138   -0.087563 -0.297528   \n",
       "4 -0.402307   0.496877     0.320723 -0.147466 -0.919572   -0.087563  3.721368   \n",
       "\n",
       "   condition     grade  sqft_above  ...  zipcode_60  zipcode_61  zipcode_62  \\\n",
       "0  -0.627359 -1.406447   -0.687841  ...         0.0         0.0         0.0   \n",
       "1   0.909125  1.213685    0.142209  ...         0.0         0.0         0.0   \n",
       "2  -0.627359 -0.533070    0.118150  ...         0.0         0.0         0.0   \n",
       "3  -0.627359  1.213685    1.273003  ...         0.0         0.0         0.0   \n",
       "4   0.909125  0.340308   -0.266801  ...         1.0         0.0         0.0   \n",
       "\n",
       "   zipcode_63  zipcode_64  zipcode_65  zipcode_66  zipcode_67  zipcode_68  \\\n",
       "0         0.0         0.0         0.0         0.0         0.0         0.0   \n",
       "1         0.0         0.0         0.0         0.0         0.0         0.0   \n",
       "2         0.0         0.0         0.0         0.0         0.0         0.0   \n",
       "3         0.0         0.0         0.0         0.0         0.0         0.0   \n",
       "4         0.0         0.0         0.0         0.0         0.0         0.0   \n",
       "\n",
       "   zipcode_69  \n",
       "0         0.0  \n",
       "1         0.0  \n",
       "2         0.0  \n",
       "3         0.0  \n",
       "4         0.0  \n",
       "\n",
       "[5 rows x 90 columns]"
      ]
     },
     "execution_count": 14,
     "metadata": {},
     "output_type": "execute_result"
    }
   ],
   "source": [
    "train_df_processed.head()"
   ]
  },
  {
   "cell_type": "code",
   "execution_count": 15,
   "id": "a15efac9-8065-4bd5-9609-5c11479169b8",
   "metadata": {},
   "outputs": [
    {
     "data": {
      "text/plain": [
       "0"
      ]
     },
     "execution_count": 15,
     "metadata": {},
     "output_type": "execute_result"
    }
   ],
   "source": [
    "train_df_processed.isnull().sum().sum()"
   ]
  },
  {
   "cell_type": "markdown",
   "id": "7ef1a0c8-980c-41f4-b16f-e88bff971053",
   "metadata": {},
   "source": [
    "**Summary** of the final steps taken:\n",
    "\n",
    "1. **Missing Values**: The missing values in `sale_year` and `sale_month` were imputed with the most frequent values, addressing all missing data in the dataset.\n",
    "2. **Feature Scaling**: Numerical features were standardized using the Standard Scaler. This scaling ensures that all numerical features contribute equally to the model, preventing features with larger scales from dominating those with smaller scales.\n",
    "3. **Categorical Encoding**: The `zipcode` column was treated as a categorical variable and one-hot encoded, generating a separate column for each unique zipcode. This encoding transforms the categorical data into a format that can be provided to ML algorithms to do a better job in prediction.\n",
    "4. **Final Dataset**: The final processed dataset now includes scaled numerical features, encoded categorical features, and engineered features. There are 90 columns, including the target variable (`price`) and the encoded zipcode features."
   ]
  },
  {
   "cell_type": "markdown",
   "id": "be4adf71",
   "metadata": {},
   "source": [
    "## Question 3 - Modeling (20 points)\n",
    "\n",
    "Now, it's time to do some modeling. Show the modeling techniques you have used to predict the price of the house sold given the data attributes. Some of the necessary things you need to remember are - <br>\n",
    "\n",
    "1) Use RMSE as the evaluation metric.<br>\n",
    "2) Report the 5CV validation score for each model you create.<br>"
   ]
  },
  {
   "cell_type": "code",
   "execution_count": 16,
   "id": "daeb9d15",
   "metadata": {},
   "outputs": [],
   "source": [
    "# Splitting features and target variable\n",
    "X = train_df_processed.drop('price', axis=1)\n",
    "y = train_df_processed['price']"
   ]
  },
  {
   "cell_type": "code",
   "execution_count": 17,
   "id": "fb3487fd-7e48-4725-9616-d73f35e06e16",
   "metadata": {},
   "outputs": [],
   "source": [
    "# Define RMSE scorer\n",
    "rmse_scorer = make_scorer(mean_squared_error, squared=False)"
   ]
  },
  {
   "cell_type": "code",
   "execution_count": 18,
   "id": "d8f3228a-5e70-47bd-85e2-7c75dfc7e357",
   "metadata": {},
   "outputs": [],
   "source": [
    "# Initialize models\n",
    "models = {\n",
    "    'Linear Regression': LinearRegression(),\n",
    "    'Ridge Regression': Ridge(),\n",
    "    'Random Forest': RandomForestRegressor(n_estimators=10, random_state=42)\n",
    "}"
   ]
  },
  {
   "cell_type": "code",
   "execution_count": 19,
   "id": "ff5a659d-c1b1-4727-a693-e973e6a24103",
   "metadata": {},
   "outputs": [
    {
     "data": {
      "text/plain": [
       "{'Linear Regression': array([1.66344876, 1.53336948, 1.91044906, 1.53800951, 1.56185214]),\n",
       " 'Ridge Regression': array([1.66471187, 1.53341867, 1.9087842 , 1.53946277, 1.56165637]),\n",
       " 'Random Forest': array([1.45843354, 1.45213078, 1.57468882, 1.32250138, 1.37628175])}"
      ]
     },
     "execution_count": 19,
     "metadata": {},
     "output_type": "execute_result"
    }
   ],
   "source": [
    "# Perform 5-fold cross-validation and report RMSE\n",
    "cv_scores = {}\n",
    "\n",
    "for name, model in models.items():\n",
    "    cv_score = cross_val_score(model, X, y, cv=5, scoring=rmse_scorer)\n",
    "    cv_scores[name] = cv_score\n",
    "\n",
    "cv_scores"
   ]
  },
  {
   "cell_type": "markdown",
   "id": "e3a910f1-1980-4c74-88ea-67e4db9c9263",
   "metadata": {},
   "source": [
    "The approach provided the 5-fold cross-validation RMSE scores for three different models. Here's a summary of the results:\n",
    "\n",
    "1. **Linear Regression** yielded RMSE scores across the folds as follows: [1.663, 1.533, 1.910, 1.538, 1.562]. This indicates a moderate level of error across different subsets of the data, with some variability in performance across the folds.\n",
    "\n",
    "2. **Ridge Regression** showed similar RMSE scores: [1.665, 1.533, 1.909, 1.539, 1.562]. The performance is very close to that of Linear Regression, suggesting that the addition of regularization did not significantly change the outcome, possibly due to the dataset not having highly collinear features or the alpha parameter being set to a default value that doesn't substantially influence the model.\n",
    "\n",
    "3. **Random Forest (Simplified)**, with complexity (10 estimators), provided RMSE scores: [1.458, 1.452, 1.575, 1.323, 1.376]. Despite simplifying the model to reduce computation time, Random Forest outperforms both Linear and Ridge Regression, suggesting a better fit to the dataset's nonlinearities and interactions among features.\n",
    "\n",
    "The Random Forest model, even in its simplified form, demonstrates superior predictive capability compared to the linear models for this dataset. This highlights the potential benefits of using more complex models like Random Forest for datasets with complex relationships between features and target variables."
   ]
  },
  {
   "cell_type": "markdown",
   "id": "9f04ad87",
   "metadata": {},
   "source": [
    "## Question 4 - Evaluation and Reporting (20 points)\n",
    "\n",
    "Select a model that is expected to perform optimally on the unseen data and provide the predictions accordingly. Give clear conclusions"
   ]
  },
  {
   "cell_type": "code",
   "execution_count": 20,
   "id": "d6457d87-880b-4f42-8ab6-adf5b155b3c9",
   "metadata": {},
   "outputs": [
    {
     "data": {
      "text/html": [
       "<style>#sk-container-id-1 {color: black;background-color: white;}#sk-container-id-1 pre{padding: 0;}#sk-container-id-1 div.sk-toggleable {background-color: white;}#sk-container-id-1 label.sk-toggleable__label {cursor: pointer;display: block;width: 100%;margin-bottom: 0;padding: 0.3em;box-sizing: border-box;text-align: center;}#sk-container-id-1 label.sk-toggleable__label-arrow:before {content: \"▸\";float: left;margin-right: 0.25em;color: #696969;}#sk-container-id-1 label.sk-toggleable__label-arrow:hover:before {color: black;}#sk-container-id-1 div.sk-estimator:hover label.sk-toggleable__label-arrow:before {color: black;}#sk-container-id-1 div.sk-toggleable__content {max-height: 0;max-width: 0;overflow: hidden;text-align: left;background-color: #f0f8ff;}#sk-container-id-1 div.sk-toggleable__content pre {margin: 0.2em;color: black;border-radius: 0.25em;background-color: #f0f8ff;}#sk-container-id-1 input.sk-toggleable__control:checked~div.sk-toggleable__content {max-height: 200px;max-width: 100%;overflow: auto;}#sk-container-id-1 input.sk-toggleable__control:checked~label.sk-toggleable__label-arrow:before {content: \"▾\";}#sk-container-id-1 div.sk-estimator input.sk-toggleable__control:checked~label.sk-toggleable__label {background-color: #d4ebff;}#sk-container-id-1 div.sk-label input.sk-toggleable__control:checked~label.sk-toggleable__label {background-color: #d4ebff;}#sk-container-id-1 input.sk-hidden--visually {border: 0;clip: rect(1px 1px 1px 1px);clip: rect(1px, 1px, 1px, 1px);height: 1px;margin: -1px;overflow: hidden;padding: 0;position: absolute;width: 1px;}#sk-container-id-1 div.sk-estimator {font-family: monospace;background-color: #f0f8ff;border: 1px dotted black;border-radius: 0.25em;box-sizing: border-box;margin-bottom: 0.5em;}#sk-container-id-1 div.sk-estimator:hover {background-color: #d4ebff;}#sk-container-id-1 div.sk-parallel-item::after {content: \"\";width: 100%;border-bottom: 1px solid gray;flex-grow: 1;}#sk-container-id-1 div.sk-label:hover label.sk-toggleable__label {background-color: #d4ebff;}#sk-container-id-1 div.sk-serial::before {content: \"\";position: absolute;border-left: 1px solid gray;box-sizing: border-box;top: 0;bottom: 0;left: 50%;z-index: 0;}#sk-container-id-1 div.sk-serial {display: flex;flex-direction: column;align-items: center;background-color: white;padding-right: 0.2em;padding-left: 0.2em;position: relative;}#sk-container-id-1 div.sk-item {position: relative;z-index: 1;}#sk-container-id-1 div.sk-parallel {display: flex;align-items: stretch;justify-content: center;background-color: white;position: relative;}#sk-container-id-1 div.sk-item::before, #sk-container-id-1 div.sk-parallel-item::before {content: \"\";position: absolute;border-left: 1px solid gray;box-sizing: border-box;top: 0;bottom: 0;left: 50%;z-index: -1;}#sk-container-id-1 div.sk-parallel-item {display: flex;flex-direction: column;z-index: 1;position: relative;background-color: white;}#sk-container-id-1 div.sk-parallel-item:first-child::after {align-self: flex-end;width: 50%;}#sk-container-id-1 div.sk-parallel-item:last-child::after {align-self: flex-start;width: 50%;}#sk-container-id-1 div.sk-parallel-item:only-child::after {width: 0;}#sk-container-id-1 div.sk-dashed-wrapped {border: 1px dashed gray;margin: 0 0.4em 0.5em 0.4em;box-sizing: border-box;padding-bottom: 0.4em;background-color: white;}#sk-container-id-1 div.sk-label label {font-family: monospace;font-weight: bold;display: inline-block;line-height: 1.2em;}#sk-container-id-1 div.sk-label-container {text-align: center;}#sk-container-id-1 div.sk-container {/* jupyter's `normalize.less` sets `[hidden] { display: none; }` but bootstrap.min.css set `[hidden] { display: none !important; }` so we also need the `!important` here to be able to override the default hidden behavior on the sphinx rendered scikit-learn.org. See: https://github.com/scikit-learn/scikit-learn/issues/21755 */display: inline-block !important;position: relative;}#sk-container-id-1 div.sk-text-repr-fallback {display: none;}</style><div id=\"sk-container-id-1\" class=\"sk-top-container\"><div class=\"sk-text-repr-fallback\"><pre>RandomForestRegressor(n_estimators=10, random_state=42)</pre><b>In a Jupyter environment, please rerun this cell to show the HTML representation or trust the notebook. <br />On GitHub, the HTML representation is unable to render, please try loading this page with nbviewer.org.</b></div><div class=\"sk-container\" hidden><div class=\"sk-item\"><div class=\"sk-estimator sk-toggleable\"><input class=\"sk-toggleable__control sk-hidden--visually\" id=\"sk-estimator-id-1\" type=\"checkbox\" checked><label for=\"sk-estimator-id-1\" class=\"sk-toggleable__label sk-toggleable__label-arrow\">RandomForestRegressor</label><div class=\"sk-toggleable__content\"><pre>RandomForestRegressor(n_estimators=10, random_state=42)</pre></div></div></div></div></div>"
      ],
      "text/plain": [
       "RandomForestRegressor(n_estimators=10, random_state=42)"
      ]
     },
     "execution_count": 20,
     "metadata": {},
     "output_type": "execute_result"
    }
   ],
   "source": [
    "# Re-train the Random Forest model on the entire dataset (X, y)\n",
    "rf_model_final = RandomForestRegressor(n_estimators=10, random_state=42)\n",
    "rf_model_final.fit(X, y)"
   ]
  },
  {
   "cell_type": "code",
   "execution_count": 21,
   "id": "444843e8-0b31-4d8a-b748-b9cf02d80523",
   "metadata": {},
   "outputs": [
    {
     "data": {
      "text/plain": [
       "0.6414830907298045"
      ]
     },
     "execution_count": 21,
     "metadata": {},
     "output_type": "execute_result"
    }
   ],
   "source": [
    "# Make predictions with the final model\n",
    "y_pred = rf_model_final.predict(X)\n",
    "\n",
    "# Calculate RMSE for these predictions\n",
    "rmse_all_data = mean_squared_error(y, y_pred, squared=False)\n",
    "\n",
    "rmse_all_data"
   ]
  },
  {
   "cell_type": "code",
   "execution_count": 22,
   "id": "b839c5e7-4243-4c92-bb9e-75924cc39895",
   "metadata": {},
   "outputs": [
    {
     "data": {
      "text/html": [
       "<div>\n",
       "<style scoped>\n",
       "    .dataframe tbody tr th:only-of-type {\n",
       "        vertical-align: middle;\n",
       "    }\n",
       "\n",
       "    .dataframe tbody tr th {\n",
       "        vertical-align: top;\n",
       "    }\n",
       "\n",
       "    .dataframe thead th {\n",
       "        text-align: right;\n",
       "    }\n",
       "</style>\n",
       "<table border=\"1\" class=\"dataframe\">\n",
       "  <thead>\n",
       "    <tr style=\"text-align: right;\">\n",
       "      <th></th>\n",
       "      <th>True Price</th>\n",
       "      <th>Predicted Price</th>\n",
       "    </tr>\n",
       "  </thead>\n",
       "  <tbody>\n",
       "    <tr>\n",
       "      <th>0</th>\n",
       "      <td>3.85</td>\n",
       "      <td>4.5525</td>\n",
       "    </tr>\n",
       "    <tr>\n",
       "      <th>1</th>\n",
       "      <td>7.99</td>\n",
       "      <td>7.4060</td>\n",
       "    </tr>\n",
       "    <tr>\n",
       "      <th>2</th>\n",
       "      <td>9.25</td>\n",
       "      <td>9.1770</td>\n",
       "    </tr>\n",
       "    <tr>\n",
       "      <th>3</th>\n",
       "      <td>5.40</td>\n",
       "      <td>5.4100</td>\n",
       "    </tr>\n",
       "    <tr>\n",
       "      <th>4</th>\n",
       "      <td>5.45</td>\n",
       "      <td>5.5813</td>\n",
       "    </tr>\n",
       "    <tr>\n",
       "      <th>...</th>\n",
       "      <td>...</td>\n",
       "      <td>...</td>\n",
       "    </tr>\n",
       "    <tr>\n",
       "      <th>19446</th>\n",
       "      <td>2.75</td>\n",
       "      <td>2.8775</td>\n",
       "    </tr>\n",
       "    <tr>\n",
       "      <th>19447</th>\n",
       "      <td>3.35</td>\n",
       "      <td>3.8825</td>\n",
       "    </tr>\n",
       "    <tr>\n",
       "      <th>19448</th>\n",
       "      <td>3.21</td>\n",
       "      <td>3.2380</td>\n",
       "    </tr>\n",
       "    <tr>\n",
       "      <th>19449</th>\n",
       "      <td>2.64</td>\n",
       "      <td>2.5655</td>\n",
       "    </tr>\n",
       "    <tr>\n",
       "      <th>19450</th>\n",
       "      <td>4.02</td>\n",
       "      <td>4.2585</td>\n",
       "    </tr>\n",
       "  </tbody>\n",
       "</table>\n",
       "<p>19451 rows × 2 columns</p>\n",
       "</div>"
      ],
      "text/plain": [
       "       True Price  Predicted Price\n",
       "0            3.85           4.5525\n",
       "1            7.99           7.4060\n",
       "2            9.25           9.1770\n",
       "3            5.40           5.4100\n",
       "4            5.45           5.5813\n",
       "...           ...              ...\n",
       "19446        2.75           2.8775\n",
       "19447        3.35           3.8825\n",
       "19448        3.21           3.2380\n",
       "19449        2.64           2.5655\n",
       "19450        4.02           4.2585\n",
       "\n",
       "[19451 rows x 2 columns]"
      ]
     },
     "execution_count": 22,
     "metadata": {},
     "output_type": "execute_result"
    }
   ],
   "source": [
    "# Display predictions\n",
    "predictions_df = pd.DataFrame({'True Price': y, 'Predicted Price': y_pred})\n",
    "predictions_df"
   ]
  },
  {
   "cell_type": "markdown",
   "id": "ae0c8046-fa01-44ea-91fc-a9f13344c773",
   "metadata": {},
   "source": [
    "**Conclusion and Selection of the Model**:\n",
    "Based on the performance metrics and evaluation conducted throughout the analysis, the **Random Forest model** is selected as the model expected to perform optimally on unseen data. This selection is supported by:\n",
    "- The model's low RMSE on the training dataset, indicating a high level of accuracy in capturing the relationship between the features and the target variable.\n",
    "- The model's ability to handle complex, non-linear relationships more effectively than linear models like Linear Regression and Ridge Regression.\n",
    "\n",
    "**Key Conclusion**:\n",
    "The Random Forest model, with its demonstrated capability to accurately predict house prices in King County, USA, stands out as the most suitable choice for this task. It offers robustness against overfitting (to some extent) and captures the nuances in the data that linear models may miss."
   ]
  },
  {
   "cell_type": "markdown",
   "id": "4baa6a2f-6f6d-48ae-a4fb-d8525edcb4b2",
   "metadata": {},
   "source": [
    "## Question 5 - External validation (30 pt)\n",
    "\n",
    "Now, after creating an evaluation table for all the models, pick the one that you think would give you the best results on the test data. Your predictions will be matched with the actual hidden test labels. We would use below evaluation function to grade the quality of your model.\n",
    "\n",
    "You need to generate a csv file, named as \"submission.csv\". This is the inference values from your selected best model on \"test.csv\" data."
   ]
  },
  {
   "cell_type": "code",
   "execution_count": 23,
   "id": "89a4f1a2-63fd-44cb-8e8d-b11c68bdb918",
   "metadata": {},
   "outputs": [],
   "source": [
    "# Load the test data\n",
    "test = pd.read_csv('dataset/test.csv')"
   ]
  },
  {
   "cell_type": "code",
   "execution_count": 24,
   "id": "b7764441-5703-46f4-af28-a59c7fe9cb78",
   "metadata": {},
   "outputs": [
    {
     "data": {
      "text/plain": [
       "(2162, 89)"
      ]
     },
     "execution_count": 24,
     "metadata": {},
     "output_type": "execute_result"
    }
   ],
   "source": [
    "# Preprocessing Steps\n",
    "\n",
    "# Drop irrelevant features\n",
    "test_df_cleaned = test_df.drop(['id'], axis=1)\n",
    "\n",
    "# Handling missing values\n",
    "test_df_cleaned['sqft_living'] = num_imputer.transform(test_df_cleaned[['sqft_living']])\n",
    "test_df_cleaned['view'] = num_imputer.transform(test_df_cleaned[['view']])\n",
    "test_df_cleaned['grade'] = num_imputer.transform(test_df_cleaned[['grade']])\n",
    "\n",
    "# Extract year and month from 'date', then drop the 'date' column\n",
    "test_df_cleaned['sale_year'] = pd.to_datetime(test_df_cleaned['date'], errors='coerce').dt.year\n",
    "test_df_cleaned['sale_month'] = pd.to_datetime(test_df_cleaned['date'], errors='coerce').dt.month\n",
    "test_df_cleaned.drop(['date'], axis=1, inplace=True)\n",
    "\n",
    "# Calculate 'house_age' and 'years_since_renovation'\n",
    "test_df_cleaned['house_age'] = current_year - test_df_cleaned['yr_built']\n",
    "test_df_cleaned['years_since_renovation'] = np.where(test_df_cleaned['yr_renovated'] == 0, 0,\n",
    "                                                     current_year - test_df_cleaned['yr_renovated'])\n",
    "test_df_cleaned.drop(['yr_built', 'yr_renovated'], axis=1, inplace=True)\n",
    "\n",
    "# Impute missing values for 'sale_year' and 'sale_month'\n",
    "test_df_cleaned['sale_year'] = mode_imputer.transform(test_df_cleaned[['sale_year']])\n",
    "test_df_cleaned['sale_month'] = mode_imputer.transform(test_df_cleaned[['sale_month']])\n",
    "\n",
    "# Scale numerical features\n",
    "test_df_cleaned[numerical_cols] = scaler.transform(test_df_cleaned[numerical_cols])\n",
    "\n",
    "# Encode 'zipcode'\n",
    "encoded_zipcode_test = encoder.transform(test_df_cleaned[categorical_cols])\n",
    "encoded_zipcode_test_df = pd.DataFrame(encoded_zipcode_test, columns=[f\"zipcode_{i}\" for i in range(encoded_zipcode_test.shape[1])], index=test_df_cleaned.index)\n",
    "test_df_cleaned.drop(['zipcode'], axis=1, inplace=True)\n",
    "test_df_processed = pd.concat([test_df_cleaned, encoded_zipcode_test_df], axis=1)\n",
    "\n",
    "# Confirm the final shape of the processed test data\n",
    "test_df_processed.shape"
   ]
  },
  {
   "cell_type": "code",
   "execution_count": 25,
   "id": "66aa9638-08e1-4502-884a-1b577e8fb029",
   "metadata": {},
   "outputs": [
    {
     "data": {
      "text/plain": [
       "Index(['bedrooms', 'bathrooms', 'sqft_living', 'sqft_lot', 'floors',\n",
       "       'waterfront', 'view', 'condition', 'grade', 'sqft_above',\n",
       "       'sqft_basement', 'lat', 'long', 'sqft_living15', 'sqft_lot15',\n",
       "       'sale_year', 'sale_month', 'house_age', 'years_since_renovation',\n",
       "       'zipcode_0', 'zipcode_1', 'zipcode_2', 'zipcode_3', 'zipcode_4',\n",
       "       'zipcode_5', 'zipcode_6', 'zipcode_7', 'zipcode_8', 'zipcode_9',\n",
       "       'zipcode_10', 'zipcode_11', 'zipcode_12', 'zipcode_13', 'zipcode_14',\n",
       "       'zipcode_15', 'zipcode_16', 'zipcode_17', 'zipcode_18', 'zipcode_19',\n",
       "       'zipcode_20', 'zipcode_21', 'zipcode_22', 'zipcode_23', 'zipcode_24',\n",
       "       'zipcode_25', 'zipcode_26', 'zipcode_27', 'zipcode_28', 'zipcode_29',\n",
       "       'zipcode_30', 'zipcode_31', 'zipcode_32', 'zipcode_33', 'zipcode_34',\n",
       "       'zipcode_35', 'zipcode_36', 'zipcode_37', 'zipcode_38', 'zipcode_39',\n",
       "       'zipcode_40', 'zipcode_41', 'zipcode_42', 'zipcode_43', 'zipcode_44',\n",
       "       'zipcode_45', 'zipcode_46', 'zipcode_47', 'zipcode_48', 'zipcode_49',\n",
       "       'zipcode_50', 'zipcode_51', 'zipcode_52', 'zipcode_53', 'zipcode_54',\n",
       "       'zipcode_55', 'zipcode_56', 'zipcode_57', 'zipcode_58', 'zipcode_59',\n",
       "       'zipcode_60', 'zipcode_61', 'zipcode_62', 'zipcode_63', 'zipcode_64',\n",
       "       'zipcode_65', 'zipcode_66', 'zipcode_67', 'zipcode_68', 'zipcode_69'],\n",
       "      dtype='object')"
      ]
     },
     "execution_count": 25,
     "metadata": {},
     "output_type": "execute_result"
    }
   ],
   "source": [
    "X.columns"
   ]
  },
  {
   "cell_type": "code",
   "execution_count": 26,
   "id": "10a494c3-505f-4277-b8cb-1d7a68b39892",
   "metadata": {},
   "outputs": [
    {
     "data": {
      "text/plain": [
       "Index(['bedrooms', 'bathrooms', 'sqft_living', 'sqft_lot', 'floors',\n",
       "       'waterfront', 'view', 'condition', 'grade', 'sqft_above',\n",
       "       'sqft_basement', 'lat', 'long', 'sqft_living15', 'sqft_lot15',\n",
       "       'sale_year', 'sale_month', 'house_age', 'years_since_renovation',\n",
       "       'zipcode_0', 'zipcode_1', 'zipcode_2', 'zipcode_3', 'zipcode_4',\n",
       "       'zipcode_5', 'zipcode_6', 'zipcode_7', 'zipcode_8', 'zipcode_9',\n",
       "       'zipcode_10', 'zipcode_11', 'zipcode_12', 'zipcode_13', 'zipcode_14',\n",
       "       'zipcode_15', 'zipcode_16', 'zipcode_17', 'zipcode_18', 'zipcode_19',\n",
       "       'zipcode_20', 'zipcode_21', 'zipcode_22', 'zipcode_23', 'zipcode_24',\n",
       "       'zipcode_25', 'zipcode_26', 'zipcode_27', 'zipcode_28', 'zipcode_29',\n",
       "       'zipcode_30', 'zipcode_31', 'zipcode_32', 'zipcode_33', 'zipcode_34',\n",
       "       'zipcode_35', 'zipcode_36', 'zipcode_37', 'zipcode_38', 'zipcode_39',\n",
       "       'zipcode_40', 'zipcode_41', 'zipcode_42', 'zipcode_43', 'zipcode_44',\n",
       "       'zipcode_45', 'zipcode_46', 'zipcode_47', 'zipcode_48', 'zipcode_49',\n",
       "       'zipcode_50', 'zipcode_51', 'zipcode_52', 'zipcode_53', 'zipcode_54',\n",
       "       'zipcode_55', 'zipcode_56', 'zipcode_57', 'zipcode_58', 'zipcode_59',\n",
       "       'zipcode_60', 'zipcode_61', 'zipcode_62', 'zipcode_63', 'zipcode_64',\n",
       "       'zipcode_65', 'zipcode_66', 'zipcode_67', 'zipcode_68', 'zipcode_69'],\n",
       "      dtype='object')"
      ]
     },
     "execution_count": 26,
     "metadata": {},
     "output_type": "execute_result"
    }
   ],
   "source": [
    "test_df_processed.columns"
   ]
  },
  {
   "cell_type": "code",
   "execution_count": 27,
   "id": "ed5114bd-cfa6-41dc-b9e1-5b2f5707bcf4",
   "metadata": {},
   "outputs": [],
   "source": [
    "# Ensure the order of columns matches\n",
    "test_df_processed = test_df_processed[X.columns]"
   ]
  },
  {
   "cell_type": "code",
   "execution_count": 28,
   "id": "7833c498-fd9a-4c33-bbe1-195e4d42a249",
   "metadata": {},
   "outputs": [],
   "source": [
    "# Make predictions with the final model\n",
    "y_test_pred = rf_model_final.predict(test_df_processed)"
   ]
  },
  {
   "cell_type": "code",
   "execution_count": 29,
   "id": "ea9c02ba-99b3-4fcd-b8ff-ccae69c32a54",
   "metadata": {},
   "outputs": [
    {
     "data": {
      "text/html": [
       "<div>\n",
       "<style scoped>\n",
       "    .dataframe tbody tr th:only-of-type {\n",
       "        vertical-align: middle;\n",
       "    }\n",
       "\n",
       "    .dataframe tbody tr th {\n",
       "        vertical-align: top;\n",
       "    }\n",
       "\n",
       "    .dataframe thead th {\n",
       "        text-align: right;\n",
       "    }\n",
       "</style>\n",
       "<table border=\"1\" class=\"dataframe\">\n",
       "  <thead>\n",
       "    <tr style=\"text-align: right;\">\n",
       "      <th></th>\n",
       "      <th>Predicted Price</th>\n",
       "    </tr>\n",
       "  </thead>\n",
       "  <tbody>\n",
       "    <tr>\n",
       "      <th>0</th>\n",
       "      <td>5.17595</td>\n",
       "    </tr>\n",
       "    <tr>\n",
       "      <th>1</th>\n",
       "      <td>7.57000</td>\n",
       "    </tr>\n",
       "    <tr>\n",
       "      <th>2</th>\n",
       "      <td>10.43850</td>\n",
       "    </tr>\n",
       "    <tr>\n",
       "      <th>3</th>\n",
       "      <td>2.73415</td>\n",
       "    </tr>\n",
       "    <tr>\n",
       "      <th>4</th>\n",
       "      <td>4.23250</td>\n",
       "    </tr>\n",
       "  </tbody>\n",
       "</table>\n",
       "</div>"
      ],
      "text/plain": [
       "   Predicted Price\n",
       "0          5.17595\n",
       "1          7.57000\n",
       "2         10.43850\n",
       "3          2.73415\n",
       "4          4.23250"
      ]
     },
     "execution_count": 29,
     "metadata": {},
     "output_type": "execute_result"
    }
   ],
   "source": [
    "# Save output as csv file\n",
    "submission_df = pd.DataFrame(y_test_pred, columns=['Predicted Price'])\n",
    "submission_df.to_csv('dataset/submission.csv', index=False)\n",
    "\n",
    "submission_df.head()"
   ]
  },
  {
   "cell_type": "markdown",
   "id": "e2897054-bc8a-488d-b6a3-f8a5ba0eddb4",
   "metadata": {},
   "source": [
    "## Hint - Final evaluation metrics\n",
    "Please use the below function named 'model_evaluation' in order to calculate the evaluation metrics."
   ]
  },
  {
   "cell_type": "code",
   "execution_count": null,
   "id": "89081167",
   "metadata": {},
   "outputs": [],
   "source": [
    "from sklearn.metrics import mean_squared_error\n",
    "def evaluation_metrics(gt,pred):\n",
    "    # gt: actual labels for the test data\n",
    "    # pred: student's prediction for the test data\n",
    "    score = np.sqrt(mean_squared_error(gt, pred))\n",
    "    return score"
   ]
  }
 ],
 "metadata": {
  "kernelspec": {
   "display_name": "Python 3 (ipykernel)",
   "language": "python",
   "name": "python3"
  },
  "language_info": {
   "codemirror_mode": {
    "name": "ipython",
    "version": 3
   },
   "file_extension": ".py",
   "mimetype": "text/x-python",
   "name": "python",
   "nbconvert_exporter": "python",
   "pygments_lexer": "ipython3",
   "version": "3.11.6"
  }
 },
 "nbformat": 4,
 "nbformat_minor": 5
}
