{
 "cells": [
  {
   "cell_type": "markdown",
   "id": "ee352acf-3f19-48e6-88fa-8de6a82d5d93",
   "metadata": {},
   "source": [
    "For the hypothesis testing, we used the following null and alternative hypotheses test:\n",
    "\n",
    "### Hypotheses Test:\n",
    "1. **Global Hypotheses:**\n",
    "   - **Null Hypothesis (H0):** The control group has a lifetime value greater than or equal to the variant group.\n",
    "     - $H0: \\mu_{\\text{control}} \\geq \\mu_{\\text{variant}} $\n",
    "   - **Alternative Hypothesis (H1):** The variant group has a higher lifetime value than the control group.\n",
    "     - $H1: \\mu_{\\text{control}} < \\mu_{\\text{variant}}$\n",
    "\n",
    "2. **Country-Specific Hypotheses:**\n",
    "   - **Null Hypothesis (H0):** The control group in each country has a lifetime value greater than or equal to the variant group in that country.\n",
    "     - $ H0: \\mu_{\\text{control, country}} \\geq \\mu_{\\text{variant, country}} $\n",
    "   - **Alternative Hypothesis (H1):** The variant group in each country has a higher lifetime value than the control group in that country.\n",
    "     - $ H1: \\mu_{\\text{control, country}} < \\mu_{\\text{variant, country}} $\n",
    "\n",
    "### Tests Conducted:\n",
    "1. **Global Tests:**\n",
    "   - Variant 1 vs Control\n",
    "   - Variant 2 vs Control\n",
    "\n",
    "2. **Country-Specific Tests:**\n",
    "   - For each country (Denmark, Finland, Norway, Sweden), we conducted:\n",
    "     - Variant 1 vs Control\n",
    "     - Variant 2 vs Control\n",
    "\n",
    "The p-values from these tests were used to determine if there is a statistically significant higher effect in the variant groups compared to the control group. "
   ]
  },
  {
   "cell_type": "markdown",
   "id": "834cf5db-122d-4072-ba25-4f30a9ec03ab",
   "metadata": {},
   "source": [
    "## Steps\n",
    "\n",
    "1. **Understand the Data**:\n",
    "   - Load the CSV file to inspect the structure, content, and column names.\n",
    "   - Identify key columns related to the experiment, such as session data, sign-up data, variant groups, and any other relevant metrics.\n",
    "\n",
    "2. **Data Cleaning and Preparation**:\n",
    "   - Check for missing values and handle them appropriately.\n",
    "   - Convert data types if necessary (e.g., dates, numeric values).\n",
    "   - Ensure that the variant groups are correctly labeled.\n",
    "\n",
    "3. **Descriptive Analysis**:\n",
    "   - Generate summary statistics for the key metrics, such as number of sessions, sign-ups, and subscription types for each variant group.\n",
    "   - Visualize the data to understand distribution and trends (e.g., histograms, bar charts, box plots).\n",
    "\n",
    "4. **Hypothesis Testing**:\n",
    "   - Perform a hypothesis test to determine if the new variants (Variant 1 and Variant 2) have a statistically significant higher effect than the control group.\n",
    "   - Conduct this test both globally and per country.\n",
    "     \n",
    "5. **Lifetime Value Analysis**:\n",
    "   - Calculate the average lifetime value (LTV) for each variant based on subscription types.\n",
    "   - Compare the LTV across different variants and markets.\n",
    "\n",
    "6. **Recommendation**:\n",
    "   - Provide a recommendation based on the statistical analysis and LTV comparison."
   ]
  },
  {
   "cell_type": "code",
   "execution_count": 27,
   "id": "ab9e0916-1ba1-452d-a9e8-97b10d499e32",
   "metadata": {},
   "outputs": [],
   "source": [
    "import pandas as pd\n",
    "import matplotlib.pyplot as plt\n",
    "import seaborn as sns\n",
    "from scipy.stats import ttest_ind, chi2_contingency\n",
    "import scipy.stats as stats\n",
    "import statsmodels.api as sm\n",
    "from statsmodels.formula.api import ols\n",
    "import warnings\n",
    "warnings.filterwarnings(\"ignore\")"
   ]
  },
  {
   "cell_type": "markdown",
   "id": "079b86ce-cb87-4229-b1ae-86d4a82b9b1e",
   "metadata": {},
   "source": [
    "### 1. Understand the Data"
   ]
  },
  {
   "cell_type": "code",
   "execution_count": 28,
   "id": "2f561dff-7e0e-477a-8f3b-956c15019e91",
   "metadata": {},
   "outputs": [
    {
     "data": {
      "text/html": [
       "<div>\n",
       "<style scoped>\n",
       "    .dataframe tbody tr th:only-of-type {\n",
       "        vertical-align: middle;\n",
       "    }\n",
       "\n",
       "    .dataframe tbody tr th {\n",
       "        vertical-align: top;\n",
       "    }\n",
       "\n",
       "    .dataframe thead th {\n",
       "        text-align: right;\n",
       "    }\n",
       "</style>\n",
       "<table border=\"1\" class=\"dataframe\">\n",
       "  <thead>\n",
       "    <tr style=\"text-align: right;\">\n",
       "      <th></th>\n",
       "      <th>Session ID</th>\n",
       "      <th>User ID</th>\n",
       "      <th>Market</th>\n",
       "      <th>Sign-up</th>\n",
       "      <th>Experiment ID</th>\n",
       "      <th>Variant ID</th>\n",
       "      <th>Sign-up.1</th>\n",
       "      <th>Value</th>\n",
       "    </tr>\n",
       "  </thead>\n",
       "  <tbody>\n",
       "    <tr>\n",
       "      <th>0</th>\n",
       "      <td>00M212V931W6DC5DALM7</td>\n",
       "      <td>3QZEHA311RQSK7ID0H</td>\n",
       "      <td>Finland</td>\n",
       "      <td>1</td>\n",
       "      <td>Experiment037</td>\n",
       "      <td>Control</td>\n",
       "      <td>free</td>\n",
       "      <td>3120.0</td>\n",
       "    </tr>\n",
       "    <tr>\n",
       "      <th>1</th>\n",
       "      <td>0J6GFFMMBSSBZFTWOF18</td>\n",
       "      <td>043SEM0X4FV973ZIPM</td>\n",
       "      <td>Finland</td>\n",
       "      <td>0</td>\n",
       "      <td>Experiment037</td>\n",
       "      <td>Control</td>\n",
       "      <td>NaN</td>\n",
       "      <td>NaN</td>\n",
       "    </tr>\n",
       "    <tr>\n",
       "      <th>2</th>\n",
       "      <td>0KYADXYXJZ6KM49XP660</td>\n",
       "      <td>ZZDBFBODKL9ZK6SXZ6</td>\n",
       "      <td>Norway</td>\n",
       "      <td>0</td>\n",
       "      <td>Experiment037</td>\n",
       "      <td>Control</td>\n",
       "      <td>NaN</td>\n",
       "      <td>NaN</td>\n",
       "    </tr>\n",
       "    <tr>\n",
       "      <th>3</th>\n",
       "      <td>0P97RAV2R97M8Z00JRAD</td>\n",
       "      <td>AL5X9B2NM5F99JFGK0</td>\n",
       "      <td>Finland</td>\n",
       "      <td>0</td>\n",
       "      <td>Experiment037</td>\n",
       "      <td>Control</td>\n",
       "      <td>NaN</td>\n",
       "      <td>NaN</td>\n",
       "    </tr>\n",
       "    <tr>\n",
       "      <th>4</th>\n",
       "      <td>GON81V71I22PUDU188A9</td>\n",
       "      <td>WSN8JH5A07M6M8P6RB</td>\n",
       "      <td>Denmark</td>\n",
       "      <td>1</td>\n",
       "      <td>Experiment037</td>\n",
       "      <td>Variant 1</td>\n",
       "      <td>free</td>\n",
       "      <td>3120.0</td>\n",
       "    </tr>\n",
       "  </tbody>\n",
       "</table>\n",
       "</div>"
      ],
      "text/plain": [
       "             Session ID             User ID   Market  Sign-up  Experiment ID  \\\n",
       "0  00M212V931W6DC5DALM7  3QZEHA311RQSK7ID0H  Finland        1  Experiment037   \n",
       "1  0J6GFFMMBSSBZFTWOF18  043SEM0X4FV973ZIPM  Finland        0  Experiment037   \n",
       "2  0KYADXYXJZ6KM49XP660  ZZDBFBODKL9ZK6SXZ6   Norway        0  Experiment037   \n",
       "3  0P97RAV2R97M8Z00JRAD  AL5X9B2NM5F99JFGK0  Finland        0  Experiment037   \n",
       "4  GON81V71I22PUDU188A9  WSN8JH5A07M6M8P6RB  Denmark        1  Experiment037   \n",
       "\n",
       "  Variant ID Sign-up.1   Value  \n",
       "0    Control      free  3120.0  \n",
       "1    Control       NaN     NaN  \n",
       "2    Control       NaN     NaN  \n",
       "3    Control       NaN     NaN  \n",
       "4  Variant 1      free  3120.0  "
      ]
     },
     "execution_count": 28,
     "metadata": {},
     "output_type": "execute_result"
    }
   ],
   "source": [
    "# Load the CSV file\n",
    "file_path = 'Merged session_data and Signup_data.csv'\n",
    "data = pd.read_csv(file_path)\n",
    "\n",
    "# Display the first few rows of the dataframe to understand its structure\n",
    "data.head()"
   ]
  },
  {
   "cell_type": "markdown",
   "id": "b6523053-bb6b-472f-a7c8-9661e5bbf9bc",
   "metadata": {},
   "source": [
    "#### Data Overview\n",
    "\n",
    "The dataset contains the following columns:\n",
    "- `Session ID`: Unique identifier for each session.\n",
    "- `User ID`: Unique identifier for each user.\n",
    "- `Market`: Geographic market of the user.\n",
    "- `Sign-up`: Indicator if the user signed up (1 if yes, 0 if no).\n",
    "- `Experiment ID`: Identifier for the experiment (Experiment037).\n",
    "- `Variant ID`: Indicates the variant group (Control, Variant 1, Variant 2).\n",
    "- `Sign-up.1`: Subscription type (e.g., free).\n",
    "- `Value`: Estimated lifetime value."
   ]
  },
  {
   "cell_type": "markdown",
   "id": "6c202931-4492-48d4-827e-4a378037bd2d",
   "metadata": {},
   "source": [
    "### 2. Data Cleaning and Preparation"
   ]
  },
  {
   "cell_type": "code",
   "execution_count": 29,
   "id": "4406d2d9-412f-4ed9-8852-a160ee30ed2a",
   "metadata": {},
   "outputs": [
    {
     "data": {
      "text/plain": [
       "Session ID           0\n",
       "User ID              0\n",
       "Market               0\n",
       "Sign-up              0\n",
       "Experiment ID        0\n",
       "Variant ID           0\n",
       "Sign-up.1        20876\n",
       "Value            20876\n",
       "dtype: int64"
      ]
     },
     "execution_count": 29,
     "metadata": {},
     "output_type": "execute_result"
    }
   ],
   "source": [
    "# Check for missing values\n",
    "missing_values = data.isnull().sum()\n",
    "missing_values"
   ]
  },
  {
   "cell_type": "markdown",
   "id": "26f40006-f958-4d7a-a2e9-bfb7a8b391bf",
   "metadata": {},
   "source": [
    "The dataset has missing values in the `Sign-up.1` and `Value` columns. Since these columns are essential for subscription and lifetime value analysis, we will handle these missing values appropriately."
   ]
  },
  {
   "cell_type": "markdown",
   "id": "36e8807d-d451-4a61-b4d4-7d5d61f8ea36",
   "metadata": {},
   "source": [
    "**a. Sign-up.1 Column:**\n",
    "This column likely indicates the type of subscription. Missing values here may indicate users who did not sign up for a subscription. We can confirm this by checking the Sign-up column.\n",
    "\n",
    "**b. Value Column:**\n",
    "This column represents the lifetime value associated with the subscription type. Missing values here correspond to users who do not have a subscription."
   ]
  },
  {
   "cell_type": "code",
   "execution_count": 30,
   "id": "87e2a849-0b9b-4901-927c-c7c55d43e477",
   "metadata": {},
   "outputs": [],
   "source": [
    "# Convert 'Sign-up' and 'Value' columns to appropriate data types\n",
    "data['Sign-up'] = data['Sign-up'].astype('int')\n",
    "data['Value'] = pd.to_numeric(data['Value'], errors='coerce')\n",
    "\n",
    "# Fill missing values in 'Sign-up.1' with 'none' and in 'Value' with 0\n",
    "data['Sign-up.1'].fillna('none', inplace=True)\n",
    "data['Value'].fillna(0, inplace=True)"
   ]
  },
  {
   "cell_type": "code",
   "execution_count": 31,
   "id": "d0f5082e-e66d-4d47-a4f8-d7a7adbd6da8",
   "metadata": {},
   "outputs": [
    {
     "data": {
      "text/plain": [
       "Session ID       0\n",
       "User ID          0\n",
       "Market           0\n",
       "Sign-up          0\n",
       "Experiment ID    0\n",
       "Variant ID       0\n",
       "Sign-up.1        0\n",
       "Value            0\n",
       "dtype: int64"
      ]
     },
     "execution_count": 31,
     "metadata": {},
     "output_type": "execute_result"
    }
   ],
   "source": [
    "# Verify if missing values are handled\n",
    "missing_values_after = data.isnull().sum()\n",
    "\n",
    "# Display missing values after handling\n",
    "missing_values_after"
   ]
  },
  {
   "cell_type": "markdown",
   "id": "72646d32-9e87-4697-853c-9ce3569bcfac",
   "metadata": {},
   "source": [
    "All missing values have been handled successfully."
   ]
  },
  {
   "cell_type": "code",
   "execution_count": 32,
   "id": "6e4751f9-ee9a-423c-97eb-5c2f98969401",
   "metadata": {},
   "outputs": [
    {
     "data": {
      "text/plain": [
       "Session ID        object\n",
       "User ID           object\n",
       "Market            object\n",
       "Sign-up            int32\n",
       "Experiment ID     object\n",
       "Variant ID        object\n",
       "Sign-up.1         object\n",
       "Value            float64\n",
       "dtype: object"
      ]
     },
     "execution_count": 32,
     "metadata": {},
     "output_type": "execute_result"
    }
   ],
   "source": [
    "# Verify the data types after conversion\n",
    "data_types = data.dtypes\n",
    "data_types"
   ]
  },
  {
   "cell_type": "markdown",
   "id": "2adb5fd4-a396-4410-ae71-72167e403409",
   "metadata": {},
   "source": [
    "#### Data Cleaning Summary\n",
    "\n",
    "- Missing values are present in the `Sign-up.1` and `Value` columns.\n",
    "  - `Sign-up.1` has 20,876 missing values.\n",
    "  - `Value` has been filled with 0 where missing, indicating no value."
   ]
  },
  {
   "cell_type": "markdown",
   "id": "b7a4263b-2571-456d-bdba-aae16383db21",
   "metadata": {},
   "source": [
    "### 3. Descriptive Analysis"
   ]
  },
  {
   "cell_type": "code",
   "execution_count": 33,
   "id": "26c40ec6-731e-4966-b8b5-e1b1e3ed3464",
   "metadata": {},
   "outputs": [
    {
     "data": {
      "text/html": [
       "<div>\n",
       "<style scoped>\n",
       "    .dataframe tbody tr th:only-of-type {\n",
       "        vertical-align: middle;\n",
       "    }\n",
       "\n",
       "    .dataframe tbody tr th {\n",
       "        vertical-align: top;\n",
       "    }\n",
       "\n",
       "    .dataframe thead th {\n",
       "        text-align: right;\n",
       "    }\n",
       "</style>\n",
       "<table border=\"1\" class=\"dataframe\">\n",
       "  <thead>\n",
       "    <tr style=\"text-align: right;\">\n",
       "      <th></th>\n",
       "      <th>Sign-up</th>\n",
       "      <th>Value</th>\n",
       "    </tr>\n",
       "  </thead>\n",
       "  <tbody>\n",
       "    <tr>\n",
       "      <th>count</th>\n",
       "      <td>24465.000000</td>\n",
       "      <td>24465.000000</td>\n",
       "    </tr>\n",
       "    <tr>\n",
       "      <th>mean</th>\n",
       "      <td>0.146699</td>\n",
       "      <td>822.976497</td>\n",
       "    </tr>\n",
       "    <tr>\n",
       "      <th>std</th>\n",
       "      <td>0.353813</td>\n",
       "      <td>2941.162581</td>\n",
       "    </tr>\n",
       "    <tr>\n",
       "      <th>min</th>\n",
       "      <td>0.000000</td>\n",
       "      <td>0.000000</td>\n",
       "    </tr>\n",
       "    <tr>\n",
       "      <th>25%</th>\n",
       "      <td>0.000000</td>\n",
       "      <td>0.000000</td>\n",
       "    </tr>\n",
       "    <tr>\n",
       "      <th>50%</th>\n",
       "      <td>0.000000</td>\n",
       "      <td>0.000000</td>\n",
       "    </tr>\n",
       "    <tr>\n",
       "      <th>75%</th>\n",
       "      <td>0.000000</td>\n",
       "      <td>0.000000</td>\n",
       "    </tr>\n",
       "    <tr>\n",
       "      <th>max</th>\n",
       "      <td>1.000000</td>\n",
       "      <td>21800.000000</td>\n",
       "    </tr>\n",
       "  </tbody>\n",
       "</table>\n",
       "</div>"
      ],
      "text/plain": [
       "            Sign-up         Value\n",
       "count  24465.000000  24465.000000\n",
       "mean       0.146699    822.976497\n",
       "std        0.353813   2941.162581\n",
       "min        0.000000      0.000000\n",
       "25%        0.000000      0.000000\n",
       "50%        0.000000      0.000000\n",
       "75%        0.000000      0.000000\n",
       "max        1.000000  21800.000000"
      ]
     },
     "execution_count": 33,
     "metadata": {},
     "output_type": "execute_result"
    }
   ],
   "source": [
    "# Summary statistics for sign-ups and lifetime values\n",
    "summary_stats = data[['Sign-up', 'Value']].describe()\n",
    "summary_stats"
   ]
  },
  {
   "cell_type": "code",
   "execution_count": 34,
   "id": "53f5d4b5-f454-43b7-8069-67ac5c7e5763",
   "metadata": {},
   "outputs": [
    {
     "data": {
      "text/plain": [
       "Variant ID\n",
       "Control      8433\n",
       "Variant 2    8048\n",
       "Variant 1    7984\n",
       "Name: count, dtype: int64"
      ]
     },
     "execution_count": 34,
     "metadata": {},
     "output_type": "execute_result"
    }
   ],
   "source": [
    "# Overall counts of users in each variant group\n",
    "variant_counts = data['Variant ID'].value_counts()\n",
    "variant_counts"
   ]
  },
  {
   "cell_type": "code",
   "execution_count": 35,
   "id": "a71a3081-ee61-41d8-a3c2-7ab21f387f54",
   "metadata": {},
   "outputs": [
    {
     "data": {
      "text/html": [
       "<div>\n",
       "<style scoped>\n",
       "    .dataframe tbody tr th:only-of-type {\n",
       "        vertical-align: middle;\n",
       "    }\n",
       "\n",
       "    .dataframe tbody tr th {\n",
       "        vertical-align: top;\n",
       "    }\n",
       "\n",
       "    .dataframe thead th {\n",
       "        text-align: right;\n",
       "    }\n",
       "</style>\n",
       "<table border=\"1\" class=\"dataframe\">\n",
       "  <thead>\n",
       "    <tr style=\"text-align: right;\">\n",
       "      <th>Sign-up.1</th>\n",
       "      <th>advanced</th>\n",
       "      <th>basic</th>\n",
       "      <th>free</th>\n",
       "      <th>none</th>\n",
       "    </tr>\n",
       "    <tr>\n",
       "      <th>Variant ID</th>\n",
       "      <th></th>\n",
       "      <th></th>\n",
       "      <th></th>\n",
       "      <th></th>\n",
       "    </tr>\n",
       "  </thead>\n",
       "  <tbody>\n",
       "    <tr>\n",
       "      <th>Control</th>\n",
       "      <td>126</td>\n",
       "      <td>287</td>\n",
       "      <td>818</td>\n",
       "      <td>7202</td>\n",
       "    </tr>\n",
       "    <tr>\n",
       "      <th>Variant 1</th>\n",
       "      <td>140</td>\n",
       "      <td>253</td>\n",
       "      <td>786</td>\n",
       "      <td>6805</td>\n",
       "    </tr>\n",
       "    <tr>\n",
       "      <th>Variant 2</th>\n",
       "      <td>117</td>\n",
       "      <td>285</td>\n",
       "      <td>777</td>\n",
       "      <td>6869</td>\n",
       "    </tr>\n",
       "  </tbody>\n",
       "</table>\n",
       "</div>"
      ],
      "text/plain": [
       "Sign-up.1   advanced  basic  free  none\n",
       "Variant ID                             \n",
       "Control          126    287   818  7202\n",
       "Variant 1        140    253   786  6805\n",
       "Variant 2        117    285   777  6869"
      ]
     },
     "execution_count": 35,
     "metadata": {},
     "output_type": "execute_result"
    }
   ],
   "source": [
    "# Counts of sign-ups and subscription types in each variant group\n",
    "subscription_counts = data.groupby(['Variant ID', 'Sign-up.1']).size().unstack(fill_value=0)\n",
    "subscription_counts"
   ]
  },
  {
   "cell_type": "code",
   "execution_count": 36,
   "id": "8b584ba9-bd0e-4cc3-ac10-60562ab467b7",
   "metadata": {},
   "outputs": [
    {
     "data": {
      "text/html": [
       "<div>\n",
       "<style scoped>\n",
       "    .dataframe tbody tr th:only-of-type {\n",
       "        vertical-align: middle;\n",
       "    }\n",
       "\n",
       "    .dataframe tbody tr th {\n",
       "        vertical-align: top;\n",
       "    }\n",
       "\n",
       "    .dataframe thead th {\n",
       "        text-align: right;\n",
       "    }\n",
       "</style>\n",
       "<table border=\"1\" class=\"dataframe\">\n",
       "  <thead>\n",
       "    <tr style=\"text-align: right;\">\n",
       "      <th>Sign-up.1</th>\n",
       "      <th>advanced</th>\n",
       "      <th>basic</th>\n",
       "      <th>free</th>\n",
       "      <th>none</th>\n",
       "    </tr>\n",
       "    <tr>\n",
       "      <th>Market</th>\n",
       "      <th></th>\n",
       "      <th></th>\n",
       "      <th></th>\n",
       "      <th></th>\n",
       "    </tr>\n",
       "  </thead>\n",
       "  <tbody>\n",
       "    <tr>\n",
       "      <th>Denmark</th>\n",
       "      <td>134</td>\n",
       "      <td>244</td>\n",
       "      <td>734</td>\n",
       "      <td>6686</td>\n",
       "    </tr>\n",
       "    <tr>\n",
       "      <th>Finland</th>\n",
       "      <td>78</td>\n",
       "      <td>169</td>\n",
       "      <td>477</td>\n",
       "      <td>4379</td>\n",
       "    </tr>\n",
       "    <tr>\n",
       "      <th>Norway</th>\n",
       "      <td>71</td>\n",
       "      <td>176</td>\n",
       "      <td>434</td>\n",
       "      <td>3721</td>\n",
       "    </tr>\n",
       "    <tr>\n",
       "      <th>Sweden</th>\n",
       "      <td>100</td>\n",
       "      <td>236</td>\n",
       "      <td>736</td>\n",
       "      <td>6088</td>\n",
       "    </tr>\n",
       "    <tr>\n",
       "      <th>denmark</th>\n",
       "      <td>0</td>\n",
       "      <td>0</td>\n",
       "      <td>0</td>\n",
       "      <td>2</td>\n",
       "    </tr>\n",
       "  </tbody>\n",
       "</table>\n",
       "</div>"
      ],
      "text/plain": [
       "Sign-up.1  advanced  basic  free  none\n",
       "Market                                \n",
       "Denmark         134    244   734  6686\n",
       "Finland          78    169   477  4379\n",
       "Norway           71    176   434  3721\n",
       "Sweden          100    236   736  6088\n",
       "denmark           0      0     0     2"
      ]
     },
     "execution_count": 36,
     "metadata": {},
     "output_type": "execute_result"
    }
   ],
   "source": [
    "# Counts of users and subscription types in each market\n",
    "market_counts = data.groupby(['Market', 'Sign-up.1']).size().unstack(fill_value=0)\n",
    "market_counts"
   ]
  },
  {
   "cell_type": "code",
   "execution_count": 37,
   "id": "60b5206c-f79c-43cc-8373-ff2dccfbd0c8",
   "metadata": {},
   "outputs": [
    {
     "data": {
      "text/html": [
       "<div>\n",
       "<style scoped>\n",
       "    .dataframe tbody tr th:only-of-type {\n",
       "        vertical-align: middle;\n",
       "    }\n",
       "\n",
       "    .dataframe tbody tr th {\n",
       "        vertical-align: top;\n",
       "    }\n",
       "\n",
       "    .dataframe thead th {\n",
       "        text-align: right;\n",
       "    }\n",
       "</style>\n",
       "<table border=\"1\" class=\"dataframe\">\n",
       "  <thead>\n",
       "    <tr style=\"text-align: right;\">\n",
       "      <th></th>\n",
       "      <th>Variant ID</th>\n",
       "      <th>Sign-up</th>\n",
       "    </tr>\n",
       "  </thead>\n",
       "  <tbody>\n",
       "    <tr>\n",
       "      <th>0</th>\n",
       "      <td>Control</td>\n",
       "      <td>0.145974</td>\n",
       "    </tr>\n",
       "    <tr>\n",
       "      <th>1</th>\n",
       "      <td>Variant 1</td>\n",
       "      <td>0.147670</td>\n",
       "    </tr>\n",
       "    <tr>\n",
       "      <th>2</th>\n",
       "      <td>Variant 2</td>\n",
       "      <td>0.146496</td>\n",
       "    </tr>\n",
       "  </tbody>\n",
       "</table>\n",
       "</div>"
      ],
      "text/plain": [
       "  Variant ID   Sign-up\n",
       "0    Control  0.145974\n",
       "1  Variant 1  0.147670\n",
       "2  Variant 2  0.146496"
      ]
     },
     "execution_count": 37,
     "metadata": {},
     "output_type": "execute_result"
    }
   ],
   "source": [
    "# Distribution of sign-ups across variant groups\n",
    "sign_up_distribution = data.groupby('Variant ID')['Sign-up'].mean().reset_index()\n",
    "sign_up_distribution"
   ]
  },
  {
   "cell_type": "code",
   "execution_count": 38,
   "id": "1ee6974e-0767-4460-92cd-e74ccc5a77ac",
   "metadata": {},
   "outputs": [
    {
     "data": {
      "text/html": [
       "<div>\n",
       "<style scoped>\n",
       "    .dataframe tbody tr th:only-of-type {\n",
       "        vertical-align: middle;\n",
       "    }\n",
       "\n",
       "    .dataframe tbody tr th {\n",
       "        vertical-align: top;\n",
       "    }\n",
       "\n",
       "    .dataframe thead th {\n",
       "        text-align: right;\n",
       "    }\n",
       "</style>\n",
       "<table border=\"1\" class=\"dataframe\">\n",
       "  <thead>\n",
       "    <tr style=\"text-align: right;\">\n",
       "      <th></th>\n",
       "      <th>Variant ID</th>\n",
       "      <th>Value</th>\n",
       "    </tr>\n",
       "  </thead>\n",
       "  <tbody>\n",
       "    <tr>\n",
       "      <th>0</th>\n",
       "      <td>Control</td>\n",
       "      <td>808.054073</td>\n",
       "    </tr>\n",
       "    <tr>\n",
       "      <th>1</th>\n",
       "      <td>Variant 1</td>\n",
       "      <td>856.733467</td>\n",
       "    </tr>\n",
       "    <tr>\n",
       "      <th>2</th>\n",
       "      <td>Variant 2</td>\n",
       "      <td>805.124254</td>\n",
       "    </tr>\n",
       "  </tbody>\n",
       "</table>\n",
       "</div>"
      ],
      "text/plain": [
       "  Variant ID       Value\n",
       "0    Control  808.054073\n",
       "1  Variant 1  856.733467\n",
       "2  Variant 2  805.124254"
      ]
     },
     "execution_count": 38,
     "metadata": {},
     "output_type": "execute_result"
    }
   ],
   "source": [
    "# Distribution of lifetime values across variant groups\n",
    "value_distribution = data.groupby('Variant ID')['Value'].mean().reset_index()\n",
    "value_distribution"
   ]
  },
  {
   "cell_type": "code",
   "execution_count": 39,
   "id": "dcb6dafc-fc05-4da8-8f03-7d45c2f40225",
   "metadata": {},
   "outputs": [
    {
     "data": {
      "image/png": "[encoded data removed]",
      "text/plain": [
       "<Figure size 1400x600 with 2 Axes>"
      ]
     },
     "metadata": {},
     "output_type": "display_data"
    }
   ],
   "source": [
    "# Plotting\n",
    "fig, axes = plt.subplots(1, 2, figsize=(14, 6))\n",
    "\n",
    "# Sign-up distribution plot\n",
    "sns.barplot(x='Variant ID', y='Sign-up', data=sign_up_distribution, ax=axes[0])\n",
    "axes[0].set_title('Average Sign-ups by Variant Group')\n",
    "axes[0].set_ylabel('Average Sign-ups')\n",
    "axes[0].set_xlabel('Variant Group')\n",
    "\n",
    "# Lifetime value distribution plot\n",
    "sns.barplot(x='Variant ID', y='Value', data=value_distribution, ax=axes[1])\n",
    "axes[1].set_title('Average Lifetime Value by Variant Group')\n",
    "axes[1].set_ylabel('Average Lifetime Value')\n",
    "axes[1].set_xlabel('Variant Group')\n",
    "\n",
    "plt.tight_layout()\n",
    "plt.show()"
   ]
  },
  {
   "cell_type": "markdown",
   "id": "f673bd2b-0a9c-44c6-b1d5-b4b161451f74",
   "metadata": {},
   "source": [
    "#### Descriptive Analysis Summary\n",
    "\n",
    "1. **Summary Statistics**:\n",
    "   - The average sign-up rate across all sessions is approximately 0.147 (or 14.7%).\n",
    "   - The average lifetime value is approximately 823.\n",
    "   - Both metrics exhibit significant variation, as indicated by their standard deviations.\n",
    "\n",
    "2. **Sign-up Distribution by Variant Group**:\n",
    "   - Control: Average sign-up rate is 14.6%.\n",
    "   - Variant 1: Average sign-up rate is 14.8%.\n",
    "   - Variant 2: Average sign-up rate is 14.6%.\n",
    "\n",
    "3. **Lifetime Value Distribution by Variant Group**:\n",
    "   - Control: Average lifetime value is 808.\n",
    "   - Variant 1: Average lifetime value is 857.\n",
    "   - Variant 2: Average lifetime value is 805.\n",
    "  \n",
    "#### Insights\n",
    "- Variant 1 shows a slightly higher average sign-up rate and lifetime value compared to the Control and Variant 2 groups."
   ]
  },
  {
   "cell_type": "markdown",
   "id": "3ac73d70-aa84-4784-b6fb-d7018f66f2e7",
   "metadata": {},
   "source": [
    "### 4. Hypothesis Testing\n",
    "\n",
    "We will conduct hypothesis tests to determine if the new variants (Variant 1 and Variant 2) have a statistically significant higher effect than the control group.\n",
    "\n",
    "**a. Global Analysis:**\n",
    "Compare each variant to the control group using a test.\n",
    "\n",
    "**b. Country-specific Analysis:**\n",
    "Perform the same test for each country (Denmark, Finland, Norway, Sweden)."
   ]
  },
  {
   "cell_type": "code",
   "execution_count": 40,
   "id": "cba171da-cc93-4c74-bb9b-a348e0808ddc",
   "metadata": {},
   "outputs": [],
   "source": [
    "# Function to perform hypothesis test\n",
    "def one_sided_t_test(control, variant):\n",
    "    t_stat, p_value = stats.ttest_ind(control, variant, alternative='less')\n",
    "    return t_stat, p_value"
   ]
  },
  {
   "cell_type": "code",
   "execution_count": 41,
   "id": "4217999b-26da-410e-9068-dfa37ec4f17a",
   "metadata": {},
   "outputs": [],
   "source": [
    "# Extracting LTV values for each variant group\n",
    "control_values = data[data['Variant ID'] == 'Control']['Value']\n",
    "variant1_values = data[data['Variant ID'] == 'Variant 1']['Value']\n",
    "variant2_values = data[data['Variant ID'] == 'Variant 2']['Value']"
   ]
  },
  {
   "cell_type": "code",
   "execution_count": 42,
   "id": "8d46973e-903b-4f05-95d4-3c32791736c9",
   "metadata": {},
   "outputs": [],
   "source": [
    "# Perform t-tests\n",
    "t_stat_variant1, p_value_variant1 = one_sided_t_test(control_values, variant1_values)\n",
    "t_stat_variant2, p_value_variant2 = one_sided_t_test(control_values, variant2_values)"
   ]
  },
  {
   "cell_type": "code",
   "execution_count": 43,
   "id": "54a4ee45-eadd-4c63-8b47-4e6106307dc9",
   "metadata": {},
   "outputs": [
    {
     "name": "stdout",
     "output_type": "stream",
     "text": [
      "T-statistic for Variant 1:  -1.0463258710721886\n",
      "P-Value for Variant 1:  0.14771300572742718\n",
      "T-statistic for Variant 2:  0.06538956944168291\n",
      "P-Value for Variant :  0.5260676890601355\n"
     ]
    }
   ],
   "source": [
    "print(\"T-statistic for Variant 1: \", t_stat_variant1)\n",
    "print(\"P-Value for Variant 1: \", p_value_variant1)\n",
    "print(\"T-statistic for Variant 2: \", t_stat_variant2)\n",
    "print(\"P-Value for Variant : \", p_value_variant2)"
   ]
  },
  {
   "cell_type": "code",
   "execution_count": 44,
   "id": "c54bf947-2b53-4b83-8fb5-7ffe360a64d4",
   "metadata": {},
   "outputs": [],
   "source": [
    "# Function to perform hypothesis test for each country\n",
    "def country_specific_t_tests(data, country):\n",
    "    control_values = data[(data['Variant ID'] == 'Control') & (data['Market'] == country)]['Value']\n",
    "    variant1_values = data[(data['Variant ID'] == 'Variant 1') & (data['Market'] == country)]['Value']\n",
    "    variant2_values = data[(data['Variant ID'] == 'Variant 2') & (data['Market'] == country)]['Value']\n",
    "    \n",
    "    t_stat_variant1, p_value_variant1 = one_sided_t_test(control_values, variant1_values)\n",
    "    t_stat_variant2, p_value_variant2 = one_sided_t_test(control_values, variant2_values)\n",
    "    \n",
    "    return (t_stat_variant1, p_value_variant1, t_stat_variant2, p_value_variant2)"
   ]
  },
  {
   "cell_type": "code",
   "execution_count": 45,
   "id": "98a7ceff-bb77-4109-a28f-da103e1e850c",
   "metadata": {},
   "outputs": [
    {
     "data": {
      "text/plain": [
       "{'Finland': (0.1348453333051273,\n",
       "  0.5536289903412512,\n",
       "  0.16021552661615032,\n",
       "  0.5636396891311314),\n",
       " 'Norway': (0.5693997738972019,\n",
       "  0.7154360783342162,\n",
       "  0.21175485734280847,\n",
       "  0.5838435689495112),\n",
       " 'Denmark': (-0.9276178724784763,\n",
       "  0.1768243186948873,\n",
       "  0.954271730790715,\n",
       "  0.8300049044153335),\n",
       " 'Sweden': (-1.6050041512928328,\n",
       "  0.054279691197836384,\n",
       "  -1.3014427318505093,\n",
       "  0.09658466862143056),\n",
       " 'denmark': (nan, nan, nan, nan)}"
      ]
     },
     "execution_count": 45,
     "metadata": {},
     "output_type": "execute_result"
    }
   ],
   "source": [
    "# List of countries\n",
    "countries = data['Market'].unique()\n",
    "\n",
    "# Perform t-tests for each country\n",
    "country_test_results = {country: country_specific_t_tests(data, country) for country in countries}\n",
    "\n",
    "# Display the results\n",
    "country_test_results"
   ]
  },
  {
   "cell_type": "markdown",
   "id": "3fda6a0d-690e-4895-8d5b-9fc2eb601656",
   "metadata": {},
   "source": [
    "#### Results of Hypothesis Testing:\n",
    "1. **Global Analysis**:\n",
    "    - Variant 1 vs Control:\n",
    "        - T-statistic: -1.046\n",
    "        - P-value: 0.148\n",
    "    - Variant 2 vs Control:\n",
    "        - T-statistic: 0.065\n",
    "        - P-value: 0.526\n",
    "\n",
    "2. **Country-Specific**:\n",
    "   \n",
    "    **a. Finland:**\n",
    "    - Variant 1 vs Control:\n",
    "        - T-statistic: 0.135\n",
    "        - P-value: 0.554\n",
    "    - Variant 2 vs Control:\n",
    "        - T-statistic: 0.160\n",
    "        - P-value: 0.564\n",
    "\n",
    "    **b. Norway:**\n",
    "    - Variant 1 vs Control:\n",
    "        - T-statistic: 0.569\n",
    "        - P-value: 0.715\n",
    "    - Variant 2 vs Control:\n",
    "        - T-statistic: 0.212\n",
    "        - P-value: 0.584\n",
    "\n",
    "    **c. Denmark:**\n",
    "    - Variant 1 vs Control:\n",
    "        - T-statistic: -0.928\n",
    "        - P-value: 0.177\n",
    "    - Variant 2 vs Control:\n",
    "        - T-statistic: 0.954\n",
    "        - P-value: 0.830\n",
    "\n",
    "    **d. Sweden:**\n",
    "    - Variant 1 vs Control:\n",
    "        - T-statistic: -1.605\n",
    "        - P-value: 0.054\n",
    "    - Variant 2 vs Control:\n",
    "        - T-statistic: -1.301\n",
    "        - P-value: 0.097\n",
    "\n",
    "#### Interpretation:\n",
    "- **Variant 1 vs Control**:\n",
    "\n",
    "    The p-value (0.148) is greater than the typical significance level of 0.05, indicating that we do not have sufficient evidence to reject the null hypothesis. Thus, Variant 1 does not have a statistically significant higher effect than the control group.\n",
    "\n",
    "- **Variant 2 vs Control**:\n",
    "\n",
    "    The p-value (0.526) is much greater than 0.05, indicating that Variant 2 also does not have a statistically significant higher effect than the control group.\n",
    "\n",
    "- **Finland**: Both variants do not show a statistically significant higher effect than the control group.\n",
    "- **Norway**: Both variants do not show a statistically significant higher effect than the control group.\n",
    "- **Denmark**: Both variants do not show a statistically significant higher effect than the control group.\n",
    "- **Sweden**:\n",
    "    - Variant 1 has a p-value of 0.054, which is close to the significance threshold of 0.05, suggesting a marginally significant effect, but it does not provide strong evidence.\n",
    "    - Variant 2 does not show a statistically significant higher effect than the control group."
   ]
  },
  {
   "cell_type": "markdown",
   "id": "61ab70d3-84ea-416e-92b3-1ef3cc21f19b",
   "metadata": {},
   "source": [
    "### 5. Lifetime Value (LTV) Analysis\n",
    "\n",
    "We'll calculate the average lifetime value (LTV) for each variant based on subscription types and compare the LTV across different variants and markets."
   ]
  },
  {
   "cell_type": "code",
   "execution_count": 46,
   "id": "0ee6100f-e718-4ed8-817e-9003c5d0976a",
   "metadata": {},
   "outputs": [
    {
     "data": {
      "text/plain": [
       "Variant ID\n",
       "Control      808.054073\n",
       "Variant 1    856.733467\n",
       "Variant 2    805.124254\n",
       "Name: Value, dtype: float64"
      ]
     },
     "execution_count": 46,
     "metadata": {},
     "output_type": "execute_result"
    }
   ],
   "source": [
    "# Calculate the average LTV for each variant group\n",
    "average_ltv_by_variant = data.groupby('Variant ID')['Value'].mean()\n",
    "average_ltv_by_variant"
   ]
  },
  {
   "cell_type": "code",
   "execution_count": 47,
   "id": "bba2cdda-f234-46c9-b7ef-0ab075b22965",
   "metadata": {},
   "outputs": [
    {
     "data": {
      "text/html": [
       "<div>\n",
       "<style scoped>\n",
       "    .dataframe tbody tr th:only-of-type {\n",
       "        vertical-align: middle;\n",
       "    }\n",
       "\n",
       "    .dataframe tbody tr th {\n",
       "        vertical-align: top;\n",
       "    }\n",
       "\n",
       "    .dataframe thead th {\n",
       "        text-align: right;\n",
       "    }\n",
       "</style>\n",
       "<table border=\"1\" class=\"dataframe\">\n",
       "  <thead>\n",
       "    <tr style=\"text-align: right;\">\n",
       "      <th>Variant ID</th>\n",
       "      <th>Control</th>\n",
       "      <th>Variant 1</th>\n",
       "      <th>Variant 2</th>\n",
       "    </tr>\n",
       "    <tr>\n",
       "      <th>Market</th>\n",
       "      <th></th>\n",
       "      <th></th>\n",
       "      <th></th>\n",
       "    </tr>\n",
       "  </thead>\n",
       "  <tbody>\n",
       "    <tr>\n",
       "      <th>Denmark</th>\n",
       "      <td>832.143928</td>\n",
       "      <td>913.086227</td>\n",
       "      <td>755.434359</td>\n",
       "    </tr>\n",
       "    <tr>\n",
       "      <th>Finland</th>\n",
       "      <td>809.134721</td>\n",
       "      <td>795.656442</td>\n",
       "      <td>793.296903</td>\n",
       "    </tr>\n",
       "    <tr>\n",
       "      <th>Norway</th>\n",
       "      <td>898.765432</td>\n",
       "      <td>834.940931</td>\n",
       "      <td>875.337079</td>\n",
       "    </tr>\n",
       "    <tr>\n",
       "      <th>Sweden</th>\n",
       "      <td>722.584410</td>\n",
       "      <td>850.986395</td>\n",
       "      <td>824.989622</td>\n",
       "    </tr>\n",
       "    <tr>\n",
       "      <th>denmark</th>\n",
       "      <td>0.000000</td>\n",
       "      <td>NaN</td>\n",
       "      <td>0.000000</td>\n",
       "    </tr>\n",
       "  </tbody>\n",
       "</table>\n",
       "</div>"
      ],
      "text/plain": [
       "Variant ID     Control   Variant 1   Variant 2\n",
       "Market                                        \n",
       "Denmark     832.143928  913.086227  755.434359\n",
       "Finland     809.134721  795.656442  793.296903\n",
       "Norway      898.765432  834.940931  875.337079\n",
       "Sweden      722.584410  850.986395  824.989622\n",
       "denmark       0.000000         NaN    0.000000"
      ]
     },
     "execution_count": 47,
     "metadata": {},
     "output_type": "execute_result"
    }
   ],
   "source": [
    "# Calculate the average LTV for each variant group in each market\n",
    "average_ltv_by_market_variant = data.groupby(['Market', 'Variant ID'])['Value'].mean().unstack()\n",
    "average_ltv_by_market_variant"
   ]
  },
  {
   "cell_type": "markdown",
   "id": "7774edd3-6e58-4750-bc2d-b916053e3c2c",
   "metadata": {},
   "source": [
    "#### Results:\n",
    "\n",
    "1. **Overall Average LTV by Variant:**\n",
    "   - **Control:** 808.05\n",
    "   - **Variant 1:** 856.73\n",
    "   - **Variant 2:** 805.12\n",
    "\n",
    "2. **Average LTV by Market and Variant:**\n",
    "   - **Denmark:**\n",
    "     - Control: 832.14\n",
    "     - Variant 1: 913.09\n",
    "     - Variant 2: 755.43\n",
    "   - **Finland:**\n",
    "     - Control: 809.13\n",
    "     - Variant 1: 795.66\n",
    "     - Variant 2: 793.30\n",
    "   - **Norway:**\n",
    "     - Control: 898.77\n",
    "     - Variant 1: 834.94\n",
    "     - Variant 2: 875.34\n",
    "   - **Sweden:**\n",
    "     - Control: 722.58\n",
    "     - Variant 1: 850.99\n",
    "     - Variant 2: 824.99\n",
    "\n",
    "#### Interpretation:\n",
    "- **Overall:** \n",
    "  - Variant 1 has the highest average LTV (856.73) compared to the control group and Variant 2.\n",
    "- **Denmark:**\n",
    "  - Variant 1 has a significantly higher LTV (913.09) compared to the control group (832.14).\n",
    "- **Finland:** \n",
    "  - The LTVs for all variants are very close, with the control group having a slightly higher LTV than Variant 1 and Variant 2.\n",
    "- **Norway:** \n",
    "  - The control group has the highest LTV (898.77), with Variant 2 (875.34) and Variant 1 (834.94) following.\n",
    "- **Sweden:** \n",
    "  - Variant 1 has the highest LTV (850.99) compared to the control group and Variant 2."
   ]
  },
  {
   "cell_type": "code",
   "execution_count": 48,
   "id": "e595fd36-c7ac-4b56-88b3-720b0cd7dad3",
   "metadata": {},
   "outputs": [],
   "source": [
    "# Rename columns to remove spaces\n",
    "data.rename(columns={'Variant ID': 'Variant_ID'}, inplace=True)"
   ]
  },
  {
   "cell_type": "code",
   "execution_count": 49,
   "id": "126d2251-a3af-4d98-9513-ee7ea695dc57",
   "metadata": {},
   "outputs": [
    {
     "name": "stdout",
     "output_type": "stream",
     "text": [
      "One-Way ANOVA Results\n",
      "                     sum_sq       df         F    PR(>F)\n",
      "C(Variant_ID)  1.354080e+07      2.0  0.782652  0.457204\n",
      "Residual       2.116108e+11  24462.0       NaN       NaN\n"
     ]
    }
   ],
   "source": [
    "# One-Way ANOVA\n",
    "# Define the model\n",
    "model_one_way = ols('Value ~ C(Variant_ID)', data=data).fit()\n",
    "\n",
    "# Perform ANOVA\n",
    "anova_one_way = sm.stats.anova_lm(model_one_way, typ=2)\n",
    "print(\"One-Way ANOVA Results\")\n",
    "print(anova_one_way)"
   ]
  },
  {
   "cell_type": "code",
   "execution_count": 50,
   "id": "15fc1daf-cb26-4c52-8be5-5503c0e1af5b",
   "metadata": {},
   "outputs": [
    {
     "name": "stdout",
     "output_type": "stream",
     "text": [
      "\n",
      "Two-Way ANOVA Results\n",
      "                               sum_sq       df         F    PR(>F)\n",
      "C(Variant_ID)            1.525077e+06      2.0  0.088135  0.766564\n",
      "C(Market)                2.375401e+07      4.0  0.686380  0.560233\n",
      "C(Variant_ID):C(Market)  5.006730e+07      8.0  0.723355  0.652217\n",
      "Residual                 2.115482e+11  24451.0       NaN       NaN\n"
     ]
    }
   ],
   "source": [
    "# Two-Way ANOVA\n",
    "# Define the model\n",
    "model_two_way = ols('Value ~ C(Variant_ID) + C(Market) + C(Variant_ID):C(Market)', data=data).fit()\n",
    "\n",
    "# Perform ANOVA\n",
    "anova_two_way = sm.stats.anova_lm(model_two_way, typ=2)\n",
    "print(\"\\nTwo-Way ANOVA Results\")\n",
    "print(anova_two_way)"
   ]
  },
  {
   "cell_type": "markdown",
   "id": "93e439d6-3115-4df2-b2e8-9a766d10d2c0",
   "metadata": {},
   "source": [
    "### Interpretation of One-Way and Two-Way ANOVA Results\n",
    "\n",
    "#### One-Way ANOVA\n",
    "\n",
    "**Objective:** Determine if there are statistically significant differences in Lifetime Value (LTV) among the three variant groups (Control, Variant 1, Variant 2).\n",
    "\n",
    "**Results:**\n",
    "- **Sum of Squares for Variant_ID (`sum_sq`):** 13,540,800\n",
    "- **Degrees of Freedom (`df`):** 2\n",
    "- **F-Statistic (`F`):** 0.782652\n",
    "- **P-Value (`PR(>F)`):** 0.457204\n",
    "- **Residual (`Residual sum_sq`):** 211,610,800,000 with 24,462 degrees of freedom\n",
    "\n",
    "**Interpretation:**\n",
    "- The F-statistic is 0.782652, and the associated p-value is 0.457204.\n",
    "- Since the p-value (0.457204) is greater than the typical significance level of 0.05, we fail to reject the null hypothesis.\n",
    "- This indicates that there is no statistically significant difference in the average LTV among the three variant groups (Control, Variant 1, Variant 2).\n",
    "\n",
    "#### Two-Way ANOVA\n",
    "\n",
    "**Objective:** Determine if there are statistically significant differences in LTV among the variant groups, considering both the variant and market (country) effects, as well as their interaction.\n",
    "\n",
    "**Results:**\n",
    "- **Sum of Squares for Variant_ID (`sum_sq`):** 1,525,077\n",
    "- **Degrees of Freedom (`df`):** 2\n",
    "- **F-Statistic (`F`):** 0.088135\n",
    "- **P-Value (`PR(>F)`):** 0.766564\n",
    "\n",
    "- **Sum of Squares for Market (`sum_sq`):** 23,754,010\n",
    "- **Degrees of Freedom (`df`):** 4\n",
    "- **F-Statistic (`F`):** 0.686380\n",
    "- **P-Value (`PR(>F)`):** 0.560233\n",
    "\n",
    "- **Sum of Squares for Interaction (`sum_sq`):** 50,067,300\n",
    "- **Degrees of Freedom (`df`):** 8\n",
    "- **F-Statistic (`F`):** 0.723355\n",
    "- **P-Value (`PR(>F)`):** 0.652217\n",
    "\n",
    "- **Residual (`Residual sum_sq`):** 211,548,200,000 with 24,451 degrees of freedom\n",
    "\n",
    "**Interpretation:**\n",
    "- **Main Effect of Variant_ID:** The F-statistic is 0.088135, and the p-value is 0.766564. Since the p-value is much greater than 0.05, we fail to reject the null hypothesis for the main effect of Variant_ID, indicating no significant difference in LTV among the variants.\n",
    "- **Main Effect of Market:** The F-statistic is 0.686380, and the p-value is 0.560233. Since the p-value is greater than 0.05, we fail to reject the null hypothesis for the main effect of Market, indicating no significant difference in LTV among the markets.\n",
    "- **Interaction Effect (Variant_ID:Market):** The F-statistic is 0.723355, and the p-value is 0.652217. Since the p-value is greater than 0.05, we fail to reject the null hypothesis for the interaction effect, indicating no significant interaction between variant and market on LTV.\n",
    "\n",
    "### Overall Result:\n",
    "\n",
    "1. **One-Way ANOVA:** There are no statistically significant differences in LTV among the three variant groups (Control, Variant 1, Variant 2).\n",
    "2. **Two-Way ANOVA:** There are no statistically significant differences in LTV among the variant groups or markets, and there is no significant interaction effect between the variant groups and markets."
   ]
  },
  {
   "cell_type": "markdown",
   "id": "b7539502-4230-424a-9089-744b6c72d525",
   "metadata": {},
   "source": [
    "### 6. Recommendation\n",
    "\n",
    "Based on the analysis:\n",
    "\n",
    "1. **Global Recommendation:**\n",
    "   - Variant 1 shows a higher average LTV overall, suggesting that it may be beneficial to adopt Variant 1 for the overall user base.\n",
    "\n",
    "2. **Country-Specific Recommendations:**\n",
    "   - **Denmark:** Strongly consider adopting Variant 1 due to its significantly higher LTV.\n",
    "   - **Finland:** No significant difference; continue with the control group.\n",
    "   - **Norway:** The control group has the highest LTV, so it may be best to maintain the current approach.\n",
    "   - **Sweden:** Consider adopting Variant 1 as it shows a higher LTV.\n",
    "\n",
    "Overall, while Variant 1 does not show a statistically significant higher effect in sign-ups, its higher LTV in some markets (especially Denmark and Sweden) makes it a favorable option to consider for those regions.\n",
    "\n",
    "#### Results Recap:\n",
    "- **Global Tests:**\n",
    "  - Both Variant 1 and Variant 2 did not show statistically significant higher effects compared to the control group.\n",
    "\n",
    "- **Country-Specific Tests:**\n",
    "  - **Finland, Norway, and Denmark:** No statistically significant higher effects were found.\n",
    "  - **Sweden:** Variant 1 showed a marginally significant effect with a p-value close to 0.05, but it was not conclusive."
   ]
  },
  {
   "cell_type": "code",
   "execution_count": null,
   "id": "0c28275d-f7d2-4684-bd32-389c46062608",
   "metadata": {},
   "outputs": [],
   "source": []
  }
 ],
 "metadata": {
  "kernelspec": {
   "display_name": "Python 3 (ipykernel)",
   "language": "python",
   "name": "python3"
  },
  "language_info": {
   "codemirror_mode": {
    "name": "ipython",
    "version": 3
   },
   "file_extension": ".py",
   "mimetype": "text/x-python",
   "name": "python",
   "nbconvert_exporter": "python",
   "pygments_lexer": "ipython3",
   "version": "3.11.6"
  }
 },
 "nbformat": 4,
 "nbformat_minor": 5
}
