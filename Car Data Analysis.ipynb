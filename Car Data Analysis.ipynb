{
 "cells": [
  {
   "cell_type": "markdown",
   "id": "905455fe-736b-4816-b744-91382dbe8a50",
   "metadata": {},
   "source": [
    "### 1. Exploratory Data Analysis (EDA) and Data Cleaning\n",
    "   - **Statistical Analysis**: Conduct correlation analysis and descriptive statistics to understand data relationships and distributions.\n",
    "   - **Visualization**: Create distribution visualizations to get a sense of the data spread and potential outliers.\n",
    "   - **Outlier Handling**: Identify and remove or adjust outliers in the dataset.\n",
    "   - **Missing Values**: Implement strategies for imputing missing values.\n",
    "\n",
    "### 2. Feature Engineering\n",
    "   - **Feature Scaling/Normalization**: Standardize the range of continuous input variables.\n",
    "   - **Feature Selection**: Based on EDA, select relevant features that influence depreciation.\n",
    "   - **Categorical Variable Encoding**: Convert categorical variables into a format that can be provided to ML models.\n",
    "   - **Feature Transformation**: Transform features if needed to improve model performance.\n",
    "   - **New Feature Creation**: Consider creating new features that might better capture the patterns in the data.\n",
    "\n",
    "### 3. Datasets Generation\n",
    "   - **Splitting Data**: Divide the dataset into training, validation, and test sets.\n",
    "\n",
    "### 4. Model Fitting\n",
    "   - **Random Forest and Neural Network Implementation**: Fit both models to the training data.\n",
    "   - **Hyperparameter Tuning**: Use grid-search to fine-tune the models.\n",
    "   - **Training Analysis**: Plot the loss function of the neural network over epochs and analyze the performance.\n",
    "\n",
    "### 5. Model Evaluation\n",
    "   - **Performance Metrics**: Evaluate models using metrics like MAE, RMSE, or others suitable for regression.\n",
    "   - **Interpretability**: Ensure the chosen metrics are understandable to non-technical stakeholders.\n",
    "   - **Detailed Analysis**: Create plot (actual vs. predicted) to understand model performance in depth.\n",
    "\n",
    "### 6. Model Selection\n",
    "   - **Performance Comparison**: Compare the random forest and neural network models based on the evaluation metrics.\n",
    "   - **Best Model Identification**: Decide which model performs better for predicting car depreciation.\n",
    "\n",
    "### 7. Model Explainability\n",
    "   - **Feature Importance Analysis**: We will use Random Forest Feature Importance Method.\n",
    "\n",
    "### 8. Other Models\n",
    "   - **Linear Regression**: Implement linear regression and evaluate models using metrics like MAE, RMSE.\n",
    "   - **KNN Model**: Implement KNN and evaluate models using metrics like MAE, RMSE.\n",
    "   - **XGBoost**: Implement XGBoost and evaluate models using metrics like MAE, RMSE.\n",
    "\n",
    "### Sub-questions Analysis\n",
    "   - **Influence of Age and Mileage**: Analyze how these factors vary across makes and models.\n",
    "   - **Geographical and Sales Trends Impact**: Examine the effect of location and sales data on depreciation rates.\n",
    "   - **Transmission Types Influence**: Assess how different transmission types affect the depreciation of various models."
   ]
  },
  {
   "cell_type": "code",
   "execution_count": 1,
   "id": "cfd70785-a326-4b4f-aeb1-71aa5a2ef069",
   "metadata": {},
   "outputs": [
    {
     "name": "stdout",
     "output_type": "stream",
     "text": [
      "WARNING:tensorflow:From C:\\Users\\jatat\\AppData\\Local\\Programs\\Python\\Python311\\Lib\\site-packages\\keras\\src\\losses.py:2976: The name tf.losses.sparse_softmax_cross_entropy is deprecated. Please use tf.compat.v1.losses.sparse_softmax_cross_entropy instead.\n",
      "\n"
     ]
    }
   ],
   "source": [
    "import pandas as pd\n",
    "import seaborn as sns\n",
    "import matplotlib.pyplot as plt\n",
    "import numpy as np\n",
    "from sklearn.impute import SimpleImputer\n",
    "from sklearn.preprocessing import LabelEncoder, MinMaxScaler\n",
    "from sklearn.model_selection import train_test_split\n",
    "from sklearn.ensemble import RandomForestRegressor\n",
    "from sklearn.model_selection import GridSearchCV\n",
    "from sklearn.metrics import mean_absolute_error, mean_squared_error, r2_score\n",
    "import tensorflow as tf\n",
    "from tensorflow.keras.models import Sequential\n",
    "from tensorflow.keras.layers import Dense, Dropout, BatchNormalization\n",
    "from tensorflow.keras.callbacks import EarlyStopping, LambdaCallback\n",
    "from tensorflow.keras.optimizers import Adam\n",
    "from tensorflow.keras.regularizers import l1_l2\n",
    "import warnings \n",
    "warnings.filterwarnings(\"ignore\")"
   ]
  },
  {
   "cell_type": "code",
   "execution_count": 2,
   "id": "3cec3549-3228-4348-8d8a-33f47f0d6f6f",
   "metadata": {},
   "outputs": [],
   "source": [
    "# Load the dataset\n",
    "file_path = 'cleaned_car_prices.csv'\n",
    "data = pd.read_csv(file_path)"
   ]
  },
  {
   "cell_type": "code",
   "execution_count": 3,
   "id": "334f8e50-7bf0-49d3-8c07-976304eb85a5",
   "metadata": {},
   "outputs": [],
   "source": [
    "# Since the dataset is large, we'll take a random sample of 50% records for analysis\n",
    "car_prices_df = data.sample(frac=0.5, random_state=1)"
   ]
  },
  {
   "cell_type": "code",
   "execution_count": 4,
   "id": "d8f681ba-5f54-4e3d-a4f1-9c6ec5c8beb6",
   "metadata": {},
   "outputs": [
    {
     "data": {
      "text/html": [
       "<div>\n",
       "<style scoped>\n",
       "    .dataframe tbody tr th:only-of-type {\n",
       "        vertical-align: middle;\n",
       "    }\n",
       "\n",
       "    .dataframe tbody tr th {\n",
       "        vertical-align: top;\n",
       "    }\n",
       "\n",
       "    .dataframe thead th {\n",
       "        text-align: right;\n",
       "    }\n",
       "</style>\n",
       "<table border=\"1\" class=\"dataframe\">\n",
       "  <thead>\n",
       "    <tr style=\"text-align: right;\">\n",
       "      <th></th>\n",
       "      <th>year</th>\n",
       "      <th>make</th>\n",
       "      <th>model</th>\n",
       "      <th>trim</th>\n",
       "      <th>body</th>\n",
       "      <th>transmission</th>\n",
       "      <th>vin</th>\n",
       "      <th>state</th>\n",
       "      <th>condition</th>\n",
       "      <th>odometer</th>\n",
       "      <th>color</th>\n",
       "      <th>interior</th>\n",
       "      <th>seller</th>\n",
       "      <th>mmr</th>\n",
       "      <th>sellingprice</th>\n",
       "      <th>saledate</th>\n",
       "    </tr>\n",
       "  </thead>\n",
       "  <tbody>\n",
       "    <tr>\n",
       "      <th>346635</th>\n",
       "      <td>2012</td>\n",
       "      <td>Mazda</td>\n",
       "      <td>Mazda3</td>\n",
       "      <td>i Touring</td>\n",
       "      <td>Sedan</td>\n",
       "      <td>automatic</td>\n",
       "      <td>jm1bl1v7xc1628089</td>\n",
       "      <td>va</td>\n",
       "      <td>4.6</td>\n",
       "      <td>28858.0</td>\n",
       "      <td>blue</td>\n",
       "      <td>black</td>\n",
       "      <td>jpmorgan chase bank,n.a.</td>\n",
       "      <td>11650</td>\n",
       "      <td>12000</td>\n",
       "      <td>Thu Feb 26 2015 01:20:00 GMT-0800 (PST)</td>\n",
       "    </tr>\n",
       "    <tr>\n",
       "      <th>393436</th>\n",
       "      <td>2014</td>\n",
       "      <td>Ram</td>\n",
       "      <td>1500</td>\n",
       "      <td>SLT</td>\n",
       "      <td>Quad Cab</td>\n",
       "      <td>automatic</td>\n",
       "      <td>1c6rr7gt8es428598</td>\n",
       "      <td>ca</td>\n",
       "      <td>4.0</td>\n",
       "      <td>17331.0</td>\n",
       "      <td>white</td>\n",
       "      <td>gray</td>\n",
       "      <td>enterprise fm exchange/lease</td>\n",
       "      <td>24500</td>\n",
       "      <td>24000</td>\n",
       "      <td>Wed Jun 03 2015 05:30:00 GMT-0700 (PDT)</td>\n",
       "    </tr>\n",
       "    <tr>\n",
       "      <th>535319</th>\n",
       "      <td>2013</td>\n",
       "      <td>Kia</td>\n",
       "      <td>Soul</td>\n",
       "      <td>Base</td>\n",
       "      <td>wagon</td>\n",
       "      <td>automatic</td>\n",
       "      <td>kndjt2a54d7559100</td>\n",
       "      <td>oh</td>\n",
       "      <td>4.1</td>\n",
       "      <td>17698.0</td>\n",
       "      <td>red</td>\n",
       "      <td>black</td>\n",
       "      <td>hyundai motor finance</td>\n",
       "      <td>10700</td>\n",
       "      <td>11100</td>\n",
       "      <td>Tue Jun 16 2015 02:30:00 GMT-0700 (PDT)</td>\n",
       "    </tr>\n",
       "    <tr>\n",
       "      <th>80411</th>\n",
       "      <td>2012</td>\n",
       "      <td>Toyota</td>\n",
       "      <td>Camry</td>\n",
       "      <td>XLE</td>\n",
       "      <td>Sedan</td>\n",
       "      <td>automatic</td>\n",
       "      <td>4t1bf1fk1cu044829</td>\n",
       "      <td>oh</td>\n",
       "      <td>3.2</td>\n",
       "      <td>28487.0</td>\n",
       "      <td>silver</td>\n",
       "      <td>gray</td>\n",
       "      <td>toyota financial services</td>\n",
       "      <td>15750</td>\n",
       "      <td>15000</td>\n",
       "      <td>Tue Jan 13 2015 09:30:00 GMT-0800 (PST)</td>\n",
       "    </tr>\n",
       "    <tr>\n",
       "      <th>477197</th>\n",
       "      <td>2003</td>\n",
       "      <td>Mazda</td>\n",
       "      <td>Mazda6</td>\n",
       "      <td>s</td>\n",
       "      <td>sedan</td>\n",
       "      <td>NaN</td>\n",
       "      <td>1yvfp80d135m29737</td>\n",
       "      <td>pa</td>\n",
       "      <td>1.9</td>\n",
       "      <td>122809.0</td>\n",
       "      <td>white</td>\n",
       "      <td>beige</td>\n",
       "      <td>r hollenshead auto sales inc</td>\n",
       "      <td>2475</td>\n",
       "      <td>2500</td>\n",
       "      <td>Fri May 29 2015 02:00:00 GMT-0700 (PDT)</td>\n",
       "    </tr>\n",
       "  </tbody>\n",
       "</table>\n",
       "</div>"
      ],
      "text/plain": [
       "        year    make   model       trim      body transmission  \\\n",
       "346635  2012   Mazda  Mazda3  i Touring     Sedan    automatic   \n",
       "393436  2014     Ram    1500        SLT  Quad Cab    automatic   \n",
       "535319  2013     Kia    Soul       Base     wagon    automatic   \n",
       "80411   2012  Toyota   Camry        XLE     Sedan    automatic   \n",
       "477197  2003   Mazda  Mazda6          s     sedan          NaN   \n",
       "\n",
       "                      vin state  condition  odometer   color interior  \\\n",
       "346635  jm1bl1v7xc1628089    va        4.6   28858.0    blue    black   \n",
       "393436  1c6rr7gt8es428598    ca        4.0   17331.0   white     gray   \n",
       "535319  kndjt2a54d7559100    oh        4.1   17698.0     red    black   \n",
       "80411   4t1bf1fk1cu044829    oh        3.2   28487.0  silver     gray   \n",
       "477197  1yvfp80d135m29737    pa        1.9  122809.0   white    beige   \n",
       "\n",
       "                              seller    mmr  sellingprice  \\\n",
       "346635      jpmorgan chase bank,n.a.  11650         12000   \n",
       "393436  enterprise fm exchange/lease  24500         24000   \n",
       "535319         hyundai motor finance  10700         11100   \n",
       "80411      toyota financial services  15750         15000   \n",
       "477197  r hollenshead auto sales inc   2475          2500   \n",
       "\n",
       "                                       saledate  \n",
       "346635  Thu Feb 26 2015 01:20:00 GMT-0800 (PST)  \n",
       "393436  Wed Jun 03 2015 05:30:00 GMT-0700 (PDT)  \n",
       "535319  Tue Jun 16 2015 02:30:00 GMT-0700 (PDT)  \n",
       "80411   Tue Jan 13 2015 09:30:00 GMT-0800 (PST)  \n",
       "477197  Fri May 29 2015 02:00:00 GMT-0700 (PDT)  "
      ]
     },
     "execution_count": 4,
     "metadata": {},
     "output_type": "execute_result"
    }
   ],
   "source": [
    "car_prices_df.head()"
   ]
  },
  {
   "cell_type": "markdown",
   "id": "6584f1c3-d62f-493d-b262-9d953a165198",
   "metadata": {},
   "source": [
    "The dataset contains the following columns:\n",
    "\n",
    "1. **Year**: The year of the car.\n",
    "2. **Make**: The make of the car.\n",
    "3. **Model**: The car model.\n",
    "4. **Trim**: The trim level of the car.\n",
    "5. **Body**: The body type of the car.\n",
    "6. **Transmission**: The type of transmission in the car.\n",
    "7. **VIN**: Vehicle Identification Number.\n",
    "8. **State**: The state where the car was sold.\n",
    "9. **Condition**: A numerical rating of the car's condition.\n",
    "10. **Odometer**: The car's mileage.\n",
    "11. **Color**: The color of the car.\n",
    "12. **Interior**: The interior type/color of the car.\n",
    "13. **Seller**: Information about the seller.\n",
    "14. **MMR**: Manheim Market Report price - an estimated value of the car.\n",
    "15. **Selling Price**: The price at which the car was sold.\n",
    "16. **Sale Date**: The date when the car was sold."
   ]
  },
  {
   "cell_type": "code",
   "execution_count": 5,
   "id": "546db2ef-f06f-4df8-9b15-538d90f0aa34",
   "metadata": {},
   "outputs": [],
   "source": [
    "# Checking data types and summary statistics\n",
    "data_types = car_prices_df.dtypes\n",
    "summary_statistics = car_prices_df.describe()"
   ]
  },
  {
   "cell_type": "code",
   "execution_count": 6,
   "id": "3d25e5ad-4629-4248-9ade-9828a0713433",
   "metadata": {},
   "outputs": [
    {
     "data": {
      "text/plain": [
       "year              int64\n",
       "make             object\n",
       "model            object\n",
       "trim             object\n",
       "body             object\n",
       "transmission     object\n",
       "vin              object\n",
       "state            object\n",
       "condition       float64\n",
       "odometer        float64\n",
       "color            object\n",
       "interior         object\n",
       "seller           object\n",
       "mmr               int64\n",
       "sellingprice      int64\n",
       "saledate         object\n",
       "dtype: object"
      ]
     },
     "execution_count": 6,
     "metadata": {},
     "output_type": "execute_result"
    }
   ],
   "source": [
    "data_types"
   ]
  },
  {
   "cell_type": "markdown",
   "id": "d5a73583-fb4a-4ecd-9860-fec5af15dfbc",
   "metadata": {},
   "source": [
    "**Data Types and Structure**: The dataset contains a mix of numerical (int64, float64) and categorical (object) data types, indicating a need for different preprocessing approaches for different types of data."
   ]
  },
  {
   "cell_type": "code",
   "execution_count": 7,
   "id": "b4021913-c250-45c5-ba19-b01fb28a0e7b",
   "metadata": {},
   "outputs": [
    {
     "data": {
      "text/html": [
       "<div>\n",
       "<style scoped>\n",
       "    .dataframe tbody tr th:only-of-type {\n",
       "        vertical-align: middle;\n",
       "    }\n",
       "\n",
       "    .dataframe tbody tr th {\n",
       "        vertical-align: top;\n",
       "    }\n",
       "\n",
       "    .dataframe thead th {\n",
       "        text-align: right;\n",
       "    }\n",
       "</style>\n",
       "<table border=\"1\" class=\"dataframe\">\n",
       "  <thead>\n",
       "    <tr style=\"text-align: right;\">\n",
       "      <th></th>\n",
       "      <th>year</th>\n",
       "      <th>condition</th>\n",
       "      <th>odometer</th>\n",
       "      <th>mmr</th>\n",
       "      <th>sellingprice</th>\n",
       "    </tr>\n",
       "  </thead>\n",
       "  <tbody>\n",
       "    <tr>\n",
       "      <th>count</th>\n",
       "      <td>279406.000000</td>\n",
       "      <td>273484.000000</td>\n",
       "      <td>279357.000000</td>\n",
       "      <td>279406.000000</td>\n",
       "      <td>279406.000000</td>\n",
       "    </tr>\n",
       "    <tr>\n",
       "      <th>mean</th>\n",
       "      <td>2010.030704</td>\n",
       "      <td>3.422158</td>\n",
       "      <td>68464.264479</td>\n",
       "      <td>13734.003833</td>\n",
       "      <td>13575.795531</td>\n",
       "    </tr>\n",
       "    <tr>\n",
       "      <th>std</th>\n",
       "      <td>3.968790</td>\n",
       "      <td>0.950183</td>\n",
       "      <td>53506.461009</td>\n",
       "      <td>9644.803458</td>\n",
       "      <td>9719.499718</td>\n",
       "    </tr>\n",
       "    <tr>\n",
       "      <th>min</th>\n",
       "      <td>1983.000000</td>\n",
       "      <td>1.000000</td>\n",
       "      <td>1.000000</td>\n",
       "      <td>25.000000</td>\n",
       "      <td>1.000000</td>\n",
       "    </tr>\n",
       "    <tr>\n",
       "      <th>25%</th>\n",
       "      <td>2007.000000</td>\n",
       "      <td>2.700000</td>\n",
       "      <td>28455.000000</td>\n",
       "      <td>7075.000000</td>\n",
       "      <td>6800.000000</td>\n",
       "    </tr>\n",
       "    <tr>\n",
       "      <th>50%</th>\n",
       "      <td>2012.000000</td>\n",
       "      <td>3.600000</td>\n",
       "      <td>52495.000000</td>\n",
       "      <td>12250.000000</td>\n",
       "      <td>12100.000000</td>\n",
       "    </tr>\n",
       "    <tr>\n",
       "      <th>75%</th>\n",
       "      <td>2013.000000</td>\n",
       "      <td>4.200000</td>\n",
       "      <td>99381.000000</td>\n",
       "      <td>18300.000000</td>\n",
       "      <td>18200.000000</td>\n",
       "    </tr>\n",
       "    <tr>\n",
       "      <th>max</th>\n",
       "      <td>2015.000000</td>\n",
       "      <td>5.000000</td>\n",
       "      <td>999999.000000</td>\n",
       "      <td>182000.000000</td>\n",
       "      <td>230000.000000</td>\n",
       "    </tr>\n",
       "  </tbody>\n",
       "</table>\n",
       "</div>"
      ],
      "text/plain": [
       "                year      condition       odometer            mmr  \\\n",
       "count  279406.000000  273484.000000  279357.000000  279406.000000   \n",
       "mean     2010.030704       3.422158   68464.264479   13734.003833   \n",
       "std         3.968790       0.950183   53506.461009    9644.803458   \n",
       "min      1983.000000       1.000000       1.000000      25.000000   \n",
       "25%      2007.000000       2.700000   28455.000000    7075.000000   \n",
       "50%      2012.000000       3.600000   52495.000000   12250.000000   \n",
       "75%      2013.000000       4.200000   99381.000000   18300.000000   \n",
       "max      2015.000000       5.000000  999999.000000  182000.000000   \n",
       "\n",
       "        sellingprice  \n",
       "count  279406.000000  \n",
       "mean    13575.795531  \n",
       "std      9719.499718  \n",
       "min         1.000000  \n",
       "25%      6800.000000  \n",
       "50%     12100.000000  \n",
       "75%     18200.000000  \n",
       "max    230000.000000  "
      ]
     },
     "execution_count": 7,
     "metadata": {},
     "output_type": "execute_result"
    }
   ],
   "source": [
    "summary_statistics"
   ]
  },
  {
   "cell_type": "markdown",
   "id": "6ade79d7-d00c-460d-a871-c1052f4edd82",
   "metadata": {},
   "source": [
    "**Summary Statistics Insights**:\n",
    " - The `year` column ranges from 1983 to 2015, indicating a wide range of car models.\n",
    " - The `condition` column values range from 1 to 5, suggesting a rating system for the condition of the cars.\n",
    " - The `odometer` readings vary significantly, from as low as 1 mile to 999,999 miles, indicating a mix of nearly new and heavily used vehicles.\n",
    " - The `mmr` (Manheim Market Report price) and `sellingprice` show a wide range of values, suggesting a diverse set of car valuations in the dataset."
   ]
  },
  {
   "cell_type": "code",
   "execution_count": 8,
   "id": "99eab1e8-1c4c-4949-b1f7-82023f23096a",
   "metadata": {},
   "outputs": [],
   "source": [
    "# Identifying missing values\n",
    "missing_values = car_prices_df.isnull().sum()"
   ]
  },
  {
   "cell_type": "code",
   "execution_count": 9,
   "id": "90f397fd-8b2f-4c96-bdcb-52c3b94c2670",
   "metadata": {},
   "outputs": [
    {
     "data": {
      "text/plain": [
       "year                0\n",
       "make             5191\n",
       "model            5236\n",
       "trim             5371\n",
       "body             6632\n",
       "transmission    32715\n",
       "vin                 0\n",
       "state               0\n",
       "condition        5922\n",
       "odometer           49\n",
       "color             369\n",
       "interior          369\n",
       "seller              0\n",
       "mmr                 0\n",
       "sellingprice        0\n",
       "saledate            0\n",
       "dtype: int64"
      ]
     },
     "execution_count": 9,
     "metadata": {},
     "output_type": "execute_result"
    }
   ],
   "source": [
    "missing_values"
   ]
  },
  {
   "cell_type": "markdown",
   "id": "79edda0b-3bf6-4dc8-86dd-39fa4c5d50d8",
   "metadata": {},
   "source": [
    "**Missing Values**: Significant missing data in columns such as `transmission`, `make`, `model`, `trim`, `body`, and `condition` indicate a need for data imputation or cleaning strategies before further analysis or model building."
   ]
  },
  {
   "cell_type": "code",
   "execution_count": 10,
   "id": "bd88e322-c71c-4334-98a1-0415785c9df6",
   "metadata": {},
   "outputs": [],
   "source": [
    "# Correlation analysis on numerical columns\n",
    "numerical_cols = car_prices_df.select_dtypes(include=['float64', 'int64']).columns\n",
    "correlation_matrix = car_prices_df[numerical_cols].corr()"
   ]
  },
  {
   "cell_type": "code",
   "execution_count": 11,
   "id": "cad8cf5f-12e4-46ac-9b0a-73f6300ba008",
   "metadata": {},
   "outputs": [
    {
     "data": {
      "text/plain": [
       "Index(['year', 'condition', 'odometer', 'mmr', 'sellingprice'], dtype='object')"
      ]
     },
     "execution_count": 11,
     "metadata": {},
     "output_type": "execute_result"
    }
   ],
   "source": [
    "numerical_cols"
   ]
  },
  {
   "cell_type": "code",
   "execution_count": 12,
   "id": "889ad6ed-4542-4d95-b24f-ec40fdc43845",
   "metadata": {},
   "outputs": [
    {
     "data": {
      "image/png": "[encoded data removed]",
      "text/plain": [
       "<Figure size 1000x800 with 2 Axes>"
      ]
     },
     "metadata": {},
     "output_type": "display_data"
    }
   ],
   "source": [
    "# Plotting the correlation matrix\n",
    "plt.figure(figsize=(10, 8))\n",
    "sns.heatmap(correlation_matrix, annot=True, cmap='coolwarm', fmt=\".2f\")\n",
    "plt.title(\"Correlation Matrix of Numerical Variables\")\n",
    "plt.show()"
   ]
  },
  {
   "cell_type": "markdown",
   "id": "39eeba0e-3792-4245-9de4-388b792908c8",
   "metadata": {},
   "source": [
    "The correlation matrix provides insights into how different numerical variables are related:\n",
    "\n",
    "1. **Year vs. Selling Price**: There is a moderate positive correlation, suggesting newer cars tend to have higher selling prices.\n",
    "2. **Condition vs. Selling Price**: A positive correlation indicates that cars in better condition generally sell for more.\n",
    "3. **Odometer vs. Selling Price**: There's a notable negative correlation, showing that higher mileage typically corresponds to lower selling prices.\n",
    "4. **MMR vs. Selling Price**: A strong positive correlation is observed, indicating that the Manheim Market Report price is a good predictor of the actual selling price.\n",
    "5. **Year vs. Odometer**: As expected, there's a negative correlation, meaning newer cars tend to have lower mileage."
   ]
  },
  {
   "cell_type": "markdown",
   "id": "c565056f-98d2-4a5a-b8ce-e9b352104544",
   "metadata": {},
   "source": [
    "## Data Cleaning"
   ]
  },
  {
   "cell_type": "markdown",
   "id": "4d6543fb-86f9-458f-8155-5ef8160b7e1f",
   "metadata": {},
   "source": [
    "1. **Handling Missing Values**\n",
    "   - **Numerical Columns**: Missing values in numerical columns were filled with the mean of their respective columns.\n",
    "   - **Categorical Columns**: Missing values in categorical columns were filled with the mode (most frequent value) of their respective columns.\n",
    "   - **Post-Imputation Check**: A recheck confirmed that there were no remaining missing values in the dataset.\n",
    "\n",
    "2. **Outliers Detection and Handling**\n",
    "   - **Focus on Key Columns**: Focused on 'Odometer', 'MMR', and 'Selling Price' for outlier detection and handling.\n",
    "   - **IQR Method**: Used the Interquartile Range (IQR) method to detect outliers. The outlier range was set to 1.5 times the IQR.\n",
    "   - **Outlier Treatment**: Outliers were replaced with NaN values.\n",
    "   - **Re-Imputation**: NaN values (resulting from outlier treatment) in numerical columns were filled with the mean of their respective columns.\n",
    "   - **Final Missing Values Check**: A final check showed no remaining missing values across all columns, including year, make, model, trim, body, transmission, VIN, state, condition, odometer, color, interior, seller, MMR, selling price, and sale date. "
   ]
  },
  {
   "cell_type": "code",
   "execution_count": 13,
   "id": "207bef20-4185-4430-b8f8-e14067b3f28a",
   "metadata": {},
   "outputs": [],
   "source": [
    "# 1. Handling Missing Values\n",
    "# Handling missing values for numerical columns (float64)\n",
    "for col in car_prices_df.select_dtypes(include=['float64', 'int64']).columns:\n",
    "    car_prices_df[col].fillna(car_prices_df[col].mean(), inplace=True)"
   ]
  },
  {
   "cell_type": "code",
   "execution_count": 14,
   "id": "1f56941b-40a9-41b1-9c5c-d45751216787",
   "metadata": {},
   "outputs": [],
   "source": [
    "# b. For categorical columns with missing values, we'll use the mode (most frequent)\n",
    "# Handling missing values for categorical columns (object)\n",
    "for col in car_prices_df.select_dtypes(include=['object']).columns:\n",
    "    car_prices_df[col].fillna(car_prices_df[col].mode()[0], inplace=True)"
   ]
  },
  {
   "cell_type": "code",
   "execution_count": 15,
   "id": "5e7abaa7-e138-4a99-8840-271b0c0b0a54",
   "metadata": {},
   "outputs": [],
   "source": [
    "# Check again missing values\n",
    "missing_values = car_prices_df.isnull().sum()"
   ]
  },
  {
   "cell_type": "code",
   "execution_count": 16,
   "id": "88c18a63-339d-4594-9053-4a36c48db3a0",
   "metadata": {},
   "outputs": [
    {
     "data": {
      "text/plain": [
       "year            0\n",
       "make            0\n",
       "model           0\n",
       "trim            0\n",
       "body            0\n",
       "transmission    0\n",
       "vin             0\n",
       "state           0\n",
       "condition       0\n",
       "odometer        0\n",
       "color           0\n",
       "interior        0\n",
       "seller          0\n",
       "mmr             0\n",
       "sellingprice    0\n",
       "saledate        0\n",
       "dtype: int64"
      ]
     },
     "execution_count": 16,
     "metadata": {},
     "output_type": "execute_result"
    }
   ],
   "source": [
    "missing_values"
   ]
  },
  {
   "cell_type": "code",
   "execution_count": 17,
   "id": "5367e432-6281-4bd5-8b04-1e136ccfd956",
   "metadata": {},
   "outputs": [],
   "source": [
    "# 2. Outliers Detection and Handling\n",
    "# For this, we'll focus on 'Odometer', 'MMR', and 'Selling Price'\n",
    "# We will use the IQR method to detect and handle outliers\n",
    "Q1 = car_prices_df[numerical_cols].quantile(0.25)\n",
    "Q3 = car_prices_df[numerical_cols].quantile(0.75)\n",
    "IQR = Q3 - Q1"
   ]
  },
  {
   "cell_type": "code",
   "execution_count": 18,
   "id": "a0c69600-c2f4-4d46-8828-1b23843be3e0",
   "metadata": {},
   "outputs": [],
   "source": [
    "# Defining the outlier range\n",
    "outlier_range = 1.5 * IQR"
   ]
  },
  {
   "cell_type": "code",
   "execution_count": 19,
   "id": "47c53174-d523-43d2-9701-e612f007cf5d",
   "metadata": {},
   "outputs": [],
   "source": [
    "# Filtering out the outliers\n",
    "outliers_lower = (car_prices_df[numerical_cols] < (Q1 - outlier_range))\n",
    "outliers_upper = (car_prices_df[numerical_cols] > (Q3 + outlier_range))"
   ]
  },
  {
   "cell_type": "code",
   "execution_count": 20,
   "id": "87b11aae-67b3-49c7-a63a-7c619e9c239f",
   "metadata": {},
   "outputs": [],
   "source": [
    "# Replacing outliers with NaN and then imputing them with the median\n",
    "car_prices_df[outliers_lower] = np.nan\n",
    "car_prices_df[outliers_upper] = np.nan"
   ]
  },
  {
   "cell_type": "code",
   "execution_count": 21,
   "id": "acffdaf1-0359-480c-91c5-673465e85ac9",
   "metadata": {},
   "outputs": [],
   "source": [
    "# Handle NaN values again\n",
    "for col in car_prices_df.select_dtypes(include=['float64']).columns:\n",
    "    car_prices_df[col].fillna(car_prices_df[col].mean(), inplace=True)"
   ]
  },
  {
   "cell_type": "code",
   "execution_count": 22,
   "id": "b3021596-9499-4241-a320-3167e1bd9e60",
   "metadata": {},
   "outputs": [],
   "source": [
    "# Check for any remaining missing values\n",
    "remaining_missing_values = car_prices_df.isnull().sum()"
   ]
  },
  {
   "cell_type": "code",
   "execution_count": 23,
   "id": "c4bf99cc-51ac-4470-80a3-b725939c4a33",
   "metadata": {},
   "outputs": [
    {
     "data": {
      "text/plain": [
       "year            0\n",
       "make            0\n",
       "model           0\n",
       "trim            0\n",
       "body            0\n",
       "transmission    0\n",
       "vin             0\n",
       "state           0\n",
       "condition       0\n",
       "odometer        0\n",
       "color           0\n",
       "interior        0\n",
       "seller          0\n",
       "mmr             0\n",
       "sellingprice    0\n",
       "saledate        0\n",
       "dtype: int64"
      ]
     },
     "execution_count": 23,
     "metadata": {},
     "output_type": "execute_result"
    }
   ],
   "source": [
    "remaining_missing_values"
   ]
  },
  {
   "cell_type": "code",
   "execution_count": 24,
   "id": "215c11e6-e8a6-4eae-9dd9-b31a7393f74d",
   "metadata": {},
   "outputs": [
    {
     "data": {
      "text/html": [
       "<div>\n",
       "<style scoped>\n",
       "    .dataframe tbody tr th:only-of-type {\n",
       "        vertical-align: middle;\n",
       "    }\n",
       "\n",
       "    .dataframe tbody tr th {\n",
       "        vertical-align: top;\n",
       "    }\n",
       "\n",
       "    .dataframe thead th {\n",
       "        text-align: right;\n",
       "    }\n",
       "</style>\n",
       "<table border=\"1\" class=\"dataframe\">\n",
       "  <thead>\n",
       "    <tr style=\"text-align: right;\">\n",
       "      <th></th>\n",
       "      <th>year</th>\n",
       "      <th>make</th>\n",
       "      <th>model</th>\n",
       "      <th>trim</th>\n",
       "      <th>body</th>\n",
       "      <th>transmission</th>\n",
       "      <th>vin</th>\n",
       "      <th>state</th>\n",
       "      <th>condition</th>\n",
       "      <th>odometer</th>\n",
       "      <th>color</th>\n",
       "      <th>interior</th>\n",
       "      <th>seller</th>\n",
       "      <th>mmr</th>\n",
       "      <th>sellingprice</th>\n",
       "      <th>saledate</th>\n",
       "    </tr>\n",
       "  </thead>\n",
       "  <tbody>\n",
       "    <tr>\n",
       "      <th>346635</th>\n",
       "      <td>2012.0</td>\n",
       "      <td>Mazda</td>\n",
       "      <td>Mazda3</td>\n",
       "      <td>i Touring</td>\n",
       "      <td>Sedan</td>\n",
       "      <td>automatic</td>\n",
       "      <td>jm1bl1v7xc1628089</td>\n",
       "      <td>va</td>\n",
       "      <td>4.6</td>\n",
       "      <td>28858.0</td>\n",
       "      <td>blue</td>\n",
       "      <td>black</td>\n",
       "      <td>jpmorgan chase bank,n.a.</td>\n",
       "      <td>11650.0</td>\n",
       "      <td>12000.0</td>\n",
       "      <td>Thu Feb 26 2015 01:20:00 GMT-0800 (PST)</td>\n",
       "    </tr>\n",
       "    <tr>\n",
       "      <th>393436</th>\n",
       "      <td>2014.0</td>\n",
       "      <td>Ram</td>\n",
       "      <td>1500</td>\n",
       "      <td>SLT</td>\n",
       "      <td>Quad Cab</td>\n",
       "      <td>automatic</td>\n",
       "      <td>1c6rr7gt8es428598</td>\n",
       "      <td>ca</td>\n",
       "      <td>4.0</td>\n",
       "      <td>17331.0</td>\n",
       "      <td>white</td>\n",
       "      <td>gray</td>\n",
       "      <td>enterprise fm exchange/lease</td>\n",
       "      <td>24500.0</td>\n",
       "      <td>24000.0</td>\n",
       "      <td>Wed Jun 03 2015 05:30:00 GMT-0700 (PDT)</td>\n",
       "    </tr>\n",
       "    <tr>\n",
       "      <th>535319</th>\n",
       "      <td>2013.0</td>\n",
       "      <td>Kia</td>\n",
       "      <td>Soul</td>\n",
       "      <td>Base</td>\n",
       "      <td>wagon</td>\n",
       "      <td>automatic</td>\n",
       "      <td>kndjt2a54d7559100</td>\n",
       "      <td>oh</td>\n",
       "      <td>4.1</td>\n",
       "      <td>17698.0</td>\n",
       "      <td>red</td>\n",
       "      <td>black</td>\n",
       "      <td>hyundai motor finance</td>\n",
       "      <td>10700.0</td>\n",
       "      <td>11100.0</td>\n",
       "      <td>Tue Jun 16 2015 02:30:00 GMT-0700 (PDT)</td>\n",
       "    </tr>\n",
       "    <tr>\n",
       "      <th>80411</th>\n",
       "      <td>2012.0</td>\n",
       "      <td>Toyota</td>\n",
       "      <td>Camry</td>\n",
       "      <td>XLE</td>\n",
       "      <td>Sedan</td>\n",
       "      <td>automatic</td>\n",
       "      <td>4t1bf1fk1cu044829</td>\n",
       "      <td>oh</td>\n",
       "      <td>3.2</td>\n",
       "      <td>28487.0</td>\n",
       "      <td>silver</td>\n",
       "      <td>gray</td>\n",
       "      <td>toyota financial services</td>\n",
       "      <td>15750.0</td>\n",
       "      <td>15000.0</td>\n",
       "      <td>Tue Jan 13 2015 09:30:00 GMT-0800 (PST)</td>\n",
       "    </tr>\n",
       "    <tr>\n",
       "      <th>477197</th>\n",
       "      <td>2003.0</td>\n",
       "      <td>Mazda</td>\n",
       "      <td>Mazda6</td>\n",
       "      <td>s</td>\n",
       "      <td>sedan</td>\n",
       "      <td>automatic</td>\n",
       "      <td>1yvfp80d135m29737</td>\n",
       "      <td>pa</td>\n",
       "      <td>1.9</td>\n",
       "      <td>122809.0</td>\n",
       "      <td>white</td>\n",
       "      <td>beige</td>\n",
       "      <td>r hollenshead auto sales inc</td>\n",
       "      <td>2475.0</td>\n",
       "      <td>2500.0</td>\n",
       "      <td>Fri May 29 2015 02:00:00 GMT-0700 (PDT)</td>\n",
       "    </tr>\n",
       "  </tbody>\n",
       "</table>\n",
       "</div>"
      ],
      "text/plain": [
       "          year    make   model       trim      body transmission  \\\n",
       "346635  2012.0   Mazda  Mazda3  i Touring     Sedan    automatic   \n",
       "393436  2014.0     Ram    1500        SLT  Quad Cab    automatic   \n",
       "535319  2013.0     Kia    Soul       Base     wagon    automatic   \n",
       "80411   2012.0  Toyota   Camry        XLE     Sedan    automatic   \n",
       "477197  2003.0   Mazda  Mazda6          s     sedan    automatic   \n",
       "\n",
       "                      vin state  condition  odometer   color interior  \\\n",
       "346635  jm1bl1v7xc1628089    va        4.6   28858.0    blue    black   \n",
       "393436  1c6rr7gt8es428598    ca        4.0   17331.0   white     gray   \n",
       "535319  kndjt2a54d7559100    oh        4.1   17698.0     red    black   \n",
       "80411   4t1bf1fk1cu044829    oh        3.2   28487.0  silver     gray   \n",
       "477197  1yvfp80d135m29737    pa        1.9  122809.0   white    beige   \n",
       "\n",
       "                              seller      mmr  sellingprice  \\\n",
       "346635      jpmorgan chase bank,n.a.  11650.0       12000.0   \n",
       "393436  enterprise fm exchange/lease  24500.0       24000.0   \n",
       "535319         hyundai motor finance  10700.0       11100.0   \n",
       "80411      toyota financial services  15750.0       15000.0   \n",
       "477197  r hollenshead auto sales inc   2475.0        2500.0   \n",
       "\n",
       "                                       saledate  \n",
       "346635  Thu Feb 26 2015 01:20:00 GMT-0800 (PST)  \n",
       "393436  Wed Jun 03 2015 05:30:00 GMT-0700 (PDT)  \n",
       "535319  Tue Jun 16 2015 02:30:00 GMT-0700 (PDT)  \n",
       "80411   Tue Jan 13 2015 09:30:00 GMT-0800 (PST)  \n",
       "477197  Fri May 29 2015 02:00:00 GMT-0700 (PDT)  "
      ]
     },
     "execution_count": 24,
     "metadata": {},
     "output_type": "execute_result"
    }
   ],
   "source": [
    "car_prices_df.head()"
   ]
  },
  {
   "cell_type": "markdown",
   "id": "713d91d0-8b31-44c1-9612-bf63b1fa3d6b",
   "metadata": {},
   "source": [
    "The data cleaning process has been successfully completed:\n",
    "\n",
    "1. **Missing Values**:\n",
    "   - Missing values in the `Condition` column were imputed with the median.\n",
    "   - For categorical columns (`Make`, `Model`, `Trim`, `Body`, `Transmission`), missing values were imputed with the most frequent value (mode).\n",
    "\n",
    "2. **Outliers**:\n",
    "   - Outliers in the numerical columns (`Year`, `Condition`, `Odometer`, `MMR`, `Selling Price`) were identified using the Interquartile Range (IQR) method.\n",
    "   - Outliers were replaced with `NaN` and then imputed with the median value.\n",
    "\n",
    "There are no remaining missing values in the dataset, and it is now cleaned and ready for further analysis or model fitting."
   ]
  },
  {
   "cell_type": "code",
   "execution_count": 25,
   "id": "1388fc7c-7aec-4152-92fa-bf3052a2dbba",
   "metadata": {},
   "outputs": [],
   "source": [
    "# New Feature Creation\n",
    "# Checking if there are potential new features that can be created\n",
    "# For example, 'Car Age' can be a new feature calculated from the 'Year'\n",
    "current_year = pd.to_datetime('now').year\n",
    "car_prices_df['car_age'] = current_year - car_prices_df['year']"
   ]
  },
  {
   "cell_type": "code",
   "execution_count": 26,
   "id": "e3160db2-b94b-42c5-8222-0b9f948d0550",
   "metadata": {},
   "outputs": [
    {
     "data": {
      "text/html": [
       "<div>\n",
       "<style scoped>\n",
       "    .dataframe tbody tr th:only-of-type {\n",
       "        vertical-align: middle;\n",
       "    }\n",
       "\n",
       "    .dataframe tbody tr th {\n",
       "        vertical-align: top;\n",
       "    }\n",
       "\n",
       "    .dataframe thead th {\n",
       "        text-align: right;\n",
       "    }\n",
       "</style>\n",
       "<table border=\"1\" class=\"dataframe\">\n",
       "  <thead>\n",
       "    <tr style=\"text-align: right;\">\n",
       "      <th></th>\n",
       "      <th>year</th>\n",
       "      <th>make</th>\n",
       "      <th>model</th>\n",
       "      <th>trim</th>\n",
       "      <th>body</th>\n",
       "      <th>transmission</th>\n",
       "      <th>vin</th>\n",
       "      <th>state</th>\n",
       "      <th>condition</th>\n",
       "      <th>odometer</th>\n",
       "      <th>color</th>\n",
       "      <th>interior</th>\n",
       "      <th>seller</th>\n",
       "      <th>mmr</th>\n",
       "      <th>sellingprice</th>\n",
       "      <th>saledate</th>\n",
       "      <th>car_age</th>\n",
       "    </tr>\n",
       "  </thead>\n",
       "  <tbody>\n",
       "    <tr>\n",
       "      <th>346635</th>\n",
       "      <td>2012.0</td>\n",
       "      <td>Mazda</td>\n",
       "      <td>Mazda3</td>\n",
       "      <td>i Touring</td>\n",
       "      <td>Sedan</td>\n",
       "      <td>automatic</td>\n",
       "      <td>jm1bl1v7xc1628089</td>\n",
       "      <td>va</td>\n",
       "      <td>4.6</td>\n",
       "      <td>28858.0</td>\n",
       "      <td>blue</td>\n",
       "      <td>black</td>\n",
       "      <td>jpmorgan chase bank,n.a.</td>\n",
       "      <td>11650.0</td>\n",
       "      <td>12000.0</td>\n",
       "      <td>Thu Feb 26 2015 01:20:00 GMT-0800 (PST)</td>\n",
       "      <td>11.0</td>\n",
       "    </tr>\n",
       "    <tr>\n",
       "      <th>393436</th>\n",
       "      <td>2014.0</td>\n",
       "      <td>Ram</td>\n",
       "      <td>1500</td>\n",
       "      <td>SLT</td>\n",
       "      <td>Quad Cab</td>\n",
       "      <td>automatic</td>\n",
       "      <td>1c6rr7gt8es428598</td>\n",
       "      <td>ca</td>\n",
       "      <td>4.0</td>\n",
       "      <td>17331.0</td>\n",
       "      <td>white</td>\n",
       "      <td>gray</td>\n",
       "      <td>enterprise fm exchange/lease</td>\n",
       "      <td>24500.0</td>\n",
       "      <td>24000.0</td>\n",
       "      <td>Wed Jun 03 2015 05:30:00 GMT-0700 (PDT)</td>\n",
       "      <td>9.0</td>\n",
       "    </tr>\n",
       "    <tr>\n",
       "      <th>535319</th>\n",
       "      <td>2013.0</td>\n",
       "      <td>Kia</td>\n",
       "      <td>Soul</td>\n",
       "      <td>Base</td>\n",
       "      <td>wagon</td>\n",
       "      <td>automatic</td>\n",
       "      <td>kndjt2a54d7559100</td>\n",
       "      <td>oh</td>\n",
       "      <td>4.1</td>\n",
       "      <td>17698.0</td>\n",
       "      <td>red</td>\n",
       "      <td>black</td>\n",
       "      <td>hyundai motor finance</td>\n",
       "      <td>10700.0</td>\n",
       "      <td>11100.0</td>\n",
       "      <td>Tue Jun 16 2015 02:30:00 GMT-0700 (PDT)</td>\n",
       "      <td>10.0</td>\n",
       "    </tr>\n",
       "    <tr>\n",
       "      <th>80411</th>\n",
       "      <td>2012.0</td>\n",
       "      <td>Toyota</td>\n",
       "      <td>Camry</td>\n",
       "      <td>XLE</td>\n",
       "      <td>Sedan</td>\n",
       "      <td>automatic</td>\n",
       "      <td>4t1bf1fk1cu044829</td>\n",
       "      <td>oh</td>\n",
       "      <td>3.2</td>\n",
       "      <td>28487.0</td>\n",
       "      <td>silver</td>\n",
       "      <td>gray</td>\n",
       "      <td>toyota financial services</td>\n",
       "      <td>15750.0</td>\n",
       "      <td>15000.0</td>\n",
       "      <td>Tue Jan 13 2015 09:30:00 GMT-0800 (PST)</td>\n",
       "      <td>11.0</td>\n",
       "    </tr>\n",
       "    <tr>\n",
       "      <th>477197</th>\n",
       "      <td>2003.0</td>\n",
       "      <td>Mazda</td>\n",
       "      <td>Mazda6</td>\n",
       "      <td>s</td>\n",
       "      <td>sedan</td>\n",
       "      <td>automatic</td>\n",
       "      <td>1yvfp80d135m29737</td>\n",
       "      <td>pa</td>\n",
       "      <td>1.9</td>\n",
       "      <td>122809.0</td>\n",
       "      <td>white</td>\n",
       "      <td>beige</td>\n",
       "      <td>r hollenshead auto sales inc</td>\n",
       "      <td>2475.0</td>\n",
       "      <td>2500.0</td>\n",
       "      <td>Fri May 29 2015 02:00:00 GMT-0700 (PDT)</td>\n",
       "      <td>20.0</td>\n",
       "    </tr>\n",
       "  </tbody>\n",
       "</table>\n",
       "</div>"
      ],
      "text/plain": [
       "          year    make   model       trim      body transmission  \\\n",
       "346635  2012.0   Mazda  Mazda3  i Touring     Sedan    automatic   \n",
       "393436  2014.0     Ram    1500        SLT  Quad Cab    automatic   \n",
       "535319  2013.0     Kia    Soul       Base     wagon    automatic   \n",
       "80411   2012.0  Toyota   Camry        XLE     Sedan    automatic   \n",
       "477197  2003.0   Mazda  Mazda6          s     sedan    automatic   \n",
       "\n",
       "                      vin state  condition  odometer   color interior  \\\n",
       "346635  jm1bl1v7xc1628089    va        4.6   28858.0    blue    black   \n",
       "393436  1c6rr7gt8es428598    ca        4.0   17331.0   white     gray   \n",
       "535319  kndjt2a54d7559100    oh        4.1   17698.0     red    black   \n",
       "80411   4t1bf1fk1cu044829    oh        3.2   28487.0  silver     gray   \n",
       "477197  1yvfp80d135m29737    pa        1.9  122809.0   white    beige   \n",
       "\n",
       "                              seller      mmr  sellingprice  \\\n",
       "346635      jpmorgan chase bank,n.a.  11650.0       12000.0   \n",
       "393436  enterprise fm exchange/lease  24500.0       24000.0   \n",
       "535319         hyundai motor finance  10700.0       11100.0   \n",
       "80411      toyota financial services  15750.0       15000.0   \n",
       "477197  r hollenshead auto sales inc   2475.0        2500.0   \n",
       "\n",
       "                                       saledate  car_age  \n",
       "346635  Thu Feb 26 2015 01:20:00 GMT-0800 (PST)     11.0  \n",
       "393436  Wed Jun 03 2015 05:30:00 GMT-0700 (PDT)      9.0  \n",
       "535319  Tue Jun 16 2015 02:30:00 GMT-0700 (PDT)     10.0  \n",
       "80411   Tue Jan 13 2015 09:30:00 GMT-0800 (PST)     11.0  \n",
       "477197  Fri May 29 2015 02:00:00 GMT-0700 (PDT)     20.0  "
      ]
     },
     "execution_count": 26,
     "metadata": {},
     "output_type": "execute_result"
    }
   ],
   "source": [
    "car_prices_df.head()"
   ]
  },
  {
   "cell_type": "markdown",
   "id": "66ad1af6-6b75-4004-bbbb-705f34795492",
   "metadata": {},
   "source": [
    "## Datasets Generation"
   ]
  },
  {
   "cell_type": "code",
   "execution_count": 27,
   "id": "04045a28-0bb1-4f6a-9690-a6a72be2cddb",
   "metadata": {},
   "outputs": [],
   "source": [
    "# Defining the target variable and features\n",
    "target = 'sellingprice'\n",
    "features = car_prices_df.columns.drop([target, 'vin', 'seller', 'saledate', 'mmr'])  # Excluding non-relevant features"
   ]
  },
  {
   "cell_type": "code",
   "execution_count": 28,
   "id": "5c35fb4a-ca93-482d-8d63-0c30b8850e6e",
   "metadata": {},
   "outputs": [],
   "source": [
    "X = car_prices_df[features]\n",
    "y = car_prices_df[target]"
   ]
  },
  {
   "cell_type": "code",
   "execution_count": 29,
   "id": "eb800181-c1da-496a-9b15-b0e2d2a3a47f",
   "metadata": {},
   "outputs": [],
   "source": [
    "# Splitting the dataset into training (70%), validation (15%), and test (15%) sets\n",
    "X_train, X_temp, y_train, y_temp = train_test_split(X, y, test_size=0.3, random_state=42)\n",
    "X_val, X_test, y_val, y_test = train_test_split(X_temp, y_temp, test_size=0.5, random_state=42)"
   ]
  },
  {
   "cell_type": "markdown",
   "id": "9916bc9e-8a0e-4533-a929-e716d7400314",
   "metadata": {},
   "source": [
    "## Feature Engineering"
   ]
  },
  {
   "cell_type": "markdown",
   "id": "8fbd909f-c9ee-4a4d-ac58-42b4ab9a955d",
   "metadata": {},
   "source": [
    "1. **Feature Scaling/Normalization**\n",
    "   - **Application of MinMaxScaler**: The numerical columns in the dataset were scaled using MinMaxScaler. This scaling method transforms features by scaling them to a given range, typically between 0 and 1. This is particularly useful in optimizing the performance of machine learning models, especially those sensitive to the scale of input features.\n",
    "\n",
    "2. **Feature Selection and Categorical Variable Encoding**\n",
    "   - **Label Encoding for Categorical Variables**: Categorical variables in the dataset were transformed using Label Encoding. This process involves converting each unique category within a column into a numerical value. Label Encoding is an effective method for preparing categorical data for many machine learning algorithms that require numerical input."
   ]
  },
  {
   "cell_type": "code",
   "execution_count": 30,
   "id": "781d923e-c940-4423-99b1-cb19c2145a75",
   "metadata": {},
   "outputs": [],
   "source": [
    "## Scaling Numerical Features\n",
    "numerical_cols = X_train.select_dtypes(include=['float64', 'int64']).columns\n",
    "scaler = MinMaxScaler()\n",
    "X_train[numerical_cols] = scaler.fit_transform(X_train[numerical_cols])\n",
    "X_val[numerical_cols] = scaler.transform(X_val[numerical_cols])\n",
    "X_test[numerical_cols] = scaler.transform(X_test[numerical_cols])"
   ]
  },
  {
   "cell_type": "code",
   "execution_count": 32,
   "id": "b3f06204-df70-4859-8a5a-f22a35151541",
   "metadata": {},
   "outputs": [],
   "source": [
    "categorical_cols = X_train.select_dtypes(include=['object']).columns"
   ]
  },
  {
   "cell_type": "code",
   "execution_count": 33,
   "id": "44a3e366-8b8c-46a6-aa28-9f0712e47909",
   "metadata": {},
   "outputs": [],
   "source": [
    "# One-Hot Encoding for Categorical Variables\n",
    "X_train = pd.get_dummies(X_train, columns=categorical_cols)\n",
    "X_val = pd.get_dummies(X_val, columns=categorical_cols).reindex(columns=X_train.columns, fill_value=0)\n",
    "X_test = pd.get_dummies(X_test, columns=categorical_cols).reindex(columns=X_train.columns, fill_value=0)"
   ]
  },
  {
   "cell_type": "code",
   "execution_count": 34,
   "id": "8c52a08c-0db1-4e5d-bf60-3051501c948c",
   "metadata": {},
   "outputs": [
    {
     "data": {
      "text/plain": [
       "(195584, 41911, 41911)"
      ]
     },
     "execution_count": 34,
     "metadata": {},
     "output_type": "execute_result"
    }
   ],
   "source": [
    "# Displaying the sizes of each dataset\n",
    "len(X_train), len(X_val), len(X_test)"
   ]
  },
  {
   "cell_type": "markdown",
   "id": "6fc25b85-b30d-4250-9788-a7f0361465b4",
   "metadata": {},
   "source": [
    "The Feature Engineering process has been completed with the following steps:\n",
    "\n",
    "1. **New Feature Creation**:\n",
    "   - A new feature, `Car Age`, has been created. It is calculated as the current year minus the car's year, providing insight into the vehicle's age.\n",
    "\n",
    "2. **Feature Scaling/Normalization**:\n",
    "   - The numerical features (`Year`, `Condition`, `Odometer`, `MMR`, `Selling Price`, `car_age`) have been scaled using MinMaxScaler to normalize their values.\n",
    "\n",
    "3. **Categorical Variable Encoding**:\n",
    "   - One-Hot encoding has been applied to the categorical variables (`Make`, `Model`, `Trim`, `Body`, `Transmission`, `Color`, `Interior`, `State`).\n",
    "\n",
    "The dataset is now prepared with appropriately scaled and encoded features, making it suitable for model fitting and analysis."
   ]
  },
  {
   "cell_type": "markdown",
   "id": "b98086fc-0ef6-4b39-a67c-1f947c5dc879",
   "metadata": {},
   "source": [
    "Excluding the `mmr` (Manheim Market Report) value from our features when predicting selling prices is a prudent decision for several reasons:s.1\n",
    "\r\n",
    "2. **Model Generalization**: By relying on `mmr`, the model may not generalize well to situations where `mmr` is not available or is inaccurate. Excluding it encourages the model to use other features that contribute to the selling price, potentially leading to better generalizatio2.\r\n",
    "\r\n",
    "3. **Real-world Application**: In real-world scenaweou may want to predict the selling price without having access to `mmr`, especially before a car goes to auction. Building a model without `mmr` ensures it's applicable in these scenar values.\r\n",
    "\r\n",
    "In summary, excluding `mmr` helps create a model that is more likely to uncover and rely on the true factors that influence a car's selling price, rather than a proxy or summary of those factors."
   ]
  },
  {
   "cell_type": "markdown",
   "id": "9a586a37-a7c3-45c4-9c23-24a3c10b83ea",
   "metadata": {},
   "source": [
    "## Model Fitting"
   ]
  },
  {
   "cell_type": "markdown",
   "id": "a47ddba6-74f1-45d3-b593-e09bddaf702f",
   "metadata": {},
   "source": [
    "### 1. Random Forest Regressor Model"
   ]
  },
  {
   "cell_type": "code",
   "execution_count": 35,
   "id": "00b9e965-10b2-49cd-983c-127aef6ef812",
   "metadata": {},
   "outputs": [],
   "source": [
    "# Initialize the Random Forest Regressor\n",
    "rf_model = RandomForestRegressor(random_state=42)"
   ]
  },
  {
   "cell_type": "code",
   "execution_count": 36,
   "id": "e0ac210d-22f9-47dc-acdb-c5d8db921fcb",
   "metadata": {},
   "outputs": [],
   "source": [
    "param_grid = {\n",
    "    'n_estimators': [100, 200],  # Number of trees in the forest\n",
    "    'max_depth': [10, 20],       # Maximum depth of the tree\n",
    "}"
   ]
  },
  {
   "cell_type": "code",
   "execution_count": 37,
   "id": "11f2623a-0d01-41ac-a4e1-900664fc807d",
   "metadata": {},
   "outputs": [],
   "source": [
    "# Grid search with cross-validation\n",
    "grid_search = GridSearchCV(estimator=rf_model, param_grid=param_grid, cv=3, n_jobs=-1, verbose=2)"
   ]
  },
  {
   "cell_type": "code",
   "execution_count": 38,
   "id": "2b9eaa25-a616-421f-b77c-3ce9c6904c2f",
   "metadata": {},
   "outputs": [
    {
     "name": "stdout",
     "output_type": "stream",
     "text": [
      "Fitting 3 folds for each of 4 candidates, totalling 12 fits\n"
     ]
    },
    {
     "name": "stderr",
     "output_type": "stream",
     "text": [
      "\n",
      "KeyboardInterrupt\n",
      "\n"
     ]
    }
   ],
   "source": [
    "# Fit the grid search to the data\n",
    "grid_search.fit(X_train, y_train)"
   ]
  },
  {
   "cell_type": "code",
   "execution_count": null,
   "id": "6a7129fc-8241-4685-8b59-69733ff08695",
   "metadata": {},
   "outputs": [],
   "source": [
    "# Best parameters and model\n",
    "best_params = grid_search.best_params_\n",
    "best_rf_model = grid_search.best_estimator_"
   ]
  },
  {
   "cell_type": "code",
   "execution_count": null,
   "id": "022cbbef-6c39-4096-8fcc-0871d2f662b9",
   "metadata": {},
   "outputs": [],
   "source": [
    "best_rf_model"
   ]
  },
  {
   "cell_type": "code",
   "execution_count": null,
   "id": "93e773fb-858a-4590-9f7e-3e5dee2c2361",
   "metadata": {},
   "outputs": [],
   "source": [
    "# Train the model with Best Model\n",
    "best_rf_model.fit(X_train, y_train)"
   ]
  },
  {
   "cell_type": "code",
   "execution_count": null,
   "id": "73cd83e3-c20b-4f5d-a719-c27f2a0f6665",
   "metadata": {},
   "outputs": [],
   "source": [
    "# Make predictions on test data\n",
    "y_pred = best_rf_model.predict(X_test)"
   ]
  },
  {
   "cell_type": "code",
   "execution_count": null,
   "id": "7b4c5af8-f482-4544-8841-6cb32809dbda",
   "metadata": {},
   "outputs": [],
   "source": [
    "# Calculate evaluation metrics\n",
    "mae = mean_absolute_error(y_test, y_pred)\n",
    "r2 = r2_score(y_test, y_pred)"
   ]
  },
  {
   "cell_type": "code",
   "execution_count": null,
   "id": "e2f641d7-7a94-48ce-a492-5ddd82023694",
   "metadata": {},
   "outputs": [],
   "source": [
    "# Print the metrics\n",
    "print(f\"Mean Absolute Error (MAE): {mae}\")\n",
    "print(f\"R-squared Score: {r2}\")"
   ]
  },
  {
   "cell_type": "code",
   "execution_count": null,
   "id": "83ff1e9e-0e7a-497d-afd8-283bf402a70f",
   "metadata": {},
   "outputs": [],
   "source": [
    "# Plotting actual vs predicted values\n",
    "plt.figure(figsize=(10, 6))\n",
    "plt.scatter(y_test, y_pred, alpha=0.7)\n",
    "plt.xlabel('Actual Values')\n",
    "plt.ylabel('Predicted Values')\n",
    "plt.title('Actual vs. Predicted Values')\n",
    "plt.plot([y_test.min(), y_test.max()], [y_test.min(), y_test.max()], color='red')  # Diagonal line\n",
    "plt.show()"
   ]
  },
  {
   "cell_type": "markdown",
   "id": "4900627b-21b0-4674-a037-c69c72ae5130",
   "metadata": {},
   "source": [
    "**Result Analysis**\n",
    "\n",
    "**1. Model Performance Metrics**:\n",
    "- The **Mean Absolute Error (MAE)** of 0.0432 is quite low, which indicates that on average, the predictions deviate from the actual values by this small amount.\n",
    "- The **R-squared Score** of 0.8892 is relatively high, suggesting that the model explains approximately 88.92% of the variance in the target variable, indicating a strong model performance.\n",
    "\n",
    "**2. Scatter Plot Insights**:\n",
    "- The scatter plot of actual vs. predicted values shows a concentration of points along the red diagonal line, which implies that many predictions are close to the actual values.\n",
    "- There is some spread away from the diagonal line, indicating areas where the predictions are less accurate.\n",
    "- The vertical lines of points suggest that for certain actual values, the predictions vary widely, which may indicate outliers or limitations in the model's ability to capture the underlying pattern for those points."
   ]
  },
  {
   "cell_type": "code",
   "execution_count": null,
   "id": "dd98b505-f135-46da-bf04-7a9af92f0085",
   "metadata": {},
   "outputs": [],
   "source": [
    "# Get feature importances from the random forest model\n",
    "feature_importances = best_rf_model.feature_importances_"
   ]
  },
  {
   "cell_type": "code",
   "execution_count": null,
   "id": "872f9000-107d-4287-84a6-ad0a71f0caeb",
   "metadata": {},
   "outputs": [],
   "source": [
    "# Create a pandas series with feature names and their importance\n",
    "important_features = pd.Series(feature_importances, index=X_train.columns)"
   ]
  },
  {
   "cell_type": "code",
   "execution_count": null,
   "id": "f5f4e3f4-95e1-4140-bf8f-0db692e21e19",
   "metadata": {},
   "outputs": [],
   "source": [
    "# Sort the features by importance\n",
    "features_sorted = important_features.sort_values(ascending=False)"
   ]
  },
  {
   "cell_type": "code",
   "execution_count": null,
   "id": "4006f828-b231-4868-ab99-ba85b6452567",
   "metadata": {},
   "outputs": [],
   "source": [
    "# Plotting\n",
    "plt.figure(figsize=(10, 6))\n",
    "features_sorted.plot(kind='bar')\n",
    "plt.title('Feature Importances')\n",
    "plt.xlabel('Features')\n",
    "plt.ylabel('Importance')\n",
    "plt.show()"
   ]
  },
  {
   "cell_type": "markdown",
   "id": "d0251627-c533-4dba-9eae-d1e1973c54c5",
   "metadata": {},
   "source": [
    "**Result Analysis**\n",
    "\n",
    "**1. Feature Importance Insights**:\n",
    " - The bar chart shows that `car_age` is by far the most important feature in predicting the target variable, which may suggest that the age of a car is a strong indicator of its price.\n",
    " - Other features like `body`, `odometer`, `trim`, and `model` also have some significance but are notably less important than `car_age`.\n",
    " - Features like `state`, `color`, `interior`, and `transmission` have the lowest importance scores, indicating that they have the least influence on the model's predictions.\n",
    "\n",
    "**2. Model Interpretation**:\n",
    " - The dominance of `car_age` as a predictive feature can be rationalized by the fact that car value typically depreciates over time.\n",
    " - The lower importance of features like `color` and `interior` might be due to these characteristics being more related to personal preference rather than the car's market value.\n",
    " - The importance of the `odometer` reading aligns with conventional wisdom that higher mileage often correlates with lower car value."
   ]
  },
  {
   "cell_type": "markdown",
   "id": "adb22e25-29f6-4ac9-b45e-07a77563babe",
   "metadata": {},
   "source": [
    "### 2. Neural Network"
   ]
  },
  {
   "cell_type": "code",
   "execution_count": null,
   "id": "8d064972-1ab8-4645-9d41-f245c330e452",
   "metadata": {},
   "outputs": [],
   "source": [
    "# Neural Network Model Setup\n",
    "model = Sequential()\n",
    "model.add(Dense(256, activation='relu', input_shape=(X_train.shape[1],), kernel_regularizer=l1_l2(l1=1e-5, l2=1e-4)))\n",
    "model.add(BatchNormalization())\n",
    "model.add(Dropout(0.3))  # Increased dropout rate\n",
    "model.add(Dense(128, activation='relu', kernel_regularizer=l1_l2(l1=1e-5, l2=1e-4)))\n",
    "model.add(BatchNormalization())\n",
    "model.add(Dropout(0.3))\n",
    "model.add(Dense(64, activation='relu'))\n",
    "model.add(Dense(1, activation='linear'))  # Single output node for regression"
   ]
  },
  {
   "cell_type": "markdown",
   "id": "27b7c226-8f90-424a-8417-0aaa727f99af",
   "metadata": {},
   "source": [
    "**Model Explaination**\n",
    "\n",
    "1. **Sequential Model**: \n",
    "   - The `Sequential` model is a linear stack of layers. It allows usyou to create models layer-by-layer in a step-by-step fashion.\n",
    "\n",
    "2. **First Dense Layer (Input Layer)**:\n",
    "   - `Dense(256, activation='relu', input_shape=(X_train.shape[1],), kernel_regularizer=l1_l2(l1=1e-5, l2=1e-4))`:\n",
    "     - This is the first hidden layer in the network, and it's a densely connected (fully connected) neural layer.\n",
    "     - It has 256 neurons or units.\n",
    "     - The `activation` parameter with `relu` (rectified linear activation) means that this layer will output the input directly if it is positive, otherwise, it will output zero.\n",
    "     - The `input_shape` parameter is set to the shape of the training data, meaning this layer expects each input to have `X_train.shape[1]` features.\n",
    "     - `kernel_regularizer` applies regularization to the layer's weights. Here, both L1 and L2 regularization are used, which helps to prevent overfitting by penalizing large weights. L1 regularization can also lead to sparsity, which means some weights can become exactly zero, effectively simplifying the model.\n",
    "\n",
    "3. **Batch Normalization Layer**:\n",
    "   - `BatchNormalization()`:\n",
    "     - This layer normalizes the output of the previous layer by adjusting and scaling the activations. It helps to stabilize the learning process and drastically reduces the number of training epochs required to train deep networks.\n",
    "\n",
    "4. **Dropout Layer**:\n",
    "   - `Dropout(0.3)`:\n",
    "     - This layer randomly sets a fraction `0.3` of the input units to 0 at each update during training, which helps prevent overfitting. It's a form of regularization that forces the network to learn more robust features that are useful in conjunction with many different random subsets of the other neurons.\n",
    "\n",
    "5. **Second Dense Layer**:\n",
    "   - Similar to the first dense layer, this layer has 128 neurons and also uses ReLU activation and L1/L2 regularization. It serves as a deeper feature representation layer, learning more complex patterns than the first layer.\n",
    "\n",
    "6. **Another Batch Normalization and Dropout**:\n",
    "   - These are applied again to further regularize the model and speed up training, ensuring that the activations do not shift too much, which allows higher learning rates and faster convergence.\n",
    "\n",
    "7. **Third Dense Layer**:\n",
    "   - This is another fully connected layer with 64 neurons, also using ReLU activation. It continues the pattern of the network, where each subsequent layer has fewer neurons, focusing the network into gradually learning more abstract representations.\n",
    "\n",
    "8. **Output Layer**:\n",
    "   - `Dense(1, activation='linear')`:\n",
    "     - The final layer is a dense layer with a single neuron, as this is a regression problem. The `linear` activation function means that the output is the weighted sum of the inputs plus a bias term, which is suitable for regression where we want to predict a continuous value.\n",
    "\n",
    "This neural network architecture with multiple layers, regularization, normalization, and dropout is a robust setup for a regression problem. It's designed to learn complex patterns from the data while avoiding overfitting through various regularization techniques."
   ]
  },
  {
   "cell_type": "code",
   "execution_count": null,
   "id": "ef7ef2e3-e02d-4e0f-ae48-52b3dc8bf215",
   "metadata": {},
   "outputs": [],
   "source": [
    "# Compile the model with a tuned learning rate\n",
    "adam_optimizer = Adam(learning_rate=0.001)  # Adjust the learning rate as needed\n",
    "model.compile(optimizer=adam_optimizer, loss='mean_squared_error')"
   ]
  },
  {
   "cell_type": "code",
   "execution_count": null,
   "id": "1d36c40a-68a1-4202-be71-bbcbc52dca41",
   "metadata": {},
   "outputs": [],
   "source": [
    "# Callback to print loss after each epoch\n",
    "print_loss_callback = LambdaCallback(\n",
    "    on_epoch_end=lambda epoch, logs: print(f\" Epoch {epoch+1}: Loss = {logs['loss']}\")\n",
    ")"
   ]
  },
  {
   "cell_type": "code",
   "execution_count": null,
   "id": "83c6b128-b6f2-416d-913e-48557a3b2fbb",
   "metadata": {},
   "outputs": [],
   "source": [
    "# Early stopping to prevent overfitting\n",
    "early_stopping = EarlyStopping(monitor='val_loss', patience=5)"
   ]
  },
  {
   "cell_type": "code",
   "execution_count": null,
   "id": "12a96cd2-2fd6-4388-b691-01fe0330f09b",
   "metadata": {},
   "outputs": [],
   "source": [
    "# Fit the model to the training data\n",
    "history = model.fit(\n",
    "    X_train, \n",
    "    y_train, \n",
    "    epochs=100,\n",
    "    validation_data=(X_val, y_val),\n",
    "    callbacks=[early_stopping, print_loss_callback],\n",
    "    verbose=1\n",
    ")"
   ]
  },
  {
   "cell_type": "code",
   "execution_count": null,
   "id": "34b6c77d-67ab-465a-ab05-6231f2802f6e",
   "metadata": {},
   "outputs": [],
   "source": [
    "# Plotting the loss function evolution over epochs\n",
    "loss = history.history['loss']\n",
    "val_loss = history.history['val_loss']\n",
    "epochs = range(1, len(loss) + 1)"
   ]
  },
  {
   "cell_type": "code",
   "execution_count": null,
   "id": "f025ab2a-ff0b-436e-9ca9-4acaa73da1dd",
   "metadata": {},
   "outputs": [],
   "source": [
    "# Plotting\n",
    "plt.figure(figsize=(12, 6))\n",
    "plt.plot(epochs, loss, 'r-', label='Training loss')\n",
    "plt.plot(epochs, val_loss, 'g-', label='Validation loss')\n",
    "plt.title('Training and Validation Loss')\n",
    "plt.xlabel('Epochs')\n",
    "plt.ylabel('Loss')\n",
    "plt.legend()\n",
    "plt.show()"
   ]
  },
  {
   "cell_type": "markdown",
   "id": "befa09a3-965d-4c57-9964-3a216814cb79",
   "metadata": {},
   "source": [
    "**Model Loss Over Epochs**:\n",
    "- The training loss decreases consistently, which indicates that the model is learning from the training data.\n",
    "- The validation loss decreases and then fluctuates, suggesting the model might be beginning to overfit the training data after certain epochs. However, early stopping likely mitigated severe overfitting.\n",
    "- The spikes in validation loss indicate potential instability in the learning process, possibly due to the learning rate or the randomness in the dropout layers."
   ]
  },
  {
   "cell_type": "code",
   "execution_count": null,
   "id": "1a5d323b-032b-4324-8443-db17740356c6",
   "metadata": {},
   "outputs": [],
   "source": [
    "# Predictions on test dataset\n",
    "nn_predictions = model.predict(X_test).flatten()"
   ]
  },
  {
   "cell_type": "code",
   "execution_count": null,
   "id": "1d41b1f1-ef5c-44f8-a644-dc732a4fdf67",
   "metadata": {},
   "outputs": [],
   "source": [
    "# Evaluation metrics\n",
    "nn_mae = mean_absolute_error(y_test, nn_predictions)\n",
    "nn_r2 = r2_score(y_test, nn_predictions)"
   ]
  },
  {
   "cell_type": "code",
   "execution_count": null,
   "id": "a77fc3b6-52b7-4c5c-9cfb-2b9360e0d42f",
   "metadata": {},
   "outputs": [],
   "source": [
    "print(f\"Neural Network - Mean Absolute Error: {nn_mae}\")\n",
    "print(f\"Neural Network - R² Score: {nn_r2}\")"
   ]
  },
  {
   "cell_type": "markdown",
   "id": "7827247a-4e42-40a6-9c76-84fd9178dc63",
   "metadata": {},
   "source": [
    "**Model Performance Metrics**:\n",
    " - The **Mean Absolute Error (MAE)** for the neural network is 0.1297, which is higher compared to the Random Forest model's MAE.\n",
    " - The **R² Score** for the neural network is 0.4715, significantly lower than that of the Random Forest model, indicating that the neural network explains less variance of the target variable and is less accurate in predictions."
   ]
  },
  {
   "cell_type": "code",
   "execution_count": null,
   "id": "44c0c979-9d83-4102-8062-e65b796601bc",
   "metadata": {},
   "outputs": [],
   "source": [
    "# Plotting actual vs predicted values\n",
    "plt.figure(figsize=(10, 6))\n",
    "plt.scatter(y_test, nn_predictions, alpha=0.7)\n",
    "plt.xlabel('Actual Values')\n",
    "plt.ylabel('Predicted Values')\n",
    "plt.title('Actual vs. Predicted Values')\n",
    "plt.plot([y_test.min(), y_test.max()], [y_test.min(), y_test.max()], color='red')  # Diagonal line\n",
    "plt.show()"
   ]
  },
  {
   "cell_type": "markdown",
   "id": "80f6e207-b749-4d4e-88d7-eba64512c0a7",
   "metadata": {},
   "source": [
    "**Actual vs. Predicted Values Plot**:\n",
    "- The scatter plot shows more significant deviation from the diagonal line compared to the Random Forest model, indicating less accurate predictions.\n",
    "- The distribution of predicted values is more concentrated around a specific range, suggesting the model may not be as effective at capturing the true variance in the data."
   ]
  },
  {
   "cell_type": "markdown",
   "id": "3c5bdcaf-2637-4965-b990-b5bcc3e2de0c",
   "metadata": {},
   "source": [
    "### LinearRegression"
   ]
  },
  {
   "cell_type": "code",
   "execution_count": null,
   "id": "d3e5ef21-8092-49e9-9ff2-25dcc339f4ef",
   "metadata": {},
   "outputs": [],
   "source": [
    "from sklearn.linear_model import LinearRegression\n",
    "\n",
    "# Initialize and fit the Linear Regression model\n",
    "linear_model = LinearRegression()\n",
    "linear_model.fit(X_train, y_train)\n",
    "\n",
    "# Predictions and evaluation\n",
    "linear_predictions = linear_model.predict(X_test)\n",
    "linear_mae = mean_absolute_error(y_test, linear_predictions)\n",
    "linear_r2 = r2_score(y_test, linear_predictions)\n",
    "\n",
    "print(f\"Linear Regression - Mean Absolute Error: {linear_mae}\")\n",
    "print(f\"Linear Regression - R² Score: {linear_r2}\")"
   ]
  },
  {
   "cell_type": "markdown",
   "id": "6cf85937-3b20-49f8-96e3-ed467161fd73",
   "metadata": {},
   "source": [
    "### KNeighborsRegressor"
   ]
  },
  {
   "cell_type": "code",
   "execution_count": null,
   "id": "d48b6457-337b-4727-b68d-9f5145dc0972",
   "metadata": {},
   "outputs": [],
   "source": [
    "from sklearn.neighbors import KNeighborsRegressor\n",
    "\n",
    "# Initialize and fit the KNN model\n",
    "knn_model = KNeighborsRegressor(n_neighbors=5)  # You can tune the number of neighbors\n",
    "knn_model.fit(X_train, y_train)\n",
    "\n",
    "# Predictions and evaluation\n",
    "knn_predictions = knn_model.predict(X_test)\n",
    "knn_mae = mean_absolute_error(y_test, knn_predictions)\n",
    "knn_r2 = r2_score(y_test, knn_predictions)\n",
    "\n",
    "print(f\"KNN - Mean Absolute Error: {knn_mae}\")\n",
    "print(f\"KNN - R² Score: {knn_r2}\")"
   ]
  },
  {
   "cell_type": "markdown",
   "id": "02697042-44a7-4d47-915d-b87bec376caa",
   "metadata": {},
   "source": [
    "### XGBoost"
   ]
  },
  {
   "cell_type": "code",
   "execution_count": null,
   "id": "6a79e92b-4174-499c-836a-d3e391f62e59",
   "metadata": {},
   "outputs": [],
   "source": [
    "import xgboost as xgb\n",
    "\n",
    "# Initialize and fit the XGBoost model\n",
    "xgboost_model = xgb.XGBRegressor(objective ='reg:squarederror')  # Setting the objective for regression\n",
    "xgboost_model.fit(X_train, y_train)\n",
    "\n",
    "# Predictions and evaluation\n",
    "xgboost_predictions = xgboost_model.predict(X_test)\n",
    "xgboost_mae = mean_absolute_error(y_test, xgboost_predictions)\n",
    "xgboost_r2 = r2_score(y_test, xgboost_predictions)\n",
    "\n",
    "print(f\"XGBoost - Mean Absolute Error: {xgboost_mae}\")\n",
    "print(f\"XGBoost - R² Score: {xgboost_r2}\")"
   ]
  },
  {
   "cell_type": "markdown",
   "id": "0c70e66e-4223-4e5d-9310-cb415a63c62e",
   "metadata": {},
   "source": [
    "**Result Analysis**\n",
    "\n",
    "1. **Linear Regression Performance**:\n",
    "   - **Mean Absolute Error (MAE)**: The MAE for the Linear Regression model is 0.1169, which is moderately low, but higher than the MAE of the KNN and XGBoost models. This indicates that on average, the predictions deviate from the actual values by approximately 11.69%.\n",
    "   - **R-squared (R²) Score**: The R² Score is 0.5194, suggesting that the Linear Regression model explains about 51.94% of the variance in the target variable. This is lower than the performance of the Random Forest model but higher than that of the neural network model.\n",
    "\n",
    "2. **K-Nearest Neighbors (KNN) Performance**:\n",
    "   - **Mean Absolute Error (MAE)**: The MAE for the KNN model is 0.0949, showing that the model has a lower average deviation in predictions compared to the Linear Regression model.\n",
    "   - **R-squared (R²) Score**: With an R² Score of 0.5897, the KNN model explains approximately 58.97% of the variance, which is an improvement over the Linear Regression model but not as high as the XGBoost model.\n",
    "\n",
    "3. **XGBoost Performance**:\n",
    "   - **Mean Absolute Error (MAE)**: The XGBoost model achieved the lowest MAE of 0.0487 among all models discussed, indicating very high predictive accuracy.\n",
    "   - **R-squared (R²) Score**: The R² Score is 0.8732, which is substantially higher than the other models, implying that the XGBoost model explains about 87.32% of the variance in the target variable. This shows a strong predictive performance.\n",
    "\n",
    "**Sub Analysis**:\n",
    "- The **Random Forest model outperforms** all other models in terms of both MAE and R² Score, making it the most accurate and reliable for this particular prediction task among the models tested.\n",
    "- The **KNN model** performs better than the Linear Regression and neural network models but is not as effective as the Random Forest model.\n",
    "- The **Linear Regression model** has the lowest R² Score among the models, suggesting it is the least effective at capturing the complexity of the dataset.\n",
    "- Compared to the earlier neural network's performance (R² Score of 0.4715), the XGBoost model is vastly superior, while the KNN and Linear Regression models offer moderate improvements."
   ]
  },
  {
   "cell_type": "markdown",
   "id": "9b2f840b-1982-4aa3-ae79-04d7c35f12db",
   "metadata": {},
   "source": [
    "## 1. Influence of Age and Mileage"
   ]
  },
  {
   "cell_type": "markdown",
   "id": "6f588b9b-c537-4d58-b8d5-f63165435d66",
   "metadata": {},
   "source": [
    "We'll analyze how the age of a car (as represented by the `Year` and `Car Age`) and its mileage (`Odometer`) influence its selling price across different makes and models."
   ]
  },
  {
   "cell_type": "code",
   "execution_count": null,
   "id": "da93ef38-f504-41ce-8e97-e7d9afdf9813",
   "metadata": {},
   "outputs": [],
   "source": [
    "# Visualizing the relationship between Car Age, Odometer, and Selling Price\n",
    "plt.figure(figsize=(14, 6))\n",
    "\n",
    "# Car Age vs. Selling Price\n",
    "plt.subplot(1, 2, 1)\n",
    "sns.scatterplot(data=car_prices_df, x='car_age', y='sellingprice', hue='make', alpha=0.6)\n",
    "plt.title('Car Age vs. Selling Price')\n",
    "plt.xlabel('Car Age')\n",
    "plt.ylabel('Selling Price')\n",
    "\n",
    "# Odometer vs. Selling Price\n",
    "plt.subplot(1, 2, 2)\n",
    "sns.scatterplot(data=car_prices_df, x='odometer', y='sellingprice', hue='make', alpha=0.6)\n",
    "plt.title('Odometer vs. Selling Price')\n",
    "plt.xlabel('Odometer')\n",
    "plt.ylabel('Selling Price')\n",
    "\n",
    "plt.tight_layout()\n",
    "plt.show()"
   ]
  },
  {
   "cell_type": "markdown",
   "id": "4cdd5ece-2c67-4c37-a5dc-0efa8b657c57",
   "metadata": {},
   "source": [
    "**Analysis**:\n",
    "\n",
    "#### Car Age vs. Selling Price\n",
    "The first plot represents car age against selling price with a color hue indicating different makes of cars. From this plot, it's clear that:\n",
    "\n",
    "- There is a wide distribution of selling prices across all car ages, which may indicate that while age is a factor, it is not the only determinant of a car's selling price.\n",
    "- The spread of selling prices does not seem to narrow significantly with increasing car age, suggesting that other factors might be influencing the selling price alongside age.\n",
    "- Certain makes (indicated by the color hue) maintain higher selling prices despite an increase in car age, which could point to brand value playing a role in depreciation.\n",
    "\n",
    "#### Odometer vs. Selling Price\n",
    "The second plot illustrates the relationship between the odometer reading and the selling price, also with a hue for car makes. From this visualization:\n",
    "\n",
    "- There is a discernible downward trend, indicating that as the odometer reading increases, the selling price tends to decrease.\n",
    "- The density of points is higher at lower odometer readings, suggesting that cars with lower mileage are more commonly sold, and they tend to retain their value better.\n",
    "- There is considerable variation in selling price at similar odometer readings, which again suggests that factors other than mileage, such as make or model, may significantly impact the selling price."
   ]
  },
  {
   "cell_type": "markdown",
   "id": "3ddd7ea7-8bd8-41da-aad2-a0f74c896b91",
   "metadata": {},
   "source": [
    "## 2. Geographical and Sales Trends Impact\n",
    "\n",
    "We'll investigate how the location (`State`) and sales trends (including `MMR` and `Selling Price` as proxies for market trends) affect the depreciation rates of cars."
   ]
  },
  {
   "cell_type": "code",
   "execution_count": null,
   "id": "c49b07ae-9789-4649-8054-b245ed46092d",
   "metadata": {},
   "outputs": [],
   "source": [
    "# Visualizing the relationship between State, MMR, and Selling Price\n",
    "plt.figure(figsize=(14, 6))\n",
    "\n",
    "# State vs. Selling Price\n",
    "plt.subplot(1, 2, 1)\n",
    "sns.boxplot(data=car_prices_df, x='state', y='sellingprice')\n",
    "plt.xticks(rotation=90)\n",
    "plt.title('State vs. Selling Price')\n",
    "plt.xlabel('State')\n",
    "plt.ylabel('Selling Price')\n",
    "\n",
    "# MMR vs. Selling Price\n",
    "plt.subplot(1, 2, 2)\n",
    "sns.scatterplot(data=car_prices_df, x='mmr', y='sellingprice', alpha=0.6)\n",
    "plt.title('MMR vs. Selling Price')\n",
    "plt.xlabel('MMR')\n",
    "plt.ylabel('Selling Price')\n",
    "\n",
    "plt.tight_layout()\n",
    "plt.show()"
   ]
  },
  {
   "cell_type": "markdown",
   "id": "facb8d09-37bd-4ce5-8bcf-66099397ee63",
   "metadata": {},
   "source": [
    "**Analysis**:\r\n",
    "\r\n",
    "#### State vs. Selling Price\r\n",
    "The boxplot for \"State vs. Selling Price\" shows the distribution of selling prices across different states. Observations from the plot include:\r\n",
    "\r\n",
    "- **Variability Across States**: There's a noticeable variability in the median selling prices across different states, which could be due to a variety of factors including local demand, economic conditions, and availability of certain car types.\r\n",
    "- **Outliers**: Several states show a significant number of outliers, indicating that while the general trend in those states might have lower median selling prices, there are still many cars that sell for much higher prices.\r\n",
    "- **Inter-State Differences**: Some states have a wide range of selling prices (large boxes and long whiskers), suggesting a diverse market with a mix of low and high-value vehicle#s.\r\n",
    "\r\n",
    "### MMR vs. Selling Price\r\n",
    "The scatter plot for \"MMR vs. Selling Price\" illustrates the relationship between the Manheim Market Report value and the actual selling price of cars. The observations include:\r\n",
    "\r\n",
    "- **Positive Correlation**: There's a clear positive correlation between MMR and selling price, indicating that as the MMR value increases, the selling price tends to increase as well.\r\n",
    "- **Market Reflection**: The MMR is a strong indicator of the selling price, suggesting that it accurately reflects market trends and the general valuation of vehicles.\r\n",
    "- **Data Density**: The density of points is higher at the lower end of both MMR and selling prices, which may indicate a larger volume of transactions involving lower-vapreciation rates."
   ]
  },
  {
   "cell_type": "markdown",
   "id": "0fe2f5ad-f0dd-4c7a-b681-45951aed8bba",
   "metadata": {},
   "source": [
    "## 3. Transmission Types Influence\n",
    "\n",
    "We'll assess how different transmission types (`Transmission`) influence the selling price, and by extension, the depreciation of various car models."
   ]
  },
  {
   "cell_type": "code",
   "execution_count": null,
   "id": "02aa0dc6-4adc-47be-9114-bf0ddc36fa00",
   "metadata": {},
   "outputs": [],
   "source": [
    "# Visualizing the relationship between Transmission Type and Selling Price\n",
    "plt.figure(figsize=(8, 6))\n",
    "sns.boxplot(data=car_prices_df, x='transmission', y='sellingprice')\n",
    "plt.title('Transmission Type vs. Selling Price')\n",
    "plt.xlabel('Transmission Type')\n",
    "plt.ylabel('Selling Price')\n",
    "\n",
    "plt.show()"
   ]
  },
  {
   "cell_type": "markdown",
   "id": "1ad576a0-fe8d-4923-b195-bdf2e6fa86de",
   "metadata": {},
   "source": [
    "**Analysis**:\n",
    "\n",
    "- **Median Selling Price**: There's a difference in the median selling price between the two transmission types. The median line (indicated by the line inside the box) for one transmission type is slightly higher than the other, suggesting that one type generally sells for more than the other.\n",
    "  \n",
    "- **Price Range and Distribution**: The boxplot shows the interquartile range (IQR), which represents the middle 50% of the price distribution for each transmission type. Both categories have a wide IQR, indicating significant variability in selling prices within each transmission type.\n",
    "\n",
    "- **Outliers**: The plot displays several outliers for both transmission types, especially for the category labeled '0'. These are the data points that lie beyond the whiskers of the boxplot, indicating exceptional cases where cars sold for much higher or lower prices than typical for that transmission type.\n",
    "\n",
    "- **Interpretation**: Transmission type does appear to influence selling price, with one type having a slightly higher median selling price. However, the presence of outliers and the overlap in the IQRs of both types suggest that while transmission may be a factor in determining selling price, it is not the sole determinant, and its influence may be less significant than other factors such as make, model, age, and mileage."
   ]
  }
 ],
 "metadata": {
  "kernelspec": {
   "display_name": "Python 3 (ipykernel)",
   "language": "python",
   "name": "python3"
  },
  "language_info": {
   "codemirror_mode": {
    "name": "ipython",
    "version": 3
   },
   "file_extension": ".py",
   "mimetype": "text/x-python",
   "name": "python",
   "nbconvert_exporter": "python",
   "pygments_lexer": "ipython3",
   "version": "3.11.6"
  }
 },
 "nbformat": 4,
 "nbformat_minor": 5
}
