{
 "cells": [
  {
   "cell_type": "markdown",
   "id": "cf2ad640-1ede-4f2b-9bc3-0dd040da40eb",
   "metadata": {},
   "source": [
    "## Part 1. Research Question"
   ]
  },
  {
   "cell_type": "markdown",
   "id": "128c5893-c3e4-4036-be49-c0765814ad21",
   "metadata": {},
   "source": [
    "### A. Purpose of the Data Mining Report:\n",
    "\n",
    "The overarching purpose of this data mining report is to leverage clustering techniques to stratify the hospital's patient population into distinct groups based on their demographic and clinical characteristics. By identifying these groups, the hospital can tailor its healthcare services more effectively, potentially reducing costs and improving patient outcomes through more personalized care."
   ]
  },
  {
   "cell_type": "markdown",
   "id": "24945835-e1ec-4d48-9233-7e1bf7a9644b",
   "metadata": {},
   "source": [
    "**1. Research Question**:\n",
    "\n",
    "**How can patients be grouped based on their demographic and clinical profiles to optimize the allocation of healthcare resources and improve patient-specific treatment plans?**\n",
    "\n",
    "This question will be addressed using the k-means clustering technique. K-means is chosen for its efficiency in handling large datasets and its effectiveness in identifying distinct, non-overlapping clusters based on continuous variables. This method will allow us to explore and identify patterns in patient characteristics that may not be immediately apparent but could significantly impact treatment approaches and resource allocation."
   ]
  },
  {
   "cell_type": "markdown",
   "id": "bba7ca56-ecb2-4cef-a5e2-3a5b1a0e6855",
   "metadata": {},
   "source": [
    "**2. Goal of the Data Analysis:**\n",
    "\n",
    "Identify distinct clusters of patients based on a set of selected continuous demographic and clinical variables, such as age, income, vitamin D levels, days in hospital (Initial_days), and total charges.\n",
    "\n",
    "These clusters will help the hospital understand the underlying patterns in patient characteristics, which can inform targeted intervention strategies, optimize resource distribution, and potentially lead to customized patient care plans that are both cost-effective and clinically beneficial. This analysis aims to not only categorize patients into manageable groups for operational efficiency but also uncover hidden patterns that could predict and improve patient outcomes while minimizing unnecessary expenditures."
   ]
  },
  {
   "cell_type": "markdown",
   "id": "f3a86a25-86b7-4687-b134-448385e55f50",
   "metadata": {},
   "source": [
    "## Part 2: Technique Justification"
   ]
  },
  {
   "cell_type": "markdown",
   "id": "038b9c6b-dbff-4666-af74-f4f613d7e61d",
   "metadata": {},
   "source": [
    "### B. Explanation of Chosen Clustering Technique"
   ]
  },
  {
   "cell_type": "markdown",
   "id": "522579d5-e2f4-4294-96f4-cd9423b83033",
   "metadata": {},
   "source": [
    "**1. Analysis Methodology and Expected Outcomes**\n",
    "\n",
    "The k-means clustering technique is selected for its robustness and suitability for analyzing large datasets with continuous variables. This method partitions the dataset into K predefined distinct non-overlapping clusters, where each point belongs to only one group that has the nearest mean. The process follows these steps:\n",
    "\n",
    "- *Initialization*: K initial \"centroids\" are randomly selected from the dataset.\n",
    "- *Assignment*: Each data point is assigned to the closest centroid, and groups are formed accordingly.\n",
    "- *Update*: The centroids are recalculated as the mean of all data points in the cluster.\n",
    "- *Iteration*: The assignment and update steps are repeated iteratively until the centroids no longer change significantly, indicating that the clusters are as optimized as possible given the data.\n",
    "\n",
    "<u>Expected Outcomes</u>:\n",
    "By applying k-means clustering to the dataset, we expect to:\n",
    "\n",
    "- Identify distinct groups of patients who exhibit similar characteristics in terms of demographics and clinical profiles.\n",
    "- Understand the central features (mean values of the continuous variables for each cluster) that define each group, which could include typical patient age, average income, common medical expenses, and typical health indicators like vitamin D levels.\n",
    "- Provide actionable insights into how different groups might require different treatment approaches or resource allocation strategies."
   ]
  },
  {
   "cell_type": "markdown",
   "id": "f7682051-a817-432c-b66d-aad64d2cbca4",
   "metadata": {},
   "source": [
    "**2. Summary of an Assumption of K-Means Clustering**\n",
    "\n",
    "<u>Assumption</u>: K-means clustering assumes that the clusters are spherical and isotropic, meaning that traits within a cluster should not only be similar but also should center around that cluster's centroid. Essentially, this implies that the clusters are compact and defined by their means, which can sometimes be a limitation in complex real-world data structures where true clusters may not adhere to this shape or density."
   ]
  },
  {
   "cell_type": "markdown",
   "id": "0379d79f-cd67-4d72-887f-15cb351514e6",
   "metadata": {},
   "source": [
    "**3. Python Packages or Libraries and Justifications**\n",
    "\n",
    "For implementing k-means clustering in Python, the following packages and libraries are recommended:\n",
    "\n",
    "- Pandas: Used for data manipulation and analysis. It offers data structures and operations for manipulating numerical tables and time series, which is crucial for preparing the dataset for clustering.\n",
    "- NumPy: Essential for large, multi-dimensional array and matrix data operations, which are integral during the computation of distances between points and centroids in k-means.\n",
    "- Scikit-learn (sklearn): This library provides simple and efficient tools for data mining and data analysis, including a robust and fast implementation of the k-means clustering algorithm. It includes functionalities like:\n",
    "    - `KMeans` clustering class which is highly optimized and allows setting the number of clusters directly.\n",
    "    - Metrics to evaluate the clusters such as inertia and silhouette scores, which help in quantifying the quality of clusters formed and determining the optimal number of clusters.\n",
    "- Matplotlib and Seaborn: These libraries are used for plotting graphical data. Visualizing data is critical for interpreting the results of k-means clustering, including plotting elbow plots to determine the optimal number of clusters and visualizing the data points in each cluster."
   ]
  },
  {
   "cell_type": "markdown",
   "id": "9ecf1249-6780-431e-95ff-1f7c9c5fdaa0",
   "metadata": {},
   "source": [
    "## Part 3: Data Preparation"
   ]
  },
  {
   "cell_type": "markdown",
   "id": "0a938cb5-6c78-412f-b2ce-dfa75248ab77",
   "metadata": {},
   "source": [
    "### C. Data Preparation Strategy"
   ]
  },
  {
   "cell_type": "markdown",
   "id": "301bcfd7-5b44-4276-8869-6c161559fe87",
   "metadata": {},
   "source": [
    "**1. Data Preprocessing Goal**\n",
    "\n",
    "One critical data preprocessing goal relevant to the k-means clustering technique is normalization of continuous variables. K-means clustering uses Euclidean distance to assign data points to clusters; thus, the scale of the variables greatly influences the results. Variables on larger scales can disproportionately influence the clustering outcome. Normalizing these variables ensures that each feature contributes equally to the distance computations, thereby providing more meaningful and balanced clusters."
   ]
  },
  {
   "cell_type": "markdown",
   "id": "86ac8206-bed0-4400-b0e6-b98ffb8e2ed5",
   "metadata": {},
   "source": [
    "**2. Variables for Analysis**\n",
    "\n",
    "For the clustering analysis focused on demographic and clinical profiles, the following variables from the dataset will be used:\n",
    "\n",
    "- Continuous Variables:\n",
    "    - `Age` (Continuous): Patient's age.\n",
    "    - `Income` (Continuous): Annual income of the patient.\n",
    "    - `VitD_levels` (Continuous): Vitamin D levels in ng/mL.\n",
    "    - `Initial_days` (Continuous): Number of days the patient stayed in the hospital during the initial visit.\n",
    "    - `TotalCharge` (Continuous): Average daily charge during the hospital stay.\n",
    "\n",
    "These variables were selected for their potential to reflect significant aspects of the patient profiles that can affect health outcomes and resource utilization."
   ]
  },
  {
   "cell_type": "markdown",
   "id": "5a11a586-46c3-4328-b827-69b45cbfe28a",
   "metadata": {},
   "source": [
    "**3. Steps to Prepare the Data**\n",
    "\n",
    "- Step 1: Importing Necessary Libraries"
   ]
  },
  {
   "cell_type": "code",
   "execution_count": 1,
   "id": "47cef165-9ead-4539-beb8-abdf8e0a4d27",
   "metadata": {},
   "outputs": [],
   "source": [
    "import pandas as pd\n",
    "import numpy as np\n",
    "from sklearn.preprocessing import StandardScaler"
   ]
  },
  {
   "cell_type": "markdown",
   "id": "97c24d40-f172-47c8-acd2-e76aa81daf3e",
   "metadata": {},
   "source": [
    "- Step 2: Loading the Data"
   ]
  },
  {
   "cell_type": "code",
   "execution_count": 2,
   "id": "c953a960-7578-43e0-8cb1-395c0b630897",
   "metadata": {},
   "outputs": [
    {
     "data": {
      "text/html": [
       "<div>\n",
       "<style scoped>\n",
       "    .dataframe tbody tr th:only-of-type {\n",
       "        vertical-align: middle;\n",
       "    }\n",
       "\n",
       "    .dataframe tbody tr th {\n",
       "        vertical-align: top;\n",
       "    }\n",
       "\n",
       "    .dataframe thead th {\n",
       "        text-align: right;\n",
       "    }\n",
       "</style>\n",
       "<table border=\"1\" class=\"dataframe\">\n",
       "  <thead>\n",
       "    <tr style=\"text-align: right;\">\n",
       "      <th></th>\n",
       "      <th>CaseOrder</th>\n",
       "      <th>Customer_id</th>\n",
       "      <th>Interaction</th>\n",
       "      <th>UID</th>\n",
       "      <th>City</th>\n",
       "      <th>State</th>\n",
       "      <th>County</th>\n",
       "      <th>Zip</th>\n",
       "      <th>Lat</th>\n",
       "      <th>Lng</th>\n",
       "      <th>...</th>\n",
       "      <th>TotalCharge</th>\n",
       "      <th>Additional_charges</th>\n",
       "      <th>Item1</th>\n",
       "      <th>Item2</th>\n",
       "      <th>Item3</th>\n",
       "      <th>Item4</th>\n",
       "      <th>Item5</th>\n",
       "      <th>Item6</th>\n",
       "      <th>Item7</th>\n",
       "      <th>Item8</th>\n",
       "    </tr>\n",
       "  </thead>\n",
       "  <tbody>\n",
       "    <tr>\n",
       "      <th>0</th>\n",
       "      <td>1</td>\n",
       "      <td>C412403</td>\n",
       "      <td>8cd49b13-f45a-4b47-a2bd-173ffa932c2f</td>\n",
       "      <td>3a83ddb66e2ae73798bdf1d705dc0932</td>\n",
       "      <td>Eva</td>\n",
       "      <td>AL</td>\n",
       "      <td>Morgan</td>\n",
       "      <td>35621</td>\n",
       "      <td>34.34960</td>\n",
       "      <td>-86.72508</td>\n",
       "      <td>...</td>\n",
       "      <td>3726.702860</td>\n",
       "      <td>17939.403420</td>\n",
       "      <td>3</td>\n",
       "      <td>3</td>\n",
       "      <td>2</td>\n",
       "      <td>2</td>\n",
       "      <td>4</td>\n",
       "      <td>3</td>\n",
       "      <td>3</td>\n",
       "      <td>4</td>\n",
       "    </tr>\n",
       "    <tr>\n",
       "      <th>1</th>\n",
       "      <td>2</td>\n",
       "      <td>Z919181</td>\n",
       "      <td>d2450b70-0337-4406-bdbb-bc1037f1734c</td>\n",
       "      <td>176354c5eef714957d486009feabf195</td>\n",
       "      <td>Marianna</td>\n",
       "      <td>FL</td>\n",
       "      <td>Jackson</td>\n",
       "      <td>32446</td>\n",
       "      <td>30.84513</td>\n",
       "      <td>-85.22907</td>\n",
       "      <td>...</td>\n",
       "      <td>4193.190458</td>\n",
       "      <td>17612.998120</td>\n",
       "      <td>3</td>\n",
       "      <td>4</td>\n",
       "      <td>3</td>\n",
       "      <td>4</td>\n",
       "      <td>4</td>\n",
       "      <td>4</td>\n",
       "      <td>3</td>\n",
       "      <td>3</td>\n",
       "    </tr>\n",
       "    <tr>\n",
       "      <th>2</th>\n",
       "      <td>3</td>\n",
       "      <td>F995323</td>\n",
       "      <td>a2057123-abf5-4a2c-abad-8ffe33512562</td>\n",
       "      <td>e19a0fa00aeda885b8a436757e889bc9</td>\n",
       "      <td>Sioux Falls</td>\n",
       "      <td>SD</td>\n",
       "      <td>Minnehaha</td>\n",
       "      <td>57110</td>\n",
       "      <td>43.54321</td>\n",
       "      <td>-96.63772</td>\n",
       "      <td>...</td>\n",
       "      <td>2434.234222</td>\n",
       "      <td>17505.192460</td>\n",
       "      <td>2</td>\n",
       "      <td>4</td>\n",
       "      <td>4</td>\n",
       "      <td>4</td>\n",
       "      <td>3</td>\n",
       "      <td>4</td>\n",
       "      <td>3</td>\n",
       "      <td>3</td>\n",
       "    </tr>\n",
       "    <tr>\n",
       "      <th>3</th>\n",
       "      <td>4</td>\n",
       "      <td>A879973</td>\n",
       "      <td>1dec528d-eb34-4079-adce-0d7a40e82205</td>\n",
       "      <td>cd17d7b6d152cb6f23957346d11c3f07</td>\n",
       "      <td>New Richland</td>\n",
       "      <td>MN</td>\n",
       "      <td>Waseca</td>\n",
       "      <td>56072</td>\n",
       "      <td>43.89744</td>\n",
       "      <td>-93.51479</td>\n",
       "      <td>...</td>\n",
       "      <td>2127.830423</td>\n",
       "      <td>12993.437350</td>\n",
       "      <td>3</td>\n",
       "      <td>5</td>\n",
       "      <td>5</td>\n",
       "      <td>3</td>\n",
       "      <td>4</td>\n",
       "      <td>5</td>\n",
       "      <td>5</td>\n",
       "      <td>5</td>\n",
       "    </tr>\n",
       "    <tr>\n",
       "      <th>4</th>\n",
       "      <td>5</td>\n",
       "      <td>C544523</td>\n",
       "      <td>5885f56b-d6da-43a3-8760-83583af94266</td>\n",
       "      <td>d2f0425877b10ed6bb381f3e2579424a</td>\n",
       "      <td>West Point</td>\n",
       "      <td>VA</td>\n",
       "      <td>King William</td>\n",
       "      <td>23181</td>\n",
       "      <td>37.59894</td>\n",
       "      <td>-76.88958</td>\n",
       "      <td>...</td>\n",
       "      <td>2113.073274</td>\n",
       "      <td>3716.525786</td>\n",
       "      <td>2</td>\n",
       "      <td>1</td>\n",
       "      <td>3</td>\n",
       "      <td>3</td>\n",
       "      <td>5</td>\n",
       "      <td>3</td>\n",
       "      <td>4</td>\n",
       "      <td>3</td>\n",
       "    </tr>\n",
       "    <tr>\n",
       "      <th>...</th>\n",
       "      <td>...</td>\n",
       "      <td>...</td>\n",
       "      <td>...</td>\n",
       "      <td>...</td>\n",
       "      <td>...</td>\n",
       "      <td>...</td>\n",
       "      <td>...</td>\n",
       "      <td>...</td>\n",
       "      <td>...</td>\n",
       "      <td>...</td>\n",
       "      <td>...</td>\n",
       "      <td>...</td>\n",
       "      <td>...</td>\n",
       "      <td>...</td>\n",
       "      <td>...</td>\n",
       "      <td>...</td>\n",
       "      <td>...</td>\n",
       "      <td>...</td>\n",
       "      <td>...</td>\n",
       "      <td>...</td>\n",
       "      <td>...</td>\n",
       "    </tr>\n",
       "    <tr>\n",
       "      <th>9995</th>\n",
       "      <td>9996</td>\n",
       "      <td>B863060</td>\n",
       "      <td>a25b594d-0328-486f-a9b9-0567eb0f9723</td>\n",
       "      <td>39184dc28cc038871912ccc4500049e5</td>\n",
       "      <td>Norlina</td>\n",
       "      <td>NC</td>\n",
       "      <td>Warren</td>\n",
       "      <td>27563</td>\n",
       "      <td>36.42886</td>\n",
       "      <td>-78.23716</td>\n",
       "      <td>...</td>\n",
       "      <td>6850.942000</td>\n",
       "      <td>8927.642000</td>\n",
       "      <td>3</td>\n",
       "      <td>2</td>\n",
       "      <td>2</td>\n",
       "      <td>3</td>\n",
       "      <td>4</td>\n",
       "      <td>3</td>\n",
       "      <td>4</td>\n",
       "      <td>2</td>\n",
       "    </tr>\n",
       "    <tr>\n",
       "      <th>9996</th>\n",
       "      <td>9997</td>\n",
       "      <td>P712040</td>\n",
       "      <td>70711574-f7b1-4a17-b15f-48c54564b70f</td>\n",
       "      <td>3cd124ccd43147404292e883bf9ec55c</td>\n",
       "      <td>Milmay</td>\n",
       "      <td>NJ</td>\n",
       "      <td>Atlantic</td>\n",
       "      <td>8340</td>\n",
       "      <td>39.43609</td>\n",
       "      <td>-74.87302</td>\n",
       "      <td>...</td>\n",
       "      <td>7741.690000</td>\n",
       "      <td>28507.150000</td>\n",
       "      <td>3</td>\n",
       "      <td>3</td>\n",
       "      <td>4</td>\n",
       "      <td>2</td>\n",
       "      <td>5</td>\n",
       "      <td>3</td>\n",
       "      <td>4</td>\n",
       "      <td>4</td>\n",
       "    </tr>\n",
       "    <tr>\n",
       "      <th>9997</th>\n",
       "      <td>9998</td>\n",
       "      <td>R778890</td>\n",
       "      <td>1d79569d-8e0f-4180-a207-d67ee4527d26</td>\n",
       "      <td>41b770aeee97a5b9e7f69c906a8119d7</td>\n",
       "      <td>Southside</td>\n",
       "      <td>TN</td>\n",
       "      <td>Montgomery</td>\n",
       "      <td>37171</td>\n",
       "      <td>36.36655</td>\n",
       "      <td>-87.29988</td>\n",
       "      <td>...</td>\n",
       "      <td>8276.481000</td>\n",
       "      <td>15281.210000</td>\n",
       "      <td>3</td>\n",
       "      <td>3</td>\n",
       "      <td>3</td>\n",
       "      <td>4</td>\n",
       "      <td>4</td>\n",
       "      <td>2</td>\n",
       "      <td>3</td>\n",
       "      <td>2</td>\n",
       "    </tr>\n",
       "    <tr>\n",
       "      <th>9998</th>\n",
       "      <td>9999</td>\n",
       "      <td>E344109</td>\n",
       "      <td>f5a68e69-2a60-409b-a92f-ac0847b27db0</td>\n",
       "      <td>2bb491ef5b1beb1fed758cc6885c167a</td>\n",
       "      <td>Quinn</td>\n",
       "      <td>SD</td>\n",
       "      <td>Pennington</td>\n",
       "      <td>57775</td>\n",
       "      <td>44.10354</td>\n",
       "      <td>-102.01590</td>\n",
       "      <td>...</td>\n",
       "      <td>7644.483000</td>\n",
       "      <td>7781.678000</td>\n",
       "      <td>5</td>\n",
       "      <td>5</td>\n",
       "      <td>3</td>\n",
       "      <td>4</td>\n",
       "      <td>4</td>\n",
       "      <td>3</td>\n",
       "      <td>4</td>\n",
       "      <td>3</td>\n",
       "    </tr>\n",
       "    <tr>\n",
       "      <th>9999</th>\n",
       "      <td>10000</td>\n",
       "      <td>I569847</td>\n",
       "      <td>bc482c02-f8c9-4423-99de-3db5e62a18d5</td>\n",
       "      <td>95663a202338000abdf7e09311c2a8a1</td>\n",
       "      <td>Coraopolis</td>\n",
       "      <td>PA</td>\n",
       "      <td>Allegheny</td>\n",
       "      <td>15108</td>\n",
       "      <td>40.49998</td>\n",
       "      <td>-80.19959</td>\n",
       "      <td>...</td>\n",
       "      <td>7887.553000</td>\n",
       "      <td>11643.190000</td>\n",
       "      <td>4</td>\n",
       "      <td>3</td>\n",
       "      <td>3</td>\n",
       "      <td>2</td>\n",
       "      <td>3</td>\n",
       "      <td>6</td>\n",
       "      <td>4</td>\n",
       "      <td>3</td>\n",
       "    </tr>\n",
       "  </tbody>\n",
       "</table>\n",
       "<p>10000 rows × 50 columns</p>\n",
       "</div>"
      ],
      "text/plain": [
       "      CaseOrder Customer_id                           Interaction  \\\n",
       "0             1     C412403  8cd49b13-f45a-4b47-a2bd-173ffa932c2f   \n",
       "1             2     Z919181  d2450b70-0337-4406-bdbb-bc1037f1734c   \n",
       "2             3     F995323  a2057123-abf5-4a2c-abad-8ffe33512562   \n",
       "3             4     A879973  1dec528d-eb34-4079-adce-0d7a40e82205   \n",
       "4             5     C544523  5885f56b-d6da-43a3-8760-83583af94266   \n",
       "...         ...         ...                                   ...   \n",
       "9995       9996     B863060  a25b594d-0328-486f-a9b9-0567eb0f9723   \n",
       "9996       9997     P712040  70711574-f7b1-4a17-b15f-48c54564b70f   \n",
       "9997       9998     R778890  1d79569d-8e0f-4180-a207-d67ee4527d26   \n",
       "9998       9999     E344109  f5a68e69-2a60-409b-a92f-ac0847b27db0   \n",
       "9999      10000     I569847  bc482c02-f8c9-4423-99de-3db5e62a18d5   \n",
       "\n",
       "                                   UID          City State        County  \\\n",
       "0     3a83ddb66e2ae73798bdf1d705dc0932           Eva    AL        Morgan   \n",
       "1     176354c5eef714957d486009feabf195      Marianna    FL       Jackson   \n",
       "2     e19a0fa00aeda885b8a436757e889bc9   Sioux Falls    SD     Minnehaha   \n",
       "3     cd17d7b6d152cb6f23957346d11c3f07  New Richland    MN        Waseca   \n",
       "4     d2f0425877b10ed6bb381f3e2579424a    West Point    VA  King William   \n",
       "...                                ...           ...   ...           ...   \n",
       "9995  39184dc28cc038871912ccc4500049e5       Norlina    NC        Warren   \n",
       "9996  3cd124ccd43147404292e883bf9ec55c        Milmay    NJ      Atlantic   \n",
       "9997  41b770aeee97a5b9e7f69c906a8119d7     Southside    TN    Montgomery   \n",
       "9998  2bb491ef5b1beb1fed758cc6885c167a         Quinn    SD    Pennington   \n",
       "9999  95663a202338000abdf7e09311c2a8a1    Coraopolis    PA     Allegheny   \n",
       "\n",
       "        Zip       Lat        Lng  ...  TotalCharge Additional_charges Item1  \\\n",
       "0     35621  34.34960  -86.72508  ...  3726.702860       17939.403420     3   \n",
       "1     32446  30.84513  -85.22907  ...  4193.190458       17612.998120     3   \n",
       "2     57110  43.54321  -96.63772  ...  2434.234222       17505.192460     2   \n",
       "3     56072  43.89744  -93.51479  ...  2127.830423       12993.437350     3   \n",
       "4     23181  37.59894  -76.88958  ...  2113.073274        3716.525786     2   \n",
       "...     ...       ...        ...  ...          ...                ...   ...   \n",
       "9995  27563  36.42886  -78.23716  ...  6850.942000        8927.642000     3   \n",
       "9996   8340  39.43609  -74.87302  ...  7741.690000       28507.150000     3   \n",
       "9997  37171  36.36655  -87.29988  ...  8276.481000       15281.210000     3   \n",
       "9998  57775  44.10354 -102.01590  ...  7644.483000        7781.678000     5   \n",
       "9999  15108  40.49998  -80.19959  ...  7887.553000       11643.190000     4   \n",
       "\n",
       "     Item2  Item3  Item4  Item5 Item6 Item7 Item8  \n",
       "0        3      2      2      4     3     3     4  \n",
       "1        4      3      4      4     4     3     3  \n",
       "2        4      4      4      3     4     3     3  \n",
       "3        5      5      3      4     5     5     5  \n",
       "4        1      3      3      5     3     4     3  \n",
       "...    ...    ...    ...    ...   ...   ...   ...  \n",
       "9995     2      2      3      4     3     4     2  \n",
       "9996     3      4      2      5     3     4     4  \n",
       "9997     3      3      4      4     2     3     2  \n",
       "9998     5      3      4      4     3     4     3  \n",
       "9999     3      3      2      3     6     4     3  \n",
       "\n",
       "[10000 rows x 50 columns]"
      ]
     },
     "execution_count": 2,
     "metadata": {},
     "output_type": "execute_result"
    }
   ],
   "source": [
    "data = pd.read_csv('medical_clean.csv')\n",
    "data"
   ]
  },
  {
   "cell_type": "markdown",
   "id": "f3a24847-2228-4d98-9b0c-e04b7a50d01c",
   "metadata": {},
   "source": [
    "The dataset consists of 10,000 entries and 50 columns. Based on the selected analysis approach, we'll focus on the following continuous variables for clustering:\n",
    "\n",
    "- `Age`: Patient's age\n",
    "- `Income`: Annual income of the patient\n",
    "- `VitD_levels`: Vitamin D levels in ng/mL\n",
    "- `Initial_days`: Number of days the patient stayed in the hospital during the initial visit\n",
    "- `TotalCharge`: Average daily charge during the hospital stay"
   ]
  },
  {
   "cell_type": "markdown",
   "id": "5022cbd3-930e-4409-acc6-4d6956d7f1a9",
   "metadata": {},
   "source": [
    "- Step 3: Filtering Relevant Variables\n",
    "    - Selecting only the continuous variables identified for the analysis."
   ]
  },
  {
   "cell_type": "code",
   "execution_count": 3,
   "id": "e37992b9-d786-4f47-a142-9ba942e62d6c",
   "metadata": {},
   "outputs": [],
   "source": [
    "selected_data = data[['Age', 'Income', 'VitD_levels', 'Initial_days', 'TotalCharge']]"
   ]
  },
  {
   "cell_type": "markdown",
   "id": "2abbc732-5e2f-483a-b8e6-e5ca89a1f100",
   "metadata": {},
   "source": [
    "- Step 4: Handling Missing Data\n",
    "    - Checking for missing values and applying imputation if necessary."
   ]
  },
  {
   "cell_type": "code",
   "execution_count": 4,
   "id": "6ba9e739-7dfd-4ed4-a5f2-55f98f19a5a7",
   "metadata": {},
   "outputs": [],
   "source": [
    "if selected_data.isnull().sum().any():\n",
    "    selected_data = selected_data.fillna(selected_data.mean())"
   ]
  },
  {
   "cell_type": "markdown",
   "id": "73e38798-8786-4d66-a163-39e0c4f90502",
   "metadata": {},
   "source": [
    "There are no missing values in these selected columns, as confirmed by the check."
   ]
  },
  {
   "cell_type": "markdown",
   "id": "45ba0fb9-1b09-40c1-afd6-996bf5e98b76",
   "metadata": {},
   "source": [
    "- Step 5: Normalizing the Data\n",
    "    - Using `StandardScaler` to normalize the continuous variables."
   ]
  },
  {
   "cell_type": "code",
   "execution_count": 5,
   "id": "90ef0302-834a-46fb-8eba-7215d79992f1",
   "metadata": {},
   "outputs": [],
   "source": [
    "scaler = StandardScaler()\n",
    "scaled_data = scaler.fit_transform(selected_data)\n",
    "scaled_data = pd.DataFrame(scaled_data, columns=selected_data.columns)"
   ]
  },
  {
   "cell_type": "markdown",
   "id": "c2775100-3cf1-4348-a80a-7bde26f409c9",
   "metadata": {},
   "source": [
    "The data was normalized using the StandardScaler to ensure that all variables contribute equally to the distance calculations in the k-means clustering."
   ]
  },
  {
   "cell_type": "markdown",
   "id": "a935eac4-dbc2-4a10-a61c-f2af60c34c5a",
   "metadata": {},
   "source": [
    "- Step 6: Exporting the Cleaned Data\n",
    "    - Saving the preprocessed data for further analysis."
   ]
  },
  {
   "cell_type": "code",
   "execution_count": 6,
   "id": "f6c432b2-05df-46ba-bc16-f579d9ab4cea",
   "metadata": {},
   "outputs": [],
   "source": [
    "scaled_data.to_csv('cleaned_data_for_clustering.csv', index=False)"
   ]
  },
  {
   "cell_type": "markdown",
   "id": "9cf3f10a-f1ed-436a-8de7-ce04d8835c65",
   "metadata": {},
   "source": [
    "The normalized data is saved as a CSV file, ready for clustering analysis."
   ]
  },
  {
   "cell_type": "markdown",
   "id": "5bdafac7-9681-4f80-b42b-04e68cb53d16",
   "metadata": {},
   "source": [
    "## Part 4: Analysis"
   ]
  },
  {
   "cell_type": "markdown",
   "id": "f98f3b22-5179-4bb6-bb8e-d748b831dd1f",
   "metadata": {},
   "source": [
    "### D. Perform the Data Analysis"
   ]
  },
  {
   "cell_type": "markdown",
   "id": "16f2055d-eeb4-4724-9cd6-8ac1dc140dac",
   "metadata": {},
   "source": [
    "**1. Determining the Optimal Number of Clusters**\n",
    "\n",
    "The optimal number of clusters for k-means clustering is typically determined using the Elbow Method. This method involves plotting the sum of squared distances from each point to its assigned center (inertia) for various numbers of clusters. The point where the inertia begins to decrease more slowly (the \"elbow\") suggests the optimal number of clusters."
   ]
  },
  {
   "cell_type": "markdown",
   "id": "c43e616f-f374-45dd-9d5d-ec51d62d12cc",
   "metadata": {},
   "source": [
    "**2. Clustering Analysis**\n",
    "\n",
    "We will use Python's `scikit-learn` library to perform the k-means clustering. The steps will include:\n",
    "\n",
    "- Loading the cleaned data.\n",
    "- Applying the k-means clustering algorithm for a range of cluster numbers to plot the elbow curve.\n",
    "- Running the k-means clustering with the optimal number of clusters determined from the elbow curve."
   ]
  },
  {
   "cell_type": "code",
   "execution_count": 7,
   "id": "6ff9d58b-1b1a-4d6e-b648-47f41a17bdf9",
   "metadata": {},
   "outputs": [],
   "source": [
    "import matplotlib.pyplot as plt\n",
    "from sklearn.cluster import KMeans\n",
    "from sklearn.metrics import silhouette_score"
   ]
  },
  {
   "cell_type": "code",
   "execution_count": 8,
   "id": "346f5add-4ae1-4d1a-8a4c-dbc66167616d",
   "metadata": {},
   "outputs": [],
   "source": [
    "# Determine the optimal number of clusters using the Elbow Method\n",
    "# Testing clusters range from 1 to 10\n",
    "inertias = []\n",
    "cluster_range = range(1, 11)\n",
    "for k in cluster_range:\n",
    "    kmeans = KMeans(n_clusters=k, random_state=42)\n",
    "    kmeans.fit(scaled_data)\n",
    "    inertias.append(kmeans.inertia_)"
   ]
  },
  {
   "cell_type": "code",
   "execution_count": 9,
   "id": "8c968e02-f73c-40f9-88ef-6a95cb09c2cb",
   "metadata": {},
   "outputs": [
    {
     "data": {
      "image/png": "[encoded data removed]",
      "text/plain": [
       "<Figure size 1000x600 with 1 Axes>"
      ]
     },
     "metadata": {},
     "output_type": "display_data"
    }
   ],
   "source": [
    "# Plotting the elbow curve\n",
    "plt.figure(figsize=(10, 6))\n",
    "plt.plot(cluster_range, inertias, marker='o')\n",
    "plt.title('Elbow Method For Optimal k')\n",
    "plt.xlabel('Number of Clusters')\n",
    "plt.ylabel('Inertia')\n",
    "plt.xticks(cluster_range)\n",
    "plt.grid(True)\n",
    "plt.show()"
   ]
  },
  {
   "cell_type": "markdown",
   "id": "339233bb-f9db-42ca-a8be-3afaaf1bab6b",
   "metadata": {},
   "source": [
    "The Elbow Method plot indicates that as we increase the number of clusters (k), the inertia (sum of squared distances within clusters) decreases. We look for a point where the decrease in inertia begins to slow down, indicating that adding more clusters does not provide as much benefit in terms of intra-cluster cohesion. This point is often referred to as the \"elbow.\"\n",
    "\n",
    "Choosing k=4 as the optimal number of clusters means we expect to find four distinct groups of patients within our dataset that have similar characteristics. These groups could potentially represent different patterns of healthcare needs and resource utilization."
   ]
  },
  {
   "cell_type": "code",
   "execution_count": 10,
   "id": "b20104fb-18ae-489b-b244-49076ca10014",
   "metadata": {},
   "outputs": [
    {
     "data": {
      "text/html": [
       "<style>#sk-container-id-1 {color: black;background-color: white;}#sk-container-id-1 pre{padding: 0;}#sk-container-id-1 div.sk-toggleable {background-color: white;}#sk-container-id-1 label.sk-toggleable__label {cursor: pointer;display: block;width: 100%;margin-bottom: 0;padding: 0.3em;box-sizing: border-box;text-align: center;}#sk-container-id-1 label.sk-toggleable__label-arrow:before {content: \"▸\";float: left;margin-right: 0.25em;color: #696969;}#sk-container-id-1 label.sk-toggleable__label-arrow:hover:before {color: black;}#sk-container-id-1 div.sk-estimator:hover label.sk-toggleable__label-arrow:before {color: black;}#sk-container-id-1 div.sk-toggleable__content {max-height: 0;max-width: 0;overflow: hidden;text-align: left;background-color: #f0f8ff;}#sk-container-id-1 div.sk-toggleable__content pre {margin: 0.2em;color: black;border-radius: 0.25em;background-color: #f0f8ff;}#sk-container-id-1 input.sk-toggleable__control:checked~div.sk-toggleable__content {max-height: 200px;max-width: 100%;overflow: auto;}#sk-container-id-1 input.sk-toggleable__control:checked~label.sk-toggleable__label-arrow:before {content: \"▾\";}#sk-container-id-1 div.sk-estimator input.sk-toggleable__control:checked~label.sk-toggleable__label {background-color: #d4ebff;}#sk-container-id-1 div.sk-label input.sk-toggleable__control:checked~label.sk-toggleable__label {background-color: #d4ebff;}#sk-container-id-1 input.sk-hidden--visually {border: 0;clip: rect(1px 1px 1px 1px);clip: rect(1px, 1px, 1px, 1px);height: 1px;margin: -1px;overflow: hidden;padding: 0;position: absolute;width: 1px;}#sk-container-id-1 div.sk-estimator {font-family: monospace;background-color: #f0f8ff;border: 1px dotted black;border-radius: 0.25em;box-sizing: border-box;margin-bottom: 0.5em;}#sk-container-id-1 div.sk-estimator:hover {background-color: #d4ebff;}#sk-container-id-1 div.sk-parallel-item::after {content: \"\";width: 100%;border-bottom: 1px solid gray;flex-grow: 1;}#sk-container-id-1 div.sk-label:hover label.sk-toggleable__label {background-color: #d4ebff;}#sk-container-id-1 div.sk-serial::before {content: \"\";position: absolute;border-left: 1px solid gray;box-sizing: border-box;top: 0;bottom: 0;left: 50%;z-index: 0;}#sk-container-id-1 div.sk-serial {display: flex;flex-direction: column;align-items: center;background-color: white;padding-right: 0.2em;padding-left: 0.2em;position: relative;}#sk-container-id-1 div.sk-item {position: relative;z-index: 1;}#sk-container-id-1 div.sk-parallel {display: flex;align-items: stretch;justify-content: center;background-color: white;position: relative;}#sk-container-id-1 div.sk-item::before, #sk-container-id-1 div.sk-parallel-item::before {content: \"\";position: absolute;border-left: 1px solid gray;box-sizing: border-box;top: 0;bottom: 0;left: 50%;z-index: -1;}#sk-container-id-1 div.sk-parallel-item {display: flex;flex-direction: column;z-index: 1;position: relative;background-color: white;}#sk-container-id-1 div.sk-parallel-item:first-child::after {align-self: flex-end;width: 50%;}#sk-container-id-1 div.sk-parallel-item:last-child::after {align-self: flex-start;width: 50%;}#sk-container-id-1 div.sk-parallel-item:only-child::after {width: 0;}#sk-container-id-1 div.sk-dashed-wrapped {border: 1px dashed gray;margin: 0 0.4em 0.5em 0.4em;box-sizing: border-box;padding-bottom: 0.4em;background-color: white;}#sk-container-id-1 div.sk-label label {font-family: monospace;font-weight: bold;display: inline-block;line-height: 1.2em;}#sk-container-id-1 div.sk-label-container {text-align: center;}#sk-container-id-1 div.sk-container {/* jupyter's `normalize.less` sets `[hidden] { display: none; }` but bootstrap.min.css set `[hidden] { display: none !important; }` so we also need the `!important` here to be able to override the default hidden behavior on the sphinx rendered scikit-learn.org. See: https://github.com/scikit-learn/scikit-learn/issues/21755 */display: inline-block !important;position: relative;}#sk-container-id-1 div.sk-text-repr-fallback {display: none;}</style><div id=\"sk-container-id-1\" class=\"sk-top-container\"><div class=\"sk-text-repr-fallback\"><pre>KMeans(n_clusters=4, random_state=42)</pre><b>In a Jupyter environment, please rerun this cell to show the HTML representation or trust the notebook. <br />On GitHub, the HTML representation is unable to render, please try loading this page with nbviewer.org.</b></div><div class=\"sk-container\" hidden><div class=\"sk-item\"><div class=\"sk-estimator sk-toggleable\"><input class=\"sk-toggleable__control sk-hidden--visually\" id=\"sk-estimator-id-1\" type=\"checkbox\" checked><label for=\"sk-estimator-id-1\" class=\"sk-toggleable__label sk-toggleable__label-arrow\">KMeans</label><div class=\"sk-toggleable__content\"><pre>KMeans(n_clusters=4, random_state=42)</pre></div></div></div></div></div>"
      ],
      "text/plain": [
       "KMeans(n_clusters=4, random_state=42)"
      ]
     },
     "execution_count": 10,
     "metadata": {},
     "output_type": "execute_result"
    }
   ],
   "source": [
    "# Perform k-means clustering using the determined optimal number of clusters k=4\n",
    "optimal_k = 4\n",
    "kmeans_optimal = KMeans(n_clusters=optimal_k, random_state=42)\n",
    "kmeans_optimal.fit(scaled_data)"
   ]
  },
  {
   "cell_type": "code",
   "execution_count": 11,
   "id": "700458bb-562c-4400-a4b8-67470f4110d0",
   "metadata": {},
   "outputs": [],
   "source": [
    "# Assigning the labels (cluster IDs) to our dataframe for further analysis\n",
    "scaled_data['Cluster'] = kmeans_optimal.labels_\n",
    "\n",
    "# Displaying the first few entries with their cluster assignment\n",
    "scaled_data_head = scaled_data.head()"
   ]
  },
  {
   "cell_type": "code",
   "execution_count": 12,
   "id": "7f557cd1-6fdf-4d3b-a727-e2741b10746b",
   "metadata": {},
   "outputs": [
    {
     "data": {
      "text/html": [
       "<div>\n",
       "<style scoped>\n",
       "    .dataframe tbody tr th:only-of-type {\n",
       "        vertical-align: middle;\n",
       "    }\n",
       "\n",
       "    .dataframe tbody tr th {\n",
       "        vertical-align: top;\n",
       "    }\n",
       "\n",
       "    .dataframe thead th {\n",
       "        text-align: right;\n",
       "    }\n",
       "</style>\n",
       "<table border=\"1\" class=\"dataframe\">\n",
       "  <thead>\n",
       "    <tr style=\"text-align: right;\">\n",
       "      <th></th>\n",
       "      <th>Age</th>\n",
       "      <th>Income</th>\n",
       "      <th>VitD_levels</th>\n",
       "      <th>Initial_days</th>\n",
       "      <th>TotalCharge</th>\n",
       "      <th>Cluster</th>\n",
       "    </tr>\n",
       "  </thead>\n",
       "  <tbody>\n",
       "    <tr>\n",
       "      <th>0</th>\n",
       "      <td>-0.024795</td>\n",
       "      <td>1.615914</td>\n",
       "      <td>0.583603</td>\n",
       "      <td>-0.907310</td>\n",
       "      <td>-0.727185</td>\n",
       "      <td>0</td>\n",
       "    </tr>\n",
       "    <tr>\n",
       "      <th>1</th>\n",
       "      <td>-0.121706</td>\n",
       "      <td>0.221443</td>\n",
       "      <td>0.483901</td>\n",
       "      <td>-0.734595</td>\n",
       "      <td>-0.513228</td>\n",
       "      <td>0</td>\n",
       "    </tr>\n",
       "    <tr>\n",
       "      <th>2</th>\n",
       "      <td>-0.024795</td>\n",
       "      <td>-0.915870</td>\n",
       "      <td>0.046227</td>\n",
       "      <td>-1.128292</td>\n",
       "      <td>-1.319983</td>\n",
       "      <td>3</td>\n",
       "    </tr>\n",
       "    <tr>\n",
       "      <th>3</th>\n",
       "      <td>1.186592</td>\n",
       "      <td>-0.026263</td>\n",
       "      <td>-0.687811</td>\n",
       "      <td>-1.244503</td>\n",
       "      <td>-1.460517</td>\n",
       "      <td>3</td>\n",
       "    </tr>\n",
       "    <tr>\n",
       "      <th>4</th>\n",
       "      <td>-1.526914</td>\n",
       "      <td>-1.377325</td>\n",
       "      <td>-0.260366</td>\n",
       "      <td>-1.261991</td>\n",
       "      <td>-1.467285</td>\n",
       "      <td>0</td>\n",
       "    </tr>\n",
       "  </tbody>\n",
       "</table>\n",
       "</div>"
      ],
      "text/plain": [
       "        Age    Income  VitD_levels  Initial_days  TotalCharge  Cluster\n",
       "0 -0.024795  1.615914     0.583603     -0.907310    -0.727185        0\n",
       "1 -0.121706  0.221443     0.483901     -0.734595    -0.513228        0\n",
       "2 -0.024795 -0.915870     0.046227     -1.128292    -1.319983        3\n",
       "3  1.186592 -0.026263    -0.687811     -1.244503    -1.460517        3\n",
       "4 -1.526914 -1.377325    -0.260366     -1.261991    -1.467285        0"
      ]
     },
     "execution_count": 12,
     "metadata": {},
     "output_type": "execute_result"
    }
   ],
   "source": [
    "scaled_data_head"
   ]
  },
  {
   "cell_type": "code",
   "execution_count": 13,
   "id": "26c9acc4-644a-46e2-818f-30fd934533ae",
   "metadata": {},
   "outputs": [],
   "source": [
    "# Saving the clustered data to a new CSV file\n",
    "clustered_data_path = 'clustered_data.csv'\n",
    "scaled_data.to_csv(clustered_data_path, index=False)"
   ]
  },
  {
   "cell_type": "code",
   "execution_count": 14,
   "id": "48a1948d-6b26-4894-ba46-2d636e7c0dc6",
   "metadata": {},
   "outputs": [
    {
     "data": {
      "image/png": "[encoded data removed]",
      "text/plain": [
       "<Figure size 1000x600 with 1 Axes>"
      ]
     },
     "metadata": {},
     "output_type": "display_data"
    }
   ],
   "source": [
    "# Count the number of instances in each cluster\n",
    "cluster_counts = scaled_data['Cluster'].value_counts()\n",
    "\n",
    "# Sort the cluster counts to ensure consistent color mapping\n",
    "cluster_counts = cluster_counts.sort_index()\n",
    "\n",
    "# Create a bar plot\n",
    "plt.figure(figsize=(10, 6))\n",
    "cluster_counts.plot(kind='bar')\n",
    "plt.title('Cluster Distribution')\n",
    "plt.xlabel('Cluster')\n",
    "plt.ylabel('Number of Instances')\n",
    "plt.xticks(rotation=0)\n",
    "plt.show()"
   ]
  },
  {
   "cell_type": "code",
   "execution_count": 15,
   "id": "5a9c37de-222d-4eba-9dd6-6f6d6c8f3764",
   "metadata": {},
   "outputs": [
    {
     "name": "stdout",
     "output_type": "stream",
     "text": [
      "Silhouette Score: 0.23522536657174636\n",
      "Inertia: 24325.461883072585\n"
     ]
    }
   ],
   "source": [
    "# Computing the silhouette score\n",
    "silhouette_avg = silhouette_score(scaled_data.iloc[:, :-1], kmeans_optimal.labels_)\n",
    "\n",
    "# Within-cluster sum of squares (inertia)\n",
    "inertia = kmeans_optimal.inertia_\n",
    "\n",
    "print(f'Silhouette Score: {silhouette_avg}')\n",
    "print(f'Inertia: {inertia}')"
   ]
  },
  {
   "cell_type": "markdown",
   "id": "3f8071d9-22f1-43ad-8377-db89049afad9",
   "metadata": {},
   "source": [
    "## Part 5: Data Summary and Implications\n",
    "\n",
    "### E. Summary of Data Analysis"
   ]
  },
  {
   "cell_type": "markdown",
   "id": "83725d22-b7dd-42bc-9e2a-483e6e760b94",
   "metadata": {},
   "source": [
    "**1. Quality of the Clusters Created**\n",
    "The silhouette score obtained is 0.235, which suggests that the clusters are not highly distinct but are more than random overlaps. A silhouette score closer to 1 indicates well-separated clusters, so there is room for improvement, but the score is positive, implying that on average, samples are closer to their own cluster than to other clusters. The equal distribution of instances across the clusters, as observed in the bar plot, indicates that the data points are relatively evenly grouped."
   ]
  },
  {
   "cell_type": "markdown",
   "id": "e958a8b2-41ba-4536-8cb1-539e73989d41",
   "metadata": {},
   "source": [
    "**2. Results and Implications of Clustering Analysis**\n",
    "\n",
    "The clustering analysis has resulted in four groups of patients with distinct demographic and clinical profiles, which can potentially correspond to different patterns of healthcare utilization. The even distribution of patients across clusters suggests that the hospital services a diverse patient population with potentially varying needs.\n",
    "\n",
    "The implications of this analysis could be significant for the hospital:\n",
    "\n",
    "- **Resource Optimization**: Each cluster may represent different care requirements and risk factors. This knowledge allows the hospital to tailor its resources better and align them with patient needs.\n",
    "  \n",
    "- **Strategic Planning**: Understanding patient clusters helps the hospital in strategic planning and policy-making, such as designing specific programs targeted at the most prevalent needs within each cluster.\n",
    "  \n",
    "- **Customized Care**: Clusters can inform more personalized care plans, which could improve patient outcomes and satisfaction, potentially reducing readmission rates.\n",
    "  \n",
    "- **Marketing and Outreach**: Marketing efforts can be tailored to the predominant characteristics of each cluster, potentially increasing patient engagement and acquisition."
   ]
  },
  {
   "cell_type": "markdown",
   "id": "a1afb960-d277-4cb7-b3e8-e4f8c2491f2e",
   "metadata": {},
   "source": [
    "**3. Limitation of Data Analysis**\n",
    "One limitation of this analysis is the use of only continuous variables for clustering. The exclusion of categorical data, such as gender, disease prevalence, or type of admission, might overlook important patterns in patient characteristics. Additionally, the silhouette score indicates moderate cluster overlap, which may hinder the clear differentiation of patient groups. The analysis also does not account for temporal factors that may influence patient readmissions, such as seasonal variations in illness."
   ]
  },
  {
   "cell_type": "markdown",
   "id": "f44b2c33-e811-4920-9e39-838e11d89597",
   "metadata": {},
   "source": [
    "**4. Recommended Course of Action**\n",
    "Based on the results and implications, the following actions are recommended for the hospital:\n",
    "\n",
    "- **Detailed Cluster Profiling**: Further analyze each cluster to understand the defining characteristics and healthcare needs of the patients within. This can be enhanced by incorporating categorical variables into the analysis using different clustering techniques that can handle mixed data types.\n",
    "  \n",
    "- **Tailored Intervention Strategies**: Develop and implement tailored intervention strategies for each patient cluster, focusing on the most prominent needs and risk factors identified.\n",
    "  \n",
    "- **Continuous Monitoring and Adjustment**: Regularly review and update the clustering model to incorporate new data, reflect changing patient demographics, and improve the clustering strategy.\n",
    "  \n",
    "- **Enhanced Patient Engagement**: Use the insights from patient clusters to enhance patient communication and engagement strategies, offering personalized health education and preventive care programs.\n",
    "\n",
    "- **Invest in Technology**: Consider investing in predictive analytics and machine learning technologies that can dynamically segment patients and predict outcomes, enhancing the hospital’s ability to provide proactive care."
   ]
  }
 ],
 "metadata": {
  "kernelspec": {
   "display_name": "Python 3 (ipykernel)",
   "language": "python",
   "name": "python3"
  },
  "language_info": {
   "codemirror_mode": {
    "name": "ipython",
    "version": 3
   },
   "file_extension": ".py",
   "mimetype": "text/x-python",
   "name": "python",
   "nbconvert_exporter": "python",
   "pygments_lexer": "ipython3",
   "version": "3.11.6"
  }
 },
 "nbformat": 4,
 "nbformat_minor": 5
}
