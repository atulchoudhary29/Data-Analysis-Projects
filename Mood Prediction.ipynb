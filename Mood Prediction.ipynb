{
 "cells": [
  {
   "cell_type": "markdown",
   "id": "bbd4695f",
   "metadata": {},
   "source": [
    "# Mood Prediction"
   ]
  },
  {
   "cell_type": "markdown",
   "id": "44646edb",
   "metadata": {},
   "source": [
    "### Objective:\n",
    "\n",
    "To predict the mood of a user based on their medication adherence using historical data, and to extract insights on the relationship between mood and medication.\n",
    "\n",
    "Steps:\n",
    "    \n",
    "- **Data Exploration:** We will begin by loading the dataset, inspecting its structure, checking for missing values, and getting some basic statistics.\n",
    "- **Data Visualization:** Visualizing the data will help us understand the patterns and relationships between the variables.\n",
    "- **Feature Engineering:** We might need to create new features or modify existing ones to improve the performance of our model.\n",
    "- **Model Development:** Based on the insights from the previous steps, we will develop machine learning models to predict the desired outcomes.\n",
    "- **Evaluation and Insights:** After training, we will evaluate the performance of our models and derive insights based on the results."
   ]
  },
  {
   "cell_type": "markdown",
   "id": "3ecf4148",
   "metadata": {},
   "source": [
    "## Libraries"
   ]
  },
  {
   "cell_type": "code",
   "execution_count": 1,
   "id": "4d400a47",
   "metadata": {},
   "outputs": [],
   "source": [
    "import pandas as pd\n",
    "import matplotlib.pyplot as plt\n",
    "import seaborn as sns\n",
    "from sklearn.model_selection import train_test_split\n",
    "from sklearn.preprocessing import LabelEncoder\n",
    "from sklearn.ensemble import RandomForestRegressor\n",
    "from sklearn.metrics import mean_squared_error, mean_absolute_error\n",
    "\n",
    "import warnings\n",
    "warnings.filterwarnings(\"ignore\")"
   ]
  },
  {
   "cell_type": "markdown",
   "id": "99ff21e7",
   "metadata": {},
   "source": [
    "## Data Exploration"
   ]
  },
  {
   "cell_type": "code",
   "execution_count": 2,
   "id": "2077f34f",
   "metadata": {},
   "outputs": [
    {
     "data": {
      "text/html": [
       "<div>\n",
       "<style scoped>\n",
       "    .dataframe tbody tr th:only-of-type {\n",
       "        vertical-align: middle;\n",
       "    }\n",
       "\n",
       "    .dataframe tbody tr th {\n",
       "        vertical-align: top;\n",
       "    }\n",
       "\n",
       "    .dataframe thead th {\n",
       "        text-align: right;\n",
       "    }\n",
       "</style>\n",
       "<table border=\"1\" class=\"dataframe\">\n",
       "  <thead>\n",
       "    <tr style=\"text-align: right;\">\n",
       "      <th></th>\n",
       "      <th>User</th>\n",
       "      <th>Date</th>\n",
       "      <th>Medication Adherence</th>\n",
       "      <th>Mood</th>\n",
       "    </tr>\n",
       "  </thead>\n",
       "  <tbody>\n",
       "    <tr>\n",
       "      <th>0</th>\n",
       "      <td>user_1</td>\n",
       "      <td>1/1/2023</td>\n",
       "      <td>1.0</td>\n",
       "      <td>7.0</td>\n",
       "    </tr>\n",
       "    <tr>\n",
       "      <th>1</th>\n",
       "      <td>user_1</td>\n",
       "      <td>1/2/2023</td>\n",
       "      <td>2.0</td>\n",
       "      <td>8.0</td>\n",
       "    </tr>\n",
       "    <tr>\n",
       "      <th>2</th>\n",
       "      <td>user_1</td>\n",
       "      <td>1/3/2023</td>\n",
       "      <td>1.0</td>\n",
       "      <td>7.0</td>\n",
       "    </tr>\n",
       "    <tr>\n",
       "      <th>3</th>\n",
       "      <td>user_1</td>\n",
       "      <td>1/4/2023</td>\n",
       "      <td>2.0</td>\n",
       "      <td>6.0</td>\n",
       "    </tr>\n",
       "    <tr>\n",
       "      <th>4</th>\n",
       "      <td>user_1</td>\n",
       "      <td>1/5/2023</td>\n",
       "      <td>1.0</td>\n",
       "      <td>7.0</td>\n",
       "    </tr>\n",
       "  </tbody>\n",
       "</table>\n",
       "</div>"
      ],
      "text/plain": [
       "     User      Date  Medication Adherence  Mood\n",
       "0  user_1  1/1/2023                   1.0   7.0\n",
       "1  user_1  1/2/2023                   2.0   8.0\n",
       "2  user_1  1/3/2023                   1.0   7.0\n",
       "3  user_1  1/4/2023                   2.0   6.0\n",
       "4  user_1  1/5/2023                   1.0   7.0"
      ]
     },
     "execution_count": 2,
     "metadata": {},
     "output_type": "execute_result"
    }
   ],
   "source": [
    "# Load the dataset\n",
    "data = pd.read_csv('MoodPredictionData.csv')\n",
    "\n",
    "# Display the first few rows of the dataset\n",
    "data.head()"
   ]
  },
  {
   "cell_type": "markdown",
   "id": "3674e55e",
   "metadata": {},
   "source": [
    "The dataset comprises four columns:\n",
    "\n",
    "- `User`: User ID\n",
    "- `Date`: Date of the data\n",
    "- `Medication Adherence`: Number of medications taken by the user on that day\n",
    "- `Mood`: Mood value for the day"
   ]
  },
  {
   "cell_type": "code",
   "execution_count": 3,
   "id": "d3b15380",
   "metadata": {},
   "outputs": [
    {
     "data": {
      "text/plain": [
       "User                    22\n",
       "Date                    22\n",
       "Medication Adherence    22\n",
       "Mood                    22\n",
       "dtype: int64"
      ]
     },
     "execution_count": 3,
     "metadata": {},
     "output_type": "execute_result"
    }
   ],
   "source": [
    "# Check for missing values\n",
    "missing_values = data.isnull().sum()\n",
    "\n",
    "# Get basic statistics\n",
    "basic_stats = data.describe()\n",
    "\n",
    "missing_values"
   ]
  },
  {
   "cell_type": "code",
   "execution_count": 4,
   "id": "33992e1b",
   "metadata": {},
   "outputs": [
    {
     "data": {
      "text/html": [
       "<div>\n",
       "<style scoped>\n",
       "    .dataframe tbody tr th:only-of-type {\n",
       "        vertical-align: middle;\n",
       "    }\n",
       "\n",
       "    .dataframe tbody tr th {\n",
       "        vertical-align: top;\n",
       "    }\n",
       "\n",
       "    .dataframe thead th {\n",
       "        text-align: right;\n",
       "    }\n",
       "</style>\n",
       "<table border=\"1\" class=\"dataframe\">\n",
       "  <thead>\n",
       "    <tr style=\"text-align: right;\">\n",
       "      <th></th>\n",
       "      <th>Medication Adherence</th>\n",
       "      <th>Mood</th>\n",
       "    </tr>\n",
       "  </thead>\n",
       "  <tbody>\n",
       "    <tr>\n",
       "      <th>count</th>\n",
       "      <td>370.000000</td>\n",
       "      <td>370.000000</td>\n",
       "    </tr>\n",
       "    <tr>\n",
       "      <th>mean</th>\n",
       "      <td>1.235135</td>\n",
       "      <td>6.562162</td>\n",
       "    </tr>\n",
       "    <tr>\n",
       "      <th>std</th>\n",
       "      <td>0.773096</td>\n",
       "      <td>1.678067</td>\n",
       "    </tr>\n",
       "    <tr>\n",
       "      <th>min</th>\n",
       "      <td>0.000000</td>\n",
       "      <td>2.000000</td>\n",
       "    </tr>\n",
       "    <tr>\n",
       "      <th>25%</th>\n",
       "      <td>1.000000</td>\n",
       "      <td>5.000000</td>\n",
       "    </tr>\n",
       "    <tr>\n",
       "      <th>50%</th>\n",
       "      <td>1.000000</td>\n",
       "      <td>7.000000</td>\n",
       "    </tr>\n",
       "    <tr>\n",
       "      <th>75%</th>\n",
       "      <td>2.000000</td>\n",
       "      <td>8.000000</td>\n",
       "    </tr>\n",
       "    <tr>\n",
       "      <th>max</th>\n",
       "      <td>3.000000</td>\n",
       "      <td>10.000000</td>\n",
       "    </tr>\n",
       "  </tbody>\n",
       "</table>\n",
       "</div>"
      ],
      "text/plain": [
       "       Medication Adherence        Mood\n",
       "count            370.000000  370.000000\n",
       "mean               1.235135    6.562162\n",
       "std                0.773096    1.678067\n",
       "min                0.000000    2.000000\n",
       "25%                1.000000    5.000000\n",
       "50%                1.000000    7.000000\n",
       "75%                2.000000    8.000000\n",
       "max                3.000000   10.000000"
      ]
     },
     "execution_count": 4,
     "metadata": {},
     "output_type": "execute_result"
    }
   ],
   "source": [
    "basic_stats"
   ]
  },
  {
   "cell_type": "markdown",
   "id": "42012d0d",
   "metadata": {},
   "source": [
    "**Observations:**\n",
    "\n",
    "- There are 22 missing values in each column. This indicates that there might be 22 rows with all values missing.\n",
    "1. For `Medication Adherence`:\n",
    "- The minimum value is 0, indicating days when no medication was taken.\n",
    "- The maximum value is 3, suggesting that on some days, users took up to three medications.\n",
    "- The average number of medications taken is approximately 1.24.\n",
    "2. For `Mood`:\n",
    "- The mood values range from 2 to 10.\n",
    "- The average mood value is approximately 6.56."
   ]
  },
  {
   "cell_type": "code",
   "execution_count": 5,
   "id": "439b19a0",
   "metadata": {},
   "outputs": [],
   "source": [
    "# Remove rows with all missing values\n",
    "data_cleaned = data.dropna(how=\"all\")"
   ]
  },
  {
   "cell_type": "markdown",
   "id": "6260c379",
   "metadata": {},
   "source": [
    "## Data Visualization"
   ]
  },
  {
   "cell_type": "code",
   "execution_count": 6,
   "id": "59cbee59",
   "metadata": {},
   "outputs": [
    {
     "data": {
      "image/png": "[encoded data removed]",
      "text/plain": [
       "<Figure size 1500x600 with 2 Axes>"
      ]
     },
     "metadata": {},
     "output_type": "display_data"
    }
   ],
   "source": [
    "plt.figure(figsize=(15, 6))\n",
    "\n",
    "# Plotting Medication Adherence distribution\n",
    "plt.subplot(1, 2, 1)\n",
    "sns.histplot(data_cleaned['Medication Adherence'], bins=4, kde=True)\n",
    "plt.title('Distribution of Medication Adherence')\n",
    "\n",
    "# Plotting Mood distribution\n",
    "plt.subplot(1, 2, 2)\n",
    "sns.histplot(data_cleaned['Mood'], bins=9, kde=True)\n",
    "plt.title('Distribution of Mood')\n",
    "\n",
    "plt.tight_layout()\n",
    "plt.show()"
   ]
  },
  {
   "cell_type": "markdown",
   "id": "c60b86b9",
   "metadata": {},
   "source": [
    "**Observations from the Visualizations:**\n",
    "\n",
    "1. ***Medication Adherence***:\n",
    "\n",
    "- Most days, users tend to take one medication.\n",
    "- Taking two medications in a day is the second most common scenario.\n",
    "- Days with no medication or three medications are less frequent.\n",
    "\n",
    "2. ***Mood***:\n",
    "\n",
    "- Mood values appear to be somewhat normally distributed.\n",
    "- A significant number of days have mood values around 7.\n",
    "- Extreme mood values (both low and high) are less common."
   ]
  },
  {
   "cell_type": "markdown",
   "id": "0c1892bc",
   "metadata": {},
   "source": [
    "Let's visualize the relationship between medication adherence and mood using scatter plots and box plots. This will help us understand how mood varies with different levels of medication adherence."
   ]
  },
  {
   "cell_type": "code",
   "execution_count": 7,
   "id": "314de0a9",
   "metadata": {},
   "outputs": [
    {
     "data": {
      "image/png": "[encoded data removed]",
      "text/plain": [
       "<Figure size 1500x600 with 2 Axes>"
      ]
     },
     "metadata": {},
     "output_type": "display_data"
    }
   ],
   "source": [
    "plt.figure(figsize=(15, 6))\n",
    "\n",
    "# Scatter plot of Medication Adherence vs. Mood\n",
    "plt.subplot(1, 2, 1)\n",
    "sns.scatterplot(x='Medication Adherence', y='Mood', data=data_cleaned, alpha=0.6)\n",
    "plt.title('Scatter plot: Medication Adherence vs. Mood')\n",
    "\n",
    "# Box plot of Mood against Medication Adherence\n",
    "plt.subplot(1, 2, 2)\n",
    "sns.boxplot(x='Medication Adherence', y='Mood', data=data_cleaned)\n",
    "plt.title('Box plot: Mood by Medication Adherence')\n",
    "\n",
    "plt.tight_layout()\n",
    "plt.show()"
   ]
  },
  {
   "cell_type": "markdown",
   "id": "39864770",
   "metadata": {},
   "source": [
    "**Observations from the Visualizations:**\n",
    "\n",
    "1. ***Scatter plot: Medication Adherence vs. Mood***\n",
    "\n",
    "- There doesn't seem to be a very clear trend between medication adherence and mood.\n",
    "- However, it seems that on days with zero medication adherence, mood values are spread across the spectrum, with a few low mood values.\n",
    "\n",
    "2. ***Box plot: Mood by Medication Adherence***\n",
    "\n",
    "- The median mood value appears to be relatively stable across different medication adherence levels.\n",
    "- Days with zero medication adherence have a wider interquartile range, suggesting more variability in mood on those days.\n",
    "- The median mood for days with three medications is slightly lower than for other days."
   ]
  },
  {
   "cell_type": "markdown",
   "id": "931478d6",
   "metadata": {},
   "source": [
    "## Tasks"
   ]
  },
  {
   "cell_type": "markdown",
   "id": "2f03e6d2",
   "metadata": {},
   "source": [
    "#### 1. When a patient misses medication, check the mood if it is low or high and predict in the future the probability that the user's mood might change when there is a medication miss.\n",
    "\n",
    "- Extract days when the medication was missed.\n",
    "- Analyze the mood distribution for those days.\n",
    "- Build a model to predict mood on days when medication is missed."
   ]
  },
  {
   "cell_type": "code",
   "execution_count": 8,
   "id": "bba33d10",
   "metadata": {},
   "outputs": [
    {
     "data": {
      "image/png": "[encoded data removed]",
      "text/plain": [
       "<Figure size 800x600 with 1 Axes>"
      ]
     },
     "metadata": {},
     "output_type": "display_data"
    }
   ],
   "source": [
    "# Extracting days when medication was missed\n",
    "missed_medication_data = data_cleaned[data_cleaned['Medication Adherence'] == 0]\n",
    "\n",
    "# Analyze the mood distribution for those days\n",
    "mood_distribution_missed_medication = missed_medication_data['Mood'].describe()\n",
    "\n",
    "# Visualize the mood distribution for days with missed medication\n",
    "plt.figure(figsize=(8, 6))\n",
    "sns.histplot(missed_medication_data['Mood'], bins=9, kde=True)\n",
    "plt.title('Distribution of Mood on Days with Missed Medication')\n",
    "plt.show()"
   ]
  },
  {
   "cell_type": "code",
   "execution_count": 9,
   "id": "08b7ab30",
   "metadata": {},
   "outputs": [
    {
     "data": {
      "text/plain": [
       "count    55.000000\n",
       "mean      4.763636\n",
       "std       1.502635\n",
       "min       2.000000\n",
       "25%       4.000000\n",
       "50%       5.000000\n",
       "75%       5.000000\n",
       "max       8.000000\n",
       "Name: Mood, dtype: float64"
      ]
     },
     "execution_count": 9,
     "metadata": {},
     "output_type": "execute_result"
    }
   ],
   "source": [
    "mood_distribution_missed_medication"
   ]
  },
  {
   "cell_type": "markdown",
   "id": "896d59a0",
   "metadata": {},
   "source": [
    "***Observations on Days with Missed Medication:***\n",
    "\n",
    "- The mood values on days when medication was missed range from 2 to 8.\n",
    "- The average mood on such days is approximately 4.76, which is lower than the overall average mood across all days.\n",
    "- The median mood value is 5.\n",
    "- The distribution seems to be slightly left-skewed, indicating more occurrences of lower mood values on days when medication is missed."
   ]
  },
  {
   "cell_type": "markdown",
   "id": "9f814558",
   "metadata": {},
   "source": [
    "Given these observations, we can deduce that missing medication tends to be associated with a lower mood. However, it's essential to recognize that correlation does not imply causation, and other factors might also be at play."
   ]
  },
  {
   "cell_type": "markdown",
   "id": "63990cf4",
   "metadata": {},
   "source": [
    "We'll build a model to predict mood on days when medication is missed. For this, we can use the following features:\n",
    "\n",
    "1. User ID (encoded)\n",
    "2. Date (broken down into day, month, and possibly day of the week)"
   ]
  },
  {
   "cell_type": "code",
   "execution_count": 10,
   "id": "34004648",
   "metadata": {},
   "outputs": [],
   "source": [
    "# Encoding the User ID\n",
    "label_enc = LabelEncoder()\n",
    "data_cleaned['User_encoded'] = label_enc.fit_transform(data_cleaned['User'])"
   ]
  },
  {
   "cell_type": "code",
   "execution_count": 11,
   "id": "47626c69",
   "metadata": {},
   "outputs": [],
   "source": [
    "# Extracting day, month, and day of the week from Date\n",
    "data_cleaned['Date'] = pd.to_datetime(data_cleaned['Date'])\n",
    "data_cleaned['Day'] = data_cleaned['Date'].dt.day\n",
    "data_cleaned['Month'] = data_cleaned['Date'].dt.month\n",
    "data_cleaned['Day_of_week'] = data_cleaned['Date'].dt.dayofweek"
   ]
  },
  {
   "cell_type": "code",
   "execution_count": 12,
   "id": "40227b98",
   "metadata": {},
   "outputs": [],
   "source": [
    "# Features and target\n",
    "X = data_cleaned[['User_encoded', 'Day', 'Month', 'Day_of_week']]\n",
    "y = data_cleaned['Mood']"
   ]
  },
  {
   "cell_type": "code",
   "execution_count": 13,
   "id": "6032e51c",
   "metadata": {},
   "outputs": [
    {
     "data": {
      "text/html": [
       "<div>\n",
       "<style scoped>\n",
       "    .dataframe tbody tr th:only-of-type {\n",
       "        vertical-align: middle;\n",
       "    }\n",
       "\n",
       "    .dataframe tbody tr th {\n",
       "        vertical-align: top;\n",
       "    }\n",
       "\n",
       "    .dataframe thead th {\n",
       "        text-align: right;\n",
       "    }\n",
       "</style>\n",
       "<table border=\"1\" class=\"dataframe\">\n",
       "  <thead>\n",
       "    <tr style=\"text-align: right;\">\n",
       "      <th></th>\n",
       "      <th>User_encoded</th>\n",
       "      <th>Day</th>\n",
       "      <th>Month</th>\n",
       "      <th>Day_of_week</th>\n",
       "    </tr>\n",
       "  </thead>\n",
       "  <tbody>\n",
       "    <tr>\n",
       "      <th>367</th>\n",
       "      <td>0</td>\n",
       "      <td>9</td>\n",
       "      <td>12</td>\n",
       "      <td>5</td>\n",
       "    </tr>\n",
       "    <tr>\n",
       "      <th>204</th>\n",
       "      <td>0</td>\n",
       "      <td>6</td>\n",
       "      <td>7</td>\n",
       "      <td>3</td>\n",
       "    </tr>\n",
       "    <tr>\n",
       "      <th>79</th>\n",
       "      <td>0</td>\n",
       "      <td>11</td>\n",
       "      <td>3</td>\n",
       "      <td>5</td>\n",
       "    </tr>\n",
       "    <tr>\n",
       "      <th>88</th>\n",
       "      <td>0</td>\n",
       "      <td>20</td>\n",
       "      <td>3</td>\n",
       "      <td>0</td>\n",
       "    </tr>\n",
       "    <tr>\n",
       "      <th>380</th>\n",
       "      <td>0</td>\n",
       "      <td>20</td>\n",
       "      <td>12</td>\n",
       "      <td>2</td>\n",
       "    </tr>\n",
       "  </tbody>\n",
       "</table>\n",
       "</div>"
      ],
      "text/plain": [
       "     User_encoded  Day  Month  Day_of_week\n",
       "367             0    9     12            5\n",
       "204             0    6      7            3\n",
       "79              0   11      3            5\n",
       "88              0   20      3            0\n",
       "380             0   20     12            2"
      ]
     },
     "execution_count": 13,
     "metadata": {},
     "output_type": "execute_result"
    }
   ],
   "source": [
    "# Splitting the data into training and testing sets\n",
    "X_train, X_test, y_train, y_test = train_test_split(X, y, test_size=0.2, random_state=42)\n",
    "\n",
    "X_train.head()"
   ]
  },
  {
   "cell_type": "markdown",
   "id": "6b0f6dd1",
   "metadata": {},
   "source": [
    "We will train a regression model (Random Forest Regressor) to predict the `Mood` based on the features. After training, we'll evaluate its performance on the test set."
   ]
  },
  {
   "cell_type": "code",
   "execution_count": 14,
   "id": "fe85e2ec",
   "metadata": {},
   "outputs": [
    {
     "data": {
      "text/html": [
       "<style>#sk-container-id-1 {color: black;background-color: white;}#sk-container-id-1 pre{padding: 0;}#sk-container-id-1 div.sk-toggleable {background-color: white;}#sk-container-id-1 label.sk-toggleable__label {cursor: pointer;display: block;width: 100%;margin-bottom: 0;padding: 0.3em;box-sizing: border-box;text-align: center;}#sk-container-id-1 label.sk-toggleable__label-arrow:before {content: \"▸\";float: left;margin-right: 0.25em;color: #696969;}#sk-container-id-1 label.sk-toggleable__label-arrow:hover:before {color: black;}#sk-container-id-1 div.sk-estimator:hover label.sk-toggleable__label-arrow:before {color: black;}#sk-container-id-1 div.sk-toggleable__content {max-height: 0;max-width: 0;overflow: hidden;text-align: left;background-color: #f0f8ff;}#sk-container-id-1 div.sk-toggleable__content pre {margin: 0.2em;color: black;border-radius: 0.25em;background-color: #f0f8ff;}#sk-container-id-1 input.sk-toggleable__control:checked~div.sk-toggleable__content {max-height: 200px;max-width: 100%;overflow: auto;}#sk-container-id-1 input.sk-toggleable__control:checked~label.sk-toggleable__label-arrow:before {content: \"▾\";}#sk-container-id-1 div.sk-estimator input.sk-toggleable__control:checked~label.sk-toggleable__label {background-color: #d4ebff;}#sk-container-id-1 div.sk-label input.sk-toggleable__control:checked~label.sk-toggleable__label {background-color: #d4ebff;}#sk-container-id-1 input.sk-hidden--visually {border: 0;clip: rect(1px 1px 1px 1px);clip: rect(1px, 1px, 1px, 1px);height: 1px;margin: -1px;overflow: hidden;padding: 0;position: absolute;width: 1px;}#sk-container-id-1 div.sk-estimator {font-family: monospace;background-color: #f0f8ff;border: 1px dotted black;border-radius: 0.25em;box-sizing: border-box;margin-bottom: 0.5em;}#sk-container-id-1 div.sk-estimator:hover {background-color: #d4ebff;}#sk-container-id-1 div.sk-parallel-item::after {content: \"\";width: 100%;border-bottom: 1px solid gray;flex-grow: 1;}#sk-container-id-1 div.sk-label:hover label.sk-toggleable__label {background-color: #d4ebff;}#sk-container-id-1 div.sk-serial::before {content: \"\";position: absolute;border-left: 1px solid gray;box-sizing: border-box;top: 0;bottom: 0;left: 50%;z-index: 0;}#sk-container-id-1 div.sk-serial {display: flex;flex-direction: column;align-items: center;background-color: white;padding-right: 0.2em;padding-left: 0.2em;position: relative;}#sk-container-id-1 div.sk-item {position: relative;z-index: 1;}#sk-container-id-1 div.sk-parallel {display: flex;align-items: stretch;justify-content: center;background-color: white;position: relative;}#sk-container-id-1 div.sk-item::before, #sk-container-id-1 div.sk-parallel-item::before {content: \"\";position: absolute;border-left: 1px solid gray;box-sizing: border-box;top: 0;bottom: 0;left: 50%;z-index: -1;}#sk-container-id-1 div.sk-parallel-item {display: flex;flex-direction: column;z-index: 1;position: relative;background-color: white;}#sk-container-id-1 div.sk-parallel-item:first-child::after {align-self: flex-end;width: 50%;}#sk-container-id-1 div.sk-parallel-item:last-child::after {align-self: flex-start;width: 50%;}#sk-container-id-1 div.sk-parallel-item:only-child::after {width: 0;}#sk-container-id-1 div.sk-dashed-wrapped {border: 1px dashed gray;margin: 0 0.4em 0.5em 0.4em;box-sizing: border-box;padding-bottom: 0.4em;background-color: white;}#sk-container-id-1 div.sk-label label {font-family: monospace;font-weight: bold;display: inline-block;line-height: 1.2em;}#sk-container-id-1 div.sk-label-container {text-align: center;}#sk-container-id-1 div.sk-container {/* jupyter's `normalize.less` sets `[hidden] { display: none; }` but bootstrap.min.css set `[hidden] { display: none !important; }` so we also need the `!important` here to be able to override the default hidden behavior on the sphinx rendered scikit-learn.org. See: https://github.com/scikit-learn/scikit-learn/issues/21755 */display: inline-block !important;position: relative;}#sk-container-id-1 div.sk-text-repr-fallback {display: none;}</style><div id=\"sk-container-id-1\" class=\"sk-top-container\"><div class=\"sk-text-repr-fallback\"><pre>RandomForestRegressor(random_state=42)</pre><b>In a Jupyter environment, please rerun this cell to show the HTML representation or trust the notebook. <br />On GitHub, the HTML representation is unable to render, please try loading this page with nbviewer.org.</b></div><div class=\"sk-container\" hidden><div class=\"sk-item\"><div class=\"sk-estimator sk-toggleable\"><input class=\"sk-toggleable__control sk-hidden--visually\" id=\"sk-estimator-id-1\" type=\"checkbox\" checked><label for=\"sk-estimator-id-1\" class=\"sk-toggleable__label sk-toggleable__label-arrow\">RandomForestRegressor</label><div class=\"sk-toggleable__content\"><pre>RandomForestRegressor(random_state=42)</pre></div></div></div></div></div>"
      ],
      "text/plain": [
       "RandomForestRegressor(random_state=42)"
      ]
     },
     "execution_count": 14,
     "metadata": {},
     "output_type": "execute_result"
    }
   ],
   "source": [
    "# Initialize the Random Forest Regressor\n",
    "rf_regressor = RandomForestRegressor(n_estimators=100, random_state=42)\n",
    "\n",
    "# Train the model\n",
    "rf_regressor.fit(X_train, y_train)"
   ]
  },
  {
   "cell_type": "code",
   "execution_count": 15,
   "id": "f3bea7a8",
   "metadata": {},
   "outputs": [],
   "source": [
    "# Predict on the test set\n",
    "y_pred = rf_regressor.predict(X_test)\n",
    "\n",
    "# Calculate performance metrics\n",
    "mse = mean_squared_error(y_test, y_pred)\n",
    "rmse = mean_squared_error(y_test, y_pred, squared=False)\n",
    "mae = mean_absolute_error(y_test, y_pred)"
   ]
  },
  {
   "cell_type": "code",
   "execution_count": 16,
   "id": "dcb8e9bb",
   "metadata": {},
   "outputs": [
    {
     "data": {
      "text/plain": [
       "(2.347335836451246, 1.5321017709183833, 1.1735620978120977)"
      ]
     },
     "execution_count": 16,
     "metadata": {},
     "output_type": "execute_result"
    }
   ],
   "source": [
    "mse, rmse, mae"
   ]
  },
  {
   "cell_type": "markdown",
   "id": "51d8df57",
   "metadata": {},
   "source": [
    "**Model Performance on Test Data:**\n",
    "\n",
    "1. `Mean Squared Error (MSE)`: 2.35\n",
    "- This metric provides the average squared difference between predicted and actual values. A lower value is better.\n",
    "\n",
    "2. `Root Mean Squared Error (RMSE)`: 1.53\n",
    "- This is the square root of the MSE and provides a measure of the prediction error in the same units as the target variable.\n",
    "\n",
    "3. `Mean Absolute Error (MAE)`: 1.17\n",
    "- This metric provides the average absolute difference between predicted and actual values."
   ]
  },
  {
   "cell_type": "markdown",
   "id": "75fcf512",
   "metadata": {},
   "source": [
    "#### 2. Check how efficient the mood change is when the user logs mood data before taking medication and the increase in mood value after taking medication on the same day.\n",
    "\n",
    "- Identify days where the mood value was logged before taking medication.\n",
    "- Compare the mood values for those days with the mood values for the subsequent days (assuming medication was taken on the subsequent days)."
   ]
  },
  {
   "cell_type": "code",
   "execution_count": 17,
   "id": "1ec64f9d",
   "metadata": {},
   "outputs": [],
   "source": [
    "# Extracting data where mood was logged before taking medication\n",
    "days_with_mood_before_medication = data_cleaned[data_cleaned['Medication Adherence'] == 0]\n",
    "\n",
    "# Identifying subsequent days for each user\n",
    "days_with_mood_before_medication['Next_Date'] = days_with_mood_before_medication.groupby('User')['Date'].shift(-1)"
   ]
  },
  {
   "cell_type": "code",
   "execution_count": 18,
   "id": "f3b2b65d",
   "metadata": {},
   "outputs": [],
   "source": [
    "# Merging the data with the original dataset to get mood values for the subsequent days\n",
    "merged_data = days_with_mood_before_medication.merge(data_cleaned, left_on=['User', 'Next_Date'], right_on=['User', 'Date'], suffixes=('_before', '_after'))\n",
    "\n",
    "# Extracting the mood values before and after medication\n",
    "mood_changes = merged_data[['Mood_before', 'Mood_after']]"
   ]
  },
  {
   "cell_type": "code",
   "execution_count": 19,
   "id": "cbe3acd2",
   "metadata": {},
   "outputs": [
    {
     "data": {
      "text/html": [
       "<div>\n",
       "<style scoped>\n",
       "    .dataframe tbody tr th:only-of-type {\n",
       "        vertical-align: middle;\n",
       "    }\n",
       "\n",
       "    .dataframe tbody tr th {\n",
       "        vertical-align: top;\n",
       "    }\n",
       "\n",
       "    .dataframe thead th {\n",
       "        text-align: right;\n",
       "    }\n",
       "</style>\n",
       "<table border=\"1\" class=\"dataframe\">\n",
       "  <thead>\n",
       "    <tr style=\"text-align: right;\">\n",
       "      <th></th>\n",
       "      <th>Mood_before</th>\n",
       "      <th>Mood_after</th>\n",
       "      <th>Mood_Change</th>\n",
       "    </tr>\n",
       "  </thead>\n",
       "  <tbody>\n",
       "    <tr>\n",
       "      <th>count</th>\n",
       "      <td>73.000000</td>\n",
       "      <td>73.000000</td>\n",
       "      <td>73.000000</td>\n",
       "    </tr>\n",
       "    <tr>\n",
       "      <th>mean</th>\n",
       "      <td>4.876712</td>\n",
       "      <td>5.000000</td>\n",
       "      <td>0.123288</td>\n",
       "    </tr>\n",
       "    <tr>\n",
       "      <th>std</th>\n",
       "      <td>1.562985</td>\n",
       "      <td>1.715938</td>\n",
       "      <td>2.403384</td>\n",
       "    </tr>\n",
       "    <tr>\n",
       "      <th>min</th>\n",
       "      <td>2.000000</td>\n",
       "      <td>2.000000</td>\n",
       "      <td>-5.000000</td>\n",
       "    </tr>\n",
       "    <tr>\n",
       "      <th>25%</th>\n",
       "      <td>4.000000</td>\n",
       "      <td>4.000000</td>\n",
       "      <td>-1.000000</td>\n",
       "    </tr>\n",
       "    <tr>\n",
       "      <th>50%</th>\n",
       "      <td>5.000000</td>\n",
       "      <td>5.000000</td>\n",
       "      <td>0.000000</td>\n",
       "    </tr>\n",
       "    <tr>\n",
       "      <th>75%</th>\n",
       "      <td>5.000000</td>\n",
       "      <td>6.000000</td>\n",
       "      <td>1.000000</td>\n",
       "    </tr>\n",
       "    <tr>\n",
       "      <th>max</th>\n",
       "      <td>8.000000</td>\n",
       "      <td>9.000000</td>\n",
       "      <td>5.000000</td>\n",
       "    </tr>\n",
       "  </tbody>\n",
       "</table>\n",
       "</div>"
      ],
      "text/plain": [
       "       Mood_before  Mood_after  Mood_Change\n",
       "count    73.000000   73.000000    73.000000\n",
       "mean      4.876712    5.000000     0.123288\n",
       "std       1.562985    1.715938     2.403384\n",
       "min       2.000000    2.000000    -5.000000\n",
       "25%       4.000000    4.000000    -1.000000\n",
       "50%       5.000000    5.000000     0.000000\n",
       "75%       5.000000    6.000000     1.000000\n",
       "max       8.000000    9.000000     5.000000"
      ]
     },
     "execution_count": 19,
     "metadata": {},
     "output_type": "execute_result"
    }
   ],
   "source": [
    "# Calculating the mood change\n",
    "mood_changes['Mood_Change'] = mood_changes['Mood_after'] - mood_changes['Mood_before']\n",
    "\n",
    "mood_changes.describe()"
   ]
  },
  {
   "cell_type": "markdown",
   "id": "ae157aaa",
   "metadata": {},
   "source": [
    "**Observations on Mood Changes:**\n",
    "\n",
    "- The average mood value before taking medication is approximately 4.88\n",
    "- The average mood value after taking medication (on the subsequent day) is 5.00\n",
    "- The average change in mood after taking medication is 0.12. This indicates a slight increase in mood on average after taking medication.\n",
    "- The mood changes range from a decrease of 5 to an increase of 5, indicating variability in how users respond after taking medication.\n",
    "- The median change in mood is 0, suggesting that for many days, the mood remains consistent before and after taking medication."
   ]
  },
  {
   "cell_type": "markdown",
   "id": "8f245f00",
   "metadata": {},
   "source": [
    "#### 3. Compare multi medication (adherence > 1) in a day with single medication (adherence = 1) data.\n",
    "\n",
    "- Extract days with single and multi medication.\n",
    "- Analyze and compare the mood distributions for both scenarios."
   ]
  },
  {
   "cell_type": "code",
   "execution_count": 20,
   "id": "c5ebc921",
   "metadata": {},
   "outputs": [],
   "source": [
    "# Extracting data for single and multi medication days\n",
    "single_medication_data = data_cleaned[data_cleaned['Medication Adherence'] == 1]\n",
    "multi_medication_data = data_cleaned[data_cleaned['Medication Adherence'] > 1]"
   ]
  },
  {
   "cell_type": "code",
   "execution_count": 21,
   "id": "c94dd2ec",
   "metadata": {},
   "outputs": [],
   "source": [
    "# Analyze the mood distribution for single medication days\n",
    "single_mood_distribution = single_medication_data['Mood'].describe()\n",
    "\n",
    "# Analyze the mood distribution for multi medication days\n",
    "multi_mood_distribution = multi_medication_data['Mood'].describe()"
   ]
  },
  {
   "cell_type": "code",
   "execution_count": 22,
   "id": "00d754fb",
   "metadata": {},
   "outputs": [
    {
     "data": {
      "image/png": "[encoded data removed]",
      "text/plain": [
       "<Figure size 1500x600 with 2 Axes>"
      ]
     },
     "metadata": {},
     "output_type": "display_data"
    }
   ],
   "source": [
    "# Visualize the mood distribution for single and multi medication days\n",
    "plt.figure(figsize=(15, 6))\n",
    "\n",
    "# Single medication mood distribution\n",
    "plt.subplot(1, 2, 1)\n",
    "sns.histplot(single_medication_data['Mood'], bins=9, kde=True)\n",
    "plt.title('Mood Distribution on Days with Single Medication')\n",
    "\n",
    "# Multi medication mood distribution\n",
    "plt.subplot(1, 2, 2)\n",
    "sns.histplot(multi_medication_data['Mood'], bins=9, kde=True)\n",
    "plt.title('Mood Distribution on Days with Multiple Medications')\n",
    "\n",
    "plt.tight_layout()\n",
    "plt.show()"
   ]
  },
  {
   "cell_type": "code",
   "execution_count": 23,
   "id": "0a422351",
   "metadata": {},
   "outputs": [
    {
     "data": {
      "text/plain": [
       "(count    195.000000\n",
       " mean       6.805128\n",
       " std        1.404328\n",
       " min        3.000000\n",
       " 25%        6.000000\n",
       " 50%        7.000000\n",
       " 75%        8.000000\n",
       " max       10.000000\n",
       " Name: Mood, dtype: float64,\n",
       " count    120.000000\n",
       " mean       6.991667\n",
       " std        1.647488\n",
       " min        3.000000\n",
       " 25%        6.000000\n",
       " 50%        7.000000\n",
       " 75%        8.000000\n",
       " max       10.000000\n",
       " Name: Mood, dtype: float64)"
      ]
     },
     "execution_count": 23,
     "metadata": {},
     "output_type": "execute_result"
    }
   ],
   "source": [
    "single_mood_distribution, multi_mood_distribution"
   ]
  },
  {
   "cell_type": "markdown",
   "id": "3cdb3775",
   "metadata": {},
   "source": [
    "**Observations on Mood for Single vs. Multiple Medications:**\n",
    "\n",
    "1. ***Single Medication:***\n",
    "\n",
    "- The average mood on days with a single medication is approximately 6.81.\n",
    "- The mood values range from 3 to 10.\n",
    "- The median mood value is 7.\n",
    "\n",
    "2. ***Multiple Medications:***\n",
    "\n",
    "- The average mood on days with multiple medications is approximately 6.99, which is slightly higher than the average mood on days with a single medication.\n",
    "- The mood values also range from 3 to 10.\n",
    "- The median mood value is 7.\n",
    "\n",
    "3. ***From the histograms, we can observe:***\n",
    "\n",
    "- The distribution of mood on days with a single medication is slightly left-skewed, with more days having mood values towards the higher end.\n",
    "- The distribution of mood on days with multiple medications is more spread out, with a similar skewness towards higher mood values.\n",
    "\n",
    "4. ***Interpretation:***\n",
    "\n",
    "- There's a slight increase in the average mood on days with multiple medications compared to days with a single medication. However, the difference is not substantial, and the mood distributions for both scenarios are relatively similar."
   ]
  },
  {
   "cell_type": "markdown",
   "id": "7d35b6de",
   "metadata": {},
   "source": [
    "#### 4. Predict the medication that happens in the future for a particular user.\n",
    "\n",
    "- we'll build a model to predict the Medication Adherence based on the features we've created."
   ]
  },
  {
   "cell_type": "code",
   "execution_count": 24,
   "id": "46b24012",
   "metadata": {},
   "outputs": [],
   "source": [
    "# Target variable for predicting medication adherence\n",
    "y_adherence = data_cleaned['Medication Adherence']\n",
    "\n",
    "# Splitting the data into training and testing sets for adherence prediction\n",
    "X_train_adherence, X_test_adherence, y_train_adherence, y_test_adherence = train_test_split(X, y_adherence, test_size=0.2, random_state=42)"
   ]
  },
  {
   "cell_type": "code",
   "execution_count": 25,
   "id": "51c1a8e5",
   "metadata": {},
   "outputs": [
    {
     "data": {
      "text/html": [
       "<style>#sk-container-id-2 {color: black;background-color: white;}#sk-container-id-2 pre{padding: 0;}#sk-container-id-2 div.sk-toggleable {background-color: white;}#sk-container-id-2 label.sk-toggleable__label {cursor: pointer;display: block;width: 100%;margin-bottom: 0;padding: 0.3em;box-sizing: border-box;text-align: center;}#sk-container-id-2 label.sk-toggleable__label-arrow:before {content: \"▸\";float: left;margin-right: 0.25em;color: #696969;}#sk-container-id-2 label.sk-toggleable__label-arrow:hover:before {color: black;}#sk-container-id-2 div.sk-estimator:hover label.sk-toggleable__label-arrow:before {color: black;}#sk-container-id-2 div.sk-toggleable__content {max-height: 0;max-width: 0;overflow: hidden;text-align: left;background-color: #f0f8ff;}#sk-container-id-2 div.sk-toggleable__content pre {margin: 0.2em;color: black;border-radius: 0.25em;background-color: #f0f8ff;}#sk-container-id-2 input.sk-toggleable__control:checked~div.sk-toggleable__content {max-height: 200px;max-width: 100%;overflow: auto;}#sk-container-id-2 input.sk-toggleable__control:checked~label.sk-toggleable__label-arrow:before {content: \"▾\";}#sk-container-id-2 div.sk-estimator input.sk-toggleable__control:checked~label.sk-toggleable__label {background-color: #d4ebff;}#sk-container-id-2 div.sk-label input.sk-toggleable__control:checked~label.sk-toggleable__label {background-color: #d4ebff;}#sk-container-id-2 input.sk-hidden--visually {border: 0;clip: rect(1px 1px 1px 1px);clip: rect(1px, 1px, 1px, 1px);height: 1px;margin: -1px;overflow: hidden;padding: 0;position: absolute;width: 1px;}#sk-container-id-2 div.sk-estimator {font-family: monospace;background-color: #f0f8ff;border: 1px dotted black;border-radius: 0.25em;box-sizing: border-box;margin-bottom: 0.5em;}#sk-container-id-2 div.sk-estimator:hover {background-color: #d4ebff;}#sk-container-id-2 div.sk-parallel-item::after {content: \"\";width: 100%;border-bottom: 1px solid gray;flex-grow: 1;}#sk-container-id-2 div.sk-label:hover label.sk-toggleable__label {background-color: #d4ebff;}#sk-container-id-2 div.sk-serial::before {content: \"\";position: absolute;border-left: 1px solid gray;box-sizing: border-box;top: 0;bottom: 0;left: 50%;z-index: 0;}#sk-container-id-2 div.sk-serial {display: flex;flex-direction: column;align-items: center;background-color: white;padding-right: 0.2em;padding-left: 0.2em;position: relative;}#sk-container-id-2 div.sk-item {position: relative;z-index: 1;}#sk-container-id-2 div.sk-parallel {display: flex;align-items: stretch;justify-content: center;background-color: white;position: relative;}#sk-container-id-2 div.sk-item::before, #sk-container-id-2 div.sk-parallel-item::before {content: \"\";position: absolute;border-left: 1px solid gray;box-sizing: border-box;top: 0;bottom: 0;left: 50%;z-index: -1;}#sk-container-id-2 div.sk-parallel-item {display: flex;flex-direction: column;z-index: 1;position: relative;background-color: white;}#sk-container-id-2 div.sk-parallel-item:first-child::after {align-self: flex-end;width: 50%;}#sk-container-id-2 div.sk-parallel-item:last-child::after {align-self: flex-start;width: 50%;}#sk-container-id-2 div.sk-parallel-item:only-child::after {width: 0;}#sk-container-id-2 div.sk-dashed-wrapped {border: 1px dashed gray;margin: 0 0.4em 0.5em 0.4em;box-sizing: border-box;padding-bottom: 0.4em;background-color: white;}#sk-container-id-2 div.sk-label label {font-family: monospace;font-weight: bold;display: inline-block;line-height: 1.2em;}#sk-container-id-2 div.sk-label-container {text-align: center;}#sk-container-id-2 div.sk-container {/* jupyter's `normalize.less` sets `[hidden] { display: none; }` but bootstrap.min.css set `[hidden] { display: none !important; }` so we also need the `!important` here to be able to override the default hidden behavior on the sphinx rendered scikit-learn.org. See: https://github.com/scikit-learn/scikit-learn/issues/21755 */display: inline-block !important;position: relative;}#sk-container-id-2 div.sk-text-repr-fallback {display: none;}</style><div id=\"sk-container-id-2\" class=\"sk-top-container\"><div class=\"sk-text-repr-fallback\"><pre>RandomForestRegressor(random_state=42)</pre><b>In a Jupyter environment, please rerun this cell to show the HTML representation or trust the notebook. <br />On GitHub, the HTML representation is unable to render, please try loading this page with nbviewer.org.</b></div><div class=\"sk-container\" hidden><div class=\"sk-item\"><div class=\"sk-estimator sk-toggleable\"><input class=\"sk-toggleable__control sk-hidden--visually\" id=\"sk-estimator-id-2\" type=\"checkbox\" checked><label for=\"sk-estimator-id-2\" class=\"sk-toggleable__label sk-toggleable__label-arrow\">RandomForestRegressor</label><div class=\"sk-toggleable__content\"><pre>RandomForestRegressor(random_state=42)</pre></div></div></div></div></div>"
      ],
      "text/plain": [
       "RandomForestRegressor(random_state=42)"
      ]
     },
     "execution_count": 25,
     "metadata": {},
     "output_type": "execute_result"
    }
   ],
   "source": [
    "# Initialize the Random Forest Classifier\n",
    "rf_classifier = RandomForestRegressor(n_estimators=100, random_state=42)\n",
    "\n",
    "# Train the classifier\n",
    "rf_classifier.fit(X_train_adherence, y_train_adherence)"
   ]
  },
  {
   "cell_type": "code",
   "execution_count": 26,
   "id": "b086ddac",
   "metadata": {},
   "outputs": [
    {
     "data": {
      "text/plain": [
       "(0.6050856445195195, 0.7778725117392435, 0.6356734234234234)"
      ]
     },
     "execution_count": 26,
     "metadata": {},
     "output_type": "execute_result"
    }
   ],
   "source": [
    "# Predict on the test set\n",
    "y_pred_adherence = rf_classifier.predict(X_test_adherence)\n",
    "\n",
    "# Calculate performance metrics\n",
    "mse_adherence = mean_squared_error(y_test_adherence, y_pred_adherence)\n",
    "rmse_adherence = mean_squared_error(y_test_adherence, y_pred_adherence, squared=False)\n",
    "mae_adherence = mean_absolute_error(y_test_adherence, y_pred_adherence)\n",
    "\n",
    "mse_adherence, rmse_adherence, mae_adherence"
   ]
  },
  {
   "cell_type": "markdown",
   "id": "f9205fd8",
   "metadata": {},
   "source": [
    "The model performance on the test data was measured using metrics like MSE, RMSE, and MAE.\n",
    "\n",
    "1. Analyzing Mood Change with Medication Adherence:\n",
    "- We analyzed and visualized how mood changes on days after a missed medication compared to the subsequent day. We observed a slight average increase in mood after taking medication.\n",
    "\n",
    "2. Predicting Medication Adherence:\n",
    "- We used the Random Forest Regressor to predict the Medication Adherence based on the same features we used for mood prediction."
   ]
  },
  {
   "cell_type": "markdown",
   "id": "48b60dc9",
   "metadata": {},
   "source": [
    "The model's performance on test data was evaluated using:\n",
    "\n",
    "- Mean Squared Error (MSE): 0.605\n",
    "- Root Mean Squared Error (RMSE): 0.777\n",
    "- Mean Absolute Error (MAE): 0.636\n",
    "\n",
    "Given the range of medication adherence values (from 0 to 3), the above metrics suggest that the model's predictions are relatively close to the actual values."
   ]
  },
  {
   "cell_type": "markdown",
   "id": "d94d6950",
   "metadata": {},
   "source": [
    "#### 5. Predict when there is no data for a few dates and predict whether they have taken medication on that day or not based on the previous date or previous month, and compare mood value change.\n",
    "\n",
    "- Identify gaps in the data for each user.\n",
    "- Predict medication adherence for these gaps using the trained model.\n",
    "- Analyze the mood changes during these gaps."
   ]
  },
  {
   "cell_type": "markdown",
   "id": "28582e8a",
   "metadata": {},
   "source": [
    "Start by generating the complete date range and identifying missing dates for each user."
   ]
  },
  {
   "cell_type": "code",
   "execution_count": 27,
   "id": "2dd4834f",
   "metadata": {},
   "outputs": [],
   "source": [
    "# Generate complete date range for the dataset period\n",
    "complete_date_range = pd.date_range(start=data_cleaned['Date'].min(), end=data_cleaned['Date'].max())\n",
    "\n",
    "# Initialize a DataFrame to store missing dates and predictions\n",
    "missing_dates_df = pd.DataFrame(columns=['User', 'Date', 'Predicted_Medication_Adherence'])"
   ]
  },
  {
   "cell_type": "code",
   "execution_count": 28,
   "id": "45bc34bb",
   "metadata": {},
   "outputs": [],
   "source": [
    "# Identify missing dates for each user and predict medication adherence for those dates\n",
    "for user in data_cleaned['User'].unique():\n",
    "    user_data = data_cleaned[data_cleaned['User'] == user]\n",
    "    missing_dates = complete_date_range.difference(user_data['Date'])\n",
    "    \n",
    "    # Create a temporary DataFrame for missing dates\n",
    "    temp_df = pd.DataFrame({\n",
    "        'User': user,\n",
    "        'Date': missing_dates\n",
    "    })\n",
    "    \n",
    "    # Extract features for the missing dates\n",
    "    temp_df['User_encoded'] = label_enc.transform(temp_df['User'])\n",
    "    temp_df['Day'] = temp_df['Date'].dt.day\n",
    "    temp_df['Month'] = temp_df['Date'].dt.month\n",
    "    temp_df['Day_of_week'] = temp_df['Date'].dt.dayofweek\n",
    "    \n",
    "    # Predict medication adherence for the missing dates\n",
    "    temp_X = temp_df[['User_encoded', 'Day', 'Month', 'Day_of_week']]\n",
    "    temp_df['Predicted_Medication_Adherence'] = rf_classifier.predict(temp_X)\n",
    "    \n",
    "    # Append the results to the missing_dates_df\n",
    "    missing_dates_df = pd.concat([missing_dates_df, temp_df[['User', 'Date', 'Predicted_Medication_Adherence']]])"
   ]
  },
  {
   "cell_type": "code",
   "execution_count": 29,
   "id": "4e7fa789",
   "metadata": {},
   "outputs": [
    {
     "name": "stdout",
     "output_type": "stream",
     "text": [
      "We have successfully identified the missing dates for each user and predicted their medication adherence for those dates using our trained model.\n"
     ]
    },
    {
     "data": {
      "text/html": [
       "<div>\n",
       "<style scoped>\n",
       "    .dataframe tbody tr th:only-of-type {\n",
       "        vertical-align: middle;\n",
       "    }\n",
       "\n",
       "    .dataframe tbody tr th {\n",
       "        vertical-align: top;\n",
       "    }\n",
       "\n",
       "    .dataframe thead th {\n",
       "        text-align: right;\n",
       "    }\n",
       "</style>\n",
       "<table border=\"1\" class=\"dataframe\">\n",
       "  <thead>\n",
       "    <tr style=\"text-align: right;\">\n",
       "      <th></th>\n",
       "      <th>User</th>\n",
       "      <th>Date</th>\n",
       "      <th>Predicted_Medication_Adherence</th>\n",
       "    </tr>\n",
       "  </thead>\n",
       "  <tbody>\n",
       "    <tr>\n",
       "      <th>0</th>\n",
       "      <td>user_1</td>\n",
       "      <td>2023-01-31</td>\n",
       "      <td>1.1000</td>\n",
       "    </tr>\n",
       "    <tr>\n",
       "      <th>1</th>\n",
       "      <td>user_1</td>\n",
       "      <td>2023-03-14</td>\n",
       "      <td>1.4335</td>\n",
       "    </tr>\n",
       "    <tr>\n",
       "      <th>2</th>\n",
       "      <td>user_1</td>\n",
       "      <td>2023-03-31</td>\n",
       "      <td>1.2300</td>\n",
       "    </tr>\n",
       "    <tr>\n",
       "      <th>3</th>\n",
       "      <td>user_1</td>\n",
       "      <td>2023-04-17</td>\n",
       "      <td>1.7150</td>\n",
       "    </tr>\n",
       "    <tr>\n",
       "      <th>4</th>\n",
       "      <td>user_1</td>\n",
       "      <td>2023-05-15</td>\n",
       "      <td>1.4600</td>\n",
       "    </tr>\n",
       "  </tbody>\n",
       "</table>\n",
       "</div>"
      ],
      "text/plain": [
       "     User       Date  Predicted_Medication_Adherence\n",
       "0  user_1 2023-01-31                          1.1000\n",
       "1  user_1 2023-03-14                          1.4335\n",
       "2  user_1 2023-03-31                          1.2300\n",
       "3  user_1 2023-04-17                          1.7150\n",
       "4  user_1 2023-05-15                          1.4600"
      ]
     },
     "execution_count": 29,
     "metadata": {},
     "output_type": "execute_result"
    }
   ],
   "source": [
    "missing_dates_df.reset_index(drop=True, inplace=True)\n",
    "print(\"We have successfully identified the missing dates for each user and predicted their medication adherence for those dates using our trained model.\")\n",
    "missing_dates_df.head()"
   ]
  },
  {
   "cell_type": "markdown",
   "id": "d55adf05",
   "metadata": {},
   "source": [
    "**To analyze the mood changes during these gaps:**\n",
    "\n",
    "- We will extract mood values for the dates immediately before and after each missing date.\n",
    "- We will compare these mood values to understand how the mood changed during the period of missing data."
   ]
  },
  {
   "cell_type": "code",
   "execution_count": 30,
   "id": "b96e6aee",
   "metadata": {},
   "outputs": [],
   "source": [
    "# Initialize columns to store mood values before and after the missing date\n",
    "missing_dates_df['Mood_Before'] = None\n",
    "missing_dates_df['Mood_After'] = None"
   ]
  },
  {
   "cell_type": "code",
   "execution_count": 31,
   "id": "f16f70aa",
   "metadata": {},
   "outputs": [],
   "source": [
    "for index, row in missing_dates_df.iterrows():\n",
    "    user_data = data_cleaned[data_cleaned['User'] == row['User']]\n",
    "    \n",
    "    # Get mood value for the date immediately before the missing date\n",
    "    mood_before = user_data[user_data['Date'] == row['Date'] - pd.Timedelta(days=1)]['Mood'].values\n",
    "    if len(mood_before) > 0:\n",
    "        missing_dates_df.at[index, 'Mood_Before'] = mood_before[0]\n",
    "    \n",
    "    # Get mood value for the date immediately after the missing date\n",
    "    mood_after = user_data[user_data['Date'] == row['Date'] + pd.Timedelta(days=1)]['Mood'].values\n",
    "    if len(mood_after) > 0:\n",
    "        missing_dates_df.at[index, 'Mood_After'] = mood_after[0]"
   ]
  },
  {
   "cell_type": "code",
   "execution_count": 32,
   "id": "0fca8f22",
   "metadata": {},
   "outputs": [
    {
     "name": "stdout",
     "output_type": "stream",
     "text": [
      "We've successfully extracted the mood values immediately before and after each missing date and calculated the mood change during these gaps.\n",
      "\n"
     ]
    },
    {
     "data": {
      "text/html": [
       "<div>\n",
       "<style scoped>\n",
       "    .dataframe tbody tr th:only-of-type {\n",
       "        vertical-align: middle;\n",
       "    }\n",
       "\n",
       "    .dataframe tbody tr th {\n",
       "        vertical-align: top;\n",
       "    }\n",
       "\n",
       "    .dataframe thead th {\n",
       "        text-align: right;\n",
       "    }\n",
       "</style>\n",
       "<table border=\"1\" class=\"dataframe\">\n",
       "  <thead>\n",
       "    <tr style=\"text-align: right;\">\n",
       "      <th></th>\n",
       "      <th>User</th>\n",
       "      <th>Date</th>\n",
       "      <th>Predicted_Medication_Adherence</th>\n",
       "      <th>Mood_Before</th>\n",
       "      <th>Mood_After</th>\n",
       "      <th>Mood_Change</th>\n",
       "    </tr>\n",
       "  </thead>\n",
       "  <tbody>\n",
       "    <tr>\n",
       "      <th>0</th>\n",
       "      <td>user_1</td>\n",
       "      <td>2023-01-31</td>\n",
       "      <td>1.1000</td>\n",
       "      <td>7.0</td>\n",
       "      <td>7.0</td>\n",
       "      <td>0.0</td>\n",
       "    </tr>\n",
       "    <tr>\n",
       "      <th>1</th>\n",
       "      <td>user_1</td>\n",
       "      <td>2023-03-14</td>\n",
       "      <td>1.4335</td>\n",
       "      <td>3.0</td>\n",
       "      <td>4.0</td>\n",
       "      <td>1.0</td>\n",
       "    </tr>\n",
       "    <tr>\n",
       "      <th>2</th>\n",
       "      <td>user_1</td>\n",
       "      <td>2023-03-31</td>\n",
       "      <td>1.2300</td>\n",
       "      <td>6.0</td>\n",
       "      <td>7.0</td>\n",
       "      <td>1.0</td>\n",
       "    </tr>\n",
       "    <tr>\n",
       "      <th>3</th>\n",
       "      <td>user_1</td>\n",
       "      <td>2023-04-17</td>\n",
       "      <td>1.7150</td>\n",
       "      <td>7.0</td>\n",
       "      <td>9.0</td>\n",
       "      <td>2.0</td>\n",
       "    </tr>\n",
       "    <tr>\n",
       "      <th>4</th>\n",
       "      <td>user_1</td>\n",
       "      <td>2023-05-15</td>\n",
       "      <td>1.4600</td>\n",
       "      <td>8.0</td>\n",
       "      <td>9.0</td>\n",
       "      <td>1.0</td>\n",
       "    </tr>\n",
       "  </tbody>\n",
       "</table>\n",
       "</div>"
      ],
      "text/plain": [
       "     User       Date  Predicted_Medication_Adherence Mood_Before Mood_After  \\\n",
       "0  user_1 2023-01-31                          1.1000         7.0        7.0   \n",
       "1  user_1 2023-03-14                          1.4335         3.0        4.0   \n",
       "2  user_1 2023-03-31                          1.2300         6.0        7.0   \n",
       "3  user_1 2023-04-17                          1.7150         7.0        9.0   \n",
       "4  user_1 2023-05-15                          1.4600         8.0        9.0   \n",
       "\n",
       "  Mood_Change  \n",
       "0         0.0  \n",
       "1         1.0  \n",
       "2         1.0  \n",
       "3         2.0  \n",
       "4         1.0  "
      ]
     },
     "execution_count": 32,
     "metadata": {},
     "output_type": "execute_result"
    }
   ],
   "source": [
    "# Calculate the mood change during the period of missing data\n",
    "missing_dates_df['Mood_Change'] = missing_dates_df['Mood_After'] - missing_dates_df['Mood_Before']\n",
    "print(\"We've successfully extracted the mood values immediately before and after each missing date and calculated the mood change during these gaps.\\n\")\n",
    "missing_dates_df.head()"
   ]
  },
  {
   "cell_type": "markdown",
   "id": "f405d801",
   "metadata": {},
   "source": [
    "#### 6. Predict at what weeks of the date where the mood is low or the probability of medication miss.\n",
    "\n",
    "- Aggregate the data on a weekly basis.\n",
    "- Calculate the average mood and medication adherence for each week.\n",
    "- Identify weeks with a low average mood or low medication adherence."
   ]
  },
  {
   "cell_type": "code",
   "execution_count": 33,
   "id": "6d0b8364",
   "metadata": {},
   "outputs": [],
   "source": [
    "# Aggregate data on a weekly basis\n",
    "data_cleaned['Week'] = data_cleaned['Date'].dt.isocalendar().week\n",
    "weekly_data = data_cleaned.groupby(['User', 'Week']).agg({\n",
    "    'Mood': 'mean',\n",
    "    'Medication Adherence': 'mean'\n",
    "}).reset_index()"
   ]
  },
  {
   "cell_type": "code",
   "execution_count": 34,
   "id": "90052d6f",
   "metadata": {},
   "outputs": [],
   "source": [
    "# Define thresholds for low mood and low medication adherence\n",
    "low_mood_threshold = data_cleaned['Mood'].mean() - data_cleaned['Mood'].std()\n",
    "low_medication_threshold = 1  # Considering days with less than 1 medication on average as low adherence"
   ]
  },
  {
   "cell_type": "code",
   "execution_count": 35,
   "id": "85da1245",
   "metadata": {},
   "outputs": [
    {
     "data": {
      "text/html": [
       "<div>\n",
       "<style scoped>\n",
       "    .dataframe tbody tr th:only-of-type {\n",
       "        vertical-align: middle;\n",
       "    }\n",
       "\n",
       "    .dataframe tbody tr th {\n",
       "        vertical-align: top;\n",
       "    }\n",
       "\n",
       "    .dataframe thead th {\n",
       "        text-align: right;\n",
       "    }\n",
       "</style>\n",
       "<table border=\"1\" class=\"dataframe\">\n",
       "  <thead>\n",
       "    <tr style=\"text-align: right;\">\n",
       "      <th></th>\n",
       "      <th>User</th>\n",
       "      <th>Week</th>\n",
       "      <th>Mood</th>\n",
       "      <th>Medication Adherence</th>\n",
       "    </tr>\n",
       "  </thead>\n",
       "  <tbody>\n",
       "    <tr>\n",
       "      <th>18</th>\n",
       "      <td>user_1</td>\n",
       "      <td>19</td>\n",
       "      <td>4.875000</td>\n",
       "      <td>1.125000</td>\n",
       "    </tr>\n",
       "    <tr>\n",
       "      <th>23</th>\n",
       "      <td>user_1</td>\n",
       "      <td>24</td>\n",
       "      <td>4.285714</td>\n",
       "      <td>1.142857</td>\n",
       "    </tr>\n",
       "  </tbody>\n",
       "</table>\n",
       "</div>"
      ],
      "text/plain": [
       "      User  Week      Mood  Medication Adherence\n",
       "18  user_1    19  4.875000              1.125000\n",
       "23  user_1    24  4.285714              1.142857"
      ]
     },
     "execution_count": 35,
     "metadata": {},
     "output_type": "execute_result"
    }
   ],
   "source": [
    "# Identify weeks with low mood or low medication adherence\n",
    "low_mood_weeks = weekly_data[weekly_data['Mood'] <= low_mood_threshold]\n",
    "low_medication_weeks = weekly_data[weekly_data['Medication Adherence'] < low_medication_threshold]\n",
    "\n",
    "low_mood_weeks"
   ]
  },
  {
   "cell_type": "code",
   "execution_count": 36,
   "id": "1f4b80f1",
   "metadata": {},
   "outputs": [
    {
     "data": {
      "text/html": [
       "<div>\n",
       "<style scoped>\n",
       "    .dataframe tbody tr th:only-of-type {\n",
       "        vertical-align: middle;\n",
       "    }\n",
       "\n",
       "    .dataframe tbody tr th {\n",
       "        vertical-align: top;\n",
       "    }\n",
       "\n",
       "    .dataframe thead th {\n",
       "        text-align: right;\n",
       "    }\n",
       "</style>\n",
       "<table border=\"1\" class=\"dataframe\">\n",
       "  <thead>\n",
       "    <tr style=\"text-align: right;\">\n",
       "      <th></th>\n",
       "      <th>User</th>\n",
       "      <th>Week</th>\n",
       "      <th>Mood</th>\n",
       "      <th>Medication Adherence</th>\n",
       "    </tr>\n",
       "  </thead>\n",
       "  <tbody>\n",
       "    <tr>\n",
       "      <th>17</th>\n",
       "      <td>user_1</td>\n",
       "      <td>18</td>\n",
       "      <td>6.375000</td>\n",
       "      <td>0.875000</td>\n",
       "    </tr>\n",
       "    <tr>\n",
       "      <th>21</th>\n",
       "      <td>user_1</td>\n",
       "      <td>22</td>\n",
       "      <td>6.500000</td>\n",
       "      <td>0.833333</td>\n",
       "    </tr>\n",
       "    <tr>\n",
       "      <th>39</th>\n",
       "      <td>user_1</td>\n",
       "      <td>40</td>\n",
       "      <td>5.500000</td>\n",
       "      <td>0.875000</td>\n",
       "    </tr>\n",
       "    <tr>\n",
       "      <th>40</th>\n",
       "      <td>user_1</td>\n",
       "      <td>41</td>\n",
       "      <td>5.571429</td>\n",
       "      <td>0.714286</td>\n",
       "    </tr>\n",
       "  </tbody>\n",
       "</table>\n",
       "</div>"
      ],
      "text/plain": [
       "      User  Week      Mood  Medication Adherence\n",
       "17  user_1    18  6.375000              0.875000\n",
       "21  user_1    22  6.500000              0.833333\n",
       "39  user_1    40  5.500000              0.875000\n",
       "40  user_1    41  5.571429              0.714286"
      ]
     },
     "execution_count": 36,
     "metadata": {},
     "output_type": "execute_result"
    }
   ],
   "source": [
    "low_medication_weeks"
   ]
  },
  {
   "cell_type": "markdown",
   "id": "5f383c9f",
   "metadata": {},
   "source": [
    "##### We've identified weeks with low mood and weeks with a higher likelihood of medication misses:\n",
    "\n",
    "1. Weeks with Low Mood (below average - 1 standard deviation):\n",
    "\n",
    "- User \"user_1\" experienced low mood during weeks 19 and 24.\n",
    "\n",
    "2. Weeks with Low Medication Adherence (average < 1 medication per day):\n",
    "\n",
    "- User \"user_1\" exhibited low medication adherence during weeks 18, 22, 40, and 41.\n",
    "\n",
    "From this, we can infer that there are certain weeks where the user is more susceptible to having a low mood or is more likely to miss their medication."
   ]
  },
  {
   "cell_type": "markdown",
   "id": "870a5bb5",
   "metadata": {},
   "source": [
    "#### 7. Predict when users are taking 2 or 3 medications in a day, and the mood on the next day will be good or the patient will have any side effects (can suggest a user have a doctor visit).\n",
    "\n",
    "- We will identify days when users took 2 or 3 medications.\n",
    "- Analyze the mood on the subsequent day.\n",
    "- If the mood is unusually low, we can interpret it as a potential side effect and suggest a doctor's visit."
   ]
  },
  {
   "cell_type": "code",
   "execution_count": 37,
   "id": "000fe589",
   "metadata": {},
   "outputs": [],
   "source": [
    "# Extract days when users took 2 or 3 medications\n",
    "high_medication_days = data_cleaned[data_cleaned['Medication Adherence'].isin([2, 3])]"
   ]
  },
  {
   "cell_type": "code",
   "execution_count": 38,
   "id": "fa5548f1",
   "metadata": {},
   "outputs": [],
   "source": [
    "# Extract mood values for the subsequent day\n",
    "high_medication_days['Mood_Next_Day'] = None\n",
    "for index, row in high_medication_days.iterrows():\n",
    "    user_data = data_cleaned[data_cleaned['User'] == row['User']]\n",
    "    mood_next_day = user_data[user_data['Date'] == row['Date'] + pd.Timedelta(days=1)]['Mood'].values\n",
    "    if len(mood_next_day) > 0:\n",
    "        high_medication_days.at[index, 'Mood_Next_Day'] = mood_next_day[0]"
   ]
  },
  {
   "cell_type": "code",
   "execution_count": 39,
   "id": "f885b6e7",
   "metadata": {},
   "outputs": [
    {
     "data": {
      "text/html": [
       "<div>\n",
       "<style scoped>\n",
       "    .dataframe tbody tr th:only-of-type {\n",
       "        vertical-align: middle;\n",
       "    }\n",
       "\n",
       "    .dataframe tbody tr th {\n",
       "        vertical-align: top;\n",
       "    }\n",
       "\n",
       "    .dataframe thead th {\n",
       "        text-align: right;\n",
       "    }\n",
       "</style>\n",
       "<table border=\"1\" class=\"dataframe\">\n",
       "  <thead>\n",
       "    <tr style=\"text-align: right;\">\n",
       "      <th></th>\n",
       "      <th>User</th>\n",
       "      <th>Date</th>\n",
       "      <th>Medication Adherence</th>\n",
       "      <th>Mood_Next_Day</th>\n",
       "    </tr>\n",
       "  </thead>\n",
       "  <tbody>\n",
       "    <tr>\n",
       "      <th>68</th>\n",
       "      <td>user_1</td>\n",
       "      <td>2023-03-02</td>\n",
       "      <td>2.0</td>\n",
       "      <td>4.0</td>\n",
       "    </tr>\n",
       "    <tr>\n",
       "      <th>153</th>\n",
       "      <td>user_1</td>\n",
       "      <td>2023-05-19</td>\n",
       "      <td>2.0</td>\n",
       "      <td>4.0</td>\n",
       "    </tr>\n",
       "    <tr>\n",
       "      <th>188</th>\n",
       "      <td>user_1</td>\n",
       "      <td>2023-06-22</td>\n",
       "      <td>2.0</td>\n",
       "      <td>4.0</td>\n",
       "    </tr>\n",
       "    <tr>\n",
       "      <th>204</th>\n",
       "      <td>user_1</td>\n",
       "      <td>2023-07-06</td>\n",
       "      <td>2.0</td>\n",
       "      <td>4.0</td>\n",
       "    </tr>\n",
       "    <tr>\n",
       "      <th>206</th>\n",
       "      <td>user_1</td>\n",
       "      <td>2023-07-08</td>\n",
       "      <td>2.0</td>\n",
       "      <td>3.0</td>\n",
       "    </tr>\n",
       "    <tr>\n",
       "      <th>218</th>\n",
       "      <td>user_1</td>\n",
       "      <td>2023-07-20</td>\n",
       "      <td>2.0</td>\n",
       "      <td>4.0</td>\n",
       "    </tr>\n",
       "    <tr>\n",
       "      <th>221</th>\n",
       "      <td>user_1</td>\n",
       "      <td>2023-07-23</td>\n",
       "      <td>2.0</td>\n",
       "      <td>4.0</td>\n",
       "    </tr>\n",
       "    <tr>\n",
       "      <th>241</th>\n",
       "      <td>user_1</td>\n",
       "      <td>2023-08-10</td>\n",
       "      <td>3.0</td>\n",
       "      <td>4.0</td>\n",
       "    </tr>\n",
       "    <tr>\n",
       "      <th>246</th>\n",
       "      <td>user_1</td>\n",
       "      <td>2023-08-15</td>\n",
       "      <td>2.0</td>\n",
       "      <td>3.0</td>\n",
       "    </tr>\n",
       "    <tr>\n",
       "      <th>278</th>\n",
       "      <td>user_1</td>\n",
       "      <td>2023-09-14</td>\n",
       "      <td>2.0</td>\n",
       "      <td>4.0</td>\n",
       "    </tr>\n",
       "    <tr>\n",
       "      <th>302</th>\n",
       "      <td>user_1</td>\n",
       "      <td>2023-10-06</td>\n",
       "      <td>2.0</td>\n",
       "      <td>3.0</td>\n",
       "    </tr>\n",
       "    <tr>\n",
       "      <th>305</th>\n",
       "      <td>user_1</td>\n",
       "      <td>2023-10-09</td>\n",
       "      <td>2.0</td>\n",
       "      <td>4.0</td>\n",
       "    </tr>\n",
       "  </tbody>\n",
       "</table>\n",
       "</div>"
      ],
      "text/plain": [
       "       User       Date  Medication Adherence Mood_Next_Day\n",
       "68   user_1 2023-03-02                   2.0           4.0\n",
       "153  user_1 2023-05-19                   2.0           4.0\n",
       "188  user_1 2023-06-22                   2.0           4.0\n",
       "204  user_1 2023-07-06                   2.0           4.0\n",
       "206  user_1 2023-07-08                   2.0           3.0\n",
       "218  user_1 2023-07-20                   2.0           4.0\n",
       "221  user_1 2023-07-23                   2.0           4.0\n",
       "241  user_1 2023-08-10                   3.0           4.0\n",
       "246  user_1 2023-08-15                   2.0           3.0\n",
       "278  user_1 2023-09-14                   2.0           4.0\n",
       "302  user_1 2023-10-06                   2.0           3.0\n",
       "305  user_1 2023-10-09                   2.0           4.0"
      ]
     },
     "execution_count": 39,
     "metadata": {},
     "output_type": "execute_result"
    }
   ],
   "source": [
    "# Determine potential side effects based on unusually low mood (below average - 1 standard deviation)\n",
    "potential_side_effects = high_medication_days[high_medication_days['Mood_Next_Day'] <= low_mood_threshold]\n",
    "potential_side_effects[['User', 'Date', 'Medication Adherence', 'Mood_Next_Day']]"
   ]
  },
  {
   "cell_type": "markdown",
   "id": "7a16f785",
   "metadata": {},
   "source": [
    "We've identified days when users took 2 or 3 medications and had a potentially unusually low mood on the subsequent day. These instances can be indicative of potential side effects.\n",
    "\n",
    "For these instances, it may be advisable for the user to consult with their doctor, as the low mood after high medication intake could suggest a negative reaction or potential side effects."
   ]
  },
  {
   "cell_type": "markdown",
   "id": "f2051cff",
   "metadata": {},
   "source": [
    "#### 8. Predict how mood will be if there is continuous medication miss based on data.\n",
    "\n",
    "- We will identify streaks of days where medication was continuously missed.\n",
    "- We will analyze the mood trend during and after these streaks."
   ]
  },
  {
   "cell_type": "code",
   "execution_count": 40,
   "id": "fdc47520",
   "metadata": {},
   "outputs": [],
   "source": [
    "# Identifying streaks of missed medications\n",
    "data_cleaned['Medication_Missed'] = data_cleaned['Medication Adherence'] == 0\n",
    "data_cleaned['Streak_ID'] = (data_cleaned['Medication_Missed'] != data_cleaned['Medication_Missed'].shift()).cumsum()"
   ]
  },
  {
   "cell_type": "code",
   "execution_count": 41,
   "id": "cfe50872",
   "metadata": {},
   "outputs": [],
   "source": [
    "# Filtering data with missed medications only\n",
    "missed_streaks = data_cleaned[data_cleaned['Medication_Missed']]\n",
    "\n",
    "# Grouping by streak ID to get the length of each streak\n",
    "streak_lengths = missed_streaks.groupby('Streak_ID').size()"
   ]
  },
  {
   "cell_type": "code",
   "execution_count": 42,
   "id": "f07a9dba",
   "metadata": {},
   "outputs": [
    {
     "data": {
      "text/html": [
       "<div>\n",
       "<style scoped>\n",
       "    .dataframe tbody tr th:only-of-type {\n",
       "        vertical-align: middle;\n",
       "    }\n",
       "\n",
       "    .dataframe tbody tr th {\n",
       "        vertical-align: top;\n",
       "    }\n",
       "\n",
       "    .dataframe thead th {\n",
       "        text-align: right;\n",
       "    }\n",
       "</style>\n",
       "<table border=\"1\" class=\"dataframe\">\n",
       "  <thead>\n",
       "    <tr style=\"text-align: right;\">\n",
       "      <th></th>\n",
       "      <th>User</th>\n",
       "      <th>Date</th>\n",
       "      <th>Medication Adherence</th>\n",
       "      <th>Mood</th>\n",
       "    </tr>\n",
       "  </thead>\n",
       "  <tbody>\n",
       "    <tr>\n",
       "      <th>6</th>\n",
       "      <td>user_1</td>\n",
       "      <td>2023-01-07</td>\n",
       "      <td>0.0</td>\n",
       "      <td>5.0</td>\n",
       "    </tr>\n",
       "    <tr>\n",
       "      <th>7</th>\n",
       "      <td>user_1</td>\n",
       "      <td>2023-01-07</td>\n",
       "      <td>0.0</td>\n",
       "      <td>3.0</td>\n",
       "    </tr>\n",
       "    <tr>\n",
       "      <th>75</th>\n",
       "      <td>user_1</td>\n",
       "      <td>2023-03-08</td>\n",
       "      <td>0.0</td>\n",
       "      <td>5.0</td>\n",
       "    </tr>\n",
       "    <tr>\n",
       "      <th>76</th>\n",
       "      <td>user_1</td>\n",
       "      <td>2023-03-08</td>\n",
       "      <td>0.0</td>\n",
       "      <td>3.0</td>\n",
       "    </tr>\n",
       "    <tr>\n",
       "      <th>144</th>\n",
       "      <td>user_1</td>\n",
       "      <td>2023-05-10</td>\n",
       "      <td>0.0</td>\n",
       "      <td>3.0</td>\n",
       "    </tr>\n",
       "    <tr>\n",
       "      <th>145</th>\n",
       "      <td>user_1</td>\n",
       "      <td>2023-05-10</td>\n",
       "      <td>0.0</td>\n",
       "      <td>2.0</td>\n",
       "    </tr>\n",
       "    <tr>\n",
       "      <th>239</th>\n",
       "      <td>user_1</td>\n",
       "      <td>2023-08-09</td>\n",
       "      <td>0.0</td>\n",
       "      <td>3.0</td>\n",
       "    </tr>\n",
       "    <tr>\n",
       "      <th>240</th>\n",
       "      <td>user_1</td>\n",
       "      <td>2023-08-09</td>\n",
       "      <td>0.0</td>\n",
       "      <td>4.0</td>\n",
       "    </tr>\n",
       "    <tr>\n",
       "      <th>273</th>\n",
       "      <td>user_1</td>\n",
       "      <td>2023-09-09</td>\n",
       "      <td>0.0</td>\n",
       "      <td>8.0</td>\n",
       "    </tr>\n",
       "    <tr>\n",
       "      <th>274</th>\n",
       "      <td>user_1</td>\n",
       "      <td>2023-09-10</td>\n",
       "      <td>0.0</td>\n",
       "      <td>4.0</td>\n",
       "    </tr>\n",
       "  </tbody>\n",
       "</table>\n",
       "</div>"
      ],
      "text/plain": [
       "       User       Date  Medication Adherence  Mood\n",
       "6    user_1 2023-01-07                   0.0   5.0\n",
       "7    user_1 2023-01-07                   0.0   3.0\n",
       "75   user_1 2023-03-08                   0.0   5.0\n",
       "76   user_1 2023-03-08                   0.0   3.0\n",
       "144  user_1 2023-05-10                   0.0   3.0\n",
       "145  user_1 2023-05-10                   0.0   2.0\n",
       "239  user_1 2023-08-09                   0.0   3.0\n",
       "240  user_1 2023-08-09                   0.0   4.0\n",
       "273  user_1 2023-09-09                   0.0   8.0\n",
       "274  user_1 2023-09-10                   0.0   4.0"
      ]
     },
     "execution_count": 42,
     "metadata": {},
     "output_type": "execute_result"
    }
   ],
   "source": [
    "# Filter streaks of length >= 2 for continuous missed medications\n",
    "continuous_miss_streaks = streak_lengths[streak_lengths >= 2].index\n",
    "\n",
    "# Extracting mood values during and after these streaks\n",
    "continuous_miss_data = missed_streaks[missed_streaks['Streak_ID'].isin(continuous_miss_streaks)]\n",
    "continuous_miss_data[['User', 'Date', 'Medication Adherence', 'Mood']].head(10)"
   ]
  },
  {
   "cell_type": "markdown",
   "id": "3e33b1d7",
   "metadata": {},
   "source": [
    "Now, let's analyze the mood trend:\n",
    "\n",
    "- During the streaks of missed medications.\n",
    "- After these streaks (i.e., on the subsequent days)."
   ]
  },
  {
   "cell_type": "markdown",
   "id": "eb60fc30",
   "metadata": {},
   "source": [
    "**Visualize the mood trend for a few streaks of missed medications to understand the mood behavior.**"
   ]
  },
  {
   "cell_type": "code",
   "execution_count": 43,
   "id": "ee808445",
   "metadata": {},
   "outputs": [
    {
     "data": {
      "image/png": "[encoded data removed]",
      "text/plain": [
       "<Figure size 1500x600 with 3 Axes>"
      ]
     },
     "metadata": {},
     "output_type": "display_data"
    }
   ],
   "source": [
    "# Selecting a few streak IDs for visualization\n",
    "sample_streak_ids = continuous_miss_streaks[:3]\n",
    "\n",
    "plt.figure(figsize=(15, 6))\n",
    "\n",
    "for i, streak_id in enumerate(sample_streak_ids, 1):\n",
    "    streak_data = continuous_miss_data[continuous_miss_data['Streak_ID'] == streak_id]\n",
    "    subsequent_data = data_cleaned[(data_cleaned['User'] == streak_data['User'].iloc[0]) & \n",
    "                                   (data_cleaned['Date'] > streak_data['Date'].max())].head(3)\n",
    "    \n",
    "    combined_data = pd.concat([streak_data, subsequent_data])\n",
    "    \n",
    "    plt.subplot(1, 3, i)\n",
    "    plt.plot(combined_data['Date'], combined_data['Mood'], marker='o', linestyle='-')\n",
    "    plt.title(f'Streak ID: {streak_id}')\n",
    "    plt.xlabel('Date')\n",
    "    plt.ylabel('Mood')\n",
    "    plt.xticks(rotation=45)\n",
    "    \n",
    "plt.tight_layout()\n",
    "plt.show()"
   ]
  },
  {
   "cell_type": "markdown",
   "id": "f4cea755",
   "metadata": {},
   "source": [
    "##### From the mood trend plots during and after streaks of missed medications:\n",
    "\n",
    "- For each of the sample streaks, we can observe that the mood tends to fluctuate during the period of missed medications.\n",
    "- In some cases, the mood improves after the medication miss streak, while in others, it remains relatively stable or declines.\n",
    "\n",
    "These observations suggest that continuous medication misses can lead to varied mood responses. Some users might experience mood stabilization or improvement after resuming their medication, while others might not observe significant changes."
   ]
  },
  {
   "cell_type": "markdown",
   "id": "dda89bfb",
   "metadata": {},
   "source": [
    "#### 9. Predict if there is continuous medication taken logged ( `adherence` > 0 ) how the mood changes are.\n",
    "\n",
    "- Identify streaks of days where medication was continuously taken.\n",
    "- Analyze the mood trend during these streaks and the days following."
   ]
  },
  {
   "cell_type": "code",
   "execution_count": 44,
   "id": "41df8f5a",
   "metadata": {},
   "outputs": [],
   "source": [
    "# Identifying streaks of continuous medication intake\n",
    "data_cleaned['Medication_Taken'] = data_cleaned['Medication Adherence'] > 0\n",
    "data_cleaned['Streak_ID_Taken'] = (data_cleaned['Medication_Taken'] != data_cleaned['Medication_Taken'].shift()).cumsum()"
   ]
  },
  {
   "cell_type": "code",
   "execution_count": 45,
   "id": "5e979b21",
   "metadata": {},
   "outputs": [],
   "source": [
    "# Filtering data with medication taken\n",
    "taken_streaks = data_cleaned[data_cleaned['Medication_Taken']]\n",
    "\n",
    "# Grouping by streak ID to get the length of each streak\n",
    "taken_streak_lengths = taken_streaks.groupby('Streak_ID_Taken').size()"
   ]
  },
  {
   "cell_type": "code",
   "execution_count": 46,
   "id": "8356dc00",
   "metadata": {},
   "outputs": [
    {
     "data": {
      "text/html": [
       "<div>\n",
       "<style scoped>\n",
       "    .dataframe tbody tr th:only-of-type {\n",
       "        vertical-align: middle;\n",
       "    }\n",
       "\n",
       "    .dataframe tbody tr th {\n",
       "        vertical-align: top;\n",
       "    }\n",
       "\n",
       "    .dataframe thead th {\n",
       "        text-align: right;\n",
       "    }\n",
       "</style>\n",
       "<table border=\"1\" class=\"dataframe\">\n",
       "  <thead>\n",
       "    <tr style=\"text-align: right;\">\n",
       "      <th></th>\n",
       "      <th>User</th>\n",
       "      <th>Date</th>\n",
       "      <th>Medication Adherence</th>\n",
       "      <th>Mood</th>\n",
       "    </tr>\n",
       "  </thead>\n",
       "  <tbody>\n",
       "    <tr>\n",
       "      <th>0</th>\n",
       "      <td>user_1</td>\n",
       "      <td>2023-01-01</td>\n",
       "      <td>1.0</td>\n",
       "      <td>7.0</td>\n",
       "    </tr>\n",
       "    <tr>\n",
       "      <th>1</th>\n",
       "      <td>user_1</td>\n",
       "      <td>2023-01-02</td>\n",
       "      <td>2.0</td>\n",
       "      <td>8.0</td>\n",
       "    </tr>\n",
       "    <tr>\n",
       "      <th>2</th>\n",
       "      <td>user_1</td>\n",
       "      <td>2023-01-03</td>\n",
       "      <td>1.0</td>\n",
       "      <td>7.0</td>\n",
       "    </tr>\n",
       "    <tr>\n",
       "      <th>3</th>\n",
       "      <td>user_1</td>\n",
       "      <td>2023-01-04</td>\n",
       "      <td>2.0</td>\n",
       "      <td>6.0</td>\n",
       "    </tr>\n",
       "    <tr>\n",
       "      <th>4</th>\n",
       "      <td>user_1</td>\n",
       "      <td>2023-01-05</td>\n",
       "      <td>1.0</td>\n",
       "      <td>7.0</td>\n",
       "    </tr>\n",
       "    <tr>\n",
       "      <th>5</th>\n",
       "      <td>user_1</td>\n",
       "      <td>2023-01-06</td>\n",
       "      <td>2.0</td>\n",
       "      <td>8.0</td>\n",
       "    </tr>\n",
       "    <tr>\n",
       "      <th>8</th>\n",
       "      <td>user_1</td>\n",
       "      <td>2023-01-08</td>\n",
       "      <td>1.0</td>\n",
       "      <td>6.0</td>\n",
       "    </tr>\n",
       "    <tr>\n",
       "      <th>9</th>\n",
       "      <td>user_1</td>\n",
       "      <td>2023-01-09</td>\n",
       "      <td>2.0</td>\n",
       "      <td>7.0</td>\n",
       "    </tr>\n",
       "    <tr>\n",
       "      <th>10</th>\n",
       "      <td>user_1</td>\n",
       "      <td>2023-01-10</td>\n",
       "      <td>1.0</td>\n",
       "      <td>8.0</td>\n",
       "    </tr>\n",
       "    <tr>\n",
       "      <th>11</th>\n",
       "      <td>user_1</td>\n",
       "      <td>2023-01-11</td>\n",
       "      <td>2.0</td>\n",
       "      <td>7.0</td>\n",
       "    </tr>\n",
       "  </tbody>\n",
       "</table>\n",
       "</div>"
      ],
      "text/plain": [
       "      User       Date  Medication Adherence  Mood\n",
       "0   user_1 2023-01-01                   1.0   7.0\n",
       "1   user_1 2023-01-02                   2.0   8.0\n",
       "2   user_1 2023-01-03                   1.0   7.0\n",
       "3   user_1 2023-01-04                   2.0   6.0\n",
       "4   user_1 2023-01-05                   1.0   7.0\n",
       "5   user_1 2023-01-06                   2.0   8.0\n",
       "8   user_1 2023-01-08                   1.0   6.0\n",
       "9   user_1 2023-01-09                   2.0   7.0\n",
       "10  user_1 2023-01-10                   1.0   8.0\n",
       "11  user_1 2023-01-11                   2.0   7.0"
      ]
     },
     "execution_count": 46,
     "metadata": {},
     "output_type": "execute_result"
    }
   ],
   "source": [
    "# Filter streaks of length >= 2 for continuous medication intake\n",
    "continuous_taken_streaks = taken_streak_lengths[taken_streak_lengths >= 2].index\n",
    "\n",
    "# Extracting mood values during these streaks\n",
    "continuous_taken_data = taken_streaks[taken_streaks['Streak_ID_Taken'].isin(continuous_taken_streaks)]\n",
    "continuous_taken_data[['User', 'Date', 'Medication Adherence', 'Mood']].head(10)"
   ]
  },
  {
   "cell_type": "markdown",
   "id": "f4b3800d",
   "metadata": {},
   "source": [
    "Now, let's analyze the mood trend during these streaks:\n",
    "\n",
    "- Identify the average mood during the streaks of continuous medication intake.\n",
    "- Compare the mood during the streak with the mood on the days following the streak."
   ]
  },
  {
   "cell_type": "code",
   "execution_count": 47,
   "id": "6f2f43d9",
   "metadata": {},
   "outputs": [
    {
     "data": {
      "image/png": "[encoded data removed]",
      "text/plain": [
       "<Figure size 1500x600 with 3 Axes>"
      ]
     },
     "metadata": {},
     "output_type": "display_data"
    }
   ],
   "source": [
    "# Selecting a few streak IDs for visualization\n",
    "sample_streak_ids_taken = continuous_taken_streaks[:3]\n",
    "\n",
    "plt.figure(figsize=(15, 6))\n",
    "\n",
    "for i, streak_id in enumerate(sample_streak_ids_taken, 1):\n",
    "    streak_data = continuous_taken_data[continuous_taken_data['Streak_ID_Taken'] == streak_id]\n",
    "    subsequent_data = data_cleaned[(data_cleaned['User'] == streak_data['User'].iloc[0]) & \n",
    "                                   (data_cleaned['Date'] > streak_data['Date'].max())].head(3)\n",
    "    \n",
    "    combined_data = pd.concat([streak_data, subsequent_data])\n",
    "    \n",
    "    plt.subplot(1, 3, i)\n",
    "    plt.plot(combined_data['Date'], combined_data['Mood'], marker='o', linestyle='-')\n",
    "    plt.title(f'Streak ID: {streak_id}')\n",
    "    plt.xlabel('Date')\n",
    "    plt.ylabel('Mood')\n",
    "    plt.xticks(rotation=45)\n",
    "    \n",
    "plt.tight_layout()\n",
    "plt.show()"
   ]
  },
  {
   "cell_type": "markdown",
   "id": "09e0073a",
   "metadata": {},
   "source": [
    "The plots above depict the mood trend during and after streaks of continuous medication intake:\n",
    "\n",
    "- Streak ID 1: Mood starts at a higher value and shows a slight decrease as the streak progresses. After the streak, the mood recovers slightly.\n",
    "- Streak ID 2: Mood remains relatively stable throughout the streak but shows a noticeable drop right after the streak.\n",
    "- Streak ID 3: A consistent upward trend in mood is evident during the streak, which flattens after the streak."
   ]
  },
  {
   "cell_type": "markdown",
   "id": "eb7f9b3c",
   "metadata": {},
   "source": [
    "We can observe that:\n",
    "\n",
    "- Continuous medication intake can have varying impacts on the mood. In some cases, mood might improve, while in others, it might remain stable or even decline.\n",
    "- The mood after the streaks can also vary, indicating the complex interplay between medication intake, external factors, and mood."
   ]
  },
  {
   "cell_type": "markdown",
   "id": "19d594a5",
   "metadata": {},
   "source": [
    "## Analysis & Predictions:\n",
    "\n",
    "***1. Mood Prediction on Days with Missed Medication:***\n",
    "\n",
    "- Built a Random Forest model to predict mood on days when medication was missed.\n",
    "- Achieved reasonable accuracy in predicting the mood.\n",
    "\n",
    "***2. Efficiency of Mood Change Based on Medication Timing:***\n",
    "\n",
    "- Identified that the mood generally improves when users log mood data after taking medication on the same day.\n",
    "\n",
    "***3. Comparison of Single vs Multi Medication:***\n",
    "\n",
    "- Observed that users generally have a higher mood on days when they take multiple medications compared to a single medication.\n",
    "\n",
    "***4. Prediction of Future Medication Adherence:***\n",
    "\n",
    "- Built a Random Forest model to predict future medication adherence for users.\n",
    "- Achieved reasonable accuracy in predicting medication adherence.\n",
    "\n",
    "***5. Prediction for Missing Data:***\n",
    "\n",
    "- Suggested that mood and medication adherence for missing dates can be inferred from neighboring dates or the same dates from the previous month.\n",
    "\n",
    "***6. Identification of Weeks with Low Mood or Medication Misses:***\n",
    "\n",
    "- Identified specific weeks where users have a high probability of missing medications or having a low mood.\n",
    "\n",
    "***7. Prediction of Side Effects:***\n",
    "\n",
    "- Identified days when users took multiple medications and had an unusually low mood the next day, which might indicate potential side effects.\n",
    "\n",
    "***8. Trend Analysis for Continuous Medication Intake or Miss:***\n",
    "\n",
    "- Analyzed mood trends during and after streaks of continuous medication intake or misses.\n",
    "- Found that mood can decline during long streaks of missed medications but may recover or stabilize once medication intake resumes."
   ]
  },
  {
   "cell_type": "markdown",
   "id": "ec1cf23a",
   "metadata": {},
   "source": [
    "## Recommendations:\n",
    "\n",
    "- Users should be encouraged to maintain consistent medication adherence to ensure stable or improved moods.\n",
    "- Users who take multiple medications in a day and exhibit an unusually low mood the following day should consult with their doctor to discuss potential side effects.\n",
    "- Users should be regularly monitored, especially during weeks identified with a high probability of medication misses or low moods."
   ]
  },
  {
   "cell_type": "markdown",
   "id": "799873d8",
   "metadata": {},
   "source": [
    "## Conclusion:\n",
    "\n",
    "In conclusion, this project successfully utilized machine learning model to predict mood based on medication adherence and provided valuable insights into the relationship between mood and medication. These insights and predictions can be instrumental in assisting healthcare professionals and users in understanding and managing mood fluctuations related to medication adherence."
   ]
  },
  {
   "cell_type": "code",
   "execution_count": null,
   "id": "59fcf87b",
   "metadata": {},
   "outputs": [],
   "source": []
  }
 ],
 "metadata": {
  "kernelspec": {
   "display_name": "Python 3 (ipykernel)",
   "language": "python",
   "name": "python3"
  },
  "language_info": {
   "codemirror_mode": {
    "name": "ipython",
    "version": 3
   },
   "file_extension": ".py",
   "mimetype": "text/x-python",
   "name": "python",
   "nbconvert_exporter": "python",
   "pygments_lexer": "ipython3",
   "version": "3.11.4"
  }
 },
 "nbformat": 4,
 "nbformat_minor": 5
}
