{
 "cells": [
  {
   "cell_type": "code",
   "execution_count": 1,
   "id": "7eb02910-ccbc-4461-86ae-b70b57fe711b",
   "metadata": {},
   "outputs": [],
   "source": [
    "import pandas as pd\n",
    "import numpy as np\n",
    "from sklearn.feature_selection import mutual_info_classif, SelectKBest\n",
    "from sklearn.preprocessing import LabelEncoder\n",
    "from sklearn.tree import DecisionTreeClassifier\n",
    "from sklearn.model_selection import train_test_split\n",
    "from sklearn.metrics import confusion_matrix, accuracy_score, precision_score, recall_score\n",
    "from sklearn.ensemble import RandomForestClassifier\n",
    "from lightgbm import LGBMClassifier\n",
    "from sklearn.svm import SVC\n",
    "from sklearn.preprocessing import StandardScaler\n",
    "import warnings\n",
    "import joblib\n",
    "\n",
    "warnings.filterwarnings(\"ignore\")\n",
    "pd.set_option('display.max_columns', None)\n",
    "pd.set_option('display.width', 1000)"
   ]
  },
  {
   "cell_type": "code",
   "execution_count": 2,
   "id": "b84a264e-fe09-4414-b920-57436ef263c8",
   "metadata": {},
   "outputs": [
    {
     "data": {
      "text/html": [
       "<div>\n",
       "<style scoped>\n",
       "    .dataframe tbody tr th:only-of-type {\n",
       "        vertical-align: middle;\n",
       "    }\n",
       "\n",
       "    .dataframe tbody tr th {\n",
       "        vertical-align: top;\n",
       "    }\n",
       "\n",
       "    .dataframe thead th {\n",
       "        text-align: right;\n",
       "    }\n",
       "</style>\n",
       "<table border=\"1\" class=\"dataframe\">\n",
       "  <thead>\n",
       "    <tr style=\"text-align: right;\">\n",
       "      <th></th>\n",
       "      <th>Class</th>\n",
       "      <th>a1</th>\n",
       "      <th>a2</th>\n",
       "      <th>a3</th>\n",
       "      <th>a4</th>\n",
       "      <th>a5</th>\n",
       "      <th>a6</th>\n",
       "      <th>a7</th>\n",
       "      <th>a8</th>\n",
       "      <th>a9</th>\n",
       "      <th>a10</th>\n",
       "      <th>a11</th>\n",
       "      <th>a12</th>\n",
       "      <th>a13</th>\n",
       "      <th>a14</th>\n",
       "      <th>a15</th>\n",
       "      <th>a16</th>\n",
       "      <th>a17</th>\n",
       "      <th>a18</th>\n",
       "      <th>a19</th>\n",
       "      <th>a20</th>\n",
       "      <th>a21</th>\n",
       "      <th>a22</th>\n",
       "      <th>a23</th>\n",
       "      <th>a24</th>\n",
       "      <th>a25</th>\n",
       "      <th>a26</th>\n",
       "      <th>a27</th>\n",
       "      <th>a28</th>\n",
       "      <th>a29</th>\n",
       "      <th>a30</th>\n",
       "      <th>a31</th>\n",
       "      <th>a32</th>\n",
       "      <th>a33</th>\n",
       "      <th>a34</th>\n",
       "      <th>a35</th>\n",
       "      <th>a36</th>\n",
       "      <th>a37</th>\n",
       "      <th>a38</th>\n",
       "      <th>a39</th>\n",
       "      <th>a40</th>\n",
       "      <th>a41</th>\n",
       "      <th>a42</th>\n",
       "      <th>a43</th>\n",
       "      <th>a44</th>\n",
       "      <th>a45</th>\n",
       "      <th>a46</th>\n",
       "      <th>a47</th>\n",
       "      <th>Class_encoded</th>\n",
       "    </tr>\n",
       "  </thead>\n",
       "  <tbody>\n",
       "    <tr>\n",
       "      <th>0</th>\n",
       "      <td>False</td>\n",
       "      <td>844.26</td>\n",
       "      <td>1093.71</td>\n",
       "      <td>704785.63</td>\n",
       "      <td>721</td>\n",
       "      <td>89</td>\n",
       "      <td>0</td>\n",
       "      <td>40</td>\n",
       "      <td>118</td>\n",
       "      <td>0.000000</td>\n",
       "      <td>45.806785</td>\n",
       "      <td>6.589513</td>\n",
       "      <td>0.00</td>\n",
       "      <td>31.220000</td>\n",
       "      <td>1.200681</td>\n",
       "      <td>0.0</td>\n",
       "      <td>0.0</td>\n",
       "      <td>0.0</td>\n",
       "      <td>810</td>\n",
       "      <td>865.691093</td>\n",
       "      <td>586.466675</td>\n",
       "      <td>0.0</td>\n",
       "      <td>-279.224419</td>\n",
       "      <td>265.0</td>\n",
       "      <td>3.558854e+07</td>\n",
       "      <td>3.560317e+07</td>\n",
       "      <td>0.0</td>\n",
       "      <td>30.0</td>\n",
       "      <td>54.0</td>\n",
       "      <td>0.0</td>\n",
       "      <td>58.0</td>\n",
       "      <td>0.0</td>\n",
       "      <td>0.0</td>\n",
       "      <td>0.0</td>\n",
       "      <td>0.0</td>\n",
       "      <td>0.0</td>\n",
       "      <td>1.500000e+07</td>\n",
       "      <td>265586.147600</td>\n",
       "      <td>0.000000</td>\n",
       "      <td>1.683100e+07</td>\n",
       "      <td>271779.920000</td>\n",
       "      <td>0.0</td>\n",
       "      <td>0.0</td>\n",
       "      <td>0.0</td>\n",
       "      <td>39.0</td>\n",
       "      <td>57.0</td>\n",
       "      <td>Cofoundit</td>\n",
       "      <td>Numeraire</td>\n",
       "      <td>0</td>\n",
       "    </tr>\n",
       "    <tr>\n",
       "      <th>1</th>\n",
       "      <td>False</td>\n",
       "      <td>12709.07</td>\n",
       "      <td>2958.44</td>\n",
       "      <td>1218216.73</td>\n",
       "      <td>94</td>\n",
       "      <td>8</td>\n",
       "      <td>0</td>\n",
       "      <td>5</td>\n",
       "      <td>14</td>\n",
       "      <td>0.000000</td>\n",
       "      <td>2.613269</td>\n",
       "      <td>0.385685</td>\n",
       "      <td>0.00</td>\n",
       "      <td>1.800000</td>\n",
       "      <td>0.032844</td>\n",
       "      <td>0.0</td>\n",
       "      <td>0.0</td>\n",
       "      <td>0.0</td>\n",
       "      <td>102</td>\n",
       "      <td>3.087297</td>\n",
       "      <td>3.085478</td>\n",
       "      <td>0.0</td>\n",
       "      <td>-0.001819</td>\n",
       "      <td>8.0</td>\n",
       "      <td>4.034283e+02</td>\n",
       "      <td>2.260809e+00</td>\n",
       "      <td>0.0</td>\n",
       "      <td>1.0</td>\n",
       "      <td>5.0</td>\n",
       "      <td>0.0</td>\n",
       "      <td>7.0</td>\n",
       "      <td>0.0</td>\n",
       "      <td>0.0</td>\n",
       "      <td>0.0</td>\n",
       "      <td>0.0</td>\n",
       "      <td>0.0</td>\n",
       "      <td>3.650000e+02</td>\n",
       "      <td>57.632615</td>\n",
       "      <td>2.260809</td>\n",
       "      <td>2.260809e+00</td>\n",
       "      <td>2.260809</td>\n",
       "      <td>0.0</td>\n",
       "      <td>0.0</td>\n",
       "      <td>0.0</td>\n",
       "      <td>1.0</td>\n",
       "      <td>7.0</td>\n",
       "      <td>Livepeer Token</td>\n",
       "      <td>Livepeer Token</td>\n",
       "      <td>0</td>\n",
       "    </tr>\n",
       "    <tr>\n",
       "      <th>2</th>\n",
       "      <td>False</td>\n",
       "      <td>246194.54</td>\n",
       "      <td>2434.02</td>\n",
       "      <td>516729.30</td>\n",
       "      <td>2</td>\n",
       "      <td>10</td>\n",
       "      <td>0</td>\n",
       "      <td>10</td>\n",
       "      <td>2</td>\n",
       "      <td>0.113119</td>\n",
       "      <td>1.165453</td>\n",
       "      <td>0.358906</td>\n",
       "      <td>0.05</td>\n",
       "      <td>3.538616</td>\n",
       "      <td>1.794308</td>\n",
       "      <td>0.0</td>\n",
       "      <td>0.0</td>\n",
       "      <td>0.0</td>\n",
       "      <td>12</td>\n",
       "      <td>3.588616</td>\n",
       "      <td>3.589057</td>\n",
       "      <td>0.0</td>\n",
       "      <td>0.000441</td>\n",
       "      <td>8.0</td>\n",
       "      <td>5.215121e+02</td>\n",
       "      <td>0.000000e+00</td>\n",
       "      <td>0.0</td>\n",
       "      <td>0.0</td>\n",
       "      <td>7.0</td>\n",
       "      <td>0.0</td>\n",
       "      <td>8.0</td>\n",
       "      <td>0.0</td>\n",
       "      <td>0.0</td>\n",
       "      <td>0.0</td>\n",
       "      <td>0.0</td>\n",
       "      <td>0.0</td>\n",
       "      <td>4.428198e+02</td>\n",
       "      <td>65.189009</td>\n",
       "      <td>0.000000</td>\n",
       "      <td>0.000000e+00</td>\n",
       "      <td>0.000000</td>\n",
       "      <td>0.0</td>\n",
       "      <td>0.0</td>\n",
       "      <td>0.0</td>\n",
       "      <td>0.0</td>\n",
       "      <td>8.0</td>\n",
       "      <td>NaN</td>\n",
       "      <td>XENON</td>\n",
       "      <td>0</td>\n",
       "    </tr>\n",
       "    <tr>\n",
       "      <th>3</th>\n",
       "      <td>False</td>\n",
       "      <td>10219.60</td>\n",
       "      <td>15785.09</td>\n",
       "      <td>397555.90</td>\n",
       "      <td>25</td>\n",
       "      <td>9</td>\n",
       "      <td>0</td>\n",
       "      <td>7</td>\n",
       "      <td>13</td>\n",
       "      <td>0.000000</td>\n",
       "      <td>500.000000</td>\n",
       "      <td>99.488840</td>\n",
       "      <td>0.00</td>\n",
       "      <td>450.000000</td>\n",
       "      <td>70.001834</td>\n",
       "      <td>0.0</td>\n",
       "      <td>0.0</td>\n",
       "      <td>0.0</td>\n",
       "      <td>34</td>\n",
       "      <td>1750.045862</td>\n",
       "      <td>895.399559</td>\n",
       "      <td>0.0</td>\n",
       "      <td>-854.646303</td>\n",
       "      <td>14.0</td>\n",
       "      <td>1.711105e+04</td>\n",
       "      <td>1.141223e+04</td>\n",
       "      <td>0.0</td>\n",
       "      <td>2.0</td>\n",
       "      <td>11.0</td>\n",
       "      <td>0.0</td>\n",
       "      <td>11.0</td>\n",
       "      <td>0.0</td>\n",
       "      <td>0.0</td>\n",
       "      <td>0.0</td>\n",
       "      <td>0.0</td>\n",
       "      <td>0.0</td>\n",
       "      <td>1.141223e+04</td>\n",
       "      <td>1555.550174</td>\n",
       "      <td>100.000000</td>\n",
       "      <td>9.029231e+03</td>\n",
       "      <td>3804.076893</td>\n",
       "      <td>0.0</td>\n",
       "      <td>0.0</td>\n",
       "      <td>0.0</td>\n",
       "      <td>1.0</td>\n",
       "      <td>11.0</td>\n",
       "      <td>Raiden</td>\n",
       "      <td>XENON</td>\n",
       "      <td>0</td>\n",
       "    </tr>\n",
       "    <tr>\n",
       "      <th>4</th>\n",
       "      <td>False</td>\n",
       "      <td>36.61</td>\n",
       "      <td>10707.77</td>\n",
       "      <td>382472.42</td>\n",
       "      <td>4598</td>\n",
       "      <td>20</td>\n",
       "      <td>1</td>\n",
       "      <td>7</td>\n",
       "      <td>19</td>\n",
       "      <td>0.000000</td>\n",
       "      <td>12.802411</td>\n",
       "      <td>2.671095</td>\n",
       "      <td>0.00</td>\n",
       "      <td>9.000000</td>\n",
       "      <td>0.022688</td>\n",
       "      <td>0.0</td>\n",
       "      <td>0.0</td>\n",
       "      <td>0.0</td>\n",
       "      <td>4619</td>\n",
       "      <td>104.318883</td>\n",
       "      <td>53.421897</td>\n",
       "      <td>0.0</td>\n",
       "      <td>-50.896986</td>\n",
       "      <td>42.0</td>\n",
       "      <td>1.628297e+05</td>\n",
       "      <td>1.235399e+05</td>\n",
       "      <td>0.0</td>\n",
       "      <td>4.0</td>\n",
       "      <td>23.0</td>\n",
       "      <td>0.0</td>\n",
       "      <td>27.0</td>\n",
       "      <td>0.0</td>\n",
       "      <td>0.0</td>\n",
       "      <td>0.0</td>\n",
       "      <td>0.0</td>\n",
       "      <td>0.0</td>\n",
       "      <td>9.000000e+04</td>\n",
       "      <td>4934.232147</td>\n",
       "      <td>0.000000</td>\n",
       "      <td>4.500000e+04</td>\n",
       "      <td>13726.659220</td>\n",
       "      <td>0.0</td>\n",
       "      <td>0.0</td>\n",
       "      <td>0.0</td>\n",
       "      <td>6.0</td>\n",
       "      <td>27.0</td>\n",
       "      <td>StatusNetwork</td>\n",
       "      <td>EOS</td>\n",
       "      <td>0</td>\n",
       "    </tr>\n",
       "  </tbody>\n",
       "</table>\n",
       "</div>"
      ],
      "text/plain": [
       "   Class         a1        a2          a3    a4  a5  a6  a7   a8        a9         a10        a11   a12         a13        a14  a15  a16  a17   a18          a19         a20  a21         a22    a23           a24           a25  a26   a27   a28  a29   a30  a31  a32  a33  a34  a35           a36            a37         a38           a39            a40  a41  a42  a43   a44   a45             a46             a47  Class_encoded\n",
       "0  False     844.26   1093.71   704785.63   721  89   0  40  118  0.000000   45.806785   6.589513  0.00   31.220000   1.200681  0.0  0.0  0.0   810   865.691093  586.466675  0.0 -279.224419  265.0  3.558854e+07  3.560317e+07  0.0  30.0  54.0  0.0  58.0  0.0  0.0  0.0  0.0  0.0  1.500000e+07  265586.147600    0.000000  1.683100e+07  271779.920000  0.0  0.0  0.0  39.0  57.0       Cofoundit       Numeraire              0\n",
       "1  False   12709.07   2958.44  1218216.73    94   8   0   5   14  0.000000    2.613269   0.385685  0.00    1.800000   0.032844  0.0  0.0  0.0   102     3.087297    3.085478  0.0   -0.001819    8.0  4.034283e+02  2.260809e+00  0.0   1.0   5.0  0.0   7.0  0.0  0.0  0.0  0.0  0.0  3.650000e+02      57.632615    2.260809  2.260809e+00       2.260809  0.0  0.0  0.0   1.0   7.0  Livepeer Token  Livepeer Token              0\n",
       "2  False  246194.54   2434.02   516729.30     2  10   0  10    2  0.113119    1.165453   0.358906  0.05    3.538616   1.794308  0.0  0.0  0.0    12     3.588616    3.589057  0.0    0.000441    8.0  5.215121e+02  0.000000e+00  0.0   0.0   7.0  0.0   8.0  0.0  0.0  0.0  0.0  0.0  4.428198e+02      65.189009    0.000000  0.000000e+00       0.000000  0.0  0.0  0.0   0.0   8.0             NaN           XENON              0\n",
       "3  False   10219.60  15785.09   397555.90    25   9   0   7   13  0.000000  500.000000  99.488840  0.00  450.000000  70.001834  0.0  0.0  0.0    34  1750.045862  895.399559  0.0 -854.646303   14.0  1.711105e+04  1.141223e+04  0.0   2.0  11.0  0.0  11.0  0.0  0.0  0.0  0.0  0.0  1.141223e+04    1555.550174  100.000000  9.029231e+03    3804.076893  0.0  0.0  0.0   1.0  11.0          Raiden           XENON              0\n",
       "4  False      36.61  10707.77   382472.42  4598  20   1   7   19  0.000000   12.802411   2.671095  0.00    9.000000   0.022688  0.0  0.0  0.0  4619   104.318883   53.421897  0.0  -50.896986   42.0  1.628297e+05  1.235399e+05  0.0   4.0  23.0  0.0  27.0  0.0  0.0  0.0  0.0  0.0  9.000000e+04    4934.232147    0.000000  4.500000e+04   13726.659220  0.0  0.0  0.0   6.0  27.0   StatusNetwork             EOS              0"
      ]
     },
     "execution_count": 2,
     "metadata": {},
     "output_type": "execute_result"
    }
   ],
   "source": [
    "# Load the dataset\n",
    "df = pd.read_csv('Cryptocurrency_cleaned.csv')\n",
    "\n",
    "# Display the first few rows\n",
    "df.head()"
   ]
  },
  {
   "cell_type": "code",
   "execution_count": 3,
   "id": "b552e510-ddfc-49af-ad3a-47b9b18422f8",
   "metadata": {},
   "outputs": [],
   "source": [
    "# Encode categorical variables\n",
    "le = LabelEncoder()\n",
    "for col in df.select_dtypes(include='object').columns:\n",
    "    df[col] = le.fit_transform(df[col])"
   ]
  },
  {
   "cell_type": "code",
   "execution_count": 4,
   "id": "3f976918-bd28-42b7-b763-d8d573eb4217",
   "metadata": {},
   "outputs": [],
   "source": [
    "# Separate features and target variable\n",
    "X = df.drop(['Class', 'Class_encoded'], axis=1)\n",
    "y = df['Class'].astype(int)"
   ]
  },
  {
   "cell_type": "markdown",
   "id": "2366b51f-1e9f-4832-86d3-ef6fea554fe4",
   "metadata": {},
   "source": [
    "## Task 1: Feature Selection"
   ]
  },
  {
   "cell_type": "markdown",
   "id": "c9f16b19-41f6-4876-a21a-b1f1811ef3ed",
   "metadata": {},
   "source": [
    "- *Manual Selection*: Based on domain knowledge and understanding of the data, manually select a subset of features that are intuitively relevant to fraud detection.\n",
    "- *Gini Index Method*: Use a decision tree classifier to rank features based on the Gini impurity decrease they bring when used to split the data.\n",
    "- *Information Gain Method*: Utilize an entropy-based approach to evaluate the reduction in uncertainty about the target variable when given the feature.\n",
    "- *Correlation Method*: Analyze the correlation matrix to select features that have a high correlation with the target variable but low correlation with each other to avoid multicollinearity."
   ]
  },
  {
   "cell_type": "markdown",
   "id": "56bc2c82-baef-4177-b5dd-fecc50da1a83",
   "metadata": {},
   "source": [
    "### 1. Manual Selection: \n",
    "Since manual selection requires domain-specific knowledge which might not be directly applicable without further insights into each attribute, we'll focus on other methods. Also we don't haveinformation for each attribute."
   ]
  },
  {
   "cell_type": "markdown",
   "id": "795bca92-4741-4691-a9ae-13a477778238",
   "metadata": {},
   "source": [
    "### 2. Gini Index Method:\n",
    "We'll use a decision tree classifier to identify the most important features based on the Gini impurity decrease."
   ]
  },
  {
   "cell_type": "code",
   "execution_count": 5,
   "id": "4630233b-8a44-4dd9-a987-44066fee8fad",
   "metadata": {},
   "outputs": [],
   "source": [
    "dt = DecisionTreeClassifier(random_state=42)\n",
    "dt.fit(X, y)\n",
    "gini_importances = pd.Series(dt.feature_importances_, index=X.columns)"
   ]
  },
  {
   "cell_type": "code",
   "execution_count": 6,
   "id": "83d0ebfd-38a9-412e-a938-a2634c815b71",
   "metadata": {},
   "outputs": [],
   "source": [
    "# Selecting top N features based on each method\n",
    "N = 10  # Number of features to select"
   ]
  },
  {
   "cell_type": "code",
   "execution_count": 7,
   "id": "7528f0b6-5ff1-4f52-93de-cac4819c0f4d",
   "metadata": {},
   "outputs": [],
   "source": [
    "# Top N features based on Gini Importance\n",
    "gini_top_features = gini_importances.nlargest(N).index.tolist()"
   ]
  },
  {
   "cell_type": "code",
   "execution_count": 8,
   "id": "28e0cee6-c843-44c1-ae63-8fb0db4ed77d",
   "metadata": {},
   "outputs": [
    {
     "data": {
      "text/plain": [
       "['a46', 'a47', 'a10', 'a23', 'a3', 'a4', 'a11', 'a7', 'a44', 'a25']"
      ]
     },
     "execution_count": 8,
     "metadata": {},
     "output_type": "execute_result"
    }
   ],
   "source": [
    "gini_top_features"
   ]
  },
  {
   "cell_type": "code",
   "execution_count": 9,
   "id": "0dce78f4-bec8-472a-af92-6d854fa94b18",
   "metadata": {},
   "outputs": [],
   "source": [
    "gini_subset = df[gini_top_features + ['Class']]"
   ]
  },
  {
   "cell_type": "code",
   "execution_count": 10,
   "id": "8faea5bf-abaa-4f5e-a8c7-5aec853b04ce",
   "metadata": {},
   "outputs": [],
   "source": [
    "# Save to csv\n",
    "gini_subset.to_csv('gini_selection.csv', index=False)"
   ]
  },
  {
   "cell_type": "markdown",
   "id": "7e43852b-235e-4f06-ae31-2326b6471064",
   "metadata": {},
   "source": [
    "### 3. Information Gain Method: \n",
    "We'll use mutual information gain as a proxy to select features that share the most information with the target variable."
   ]
  },
  {
   "cell_type": "code",
   "execution_count": 11,
   "id": "da342441-0226-45f7-abd0-d637f2a30ee0",
   "metadata": {},
   "outputs": [],
   "source": [
    "info_gain_importances = mutual_info_classif(X, y)\n",
    "info_gain_importances = pd.Series(info_gain_importances, index=X.columns)"
   ]
  },
  {
   "cell_type": "code",
   "execution_count": 12,
   "id": "090eb445-bb2c-4b56-8ebb-c0342bf07702",
   "metadata": {},
   "outputs": [],
   "source": [
    "# Top N features based on Information Gain\n",
    "info_gain_top_features = info_gain_importances.nlargest(N).index.tolist()"
   ]
  },
  {
   "cell_type": "code",
   "execution_count": 13,
   "id": "da876392-8cf1-476b-871e-ed4f93533eae",
   "metadata": {},
   "outputs": [
    {
     "data": {
      "text/plain": [
       "['a23', 'a45', 'a28', 'a30', 'a46', 'a3', 'a47', 'a10', 'a22', 'a11']"
      ]
     },
     "execution_count": 13,
     "metadata": {},
     "output_type": "execute_result"
    }
   ],
   "source": [
    "info_gain_top_features"
   ]
  },
  {
   "cell_type": "code",
   "execution_count": 14,
   "id": "32609786-8f0c-46b8-a76b-ff5781cdadeb",
   "metadata": {},
   "outputs": [],
   "source": [
    "info_gain_subset = df[info_gain_top_features + ['Class']]"
   ]
  },
  {
   "cell_type": "code",
   "execution_count": 15,
   "id": "8e59fcda-42dc-47ee-9b0e-129cbd46add7",
   "metadata": {},
   "outputs": [],
   "source": [
    "info_gain_subset.to_csv('info_gain_selection.csv', index=False)"
   ]
  },
  {
   "cell_type": "markdown",
   "id": "b0efbfba-823f-4bf2-933e-37a774d6bfcc",
   "metadata": {},
   "source": [
    "### 4. Correlation Method: \n",
    "We'll compute the correlation between all features and the target variable, selecting those with the highest absolute values, considering multicollinearity among predictors."
   ]
  },
  {
   "cell_type": "code",
   "execution_count": 16,
   "id": "fc548354-0bc4-481b-bd9e-4768332e7de4",
   "metadata": {},
   "outputs": [],
   "source": [
    "# Pearson correlation\n",
    "correlations = X.corrwith(y)\n",
    "correlations = correlations.abs().sort_values(ascending=False)"
   ]
  },
  {
   "cell_type": "code",
   "execution_count": 17,
   "id": "55270ac8-7509-4ad4-8ebb-8e8ebeeddcf5",
   "metadata": {},
   "outputs": [],
   "source": [
    "# Top N features based on Correlation\n",
    "correlation_top_features = correlations.nlargest(N + 1).index.tolist()  # +1 as it includes the target"
   ]
  },
  {
   "cell_type": "code",
   "execution_count": 18,
   "id": "aa162208-b5a6-4392-80a9-3008ceb2bedb",
   "metadata": {},
   "outputs": [
    {
     "data": {
      "text/plain": [
       "['a46', 'a3', 'a2', 'a18', 'a5', 'a4', 'a14', 'a47', 'a45', 'a30', 'a8']"
      ]
     },
     "execution_count": 18,
     "metadata": {},
     "output_type": "execute_result"
    }
   ],
   "source": [
    "correlation_top_features"
   ]
  },
  {
   "cell_type": "code",
   "execution_count": 19,
   "id": "a57ad65a-5bab-46ec-b70c-a7f2592a8ba0",
   "metadata": {},
   "outputs": [],
   "source": [
    "correlation_subset = df[correlation_top_features + ['Class']]"
   ]
  },
  {
   "cell_type": "code",
   "execution_count": 20,
   "id": "012dcbc6-d588-4a0b-9fbf-a93d51715257",
   "metadata": {},
   "outputs": [],
   "source": [
    "correlation_subset.to_csv('correlation_selection.csv', index=False)"
   ]
  },
  {
   "cell_type": "markdown",
   "id": "8018dbff-657d-409f-88aa-47921b882a3b",
   "metadata": {},
   "source": [
    "---\n",
    "---"
   ]
  },
  {
   "cell_type": "markdown",
   "id": "d05d71a3-23b6-4b72-9890-58c47dc0c550",
   "metadata": {},
   "source": [
    "## Task 2: Model Building and Evaluation"
   ]
  },
  {
   "cell_type": "markdown",
   "id": "4fcc742e-3ea3-4752-a7af-d06e8c2f38fd",
   "metadata": {},
   "source": [
    "- `Decision Tree` (CART): Train and test using the CART algorithm.\n",
    "- `Random Forest`: A more robust ensemble method building upon decision trees.\n",
    "- `LightGBM` (LGBM): A gradient boosting framework that uses tree-based learning algorithms, known for its efficiency and accuracy.\n",
    "- `Support Vector Machine` (SVM): A powerful classifier that works well for both linear and non-linear data."
   ]
  },
  {
   "cell_type": "markdown",
   "id": "290a389e-1ecb-44e3-8d94-f65a9ce45f19",
   "metadata": {},
   "source": [
    "    - We'll split each dataset into 70% training data and 30% testing data.\n",
    "    - For each dataset and algorithm pair, we'll train the model and compute its performance metrics: True Positives (TP), False Positives (FP), True Negatives (TN), False Negatives (FN), accuracy, precision, and recall."
   ]
  },
  {
   "cell_type": "code",
   "execution_count": 21,
   "id": "6b131635-199e-4840-8c15-4b79a5055ba1",
   "metadata": {},
   "outputs": [],
   "source": [
    "# Load the datasets\n",
    "gini_df = pd.read_csv('gini_selection.csv')\n",
    "info_gain_df = pd.read_csv('info_gain_selection.csv')\n",
    "correlation_df = pd.read_csv('correlation_selection.csv')"
   ]
  },
  {
   "cell_type": "code",
   "execution_count": 22,
   "id": "08e526c2-14be-4957-a0d1-fc90001223c4",
   "metadata": {},
   "outputs": [],
   "source": [
    "# Define a function to train and evaluate a model\n",
    "def train_evaluate_model(model, X_train, X_test, y_train, y_test):\n",
    "    model.fit(X_train, y_train)\n",
    "    predictions = model.predict(X_test)\n",
    "    cm = confusion_matrix(y_test, predictions)\n",
    "    TP, FN, FP, TN = cm[1, 1], cm[1, 0], cm[0, 1], cm[0, 0]\n",
    "    accuracy = accuracy_score(y_test, predictions)\n",
    "    precision = precision_score(y_test, predictions)\n",
    "    recall = recall_score(y_test, predictions)\n",
    "    return TP, FP, TN, FN, accuracy, precision, recall"
   ]
  },
  {
   "cell_type": "code",
   "execution_count": 23,
   "id": "45a23d18-90b4-49e1-8528-73f93ffd239f",
   "metadata": {},
   "outputs": [],
   "source": [
    "# Model training and evaluation function\n",
    "def evaluate_all_models(datasets):\n",
    "    results = {}\n",
    "    for name, df in datasets.items():\n",
    "        X = df.drop('Class', axis=1)\n",
    "        y = df['Class']\n",
    "        \n",
    "        # Scaling features\n",
    "        scaler = StandardScaler()\n",
    "        X_scaled = scaler.fit_transform(X)\n",
    "        \n",
    "        # Splitting the dataset\n",
    "        X_train, X_test, y_train, y_test = train_test_split(X_scaled, y, test_size=0.3, random_state=42)\n",
    "        \n",
    "        # Models\n",
    "        models = {\n",
    "            'CART': DecisionTreeClassifier(random_state=42),\n",
    "            'Random Forest': RandomForestClassifier(random_state=42),\n",
    "            'LGBM': LGBMClassifier(random_state=42),\n",
    "            'SVM': SVC(random_state=42)\n",
    "        }\n",
    "        \n",
    "        for model_name, model in models.items():\n",
    "            results[f\"{name}_{model_name}\"] = train_evaluate_model(model, X_train, X_test, y_train, y_test)\n",
    "    \n",
    "    return results"
   ]
  },
  {
   "cell_type": "code",
   "execution_count": 24,
   "id": "26920834-7fd6-4731-9d20-cb33e0490f79",
   "metadata": {},
   "outputs": [],
   "source": [
    "datasets = {\n",
    "    'Original': df.drop(['Class_encoded'], axis=1),\n",
    "    'Gini': gini_df,\n",
    "    'Info Gain': info_gain_df,\n",
    "    'Correlation': correlation_df\n",
    "}"
   ]
  },
  {
   "cell_type": "code",
   "execution_count": 25,
   "id": "eca8ef45-ad81-4b30-9ec4-bfb99be1e2a1",
   "metadata": {},
   "outputs": [
    {
     "name": "stdout",
     "output_type": "stream",
     "text": [
      "[LightGBM] [Info] Number of positive: 1529, number of negative: 5359\n",
      "[LightGBM] [Info] Auto-choosing col-wise multi-threading, the overhead of testing was 0.001393 seconds.\n",
      "You can set `force_col_wise=true` to remove the overhead.\n",
      "[LightGBM] [Info] Total Bins 6982\n",
      "[LightGBM] [Info] Number of data points in the train set: 6888, number of used features: 34\n",
      "[LightGBM] [Info] [binary:BoostFromScore]: pavg=0.221980 -> initscore=-1.254163\n",
      "[LightGBM] [Info] Start training from score -1.254163\n",
      "[LightGBM] [Info] Number of positive: 1529, number of negative: 5359\n",
      "[LightGBM] [Info] Auto-choosing col-wise multi-threading, the overhead of testing was 0.000353 seconds.\n",
      "You can set `force_col_wise=true` to remove the overhead.\n",
      "[LightGBM] [Info] Total Bins 1962\n",
      "[LightGBM] [Info] Number of data points in the train set: 6888, number of used features: 10\n",
      "[LightGBM] [Info] [binary:BoostFromScore]: pavg=0.221980 -> initscore=-1.254163\n",
      "[LightGBM] [Info] Start training from score -1.254163\n",
      "[LightGBM] [Info] Number of positive: 1529, number of negative: 5359\n",
      "[LightGBM] [Info] Auto-choosing col-wise multi-threading, the overhead of testing was 0.000280 seconds.\n",
      "You can set `force_col_wise=true` to remove the overhead.\n",
      "[LightGBM] [Info] Total Bins 1807\n",
      "[LightGBM] [Info] Number of data points in the train set: 6888, number of used features: 10\n",
      "[LightGBM] [Info] [binary:BoostFromScore]: pavg=0.221980 -> initscore=-1.254163\n",
      "[LightGBM] [Info] Start training from score -1.254163\n",
      "[LightGBM] [Info] Number of positive: 1529, number of negative: 5359\n",
      "[LightGBM] [Info] Auto-choosing col-wise multi-threading, the overhead of testing was 0.000387 seconds.\n",
      "You can set `force_col_wise=true` to remove the overhead.\n",
      "[LightGBM] [Info] Total Bins 2153\n",
      "[LightGBM] [Info] Number of data points in the train set: 6888, number of used features: 11\n",
      "[LightGBM] [Info] [binary:BoostFromScore]: pavg=0.221980 -> initscore=-1.254163\n",
      "[LightGBM] [Info] Start training from score -1.254163\n"
     ]
    }
   ],
   "source": [
    "results = evaluate_all_models(datasets)"
   ]
  },
  {
   "cell_type": "code",
   "execution_count": 26,
   "id": "8e32670d-6def-49d4-8a2f-a3e87a963736",
   "metadata": {},
   "outputs": [],
   "source": [
    "results_df = pd.DataFrame.from_dict(results, orient='index',\n",
    "                                     columns=['TP', 'FP', 'TN', 'FN', 'Accuracy', 'Precision', 'Recall'])"
   ]
  },
  {
   "cell_type": "code",
   "execution_count": 27,
   "id": "b708e6e1-7638-454f-91ea-72a76e8f1f6d",
   "metadata": {},
   "outputs": [],
   "source": [
    "# Resetting index to make it a column and splitting it for better readability\n",
    "results_df.reset_index(inplace=True)\n",
    "results_df[['Dataset', 'Model']] = results_df['index'].str.split('_', expand=True)\n",
    "results_df.drop('index', axis=1, inplace=True)"
   ]
  },
  {
   "cell_type": "code",
   "execution_count": 28,
   "id": "c55a1802-8766-48f9-9e3e-81577fd04eea",
   "metadata": {},
   "outputs": [
    {
     "name": "stdout",
     "output_type": "stream",
     "text": [
      "        Dataset          Model   TP  FP    TN   FN  Accuracy  Precision    Recall\n",
      "0      Original           CART  628  16  2287   22  0.987132   0.975155  0.966154\n",
      "1      Original  Random Forest  615   1  2302   35  0.987809   0.998377  0.946154\n",
      "2      Original           LGBM  633   4  2299   17  0.992889   0.993721  0.973846\n",
      "3      Original            SVM  344  38  2265  306  0.883508   0.900524  0.529231\n",
      "4          Gini           CART  624  14  2289   26  0.986454   0.978056  0.960000\n",
      "5          Gini  Random Forest  619   1  2302   31  0.989164   0.998387  0.952308\n",
      "6          Gini           LGBM  634   4  2299   16  0.993227   0.993730  0.975385\n",
      "7          Gini            SVM  347   9  2294  303  0.894345   0.974719  0.533846\n",
      "8     Info Gain           CART  621  16  2287   29  0.984761   0.974882  0.955385\n",
      "9     Info Gain  Random Forest  616   2  2301   34  0.987809   0.996764  0.947692\n",
      "10    Info Gain           LGBM  626   9  2294   24  0.988825   0.985827  0.963077\n",
      "11    Info Gain            SVM  348  25  2278  302  0.889265   0.932976  0.535385\n",
      "12  Correlation           CART  628  21  2282   22  0.985439   0.967643  0.966154\n",
      "13  Correlation  Random Forest  618   3  2300   32  0.988148   0.995169  0.950769\n",
      "14  Correlation           LGBM  628   9  2294   22  0.989502   0.985871  0.966154\n",
      "15  Correlation            SVM  348  28  2275  302  0.888249   0.925532  0.535385\n"
     ]
    }
   ],
   "source": [
    "# Reordering columns for clarity\n",
    "results_df = results_df[['Dataset', 'Model', 'TP', 'FP', 'TN', 'FN', 'Accuracy', 'Precision', 'Recall']]\n",
    "print(results_df)"
   ]
  },
  {
   "cell_type": "markdown",
   "id": "863c7b98-4a59-42b1-8510-f35b99d7725b",
   "metadata": {},
   "source": [
    "#### Original Dataset\n",
    "- **CART** shows high performance with an accuracy of 98.71%, precision of 97.52%, and recall of 96.62%. However, it has a slightly higher false positive rate compared to Random Forest.\n",
    "- **Random Forest** achieves the highest precision (99.84%) with a strong balance of accuracy (98.78%) and recall (94.62%), indicating it is very reliable at predicting true positives while minimizing false positives.\n",
    "- **LGBM** stands out with the highest recall (97.38%) and very high precision (99.37%), suggesting it's exceptionally effective at identifying fraudulent transactions with minimal false negatives and positives.\n",
    "- **SVM** has significantly lower performance metrics compared to the tree-based models, indicating it may not be as suitable for this particular task in terms of accuracy (88.35%), precision (90.05%), and recall (52.92%).\n",
    "\n",
    "#### Gini Feature Subset\n",
    "- **CART** maintains high performance on the Gini subset, with slightly improved precision and recall compared to the original dataset.\n",
    "- **Random Forest** shows a small improvement in recall (95.23%) while maintaining almost perfect precision, highlighting its consistency across different feature subsets.\n",
    "- **LGBM** again shows superior performance, with the best recall (97.54%) and almost perfect precision, indicating its strong capability to generalize well on reduced feature sets.\n",
    "- **SVM**, while showing an improvement in precision on this subset, still lags significantly behind in recall, making it less effective for practical application.\n",
    "\n",
    "#### Information Gain Feature Subset\n",
    "- **CART** and **Random Forest** both show a slight decrease in performance metrics compared to the original and Gini subsets, but still perform robustly with high accuracy and precision.\n",
    "- **LGBM** presents a balanced performance with excellent precision and recall, slightly outperforming the Random Forest in recall, showcasing its effectiveness in feature-rich environments.\n",
    "- **SVM** shows a modest improvement in precision but remains the least effective model in terms of recall across the subsets.\n",
    "\n",
    "#### Correlation Feature Subset\n",
    "- **CART** shows a slight improvement in precision and maintains high accuracy and recall, indicating its robustness across various feature selection methods.\n",
    "- **Random Forest** continues to exhibit high precision with a slight improvement in recall, reinforcing its reliability and consistency.\n",
    "- **LGBM** demonstrates high performance with the best balance between precision and recall among the models, indicating its strong predictive power and efficiency.\n",
    "- **SVM** remains consistent with its performance, showing slightly improved precision but still lower recall compared to other models."
   ]
  },
  {
   "cell_type": "markdown",
   "id": "b612be96-2aea-41b3-b22c-9e0861e75bd4",
   "metadata": {},
   "source": [
    "---\n",
    "---"
   ]
  },
  {
   "cell_type": "markdown",
   "id": "809ebc30-9760-4387-86eb-ea138f6adeab",
   "metadata": {},
   "source": [
    "## Task 3: Model Comparison and Selection"
   ]
  },
  {
   "cell_type": "markdown",
   "id": "059b0ef9-8fe8-40af-9356-59d8113b2347",
   "metadata": {},
   "source": [
    "- Compare the performance metrics across all models to identify the most effective combination of features and algorithm for fraud detection.\n",
    "- The best model will be selected based on a balance of accuracy, precision, and recall, considering the critical nature of minimizing false negatives (FN) and false positives (FP) in fraud detection."
   ]
  },
  {
   "cell_type": "markdown",
   "id": "7ec192b7-554d-418a-98b9-c39446d8619e",
   "metadata": {},
   "source": [
    "#### Performance Analysis Overview\n",
    "\n",
    "The metrics to consider are Accuracy, Precision, and Recall:\n",
    "- **Accuracy** measures the overall correctness of the model.\n",
    "- **Precision** measures the accuracy of positive predictions (important to minimize false positives).\n",
    "- **Recall** measures the ability of the model to detect all positive instances (important to minimize false negatives).\n",
    "\n",
    "#### Models Performance\n",
    "\n",
    "- **CART (Decision Tree)**\n",
    "  - Performs well across all datasets, with slightly better performance on the original dataset.\n",
    "  - High recall but slightly lower precision compared to Random Forest and LGBM in some cases.\n",
    "\n",
    "- **Random Forest**\n",
    "  - Consistently high performance across all metrics and datasets.\n",
    "  - Offers the best balance between precision and recall, indicating fewer false positives and negatives.\n",
    "\n",
    "- **LGBM (Light Gradient Boosting Machine)**\n",
    "  - Shows the best or near-best performance in most metrics across all datasets.\n",
    "  - Especially high recall values indicate excellent capability in identifying true positive cases.\n",
    "\n",
    "- **SVM (Support Vector Machine)**\n",
    "  - Significantly lower performance compared to tree-based models, especially in recall, indicating a higher miss rate for true positive cases.\n",
    "\n",
    "#### Best Model Selection\n",
    "\n",
    "Given the metrics, **LGBM** emerges as the top performer, especially considering the high recall and precision across different datasets. Its consistent performance across the original and feature-selected datasets indicates robustness and effectiveness in fraud detection tasks. LGBM's ability to handle large datasets efficiently, along with its superior handling of categorical features and gradient boosting mechanism, likely contributes to its standout performance.\n",
    "\n",
    "#### Best Dataset\n",
    "\n",
    "The **Gini** feature selection method with the **LGBM** model shows slightly higher accuracy and recall compared to other feature selection methods, making it the most effective combination. This suggests that the Gini method effectively captures the most relevant features for fraud detection, and when combined with LGBM's modeling capabilities, it maximizes the detection of fraudulent transactions with minimal false positives.\n",
    "\n",
    "#### Conclusion\n",
    "\n",
    "The **LGBM model trained on the Gini feature-selected dataset** is recommended as the best model for this fraud detection task, based on your results. This combination provides a balanced approach to maximizing recall and precision, essential for minimizing both false negatives (missing fraudulent transactions) and false positives (falsely flagging legitimate transactions as fraud)."
   ]
  },
  {
   "cell_type": "markdown",
   "id": "7976bad8-82fe-46cb-ac6c-9e19e10df699",
   "metadata": {},
   "source": [
    "---\n",
    "---"
   ]
  },
  {
   "cell_type": "markdown",
   "id": "92729ca8-60ba-45b0-8ab3-d05e015c6080",
   "metadata": {},
   "source": [
    "## Task 4: Re-training and Real-time Application"
   ]
  },
  {
   "cell_type": "markdown",
   "id": "98086336-3c80-4b12-9c73-91bcbe137637",
   "metadata": {},
   "source": [
    "- Re-train the selected best model on the entire dataset (using the chosen feature subset).\n",
    "- Demonstrate its application on real-time input to predict fraud."
   ]
  },
  {
   "cell_type": "markdown",
   "id": "c02750d1-612f-499d-a3d2-f74d9054cd64",
   "metadata": {},
   "source": [
    "#### Re-train the best model (LGBM) on the entire dataset using the Gini feature subset."
   ]
  },
  {
   "cell_type": "code",
   "execution_count": 29,
   "id": "09b29270-b7f3-4be0-ad6d-c8e6516d1314",
   "metadata": {},
   "outputs": [],
   "source": [
    "X_best = gini_df.drop('Class', axis=1)\n",
    "y_best = gini_df['Class']"
   ]
  },
  {
   "cell_type": "code",
   "execution_count": 30,
   "id": "335c6be9-6ec3-4d4a-84a7-39008dff961f",
   "metadata": {},
   "outputs": [],
   "source": [
    "# Scaling features\n",
    "scaler = StandardScaler()\n",
    "X_best_scaled = scaler.fit_transform(X_best)"
   ]
  },
  {
   "cell_type": "code",
   "execution_count": 31,
   "id": "6483d27b-a730-4162-9490-7c0e2775e701",
   "metadata": {},
   "outputs": [],
   "source": [
    "# Splitting the dataset into training and testing sets\n",
    "X_train_best, X_test_best, y_train_best, y_test_best = train_test_split(X_best_scaled, y_best, test_size=0.3, random_state=42)"
   ]
  },
  {
   "cell_type": "code",
   "execution_count": 32,
   "id": "59603b92-fdac-472f-89fd-845682dbd073",
   "metadata": {},
   "outputs": [
    {
     "name": "stdout",
     "output_type": "stream",
     "text": [
      "[LightGBM] [Info] Number of positive: 1529, number of negative: 5359\n",
      "[LightGBM] [Info] Auto-choosing row-wise multi-threading, the overhead of testing was 0.000544 seconds.\n",
      "You can set `force_row_wise=true` to remove the overhead.\n",
      "And if memory is not enough, you can set `force_col_wise=true`.\n",
      "[LightGBM] [Info] Total Bins 1962\n",
      "[LightGBM] [Info] Number of data points in the train set: 6888, number of used features: 10\n",
      "[LightGBM] [Info] [binary:BoostFromScore]: pavg=0.221980 -> initscore=-1.254163\n",
      "[LightGBM] [Info] Start training from score -1.254163\n"
     ]
    },
    {
     "data": {
      "text/html": [
       "<style>#sk-container-id-1 {\n",
       "  /* Definition of color scheme common for light and dark mode */\n",
       "  --sklearn-color-text: black;\n",
       "  --sklearn-color-line: gray;\n",
       "  /* Definition of color scheme for unfitted estimators */\n",
       "  --sklearn-color-unfitted-level-0: #fff5e6;\n",
       "  --sklearn-color-unfitted-level-1: #f6e4d2;\n",
       "  --sklearn-color-unfitted-level-2: #ffe0b3;\n",
       "  --sklearn-color-unfitted-level-3: chocolate;\n",
       "  /* Definition of color scheme for fitted estimators */\n",
       "  --sklearn-color-fitted-level-0: #f0f8ff;\n",
       "  --sklearn-color-fitted-level-1: #d4ebff;\n",
       "  --sklearn-color-fitted-level-2: #b3dbfd;\n",
       "  --sklearn-color-fitted-level-3: cornflowerblue;\n",
       "\n",
       "  /* Specific color for light theme */\n",
       "  --sklearn-color-text-on-default-background: var(--sg-text-color, var(--theme-code-foreground, var(--jp-content-font-color1, black)));\n",
       "  --sklearn-color-background: var(--sg-background-color, var(--theme-background, var(--jp-layout-color0, white)));\n",
       "  --sklearn-color-border-box: var(--sg-text-color, var(--theme-code-foreground, var(--jp-content-font-color1, black)));\n",
       "  --sklearn-color-icon: #696969;\n",
       "\n",
       "  @media (prefers-color-scheme: dark) {\n",
       "    /* Redefinition of color scheme for dark theme */\n",
       "    --sklearn-color-text-on-default-background: var(--sg-text-color, var(--theme-code-foreground, var(--jp-content-font-color1, white)));\n",
       "    --sklearn-color-background: var(--sg-background-color, var(--theme-background, var(--jp-layout-color0, #111)));\n",
       "    --sklearn-color-border-box: var(--sg-text-color, var(--theme-code-foreground, var(--jp-content-font-color1, white)));\n",
       "    --sklearn-color-icon: #878787;\n",
       "  }\n",
       "}\n",
       "\n",
       "#sk-container-id-1 {\n",
       "  color: var(--sklearn-color-text);\n",
       "}\n",
       "\n",
       "#sk-container-id-1 pre {\n",
       "  padding: 0;\n",
       "}\n",
       "\n",
       "#sk-container-id-1 input.sk-hidden--visually {\n",
       "  border: 0;\n",
       "  clip: rect(1px 1px 1px 1px);\n",
       "  clip: rect(1px, 1px, 1px, 1px);\n",
       "  height: 1px;\n",
       "  margin: -1px;\n",
       "  overflow: hidden;\n",
       "  padding: 0;\n",
       "  position: absolute;\n",
       "  width: 1px;\n",
       "}\n",
       "\n",
       "#sk-container-id-1 div.sk-dashed-wrapped {\n",
       "  border: 1px dashed var(--sklearn-color-line);\n",
       "  margin: 0 0.4em 0.5em 0.4em;\n",
       "  box-sizing: border-box;\n",
       "  padding-bottom: 0.4em;\n",
       "  background-color: var(--sklearn-color-background);\n",
       "}\n",
       "\n",
       "#sk-container-id-1 div.sk-container {\n",
       "  /* jupyter's `normalize.less` sets `[hidden] { display: none; }`\n",
       "     but bootstrap.min.css set `[hidden] { display: none !important; }`\n",
       "     so we also need the `!important` here to be able to override the\n",
       "     default hidden behavior on the sphinx rendered scikit-learn.org.\n",
       "     See: https://github.com/scikit-learn/scikit-learn/issues/21755 */\n",
       "  display: inline-block !important;\n",
       "  position: relative;\n",
       "}\n",
       "\n",
       "#sk-container-id-1 div.sk-text-repr-fallback {\n",
       "  display: none;\n",
       "}\n",
       "\n",
       "div.sk-parallel-item,\n",
       "div.sk-serial,\n",
       "div.sk-item {\n",
       "  /* draw centered vertical line to link estimators */\n",
       "  background-image: linear-gradient(var(--sklearn-color-text-on-default-background), var(--sklearn-color-text-on-default-background));\n",
       "  background-size: 2px 100%;\n",
       "  background-repeat: no-repeat;\n",
       "  background-position: center center;\n",
       "}\n",
       "\n",
       "/* Parallel-specific style estimator block */\n",
       "\n",
       "#sk-container-id-1 div.sk-parallel-item::after {\n",
       "  content: \"\";\n",
       "  width: 100%;\n",
       "  border-bottom: 2px solid var(--sklearn-color-text-on-default-background);\n",
       "  flex-grow: 1;\n",
       "}\n",
       "\n",
       "#sk-container-id-1 div.sk-parallel {\n",
       "  display: flex;\n",
       "  align-items: stretch;\n",
       "  justify-content: center;\n",
       "  background-color: var(--sklearn-color-background);\n",
       "  position: relative;\n",
       "}\n",
       "\n",
       "#sk-container-id-1 div.sk-parallel-item {\n",
       "  display: flex;\n",
       "  flex-direction: column;\n",
       "}\n",
       "\n",
       "#sk-container-id-1 div.sk-parallel-item:first-child::after {\n",
       "  align-self: flex-end;\n",
       "  width: 50%;\n",
       "}\n",
       "\n",
       "#sk-container-id-1 div.sk-parallel-item:last-child::after {\n",
       "  align-self: flex-start;\n",
       "  width: 50%;\n",
       "}\n",
       "\n",
       "#sk-container-id-1 div.sk-parallel-item:only-child::after {\n",
       "  width: 0;\n",
       "}\n",
       "\n",
       "/* Serial-specific style estimator block */\n",
       "\n",
       "#sk-container-id-1 div.sk-serial {\n",
       "  display: flex;\n",
       "  flex-direction: column;\n",
       "  align-items: center;\n",
       "  background-color: var(--sklearn-color-background);\n",
       "  padding-right: 1em;\n",
       "  padding-left: 1em;\n",
       "}\n",
       "\n",
       "\n",
       "/* Toggleable style: style used for estimator/Pipeline/ColumnTransformer box that is\n",
       "clickable and can be expanded/collapsed.\n",
       "- Pipeline and ColumnTransformer use this feature and define the default style\n",
       "- Estimators will overwrite some part of the style using the `sk-estimator` class\n",
       "*/\n",
       "\n",
       "/* Pipeline and ColumnTransformer style (default) */\n",
       "\n",
       "#sk-container-id-1 div.sk-toggleable {\n",
       "  /* Default theme specific background. It is overwritten whether we have a\n",
       "  specific estimator or a Pipeline/ColumnTransformer */\n",
       "  background-color: var(--sklearn-color-background);\n",
       "}\n",
       "\n",
       "/* Toggleable label */\n",
       "#sk-container-id-1 label.sk-toggleable__label {\n",
       "  cursor: pointer;\n",
       "  display: block;\n",
       "  width: 100%;\n",
       "  margin-bottom: 0;\n",
       "  padding: 0.5em;\n",
       "  box-sizing: border-box;\n",
       "  text-align: center;\n",
       "}\n",
       "\n",
       "#sk-container-id-1 label.sk-toggleable__label-arrow:before {\n",
       "  /* Arrow on the left of the label */\n",
       "  content: \"▸\";\n",
       "  float: left;\n",
       "  margin-right: 0.25em;\n",
       "  color: var(--sklearn-color-icon);\n",
       "}\n",
       "\n",
       "#sk-container-id-1 label.sk-toggleable__label-arrow:hover:before {\n",
       "  color: var(--sklearn-color-text);\n",
       "}\n",
       "\n",
       "/* Toggleable content - dropdown */\n",
       "\n",
       "#sk-container-id-1 div.sk-toggleable__content {\n",
       "  max-height: 0;\n",
       "  max-width: 0;\n",
       "  overflow: hidden;\n",
       "  text-align: left;\n",
       "  /* unfitted */\n",
       "  background-color: var(--sklearn-color-unfitted-level-0);\n",
       "}\n",
       "\n",
       "#sk-container-id-1 div.sk-toggleable__content.fitted {\n",
       "  /* fitted */\n",
       "  background-color: var(--sklearn-color-fitted-level-0);\n",
       "}\n",
       "\n",
       "#sk-container-id-1 div.sk-toggleable__content pre {\n",
       "  margin: 0.2em;\n",
       "  border-radius: 0.25em;\n",
       "  color: var(--sklearn-color-text);\n",
       "  /* unfitted */\n",
       "  background-color: var(--sklearn-color-unfitted-level-0);\n",
       "}\n",
       "\n",
       "#sk-container-id-1 div.sk-toggleable__content.fitted pre {\n",
       "  /* unfitted */\n",
       "  background-color: var(--sklearn-color-fitted-level-0);\n",
       "}\n",
       "\n",
       "#sk-container-id-1 input.sk-toggleable__control:checked~div.sk-toggleable__content {\n",
       "  /* Expand drop-down */\n",
       "  max-height: 200px;\n",
       "  max-width: 100%;\n",
       "  overflow: auto;\n",
       "}\n",
       "\n",
       "#sk-container-id-1 input.sk-toggleable__control:checked~label.sk-toggleable__label-arrow:before {\n",
       "  content: \"▾\";\n",
       "}\n",
       "\n",
       "/* Pipeline/ColumnTransformer-specific style */\n",
       "\n",
       "#sk-container-id-1 div.sk-label input.sk-toggleable__control:checked~label.sk-toggleable__label {\n",
       "  color: var(--sklearn-color-text);\n",
       "  background-color: var(--sklearn-color-unfitted-level-2);\n",
       "}\n",
       "\n",
       "#sk-container-id-1 div.sk-label.fitted input.sk-toggleable__control:checked~label.sk-toggleable__label {\n",
       "  background-color: var(--sklearn-color-fitted-level-2);\n",
       "}\n",
       "\n",
       "/* Estimator-specific style */\n",
       "\n",
       "/* Colorize estimator box */\n",
       "#sk-container-id-1 div.sk-estimator input.sk-toggleable__control:checked~label.sk-toggleable__label {\n",
       "  /* unfitted */\n",
       "  background-color: var(--sklearn-color-unfitted-level-2);\n",
       "}\n",
       "\n",
       "#sk-container-id-1 div.sk-estimator.fitted input.sk-toggleable__control:checked~label.sk-toggleable__label {\n",
       "  /* fitted */\n",
       "  background-color: var(--sklearn-color-fitted-level-2);\n",
       "}\n",
       "\n",
       "#sk-container-id-1 div.sk-label label.sk-toggleable__label,\n",
       "#sk-container-id-1 div.sk-label label {\n",
       "  /* The background is the default theme color */\n",
       "  color: var(--sklearn-color-text-on-default-background);\n",
       "}\n",
       "\n",
       "/* On hover, darken the color of the background */\n",
       "#sk-container-id-1 div.sk-label:hover label.sk-toggleable__label {\n",
       "  color: var(--sklearn-color-text);\n",
       "  background-color: var(--sklearn-color-unfitted-level-2);\n",
       "}\n",
       "\n",
       "/* Label box, darken color on hover, fitted */\n",
       "#sk-container-id-1 div.sk-label.fitted:hover label.sk-toggleable__label.fitted {\n",
       "  color: var(--sklearn-color-text);\n",
       "  background-color: var(--sklearn-color-fitted-level-2);\n",
       "}\n",
       "\n",
       "/* Estimator label */\n",
       "\n",
       "#sk-container-id-1 div.sk-label label {\n",
       "  font-family: monospace;\n",
       "  font-weight: bold;\n",
       "  display: inline-block;\n",
       "  line-height: 1.2em;\n",
       "}\n",
       "\n",
       "#sk-container-id-1 div.sk-label-container {\n",
       "  text-align: center;\n",
       "}\n",
       "\n",
       "/* Estimator-specific */\n",
       "#sk-container-id-1 div.sk-estimator {\n",
       "  font-family: monospace;\n",
       "  border: 1px dotted var(--sklearn-color-border-box);\n",
       "  border-radius: 0.25em;\n",
       "  box-sizing: border-box;\n",
       "  margin-bottom: 0.5em;\n",
       "  /* unfitted */\n",
       "  background-color: var(--sklearn-color-unfitted-level-0);\n",
       "}\n",
       "\n",
       "#sk-container-id-1 div.sk-estimator.fitted {\n",
       "  /* fitted */\n",
       "  background-color: var(--sklearn-color-fitted-level-0);\n",
       "}\n",
       "\n",
       "/* on hover */\n",
       "#sk-container-id-1 div.sk-estimator:hover {\n",
       "  /* unfitted */\n",
       "  background-color: var(--sklearn-color-unfitted-level-2);\n",
       "}\n",
       "\n",
       "#sk-container-id-1 div.sk-estimator.fitted:hover {\n",
       "  /* fitted */\n",
       "  background-color: var(--sklearn-color-fitted-level-2);\n",
       "}\n",
       "\n",
       "/* Specification for estimator info (e.g. \"i\" and \"?\") */\n",
       "\n",
       "/* Common style for \"i\" and \"?\" */\n",
       "\n",
       ".sk-estimator-doc-link,\n",
       "a:link.sk-estimator-doc-link,\n",
       "a:visited.sk-estimator-doc-link {\n",
       "  float: right;\n",
       "  font-size: smaller;\n",
       "  line-height: 1em;\n",
       "  font-family: monospace;\n",
       "  background-color: var(--sklearn-color-background);\n",
       "  border-radius: 1em;\n",
       "  height: 1em;\n",
       "  width: 1em;\n",
       "  text-decoration: none !important;\n",
       "  margin-left: 1ex;\n",
       "  /* unfitted */\n",
       "  border: var(--sklearn-color-unfitted-level-1) 1pt solid;\n",
       "  color: var(--sklearn-color-unfitted-level-1);\n",
       "}\n",
       "\n",
       ".sk-estimator-doc-link.fitted,\n",
       "a:link.sk-estimator-doc-link.fitted,\n",
       "a:visited.sk-estimator-doc-link.fitted {\n",
       "  /* fitted */\n",
       "  border: var(--sklearn-color-fitted-level-1) 1pt solid;\n",
       "  color: var(--sklearn-color-fitted-level-1);\n",
       "}\n",
       "\n",
       "/* On hover */\n",
       "div.sk-estimator:hover .sk-estimator-doc-link:hover,\n",
       ".sk-estimator-doc-link:hover,\n",
       "div.sk-label-container:hover .sk-estimator-doc-link:hover,\n",
       ".sk-estimator-doc-link:hover {\n",
       "  /* unfitted */\n",
       "  background-color: var(--sklearn-color-unfitted-level-3);\n",
       "  color: var(--sklearn-color-background);\n",
       "  text-decoration: none;\n",
       "}\n",
       "\n",
       "div.sk-estimator.fitted:hover .sk-estimator-doc-link.fitted:hover,\n",
       ".sk-estimator-doc-link.fitted:hover,\n",
       "div.sk-label-container:hover .sk-estimator-doc-link.fitted:hover,\n",
       ".sk-estimator-doc-link.fitted:hover {\n",
       "  /* fitted */\n",
       "  background-color: var(--sklearn-color-fitted-level-3);\n",
       "  color: var(--sklearn-color-background);\n",
       "  text-decoration: none;\n",
       "}\n",
       "\n",
       "/* Span, style for the box shown on hovering the info icon */\n",
       ".sk-estimator-doc-link span {\n",
       "  display: none;\n",
       "  z-index: 9999;\n",
       "  position: relative;\n",
       "  font-weight: normal;\n",
       "  right: .2ex;\n",
       "  padding: .5ex;\n",
       "  margin: .5ex;\n",
       "  width: min-content;\n",
       "  min-width: 20ex;\n",
       "  max-width: 50ex;\n",
       "  color: var(--sklearn-color-text);\n",
       "  box-shadow: 2pt 2pt 4pt #999;\n",
       "  /* unfitted */\n",
       "  background: var(--sklearn-color-unfitted-level-0);\n",
       "  border: .5pt solid var(--sklearn-color-unfitted-level-3);\n",
       "}\n",
       "\n",
       ".sk-estimator-doc-link.fitted span {\n",
       "  /* fitted */\n",
       "  background: var(--sklearn-color-fitted-level-0);\n",
       "  border: var(--sklearn-color-fitted-level-3);\n",
       "}\n",
       "\n",
       ".sk-estimator-doc-link:hover span {\n",
       "  display: block;\n",
       "}\n",
       "\n",
       "/* \"?\"-specific style due to the `<a>` HTML tag */\n",
       "\n",
       "#sk-container-id-1 a.estimator_doc_link {\n",
       "  float: right;\n",
       "  font-size: 1rem;\n",
       "  line-height: 1em;\n",
       "  font-family: monospace;\n",
       "  background-color: var(--sklearn-color-background);\n",
       "  border-radius: 1rem;\n",
       "  height: 1rem;\n",
       "  width: 1rem;\n",
       "  text-decoration: none;\n",
       "  /* unfitted */\n",
       "  color: var(--sklearn-color-unfitted-level-1);\n",
       "  border: var(--sklearn-color-unfitted-level-1) 1pt solid;\n",
       "}\n",
       "\n",
       "#sk-container-id-1 a.estimator_doc_link.fitted {\n",
       "  /* fitted */\n",
       "  border: var(--sklearn-color-fitted-level-1) 1pt solid;\n",
       "  color: var(--sklearn-color-fitted-level-1);\n",
       "}\n",
       "\n",
       "/* On hover */\n",
       "#sk-container-id-1 a.estimator_doc_link:hover {\n",
       "  /* unfitted */\n",
       "  background-color: var(--sklearn-color-unfitted-level-3);\n",
       "  color: var(--sklearn-color-background);\n",
       "  text-decoration: none;\n",
       "}\n",
       "\n",
       "#sk-container-id-1 a.estimator_doc_link.fitted:hover {\n",
       "  /* fitted */\n",
       "  background-color: var(--sklearn-color-fitted-level-3);\n",
       "}\n",
       "</style><div id=\"sk-container-id-1\" class=\"sk-top-container\"><div class=\"sk-text-repr-fallback\"><pre>LGBMClassifier(random_state=42)</pre><b>In a Jupyter environment, please rerun this cell to show the HTML representation or trust the notebook. <br />On GitHub, the HTML representation is unable to render, please try loading this page with nbviewer.org.</b></div><div class=\"sk-container\" hidden><div class=\"sk-item\"><div class=\"sk-estimator fitted sk-toggleable\"><input class=\"sk-toggleable__control sk-hidden--visually\" id=\"sk-estimator-id-1\" type=\"checkbox\" checked><label for=\"sk-estimator-id-1\" class=\"sk-toggleable__label fitted sk-toggleable__label-arrow fitted\">&nbsp;LGBMClassifier<span class=\"sk-estimator-doc-link fitted\">i<span>Fitted</span></span></label><div class=\"sk-toggleable__content fitted\"><pre>LGBMClassifier(random_state=42)</pre></div> </div></div></div></div>"
      ],
      "text/plain": [
       "LGBMClassifier(random_state=42)"
      ]
     },
     "execution_count": 32,
     "metadata": {},
     "output_type": "execute_result"
    }
   ],
   "source": [
    "# Initialize and train the best model (LGBM)\n",
    "best_model = LGBMClassifier(random_state=42)\n",
    "best_model.fit(X_train_best, y_train_best)"
   ]
  },
  {
   "cell_type": "code",
   "execution_count": 33,
   "id": "002a5117-3267-465f-92ad-2afcfaffa8c3",
   "metadata": {},
   "outputs": [],
   "source": [
    "# Evaluate the re-trained model on the test set\n",
    "predictions_best = best_model.predict(X_test_best)\n",
    "accuracy_best = accuracy_score(y_test_best, predictions_best)\n",
    "precision_best = precision_score(y_test_best, predictions_best)\n",
    "recall_best = recall_score(y_test_best, predictions_best)"
   ]
  },
  {
   "cell_type": "code",
   "execution_count": 34,
   "id": "d61c8776-6e2a-4f10-b4dd-13e8b4dec494",
   "metadata": {},
   "outputs": [
    {
     "data": {
      "text/plain": [
       "(0.993227226549272, 0.9937304075235109, 0.9753846153846154)"
      ]
     },
     "execution_count": 34,
     "metadata": {},
     "output_type": "execute_result"
    }
   ],
   "source": [
    "accuracy_best, precision_best, recall_best"
   ]
  },
  {
   "cell_type": "code",
   "execution_count": 35,
   "id": "c0bb7695-949b-4538-8505-3752e5829e54",
   "metadata": {},
   "outputs": [
    {
     "data": {
      "text/plain": [
       "'best_model.joblib'"
      ]
     },
     "execution_count": 35,
     "metadata": {},
     "output_type": "execute_result"
    }
   ],
   "source": [
    "# Export the model\n",
    "model_filename = 'best_model.joblib'\n",
    "joblib.dump(best_model, model_filename)\n",
    "\n",
    "model_filename"
   ]
  },
  {
   "cell_type": "markdown",
   "id": "9cbf0b0a-bc33-42d6-b8ab-c8567ea7cbe8",
   "metadata": {},
   "source": [
    "#### Predict Fraud in Real-Time Transactions.\n",
    "- True:  Fraudulent\n",
    "- False: Not Fraudulent"
   ]
  },
  {
   "cell_type": "code",
   "execution_count": 36,
   "id": "c8fc590f-5fd0-46ec-ad88-6f67e1e330e6",
   "metadata": {},
   "outputs": [],
   "source": [
    "# Import the model\n",
    "loaded_model = joblib.load(model_filename)"
   ]
  },
  {
   "cell_type": "code",
   "execution_count": 37,
   "id": "f89b6397-7e2e-40ed-a6a7-5295ea1bb8bf",
   "metadata": {},
   "outputs": [
    {
     "data": {
      "text/plain": [
       "array([False,  True, False, False,  True, False,  True])"
      ]
     },
     "execution_count": 37,
     "metadata": {},
     "output_type": "execute_result"
    }
   ],
   "source": [
    "sample_data = [\n",
    "    [0.5, -0.2, 0.3, -0.1, 0.2, -0.3, 0.4, 0.1, -0.4, 0.6],\n",
    "    [-0.3, 0.6, 0.1, 0.1, -0.7, -0.4, -0.8, 0.8, -0.3, -0.2],\n",
    "    [0.8, -0.9, -1, 0.3, 0.3, 0.4, -0.1, -0.8, -0.7, 0.8],\n",
    "    [-0.3, 0.6, -0.4, 0.5, -0.3, -0.8, 0.2, -0.5, 0.3, -0.6],\n",
    "    [-0.6, -0.7, 0, 0.7, -0.8, -0.8, 1, -0.5, 0.7, 0.2],\n",
    "    [-0.5, 0.4, -0.2, 0.1, -0.4, 0.3, -0.3, -0.2, 0.6, -0.1],\n",
    "    [-0.8, -0.2, -0.7, 0.3, 0, 0.4, 0, 0.3, -1, -0.6]\n",
    "]\n",
    "\n",
    "# Predict using the loaded model\n",
    "predictions = loaded_model.predict(sample_data)\n",
    "predictions"
   ]
  },
  {
   "cell_type": "code",
   "execution_count": 38,
   "id": "1a1943c6-50ce-42d9-8466-be7f7f4e8905",
   "metadata": {},
   "outputs": [
    {
     "name": "stdout",
     "output_type": "stream",
     "text": [
      "Pridected:  [ True  True False False False]\n",
      "Acutal:  [ True  True False False False]\n"
     ]
    }
   ],
   "source": [
    "# Selecting 5 samples from the test data\n",
    "X_test_best_samples = X_test_best[:5]\n",
    "y_test_best_samples = y_test_best[:5]\n",
    "\n",
    "# Predict on the selected test data samples\n",
    "test_data_predictions = loaded_model.predict(X_test_best_samples)\n",
    "print(\"Pridected: \", test_data_predictions)\n",
    "print(\"Acutal: \", y_test_best_samples.values)"
   ]
  }
 ],
 "metadata": {
  "kernelspec": {
   "display_name": "Python 3 (ipykernel)",
   "language": "python",
   "name": "python3"
  },
  "language_info": {
   "codemirror_mode": {
    "name": "ipython",
    "version": 3
   },
   "file_extension": ".py",
   "mimetype": "text/x-python",
   "name": "python",
   "nbconvert_exporter": "python",
   "pygments_lexer": "ipython3",
   "version": "3.11.6"
  }
 },
 "nbformat": 4,
 "nbformat_minor": 5
}
