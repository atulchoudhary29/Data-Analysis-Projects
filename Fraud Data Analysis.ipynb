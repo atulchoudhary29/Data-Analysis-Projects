{
 "cells": [
  {
   "cell_type": "markdown",
   "id": "61d02080-e08a-4507-8dc5-b7395c958973",
   "metadata": {},
   "source": [
    "## Import Libraries"
   ]
  },
  {
   "cell_type": "code",
   "execution_count": 1,
   "id": "d88fad86-a714-404f-83c9-da3af6d3e98b",
   "metadata": {},
   "outputs": [],
   "source": [
    "import pandas as pd\n",
    "from sklearn.model_selection import train_test_split\n",
    "from sklearn.tree import DecisionTreeClassifier\n",
    "from sklearn.metrics import accuracy_score, classification_report\n",
    "from sklearn.model_selection import GridSearchCV\n",
    "from sklearn.ensemble import RandomForestClassifier, GradientBoostingClassifier"
   ]
  },
  {
   "cell_type": "markdown",
   "id": "b7555050-7692-4d2f-b854-7972c9a7e4ec",
   "metadata": {},
   "source": [
    "## Load Dataset"
   ]
  },
  {
   "cell_type": "code",
   "execution_count": 3,
   "id": "15e581e8-4180-4c49-af5e-743e29571521",
   "metadata": {},
   "outputs": [
    {
     "data": {
      "text/html": [
       "<div>\n",
       "<style scoped>\n",
       "    .dataframe tbody tr th:only-of-type {\n",
       "        vertical-align: middle;\n",
       "    }\n",
       "\n",
       "    .dataframe tbody tr th {\n",
       "        vertical-align: top;\n",
       "    }\n",
       "\n",
       "    .dataframe thead th {\n",
       "        text-align: right;\n",
       "    }\n",
       "</style>\n",
       "<table border=\"1\" class=\"dataframe\">\n",
       "  <thead>\n",
       "    <tr style=\"text-align: right;\">\n",
       "      <th></th>\n",
       "      <th>V1</th>\n",
       "      <th>V2</th>\n",
       "      <th>V3</th>\n",
       "      <th>V4</th>\n",
       "      <th>V5</th>\n",
       "      <th>V6</th>\n",
       "      <th>V7</th>\n",
       "      <th>V8</th>\n",
       "      <th>V9</th>\n",
       "      <th>V10</th>\n",
       "      <th>...</th>\n",
       "      <th>V21</th>\n",
       "      <th>V22</th>\n",
       "      <th>V23</th>\n",
       "      <th>V24</th>\n",
       "      <th>V25</th>\n",
       "      <th>V26</th>\n",
       "      <th>V27</th>\n",
       "      <th>V28</th>\n",
       "      <th>Amount</th>\n",
       "      <th>Class</th>\n",
       "    </tr>\n",
       "  </thead>\n",
       "  <tbody>\n",
       "    <tr>\n",
       "      <th>0</th>\n",
       "      <td>-2.312227</td>\n",
       "      <td>1.951992</td>\n",
       "      <td>-1.609851</td>\n",
       "      <td>3.997906</td>\n",
       "      <td>-0.522188</td>\n",
       "      <td>-1.426545</td>\n",
       "      <td>-2.537387</td>\n",
       "      <td>1.391657</td>\n",
       "      <td>-2.770089</td>\n",
       "      <td>-2.772272</td>\n",
       "      <td>...</td>\n",
       "      <td>0.517232</td>\n",
       "      <td>-0.035049</td>\n",
       "      <td>-0.465211</td>\n",
       "      <td>0.320198</td>\n",
       "      <td>0.044519</td>\n",
       "      <td>0.177840</td>\n",
       "      <td>0.261145</td>\n",
       "      <td>-0.143276</td>\n",
       "      <td>0.00</td>\n",
       "      <td>1</td>\n",
       "    </tr>\n",
       "    <tr>\n",
       "      <th>1</th>\n",
       "      <td>-3.043541</td>\n",
       "      <td>-3.157307</td>\n",
       "      <td>1.088463</td>\n",
       "      <td>2.288644</td>\n",
       "      <td>1.359805</td>\n",
       "      <td>-1.064823</td>\n",
       "      <td>0.325574</td>\n",
       "      <td>-0.067794</td>\n",
       "      <td>-0.270953</td>\n",
       "      <td>-0.838587</td>\n",
       "      <td>...</td>\n",
       "      <td>0.661696</td>\n",
       "      <td>0.435477</td>\n",
       "      <td>1.375966</td>\n",
       "      <td>-0.293803</td>\n",
       "      <td>0.279798</td>\n",
       "      <td>-0.145362</td>\n",
       "      <td>-0.252773</td>\n",
       "      <td>0.035764</td>\n",
       "      <td>529.00</td>\n",
       "      <td>1</td>\n",
       "    </tr>\n",
       "    <tr>\n",
       "      <th>2</th>\n",
       "      <td>-2.303350</td>\n",
       "      <td>1.759247</td>\n",
       "      <td>-0.359745</td>\n",
       "      <td>2.330243</td>\n",
       "      <td>-0.821628</td>\n",
       "      <td>-0.075788</td>\n",
       "      <td>0.562320</td>\n",
       "      <td>-0.399147</td>\n",
       "      <td>-0.238253</td>\n",
       "      <td>-1.525412</td>\n",
       "      <td>...</td>\n",
       "      <td>-0.294166</td>\n",
       "      <td>-0.932391</td>\n",
       "      <td>0.172726</td>\n",
       "      <td>-0.087330</td>\n",
       "      <td>-0.156114</td>\n",
       "      <td>-0.542628</td>\n",
       "      <td>0.039566</td>\n",
       "      <td>-0.153029</td>\n",
       "      <td>239.93</td>\n",
       "      <td>1</td>\n",
       "    </tr>\n",
       "    <tr>\n",
       "      <th>3</th>\n",
       "      <td>-4.397974</td>\n",
       "      <td>1.358367</td>\n",
       "      <td>-2.592844</td>\n",
       "      <td>2.679787</td>\n",
       "      <td>-1.128131</td>\n",
       "      <td>-1.706536</td>\n",
       "      <td>-3.496197</td>\n",
       "      <td>-0.248778</td>\n",
       "      <td>-0.247768</td>\n",
       "      <td>-4.801637</td>\n",
       "      <td>...</td>\n",
       "      <td>0.573574</td>\n",
       "      <td>0.176968</td>\n",
       "      <td>-0.436207</td>\n",
       "      <td>-0.053502</td>\n",
       "      <td>0.252405</td>\n",
       "      <td>-0.657488</td>\n",
       "      <td>-0.827136</td>\n",
       "      <td>0.849573</td>\n",
       "      <td>59.00</td>\n",
       "      <td>1</td>\n",
       "    </tr>\n",
       "    <tr>\n",
       "      <th>4</th>\n",
       "      <td>1.234235</td>\n",
       "      <td>3.019740</td>\n",
       "      <td>-4.304597</td>\n",
       "      <td>4.732795</td>\n",
       "      <td>3.624201</td>\n",
       "      <td>-1.357746</td>\n",
       "      <td>1.713445</td>\n",
       "      <td>-0.496358</td>\n",
       "      <td>-1.282858</td>\n",
       "      <td>-2.447469</td>\n",
       "      <td>...</td>\n",
       "      <td>-0.379068</td>\n",
       "      <td>-0.704181</td>\n",
       "      <td>-0.656805</td>\n",
       "      <td>-1.632653</td>\n",
       "      <td>1.488901</td>\n",
       "      <td>0.566797</td>\n",
       "      <td>-0.010016</td>\n",
       "      <td>0.146793</td>\n",
       "      <td>1.00</td>\n",
       "      <td>1</td>\n",
       "    </tr>\n",
       "  </tbody>\n",
       "</table>\n",
       "<p>5 rows × 30 columns</p>\n",
       "</div>"
      ],
      "text/plain": [
       "         V1        V2        V3        V4        V5        V6        V7  \\\n",
       "0 -2.312227  1.951992 -1.609851  3.997906 -0.522188 -1.426545 -2.537387   \n",
       "1 -3.043541 -3.157307  1.088463  2.288644  1.359805 -1.064823  0.325574   \n",
       "2 -2.303350  1.759247 -0.359745  2.330243 -0.821628 -0.075788  0.562320   \n",
       "3 -4.397974  1.358367 -2.592844  2.679787 -1.128131 -1.706536 -3.496197   \n",
       "4  1.234235  3.019740 -4.304597  4.732795  3.624201 -1.357746  1.713445   \n",
       "\n",
       "         V8        V9       V10  ...       V21       V22       V23       V24  \\\n",
       "0  1.391657 -2.770089 -2.772272  ...  0.517232 -0.035049 -0.465211  0.320198   \n",
       "1 -0.067794 -0.270953 -0.838587  ...  0.661696  0.435477  1.375966 -0.293803   \n",
       "2 -0.399147 -0.238253 -1.525412  ... -0.294166 -0.932391  0.172726 -0.087330   \n",
       "3 -0.248778 -0.247768 -4.801637  ...  0.573574  0.176968 -0.436207 -0.053502   \n",
       "4 -0.496358 -1.282858 -2.447469  ... -0.379068 -0.704181 -0.656805 -1.632653   \n",
       "\n",
       "        V25       V26       V27       V28  Amount  Class  \n",
       "0  0.044519  0.177840  0.261145 -0.143276    0.00      1  \n",
       "1  0.279798 -0.145362 -0.252773  0.035764  529.00      1  \n",
       "2 -0.156114 -0.542628  0.039566 -0.153029  239.93      1  \n",
       "3  0.252405 -0.657488 -0.827136  0.849573   59.00      1  \n",
       "4  1.488901  0.566797 -0.010016  0.146793    1.00      1  \n",
       "\n",
       "[5 rows x 30 columns]"
      ]
     },
     "execution_count": 3,
     "metadata": {},
     "output_type": "execute_result"
    }
   ],
   "source": [
    "# Load dataset\n",
    "df = pd.read_csv('fraud_data.csv')\n",
    "df.head(5)"
   ]
  },
  {
   "cell_type": "markdown",
   "id": "22637100-f613-48bd-b876-2d16de80dcf7",
   "metadata": {},
   "source": [
    "## Define X and y"
   ]
  },
  {
   "cell_type": "code",
   "execution_count": 4,
   "id": "169d5cda-0790-4d93-b556-8b96daa13f39",
   "metadata": {},
   "outputs": [],
   "source": [
    "X = df.drop('Class', axis=1)  # Features\n",
    "y = df['Class']  # Target"
   ]
  },
  {
   "cell_type": "markdown",
   "id": "fe9e6ad3-2e9c-4a2b-ad29-e30438bc417d",
   "metadata": {},
   "source": [
    "## Split the dataset"
   ]
  },
  {
   "cell_type": "code",
   "execution_count": 5,
   "id": "87ca9c85-70ad-4edb-a570-6af2e6fce6cd",
   "metadata": {},
   "outputs": [],
   "source": [
    "# Split dataset into training and testing set\n",
    "X_train, X_test, y_train, y_test = train_test_split(X, y, test_size=0.2, random_state=42)"
   ]
  },
  {
   "cell_type": "markdown",
   "id": "55f51c4c-4d34-4069-88c8-bd7e1f40a410",
   "metadata": {},
   "source": [
    "## Decision Tree Model"
   ]
  },
  {
   "cell_type": "code",
   "execution_count": 6,
   "id": "902fbd6d-0015-4206-9111-f98e0c1dd10a",
   "metadata": {},
   "outputs": [
    {
     "name": "stdout",
     "output_type": "stream",
     "text": [
      "Initial Decision Tree Model Accuracy: 0.9991748885221726\n"
     ]
    }
   ],
   "source": [
    "dt_classifier = DecisionTreeClassifier(random_state=42)\n",
    "dt_classifier.fit(X_train, y_train)\n",
    "predictions = dt_classifier.predict(X_test)\n",
    "print(\"Initial Decision Tree Model Accuracy:\", accuracy_score(y_test, predictions))"
   ]
  },
  {
   "cell_type": "markdown",
   "id": "5b0c77bd-55e1-4187-aca7-892ef98d98b8",
   "metadata": {},
   "source": [
    "The initial decision tree model achieved an exceptionally high accuracy of 99.92% on the testing set, indicating that the model is highly effective at classifying fraudulent and non-fraudulent transactions in the given dataset. This level of accuracy suggests that the decision tree has successfully captured the underlying patterns and relationships between the features and the target variable. However, while the accuracy is impressive, it's important to remain cautious about potential overfitting to the training data, as decision trees are prone to learning too specific patterns that may not generalize well to unseen data."
   ]
  },
  {
   "cell_type": "markdown",
   "id": "b1964124-1fb3-4fcb-a123-7178813879aa",
   "metadata": {},
   "source": [
    "## Training and Testing Scores to Check for Overfitting"
   ]
  },
  {
   "cell_type": "code",
   "execution_count": 7,
   "id": "293b40db-dac3-4cb8-9053-c220de87a926",
   "metadata": {},
   "outputs": [
    {
     "name": "stdout",
     "output_type": "stream",
     "text": [
      "Training Accuracy: 1.0\n",
      "Testing Accuracy: 0.9991748885221726\n"
     ]
    }
   ],
   "source": [
    "train_accuracy = accuracy_score(y_train, dt_classifier.predict(X_train))\n",
    "test_accuracy = accuracy_score(y_test, predictions)\n",
    "print(\"Training Accuracy:\", train_accuracy)\n",
    "print(\"Testing Accuracy:\", test_accuracy)"
   ]
  },
  {
   "cell_type": "markdown",
   "id": "1e2fbe43-31f8-4c91-b795-19e5de0f408d",
   "metadata": {},
   "source": [
    "The model's perfect training accuracy (100%) and slightly lower testing accuracy (99.92%) suggest it has learned the training data exceptionally well, potentially to the point of overfitting. Despite this, the high testing accuracy indicates the model remains highly effective on unseen data, though the slight discrepancy underscores the need for caution against overfitting and the importance of evaluating model generalizability."
   ]
  },
  {
   "cell_type": "markdown",
   "id": "d374d2d8-e32a-4198-be24-17cde1ca9541",
   "metadata": {},
   "source": [
    "## Investigate Optimal Max_Depth"
   ]
  },
  {
   "cell_type": "code",
   "execution_count": 8,
   "id": "3473cef7-cfab-422e-a0df-5d0ad7458908",
   "metadata": {},
   "outputs": [
    {
     "name": "stdout",
     "output_type": "stream",
     "text": [
      "Optimal Max Depth: 5\n"
     ]
    }
   ],
   "source": [
    "param_grid = {'max_depth': range(1, 20)}\n",
    "grid_search = GridSearchCV(DecisionTreeClassifier(random_state=42), param_grid, cv=5)\n",
    "grid_search.fit(X_train, y_train)\n",
    "optimal_max_depth = grid_search.best_params_['max_depth']\n",
    "print(\"Optimal Max Depth:\", optimal_max_depth)"
   ]
  },
  {
   "cell_type": "markdown",
   "id": "039d4e00-2225-4009-9793-753a45c6182a",
   "metadata": {},
   "source": [
    "The determination of an optimal max depth of 5 for the decision tree model suggests a balanced approach to model complexity and generalization. By limiting the depth to 5, the model is restrained from growing too complex, which can help in preventing overfitting to the training data. This depth ensures the model is complex enough to capture the underlying patterns in the data necessary for accurate fraud detection, while also simple enough to maintain good performance on unseen data."
   ]
  },
  {
   "cell_type": "markdown",
   "id": "bc27c6f9-c8cd-46f3-acaf-eebfd5cb8eb2",
   "metadata": {},
   "source": [
    "## Second Decision Tree Model with Optimal Max_Depth"
   ]
  },
  {
   "cell_type": "code",
   "execution_count": 9,
   "id": "bd12caa7-3db5-4bb3-8882-ec66578dcd25",
   "metadata": {},
   "outputs": [
    {
     "name": "stdout",
     "output_type": "stream",
     "text": [
      "Optimized Decision Tree Model Accuracy: 0.9994733330992591\n"
     ]
    }
   ],
   "source": [
    "dt_optimized = DecisionTreeClassifier(max_depth=optimal_max_depth, random_state=42)\n",
    "dt_optimized.fit(X_train, y_train)\n",
    "optimized_predictions = dt_optimized.predict(X_test)\n",
    "optimized_accuracy = accuracy_score(y_test, optimized_predictions)\n",
    "print(\"Optimized Decision Tree Model Accuracy:\", optimized_accuracy)"
   ]
  },
  {
   "cell_type": "markdown",
   "id": "bcf9e3f9-7977-4686-abc8-12a5ee615872",
   "metadata": {},
   "source": [
    "The optimized decision tree model, with a max depth set to 5, achieved an accuracy of 99.95% on the test data, indicating a slight improvement over the initial model without this optimization. This increase in accuracy suggests that the restriction on tree depth helped mitigate overfitting, allowing the model to better generalize to unseen data."
   ]
  },
  {
   "cell_type": "markdown",
   "id": "0bb5607a-1f0e-4944-853a-4cfcecce6242",
   "metadata": {},
   "source": [
    "## Ensemble Methods"
   ]
  },
  {
   "cell_type": "markdown",
   "id": "4ef5c8f4-4948-4eb0-9a1f-a038dfa307c1",
   "metadata": {},
   "source": [
    "### Random Forest"
   ]
  },
  {
   "cell_type": "code",
   "execution_count": 10,
   "id": "fe98ee65-a114-454f-96e9-c697430ed3f4",
   "metadata": {},
   "outputs": [
    {
     "name": "stdout",
     "output_type": "stream",
     "text": [
      "Random Forest Accuracy: 0.9995611109160493\n"
     ]
    }
   ],
   "source": [
    "rf_classifier = RandomForestClassifier(random_state=42)\n",
    "rf_classifier.fit(X_train, y_train)\n",
    "rf_predictions = rf_classifier.predict(X_test)\n",
    "print(\"Random Forest Accuracy:\", accuracy_score(y_test, rf_predictions))"
   ]
  },
  {
   "cell_type": "markdown",
   "id": "c3ac2503-4a21-404d-bd4f-c38dfb3e7b48",
   "metadata": {},
   "source": [
    "The Random Forest model, with an accuracy of 99.96% on the test data, showcases a further improvement in the model's ability to classify fraudulent transactions accurately. This improvement over the optimized decision tree model indicates the benefits of using ensemble methods, like Random Forest, which combines multiple decision trees to reduce overfitting and increase prediction accuracy."
   ]
  },
  {
   "cell_type": "markdown",
   "id": "99f0fde2-fa3e-415c-bfaa-14d9870c5a43",
   "metadata": {},
   "source": [
    "### Gradient Boosting"
   ]
  },
  {
   "cell_type": "code",
   "execution_count": 11,
   "id": "f4474a49-af38-4385-bca2-235f8c868f2c",
   "metadata": {},
   "outputs": [
    {
     "name": "stdout",
     "output_type": "stream",
     "text": [
      "Gradient Boosting Accuracy: 0.9989817773252344\n"
     ]
    }
   ],
   "source": [
    "gb_classifier = GradientBoostingClassifier(random_state=42)\n",
    "gb_classifier.fit(X_train, y_train)\n",
    "gb_predictions = gb_classifier.predict(X_test)\n",
    "print(\"Gradient Boosting Accuracy:\", accuracy_score(y_test, gb_predictions))"
   ]
  },
  {
   "cell_type": "markdown",
   "id": "94267c4e-dcea-4666-9f77-20e6282b2e4e",
   "metadata": {},
   "source": [
    "The Gradient Boosting model achieved an accuracy of 99.90% on the test data, which, while slightly lower than the Random Forest model, still represents a highly effective performance in accurately classifying fraudulent transactions. This slight decrease in accuracy compared to the Random Forest model might reflect differences in how these ensemble methods manage the trade-off between bias and variance. Gradient Boosting iteratively corrects errors of the previous trees, which can sometimes lead to overemphasis on hard-to-predict instances."
   ]
  },
  {
   "cell_type": "markdown",
   "id": "37e8fdb9-0501-40fd-996a-c102e3e838c8",
   "metadata": {},
   "source": [
    "## Best-Performing Model"
   ]
  },
  {
   "cell_type": "code",
   "execution_count": 12,
   "id": "d7624413-215d-4943-aad9-cd30ca4290dc",
   "metadata": {},
   "outputs": [
    {
     "name": "stdout",
     "output_type": "stream",
     "text": [
      "Classification Report for Best Performing Model:\n",
      "               precision    recall  f1-score   support\n",
      "\n",
      "           0       1.00      1.00      1.00     56864\n",
      "           1       0.96      0.78      0.86        98\n",
      "\n",
      "    accuracy                           1.00     56962\n",
      "   macro avg       0.98      0.89      0.93     56962\n",
      "weighted avg       1.00      1.00      1.00     56962\n",
      "\n"
     ]
    }
   ],
   "source": [
    "best_model = rf_classifier\n",
    "classification_rep = classification_report(y_test, rf_predictions)\n",
    "print(\"Classification Report for Best Performing Model:\\n\", classification_rep)"
   ]
  },
  {
   "cell_type": "markdown",
   "id": "c2bdfe50-6ab3-4b30-ae21-67ec3a18ec57",
   "metadata": {},
   "source": [
    "The classification report for the best-performing model, the Random Forest given its highest accuracy, shows exceptional performance in identifying non-fraudulent transactions (class 0) with perfect precision, recall, and an F1-score of 1.00. For fraudulent transactions (class 1), the model also performs well, with a high precision of 0.96, indicating that when it predicts a transaction as fraud, it is correct 96% of the time. The recall of 0.78 for fraud detection, however, suggests that the model identifies 78% of actual fraudulent transactions, missing 22%. The F1-score of 0.86 for fraud detection balances precision and recall, reflecting a strong overall performance. The macro and weighted averages indicate high overall accuracy and a good balance between the classes, highlighting the model's effectiveness in fraud detection while maintaining a focus on minimizing false positives."
   ]
  },
  {
   "cell_type": "markdown",
   "id": "709d68a9-f91a-4efb-9ee9-97e15771a30b",
   "metadata": {},
   "source": [
    "## Feature Importance for Best-Performing Model"
   ]
  },
  {
   "cell_type": "code",
   "execution_count": 13,
   "id": "1cfa4144-3e7e-4e1d-a486-5311805d5b2b",
   "metadata": {},
   "outputs": [
    {
     "name": "stdout",
     "output_type": "stream",
     "text": [
      "Top 10 Features with Best Predictive Power:\n",
      " V17    0.133363\n",
      "V12    0.130387\n",
      "V14    0.104119\n",
      "V16    0.089681\n",
      "V10    0.086219\n",
      "V11    0.076871\n",
      "V9     0.040900\n",
      "V7     0.035715\n",
      "V4     0.033716\n",
      "V18    0.027955\n",
      "dtype: float64\n"
     ]
    }
   ],
   "source": [
    "feature_importances = pd.Series(best_model.feature_importances_, index=X.columns)\n",
    "top_10_features = feature_importances.nlargest(10)\n",
    "print(\"Top 10 Features with Best Predictive Power:\\n\", top_10_features)"
   ]
  },
  {
   "cell_type": "markdown",
   "id": "6a796940-b151-48ae-a10a-d93152d73355",
   "metadata": {},
   "source": [
    "The list of top 10 features with the best predictive power in the model highlights the most influential variables in detecting fraudulent transactions. Features V17, V12, and V14 emerge as the most significant, indicating their strong association with the likelihood of fraud. These features, along with V16, V10, and V11, which also show considerable predictive power, could be areas of particular interest for further analysis or for developing targeted fraud prevention strategies. Lower down the list, V9, V7, V4, and V18, though less influential than the top variables, still contribute significantly to the model's decision-making process. This distribution of feature importance underscores the complexity of fraud detection, where multiple dimensions of transaction data are analyzed to identify patterns indicative of fraudulent activity."
   ]
  }
 ],
 "metadata": {
  "kernelspec": {
   "display_name": "Python 3 (ipykernel)",
   "language": "python",
   "name": "python3"
  },
  "language_info": {
   "codemirror_mode": {
    "name": "ipython",
    "version": 3
   },
   "file_extension": ".py",
   "mimetype": "text/x-python",
   "name": "python",
   "nbconvert_exporter": "python",
   "pygments_lexer": "ipython3",
   "version": "3.11.6"
  }
 },
 "nbformat": 4,
 "nbformat_minor": 5
}
